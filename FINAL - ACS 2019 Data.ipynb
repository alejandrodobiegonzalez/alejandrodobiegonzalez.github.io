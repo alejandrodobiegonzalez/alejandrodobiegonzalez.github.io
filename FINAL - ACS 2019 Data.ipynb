{
 "cells": [
  {
   "cell_type": "markdown",
   "metadata": {},
   "source": [
    "## Income Data"
   ]
  },
  {
   "cell_type": "markdown",
   "metadata": {},
   "source": [
    "### Atwater Village Income Data"
   ]
  },
  {
   "cell_type": "code",
   "execution_count": 121,
   "metadata": {},
   "outputs": [],
   "source": [
    "## Will start with importing data\n",
    "import pandas as pd"
   ]
  },
  {
   "cell_type": "code",
   "execution_count": 122,
   "metadata": {},
   "outputs": [],
   "source": [
    "df = pd.read_csv('data/Atwater2019_HHIncomeCategories.csv')"
   ]
  },
  {
   "cell_type": "code",
   "execution_count": 123,
   "metadata": {},
   "outputs": [],
   "source": [
    "df = pd.read_csv(\n",
    "    'data/Atwater2019_HHIncomeCategories.csv',\n",
    "    dtype=\n",
    "    {\n",
    "        'Geo_FIPS':str,\n",
    "        'Geo_STATE':str,\n",
    "        'Geo_COUNTY': str\n",
    "    }\n",
    ")"
   ]
  },
  {
   "cell_type": "code",
   "execution_count": 124,
   "metadata": {},
   "outputs": [
    {
     "data": {
      "text/plain": [
       "['Geo_US',\n",
       " 'Geo_REGION',\n",
       " 'Geo_DIVISION',\n",
       " 'Geo_STATECE',\n",
       " 'Geo_COUSUB',\n",
       " 'Geo_PLACE',\n",
       " 'Geo_CONCIT',\n",
       " 'Geo_AIANHH',\n",
       " 'Geo_AIANHHFP',\n",
       " 'Geo_AIHHTLI',\n",
       " 'Geo_AITSCE',\n",
       " 'Geo_AITS',\n",
       " 'Geo_ANRC',\n",
       " 'Geo_CBSA',\n",
       " 'Geo_CSA',\n",
       " 'Geo_METDIV',\n",
       " 'Geo_MACC',\n",
       " 'Geo_MEMI',\n",
       " 'Geo_NECTA',\n",
       " 'Geo_CNECTA',\n",
       " 'Geo_NECTADIV',\n",
       " 'Geo_UA',\n",
       " 'Geo_UACP',\n",
       " 'Geo_CDCURR',\n",
       " 'Geo_SLDU',\n",
       " 'Geo_SLDL',\n",
       " 'Geo_VTD',\n",
       " 'Geo_ZCTA3',\n",
       " 'Geo_ZCTA5',\n",
       " 'Geo_SUBMCD',\n",
       " 'Geo_SDELM',\n",
       " 'Geo_SDSEC',\n",
       " 'Geo_SDUNI',\n",
       " 'Geo_UR',\n",
       " 'Geo_PCI',\n",
       " 'Geo_TAZ',\n",
       " 'Geo_UGA',\n",
       " 'Geo_PUMA5',\n",
       " 'Geo_PUMA1',\n",
       " 'Geo_BTTR',\n",
       " 'Geo_BTBG',\n",
       " 'Geo_PLACESE']"
      ]
     },
     "execution_count": 124,
     "metadata": {},
     "output_type": "execute_result"
    }
   ],
   "source": [
    "df.columns[df.isna().all()].tolist()"
   ]
  },
  {
   "cell_type": "code",
   "execution_count": 125,
   "metadata": {},
   "outputs": [],
   "source": [
    "df = df.dropna(axis=1,how=\"all\")"
   ]
  },
  {
   "cell_type": "code",
   "execution_count": 126,
   "metadata": {},
   "outputs": [
    {
     "data": {
      "text/html": [
       "<div>\n",
       "<style scoped>\n",
       "    .dataframe tbody tr th:only-of-type {\n",
       "        vertical-align: middle;\n",
       "    }\n",
       "\n",
       "    .dataframe tbody tr th {\n",
       "        vertical-align: top;\n",
       "    }\n",
       "\n",
       "    .dataframe thead th {\n",
       "        text-align: right;\n",
       "    }\n",
       "</style>\n",
       "<table border=\"1\" class=\"dataframe\">\n",
       "  <thead>\n",
       "    <tr style=\"text-align: right;\">\n",
       "      <th></th>\n",
       "      <th>Geo_FIPS</th>\n",
       "      <th>Geo_QName</th>\n",
       "      <th>Geo_FILEID</th>\n",
       "      <th>Geo_STUSAB</th>\n",
       "      <th>Geo_GEOCOMP</th>\n",
       "      <th>Geo_LOGRECNO</th>\n",
       "      <th>Geo_STATE</th>\n",
       "      <th>Geo_COUNTY</th>\n",
       "      <th>Geo_TRACT</th>\n",
       "      <th>Geo_BLKGRP</th>\n",
       "      <th>Geo_GEOID</th>\n",
       "      <th>Geo_NAME</th>\n",
       "      <th>SE_B14001_001</th>\n",
       "      <th>SE_B14001_002</th>\n",
       "      <th>SE_B14001_003</th>\n",
       "      <th>SE_B14001_004</th>\n",
       "      <th>SE_B14001_005</th>\n",
       "      <th>SE_B14001_006</th>\n",
       "    </tr>\n",
       "  </thead>\n",
       "  <tbody>\n",
       "    <tr>\n",
       "      <th>0</th>\n",
       "      <td>060371863011</td>\n",
       "      <td>Block Group 1, Census Tract 1863.01, Los Angel...</td>\n",
       "      <td>ACSSF</td>\n",
       "      <td>ca</td>\n",
       "      <td>0</td>\n",
       "      <td>15234</td>\n",
       "      <td>06</td>\n",
       "      <td>037</td>\n",
       "      <td>186301</td>\n",
       "      <td>1</td>\n",
       "      <td>15000US060371863011</td>\n",
       "      <td>Block Group 1</td>\n",
       "      <td>333</td>\n",
       "      <td>35</td>\n",
       "      <td>35</td>\n",
       "      <td>83</td>\n",
       "      <td>19</td>\n",
       "      <td>161</td>\n",
       "    </tr>\n",
       "    <tr>\n",
       "      <th>1</th>\n",
       "      <td>060371863012</td>\n",
       "      <td>Block Group 2, Census Tract 1863.01, Los Angel...</td>\n",
       "      <td>ACSSF</td>\n",
       "      <td>ca</td>\n",
       "      <td>0</td>\n",
       "      <td>15235</td>\n",
       "      <td>06</td>\n",
       "      <td>037</td>\n",
       "      <td>186301</td>\n",
       "      <td>2</td>\n",
       "      <td>15000US060371863012</td>\n",
       "      <td>Block Group 2</td>\n",
       "      <td>241</td>\n",
       "      <td>67</td>\n",
       "      <td>113</td>\n",
       "      <td>16</td>\n",
       "      <td>6</td>\n",
       "      <td>39</td>\n",
       "    </tr>\n",
       "    <tr>\n",
       "      <th>2</th>\n",
       "      <td>060371863013</td>\n",
       "      <td>Block Group 3, Census Tract 1863.01, Los Angel...</td>\n",
       "      <td>ACSSF</td>\n",
       "      <td>ca</td>\n",
       "      <td>0</td>\n",
       "      <td>15236</td>\n",
       "      <td>06</td>\n",
       "      <td>037</td>\n",
       "      <td>186301</td>\n",
       "      <td>3</td>\n",
       "      <td>15000US060371863013</td>\n",
       "      <td>Block Group 3</td>\n",
       "      <td>315</td>\n",
       "      <td>69</td>\n",
       "      <td>79</td>\n",
       "      <td>101</td>\n",
       "      <td>39</td>\n",
       "      <td>27</td>\n",
       "    </tr>\n",
       "    <tr>\n",
       "      <th>3</th>\n",
       "      <td>060371863021</td>\n",
       "      <td>Block Group 1, Census Tract 1863.02, Los Angel...</td>\n",
       "      <td>ACSSF</td>\n",
       "      <td>ca</td>\n",
       "      <td>0</td>\n",
       "      <td>15237</td>\n",
       "      <td>06</td>\n",
       "      <td>037</td>\n",
       "      <td>186302</td>\n",
       "      <td>1</td>\n",
       "      <td>15000US060371863021</td>\n",
       "      <td>Block Group 1</td>\n",
       "      <td>553</td>\n",
       "      <td>100</td>\n",
       "      <td>68</td>\n",
       "      <td>88</td>\n",
       "      <td>84</td>\n",
       "      <td>213</td>\n",
       "    </tr>\n",
       "    <tr>\n",
       "      <th>4</th>\n",
       "      <td>060371864011</td>\n",
       "      <td>Block Group 1, Census Tract 1864.01, Los Angel...</td>\n",
       "      <td>ACSSF</td>\n",
       "      <td>ca</td>\n",
       "      <td>0</td>\n",
       "      <td>15240</td>\n",
       "      <td>06</td>\n",
       "      <td>037</td>\n",
       "      <td>186401</td>\n",
       "      <td>1</td>\n",
       "      <td>15000US060371864011</td>\n",
       "      <td>Block Group 1</td>\n",
       "      <td>693</td>\n",
       "      <td>188</td>\n",
       "      <td>155</td>\n",
       "      <td>206</td>\n",
       "      <td>61</td>\n",
       "      <td>83</td>\n",
       "    </tr>\n",
       "  </tbody>\n",
       "</table>\n",
       "</div>"
      ],
      "text/plain": [
       "       Geo_FIPS                                          Geo_QName Geo_FILEID  \\\n",
       "0  060371863011  Block Group 1, Census Tract 1863.01, Los Angel...      ACSSF   \n",
       "1  060371863012  Block Group 2, Census Tract 1863.01, Los Angel...      ACSSF   \n",
       "2  060371863013  Block Group 3, Census Tract 1863.01, Los Angel...      ACSSF   \n",
       "3  060371863021  Block Group 1, Census Tract 1863.02, Los Angel...      ACSSF   \n",
       "4  060371864011  Block Group 1, Census Tract 1864.01, Los Angel...      ACSSF   \n",
       "\n",
       "  Geo_STUSAB  Geo_GEOCOMP  Geo_LOGRECNO Geo_STATE Geo_COUNTY  Geo_TRACT  \\\n",
       "0         ca            0         15234        06        037     186301   \n",
       "1         ca            0         15235        06        037     186301   \n",
       "2         ca            0         15236        06        037     186301   \n",
       "3         ca            0         15237        06        037     186302   \n",
       "4         ca            0         15240        06        037     186401   \n",
       "\n",
       "   Geo_BLKGRP            Geo_GEOID       Geo_NAME  SE_B14001_001  \\\n",
       "0           1  15000US060371863011  Block Group 1            333   \n",
       "1           2  15000US060371863012  Block Group 2            241   \n",
       "2           3  15000US060371863013  Block Group 3            315   \n",
       "3           1  15000US060371863021  Block Group 1            553   \n",
       "4           1  15000US060371864011  Block Group 1            693   \n",
       "\n",
       "   SE_B14001_002  SE_B14001_003  SE_B14001_004  SE_B14001_005  SE_B14001_006  \n",
       "0             35             35             83             19            161  \n",
       "1             67            113             16              6             39  \n",
       "2             69             79            101             39             27  \n",
       "3            100             68             88             84            213  \n",
       "4            188            155            206             61             83  "
      ]
     },
     "execution_count": 126,
     "metadata": {},
     "output_type": "execute_result"
    }
   ],
   "source": [
    "df.head()"
   ]
  },
  {
   "cell_type": "code",
   "execution_count": 127,
   "metadata": {},
   "outputs": [],
   "source": [
    "# list of additional columns to drop\n",
    "columns_to_drop = ['Geo_FILEID','Geo_STUSAB','Geo_GEOCOMP','Geo_LOGRECNO','Geo_STATE','Geo_COUNTY','Geo_TRACT','Geo_GEOID']"
   ]
  },
  {
   "cell_type": "code",
   "execution_count": 128,
   "metadata": {},
   "outputs": [
    {
     "data": {
      "text/html": [
       "<div>\n",
       "<style scoped>\n",
       "    .dataframe tbody tr th:only-of-type {\n",
       "        vertical-align: middle;\n",
       "    }\n",
       "\n",
       "    .dataframe tbody tr th {\n",
       "        vertical-align: top;\n",
       "    }\n",
       "\n",
       "    .dataframe thead th {\n",
       "        text-align: right;\n",
       "    }\n",
       "</style>\n",
       "<table border=\"1\" class=\"dataframe\">\n",
       "  <thead>\n",
       "    <tr style=\"text-align: right;\">\n",
       "      <th></th>\n",
       "      <th>Geo_FIPS</th>\n",
       "      <th>Geo_QName</th>\n",
       "      <th>Geo_BLKGRP</th>\n",
       "      <th>Geo_NAME</th>\n",
       "      <th>SE_B14001_001</th>\n",
       "      <th>SE_B14001_002</th>\n",
       "      <th>SE_B14001_003</th>\n",
       "      <th>SE_B14001_004</th>\n",
       "      <th>SE_B14001_005</th>\n",
       "      <th>SE_B14001_006</th>\n",
       "    </tr>\n",
       "  </thead>\n",
       "  <tbody>\n",
       "    <tr>\n",
       "      <th>0</th>\n",
       "      <td>060371863011</td>\n",
       "      <td>Block Group 1, Census Tract 1863.01, Los Angel...</td>\n",
       "      <td>1</td>\n",
       "      <td>Block Group 1</td>\n",
       "      <td>333</td>\n",
       "      <td>35</td>\n",
       "      <td>35</td>\n",
       "      <td>83</td>\n",
       "      <td>19</td>\n",
       "      <td>161</td>\n",
       "    </tr>\n",
       "    <tr>\n",
       "      <th>1</th>\n",
       "      <td>060371863012</td>\n",
       "      <td>Block Group 2, Census Tract 1863.01, Los Angel...</td>\n",
       "      <td>2</td>\n",
       "      <td>Block Group 2</td>\n",
       "      <td>241</td>\n",
       "      <td>67</td>\n",
       "      <td>113</td>\n",
       "      <td>16</td>\n",
       "      <td>6</td>\n",
       "      <td>39</td>\n",
       "    </tr>\n",
       "    <tr>\n",
       "      <th>2</th>\n",
       "      <td>060371863013</td>\n",
       "      <td>Block Group 3, Census Tract 1863.01, Los Angel...</td>\n",
       "      <td>3</td>\n",
       "      <td>Block Group 3</td>\n",
       "      <td>315</td>\n",
       "      <td>69</td>\n",
       "      <td>79</td>\n",
       "      <td>101</td>\n",
       "      <td>39</td>\n",
       "      <td>27</td>\n",
       "    </tr>\n",
       "    <tr>\n",
       "      <th>3</th>\n",
       "      <td>060371863021</td>\n",
       "      <td>Block Group 1, Census Tract 1863.02, Los Angel...</td>\n",
       "      <td>1</td>\n",
       "      <td>Block Group 1</td>\n",
       "      <td>553</td>\n",
       "      <td>100</td>\n",
       "      <td>68</td>\n",
       "      <td>88</td>\n",
       "      <td>84</td>\n",
       "      <td>213</td>\n",
       "    </tr>\n",
       "    <tr>\n",
       "      <th>4</th>\n",
       "      <td>060371864011</td>\n",
       "      <td>Block Group 1, Census Tract 1864.01, Los Angel...</td>\n",
       "      <td>1</td>\n",
       "      <td>Block Group 1</td>\n",
       "      <td>693</td>\n",
       "      <td>188</td>\n",
       "      <td>155</td>\n",
       "      <td>206</td>\n",
       "      <td>61</td>\n",
       "      <td>83</td>\n",
       "    </tr>\n",
       "  </tbody>\n",
       "</table>\n",
       "</div>"
      ],
      "text/plain": [
       "       Geo_FIPS                                          Geo_QName  \\\n",
       "0  060371863011  Block Group 1, Census Tract 1863.01, Los Angel...   \n",
       "1  060371863012  Block Group 2, Census Tract 1863.01, Los Angel...   \n",
       "2  060371863013  Block Group 3, Census Tract 1863.01, Los Angel...   \n",
       "3  060371863021  Block Group 1, Census Tract 1863.02, Los Angel...   \n",
       "4  060371864011  Block Group 1, Census Tract 1864.01, Los Angel...   \n",
       "\n",
       "   Geo_BLKGRP       Geo_NAME  SE_B14001_001  SE_B14001_002  SE_B14001_003  \\\n",
       "0           1  Block Group 1            333             35             35   \n",
       "1           2  Block Group 2            241             67            113   \n",
       "2           3  Block Group 3            315             69             79   \n",
       "3           1  Block Group 1            553            100             68   \n",
       "4           1  Block Group 1            693            188            155   \n",
       "\n",
       "   SE_B14001_004  SE_B14001_005  SE_B14001_006  \n",
       "0             83             19            161  \n",
       "1             16              6             39  \n",
       "2            101             39             27  \n",
       "3             88             84            213  \n",
       "4            206             61             83  "
      ]
     },
     "execution_count": 128,
     "metadata": {},
     "output_type": "execute_result"
    }
   ],
   "source": [
    "# next, drop them!\n",
    "df = df.drop(columns_to_drop,axis=1)\n",
    "df.head()"
   ]
  },
  {
   "cell_type": "code",
   "execution_count": 129,
   "metadata": {},
   "outputs": [],
   "source": [
    "df.columns = ['FIPS',\n",
    " 'Geo_QName',\n",
    " 'Geo_BLKGRP',\n",
    " 'Geo_NAME',\n",
    " 'Total Households in Atwater Village',\n",
    " 'Household Income Less than $25,000',\n",
    " 'Household Income $25,000 to $49,999',\n",
    " 'Household Income $50,000 to $74,999',\n",
    " 'Household Income $75,000 to $99,999',\n",
    " 'Household Income $100,000 or More']"
   ]
  },
  {
   "cell_type": "code",
   "execution_count": 130,
   "metadata": {},
   "outputs": [
    {
     "data": {
      "text/html": [
       "<div>\n",
       "<style scoped>\n",
       "    .dataframe tbody tr th:only-of-type {\n",
       "        vertical-align: middle;\n",
       "    }\n",
       "\n",
       "    .dataframe tbody tr th {\n",
       "        vertical-align: top;\n",
       "    }\n",
       "\n",
       "    .dataframe thead th {\n",
       "        text-align: right;\n",
       "    }\n",
       "</style>\n",
       "<table border=\"1\" class=\"dataframe\">\n",
       "  <thead>\n",
       "    <tr style=\"text-align: right;\">\n",
       "      <th></th>\n",
       "      <th>FIPS</th>\n",
       "      <th>Geo_QName</th>\n",
       "      <th>Geo_BLKGRP</th>\n",
       "      <th>Geo_NAME</th>\n",
       "      <th>Total Households in Atwater Village</th>\n",
       "      <th>Household Income Less than $25,000</th>\n",
       "      <th>Household Income $25,000 to $49,999</th>\n",
       "      <th>Household Income $50,000 to $74,999</th>\n",
       "      <th>Household Income $75,000 to $99,999</th>\n",
       "      <th>Household Income $100,000 or More</th>\n",
       "    </tr>\n",
       "  </thead>\n",
       "  <tbody>\n",
       "    <tr>\n",
       "      <th>0</th>\n",
       "      <td>060371863011</td>\n",
       "      <td>Block Group 1, Census Tract 1863.01, Los Angel...</td>\n",
       "      <td>1</td>\n",
       "      <td>Block Group 1</td>\n",
       "      <td>333</td>\n",
       "      <td>35</td>\n",
       "      <td>35</td>\n",
       "      <td>83</td>\n",
       "      <td>19</td>\n",
       "      <td>161</td>\n",
       "    </tr>\n",
       "    <tr>\n",
       "      <th>1</th>\n",
       "      <td>060371863012</td>\n",
       "      <td>Block Group 2, Census Tract 1863.01, Los Angel...</td>\n",
       "      <td>2</td>\n",
       "      <td>Block Group 2</td>\n",
       "      <td>241</td>\n",
       "      <td>67</td>\n",
       "      <td>113</td>\n",
       "      <td>16</td>\n",
       "      <td>6</td>\n",
       "      <td>39</td>\n",
       "    </tr>\n",
       "    <tr>\n",
       "      <th>2</th>\n",
       "      <td>060371863013</td>\n",
       "      <td>Block Group 3, Census Tract 1863.01, Los Angel...</td>\n",
       "      <td>3</td>\n",
       "      <td>Block Group 3</td>\n",
       "      <td>315</td>\n",
       "      <td>69</td>\n",
       "      <td>79</td>\n",
       "      <td>101</td>\n",
       "      <td>39</td>\n",
       "      <td>27</td>\n",
       "    </tr>\n",
       "    <tr>\n",
       "      <th>3</th>\n",
       "      <td>060371863021</td>\n",
       "      <td>Block Group 1, Census Tract 1863.02, Los Angel...</td>\n",
       "      <td>1</td>\n",
       "      <td>Block Group 1</td>\n",
       "      <td>553</td>\n",
       "      <td>100</td>\n",
       "      <td>68</td>\n",
       "      <td>88</td>\n",
       "      <td>84</td>\n",
       "      <td>213</td>\n",
       "    </tr>\n",
       "    <tr>\n",
       "      <th>4</th>\n",
       "      <td>060371864011</td>\n",
       "      <td>Block Group 1, Census Tract 1864.01, Los Angel...</td>\n",
       "      <td>1</td>\n",
       "      <td>Block Group 1</td>\n",
       "      <td>693</td>\n",
       "      <td>188</td>\n",
       "      <td>155</td>\n",
       "      <td>206</td>\n",
       "      <td>61</td>\n",
       "      <td>83</td>\n",
       "    </tr>\n",
       "  </tbody>\n",
       "</table>\n",
       "</div>"
      ],
      "text/plain": [
       "           FIPS                                          Geo_QName  \\\n",
       "0  060371863011  Block Group 1, Census Tract 1863.01, Los Angel...   \n",
       "1  060371863012  Block Group 2, Census Tract 1863.01, Los Angel...   \n",
       "2  060371863013  Block Group 3, Census Tract 1863.01, Los Angel...   \n",
       "3  060371863021  Block Group 1, Census Tract 1863.02, Los Angel...   \n",
       "4  060371864011  Block Group 1, Census Tract 1864.01, Los Angel...   \n",
       "\n",
       "   Geo_BLKGRP       Geo_NAME  Total Households in Atwater Village  \\\n",
       "0           1  Block Group 1                                  333   \n",
       "1           2  Block Group 2                                  241   \n",
       "2           3  Block Group 3                                  315   \n",
       "3           1  Block Group 1                                  553   \n",
       "4           1  Block Group 1                                  693   \n",
       "\n",
       "   Household Income Less than $25,000  Household Income $25,000 to $49,999  \\\n",
       "0                                  35                                   35   \n",
       "1                                  67                                  113   \n",
       "2                                  69                                   79   \n",
       "3                                 100                                   68   \n",
       "4                                 188                                  155   \n",
       "\n",
       "   Household Income $50,000 to $74,999  Household Income $75,000 to $99,999  \\\n",
       "0                                   83                                   19   \n",
       "1                                   16                                    6   \n",
       "2                                  101                                   39   \n",
       "3                                   88                                   84   \n",
       "4                                  206                                   61   \n",
       "\n",
       "   Household Income $100,000 or More  \n",
       "0                                161  \n",
       "1                                 39  \n",
       "2                                 27  \n",
       "3                                213  \n",
       "4                                 83  "
      ]
     },
     "execution_count": 130,
     "metadata": {},
     "output_type": "execute_result"
    }
   ],
   "source": [
    "df.head()"
   ]
  },
  {
   "cell_type": "code",
   "execution_count": 131,
   "metadata": {},
   "outputs": [
    {
     "data": {
      "text/plain": [
       "0    333\n",
       "1    241\n",
       "2    315\n",
       "3    553\n",
       "4    693\n",
       "Name: Total Households in Atwater Village, dtype: int64"
      ]
     },
     "execution_count": 131,
     "metadata": {},
     "output_type": "execute_result"
    }
   ],
   "source": [
    "df['Total Households in Atwater Village'].head()"
   ]
  },
  {
   "cell_type": "markdown",
   "metadata": {},
   "source": [
    "### Normalize Atwater Data for Bar Graphs"
   ]
  },
  {
   "cell_type": "code",
   "execution_count": 132,
   "metadata": {},
   "outputs": [],
   "source": [
    "df_sum= df.sum().reset_index()"
   ]
  },
  {
   "cell_type": "code",
   "execution_count": 133,
   "metadata": {},
   "outputs": [],
   "source": [
    "df_sum=df_sum.set_index('index').T"
   ]
  },
  {
   "cell_type": "code",
   "execution_count": 134,
   "metadata": {},
   "outputs": [
    {
     "data": {
      "text/html": [
       "<div>\n",
       "<style scoped>\n",
       "    .dataframe tbody tr th:only-of-type {\n",
       "        vertical-align: middle;\n",
       "    }\n",
       "\n",
       "    .dataframe tbody tr th {\n",
       "        vertical-align: top;\n",
       "    }\n",
       "\n",
       "    .dataframe thead th {\n",
       "        text-align: right;\n",
       "    }\n",
       "</style>\n",
       "<table border=\"1\" class=\"dataframe\">\n",
       "  <thead>\n",
       "    <tr style=\"text-align: right;\">\n",
       "      <th>index</th>\n",
       "      <th>FIPS</th>\n",
       "      <th>Geo_QName</th>\n",
       "      <th>Geo_BLKGRP</th>\n",
       "      <th>Geo_NAME</th>\n",
       "      <th>Total Households in Atwater Village</th>\n",
       "      <th>Household Income Less than $25,000</th>\n",
       "      <th>Household Income $25,000 to $49,999</th>\n",
       "      <th>Household Income $50,000 to $74,999</th>\n",
       "      <th>Household Income $75,000 to $99,999</th>\n",
       "      <th>Household Income $100,000 or More</th>\n",
       "    </tr>\n",
       "  </thead>\n",
       "  <tbody>\n",
       "    <tr>\n",
       "      <th>0</th>\n",
       "      <td>0603718630110603718630120603718630130603718630...</td>\n",
       "      <td>Block Group 1, Census Tract 1863.01, Los Angel...</td>\n",
       "      <td>31</td>\n",
       "      <td>Block Group 1Block Group 2Block Group 3Block G...</td>\n",
       "      <td>8995</td>\n",
       "      <td>1776</td>\n",
       "      <td>1759</td>\n",
       "      <td>1455</td>\n",
       "      <td>950</td>\n",
       "      <td>3055</td>\n",
       "    </tr>\n",
       "  </tbody>\n",
       "</table>\n",
       "</div>"
      ],
      "text/plain": [
       "index                                               FIPS  \\\n",
       "0      0603718630110603718630120603718630130603718630...   \n",
       "\n",
       "index                                          Geo_QName Geo_BLKGRP  \\\n",
       "0      Block Group 1, Census Tract 1863.01, Los Angel...         31   \n",
       "\n",
       "index                                           Geo_NAME  \\\n",
       "0      Block Group 1Block Group 2Block Group 3Block G...   \n",
       "\n",
       "index Total Households in Atwater Village Household Income Less than $25,000  \\\n",
       "0                                    8995                               1776   \n",
       "\n",
       "index Household Income $25,000 to $49,999 Household Income $50,000 to $74,999  \\\n",
       "0                                    1759                                1455   \n",
       "\n",
       "index Household Income $75,000 to $99,999 Household Income $100,000 or More  \n",
       "0                                     950                              3055  "
      ]
     },
     "execution_count": 134,
     "metadata": {},
     "output_type": "execute_result"
    }
   ],
   "source": [
    "df_sum.head()"
   ]
  },
  {
   "cell_type": "code",
   "execution_count": 135,
   "metadata": {},
   "outputs": [],
   "source": [
    "df_sum['% Less than $25K'] = df_sum['Household Income Less than $25,000']/df_sum['Total Households in Atwater Village']*100"
   ]
  },
  {
   "cell_type": "code",
   "execution_count": 136,
   "metadata": {},
   "outputs": [],
   "source": [
    "df_sum['% More than $100K'] = df_sum['Household Income $100,000 or More']/df_sum['Total Households in Atwater Village']*100"
   ]
  },
  {
   "cell_type": "code",
   "execution_count": 137,
   "metadata": {},
   "outputs": [],
   "source": [
    "df_sum['neighborhood'] = 'Atwater'\n",
    "df_sum['year'] = '2019'"
   ]
  },
  {
   "cell_type": "code",
   "execution_count": 138,
   "metadata": {},
   "outputs": [
    {
     "data": {
      "text/html": [
       "<div>\n",
       "<style scoped>\n",
       "    .dataframe tbody tr th:only-of-type {\n",
       "        vertical-align: middle;\n",
       "    }\n",
       "\n",
       "    .dataframe tbody tr th {\n",
       "        vertical-align: top;\n",
       "    }\n",
       "\n",
       "    .dataframe thead th {\n",
       "        text-align: right;\n",
       "    }\n",
       "</style>\n",
       "<table border=\"1\" class=\"dataframe\">\n",
       "  <thead>\n",
       "    <tr style=\"text-align: right;\">\n",
       "      <th>index</th>\n",
       "      <th>FIPS</th>\n",
       "      <th>Geo_QName</th>\n",
       "      <th>Geo_BLKGRP</th>\n",
       "      <th>Geo_NAME</th>\n",
       "      <th>Total Households in Atwater Village</th>\n",
       "      <th>Household Income Less than $25,000</th>\n",
       "      <th>Household Income $25,000 to $49,999</th>\n",
       "      <th>Household Income $50,000 to $74,999</th>\n",
       "      <th>Household Income $75,000 to $99,999</th>\n",
       "      <th>Household Income $100,000 or More</th>\n",
       "      <th>% Less than $25K</th>\n",
       "      <th>% More than $100K</th>\n",
       "      <th>neighborhood</th>\n",
       "      <th>year</th>\n",
       "    </tr>\n",
       "  </thead>\n",
       "  <tbody>\n",
       "    <tr>\n",
       "      <th>0</th>\n",
       "      <td>0603718630110603718630120603718630130603718630...</td>\n",
       "      <td>Block Group 1, Census Tract 1863.01, Los Angel...</td>\n",
       "      <td>31</td>\n",
       "      <td>Block Group 1Block Group 2Block Group 3Block G...</td>\n",
       "      <td>8995</td>\n",
       "      <td>1776</td>\n",
       "      <td>1759</td>\n",
       "      <td>1455</td>\n",
       "      <td>950</td>\n",
       "      <td>3055</td>\n",
       "      <td>19.7443</td>\n",
       "      <td>33.9633</td>\n",
       "      <td>Atwater</td>\n",
       "      <td>2019</td>\n",
       "    </tr>\n",
       "  </tbody>\n",
       "</table>\n",
       "</div>"
      ],
      "text/plain": [
       "index                                               FIPS  \\\n",
       "0      0603718630110603718630120603718630130603718630...   \n",
       "\n",
       "index                                          Geo_QName Geo_BLKGRP  \\\n",
       "0      Block Group 1, Census Tract 1863.01, Los Angel...         31   \n",
       "\n",
       "index                                           Geo_NAME  \\\n",
       "0      Block Group 1Block Group 2Block Group 3Block G...   \n",
       "\n",
       "index Total Households in Atwater Village Household Income Less than $25,000  \\\n",
       "0                                    8995                               1776   \n",
       "\n",
       "index Household Income $25,000 to $49,999 Household Income $50,000 to $74,999  \\\n",
       "0                                    1759                                1455   \n",
       "\n",
       "index Household Income $75,000 to $99,999 Household Income $100,000 or More  \\\n",
       "0                                     950                              3055   \n",
       "\n",
       "index % Less than $25K % More than $100K neighborhood  year  \n",
       "0              19.7443           33.9633      Atwater  2019  "
      ]
     },
     "execution_count": 138,
     "metadata": {},
     "output_type": "execute_result"
    }
   ],
   "source": [
    "df_sum.head()"
   ]
  },
  {
   "cell_type": "code",
   "execution_count": 139,
   "metadata": {},
   "outputs": [
    {
     "data": {
      "text/plain": [
       "<matplotlib.axes._subplots.AxesSubplot at 0x7fa89d661e20>"
      ]
     },
     "execution_count": 139,
     "metadata": {},
     "output_type": "execute_result"
    },
    {
     "data": {
      "image/png": "[encoded data removed]",
      "text/plain": [
       "<Figure size 432x288 with 1 Axes>"
      ]
     },
     "metadata": {
      "needs_background": "light"
     },
     "output_type": "display_data"
    }
   ],
   "source": [
    "df_sum.plot.bar(x = 'neighborhood', y='% Less than $25K', title=\"Percentage of Households with Income Less than $25K (2019)\")"
   ]
  },
  {
   "cell_type": "code",
   "execution_count": 140,
   "metadata": {},
   "outputs": [
    {
     "data": {
      "text/plain": [
       "<matplotlib.axes._subplots.AxesSubplot at 0x7fa89d7cc2b0>"
      ]
     },
     "execution_count": 140,
     "metadata": {},
     "output_type": "execute_result"
    },
    {
     "data": {
      "image/png": "[encoded data removed]",
      "text/plain": [
       "<Figure size 432x288 with 1 Axes>"
      ]
     },
     "metadata": {
      "needs_background": "light"
     },
     "output_type": "display_data"
    }
   ],
   "source": [
    "df_sum.plot.bar(x = 'neighborhood', y='% More than $100K', title=\"Percentage of Households with Income More than $100K (2019)\")"
   ]
  },
  {
   "cell_type": "markdown",
   "metadata": {},
   "source": [
    "### Normalize Atwater Data for Maps "
   ]
  },
  {
   "cell_type": "code",
   "execution_count": 141,
   "metadata": {},
   "outputs": [],
   "source": [
    "df['neighborhood'] = 'Atwater'"
   ]
  },
  {
   "cell_type": "code",
   "execution_count": 142,
   "metadata": {},
   "outputs": [],
   "source": [
    "df['p_less_25k'] = df['Household Income Less than $25,000']/df['Total Households in Atwater Village']*100"
   ]
  },
  {
   "cell_type": "code",
   "execution_count": 143,
   "metadata": {},
   "outputs": [],
   "source": [
    "df['p_more_100k'] = df['Household Income $100,000 or More']/df['Total Households in Atwater Village']*100"
   ]
  },
  {
   "cell_type": "code",
   "execution_count": 144,
   "metadata": {},
   "outputs": [],
   "source": [
    "df['Total Households'] = df ['Total Households in Atwater Village']"
   ]
  },
  {
   "cell_type": "code",
   "execution_count": 145,
   "metadata": {},
   "outputs": [
    {
     "data": {
      "text/html": [
       "<div>\n",
       "<style scoped>\n",
       "    .dataframe tbody tr th:only-of-type {\n",
       "        vertical-align: middle;\n",
       "    }\n",
       "\n",
       "    .dataframe tbody tr th {\n",
       "        vertical-align: top;\n",
       "    }\n",
       "\n",
       "    .dataframe thead th {\n",
       "        text-align: right;\n",
       "    }\n",
       "</style>\n",
       "<table border=\"1\" class=\"dataframe\">\n",
       "  <thead>\n",
       "    <tr style=\"text-align: right;\">\n",
       "      <th></th>\n",
       "      <th>FIPS</th>\n",
       "      <th>Geo_QName</th>\n",
       "      <th>Geo_BLKGRP</th>\n",
       "      <th>Geo_NAME</th>\n",
       "      <th>Total Households in Atwater Village</th>\n",
       "      <th>Household Income Less than $25,000</th>\n",
       "      <th>Household Income $25,000 to $49,999</th>\n",
       "      <th>Household Income $50,000 to $74,999</th>\n",
       "      <th>Household Income $75,000 to $99,999</th>\n",
       "      <th>Household Income $100,000 or More</th>\n",
       "      <th>neighborhood</th>\n",
       "      <th>p_less_25k</th>\n",
       "      <th>p_more_100k</th>\n",
       "      <th>Total Households</th>\n",
       "    </tr>\n",
       "  </thead>\n",
       "  <tbody>\n",
       "    <tr>\n",
       "      <th>0</th>\n",
       "      <td>060371863011</td>\n",
       "      <td>Block Group 1, Census Tract 1863.01, Los Angel...</td>\n",
       "      <td>1</td>\n",
       "      <td>Block Group 1</td>\n",
       "      <td>333</td>\n",
       "      <td>35</td>\n",
       "      <td>35</td>\n",
       "      <td>83</td>\n",
       "      <td>19</td>\n",
       "      <td>161</td>\n",
       "      <td>Atwater</td>\n",
       "      <td>10.510511</td>\n",
       "      <td>48.348348</td>\n",
       "      <td>333</td>\n",
       "    </tr>\n",
       "    <tr>\n",
       "      <th>1</th>\n",
       "      <td>060371863012</td>\n",
       "      <td>Block Group 2, Census Tract 1863.01, Los Angel...</td>\n",
       "      <td>2</td>\n",
       "      <td>Block Group 2</td>\n",
       "      <td>241</td>\n",
       "      <td>67</td>\n",
       "      <td>113</td>\n",
       "      <td>16</td>\n",
       "      <td>6</td>\n",
       "      <td>39</td>\n",
       "      <td>Atwater</td>\n",
       "      <td>27.800830</td>\n",
       "      <td>16.182573</td>\n",
       "      <td>241</td>\n",
       "    </tr>\n",
       "    <tr>\n",
       "      <th>2</th>\n",
       "      <td>060371863013</td>\n",
       "      <td>Block Group 3, Census Tract 1863.01, Los Angel...</td>\n",
       "      <td>3</td>\n",
       "      <td>Block Group 3</td>\n",
       "      <td>315</td>\n",
       "      <td>69</td>\n",
       "      <td>79</td>\n",
       "      <td>101</td>\n",
       "      <td>39</td>\n",
       "      <td>27</td>\n",
       "      <td>Atwater</td>\n",
       "      <td>21.904762</td>\n",
       "      <td>8.571429</td>\n",
       "      <td>315</td>\n",
       "    </tr>\n",
       "    <tr>\n",
       "      <th>3</th>\n",
       "      <td>060371863021</td>\n",
       "      <td>Block Group 1, Census Tract 1863.02, Los Angel...</td>\n",
       "      <td>1</td>\n",
       "      <td>Block Group 1</td>\n",
       "      <td>553</td>\n",
       "      <td>100</td>\n",
       "      <td>68</td>\n",
       "      <td>88</td>\n",
       "      <td>84</td>\n",
       "      <td>213</td>\n",
       "      <td>Atwater</td>\n",
       "      <td>18.083183</td>\n",
       "      <td>38.517179</td>\n",
       "      <td>553</td>\n",
       "    </tr>\n",
       "    <tr>\n",
       "      <th>4</th>\n",
       "      <td>060371864011</td>\n",
       "      <td>Block Group 1, Census Tract 1864.01, Los Angel...</td>\n",
       "      <td>1</td>\n",
       "      <td>Block Group 1</td>\n",
       "      <td>693</td>\n",
       "      <td>188</td>\n",
       "      <td>155</td>\n",
       "      <td>206</td>\n",
       "      <td>61</td>\n",
       "      <td>83</td>\n",
       "      <td>Atwater</td>\n",
       "      <td>27.128427</td>\n",
       "      <td>11.976912</td>\n",
       "      <td>693</td>\n",
       "    </tr>\n",
       "  </tbody>\n",
       "</table>\n",
       "</div>"
      ],
      "text/plain": [
       "           FIPS                                          Geo_QName  \\\n",
       "0  060371863011  Block Group 1, Census Tract 1863.01, Los Angel...   \n",
       "1  060371863012  Block Group 2, Census Tract 1863.01, Los Angel...   \n",
       "2  060371863013  Block Group 3, Census Tract 1863.01, Los Angel...   \n",
       "3  060371863021  Block Group 1, Census Tract 1863.02, Los Angel...   \n",
       "4  060371864011  Block Group 1, Census Tract 1864.01, Los Angel...   \n",
       "\n",
       "   Geo_BLKGRP       Geo_NAME  Total Households in Atwater Village  \\\n",
       "0           1  Block Group 1                                  333   \n",
       "1           2  Block Group 2                                  241   \n",
       "2           3  Block Group 3                                  315   \n",
       "3           1  Block Group 1                                  553   \n",
       "4           1  Block Group 1                                  693   \n",
       "\n",
       "   Household Income Less than $25,000  Household Income $25,000 to $49,999  \\\n",
       "0                                  35                                   35   \n",
       "1                                  67                                  113   \n",
       "2                                  69                                   79   \n",
       "3                                 100                                   68   \n",
       "4                                 188                                  155   \n",
       "\n",
       "   Household Income $50,000 to $74,999  Household Income $75,000 to $99,999  \\\n",
       "0                                   83                                   19   \n",
       "1                                   16                                    6   \n",
       "2                                  101                                   39   \n",
       "3                                   88                                   84   \n",
       "4                                  206                                   61   \n",
       "\n",
       "   Household Income $100,000 or More neighborhood  p_less_25k  p_more_100k  \\\n",
       "0                                161      Atwater   10.510511    48.348348   \n",
       "1                                 39      Atwater   27.800830    16.182573   \n",
       "2                                 27      Atwater   21.904762     8.571429   \n",
       "3                                213      Atwater   18.083183    38.517179   \n",
       "4                                 83      Atwater   27.128427    11.976912   \n",
       "\n",
       "   Total Households  \n",
       "0               333  \n",
       "1               241  \n",
       "2               315  \n",
       "3               553  \n",
       "4               693  "
      ]
     },
     "execution_count": 145,
     "metadata": {},
     "output_type": "execute_result"
    }
   ],
   "source": [
    "df.head()"
   ]
  },
  {
   "cell_type": "code",
   "execution_count": 146,
   "metadata": {},
   "outputs": [
    {
     "data": {
      "text/plain": [
       "pandas.core.frame.DataFrame"
      ]
     },
     "execution_count": 146,
     "metadata": {},
     "output_type": "execute_result"
    }
   ],
   "source": [
    "type(df_sum)"
   ]
  },
  {
   "cell_type": "code",
   "execution_count": 147,
   "metadata": {},
   "outputs": [],
   "source": [
    "import plotly.express as px\n",
    "import pandas as pd"
   ]
  },
  {
   "cell_type": "code",
   "execution_count": 148,
   "metadata": {},
   "outputs": [
    {
     "data": {
      "application/vnd.plotly.v1+json": {
       "config": {
        "plotlyServerURL": "https://plot.ly"
       },
       "data": [
        {
         "alignmentgroup": "True",
         "hovertemplate": "Household Income=Household Income Less than $25,000<br>neighborhood=%{x}<br>Total Households in Atwater Village=%{y}<extra></extra>",
         "legendgroup": "Household Income Less than $25,000",
         "marker": {
          "color": "#636efa"
         },
         "name": "Household Income Less than $25,000",
         "offsetgroup": "Household Income Less than $25,000",
         "orientation": "v",
         "showlegend": true,
         "textposition": "auto",
         "type": "bar",
         "x": [
          "Atwater",
          "Atwater",
          "Atwater",
          "Atwater",
          "Atwater",
          "Atwater",
          "Atwater",
          "Atwater",
          "Atwater",
          "Atwater",
          "Atwater",
          "Atwater",
          "Atwater",
          "Atwater",
          "Atwater",
          "Atwater",
          "Atwater",
          "Atwater"
         ],
         "xaxis": "x",
         "y": [
          35,
          67,
          69,
          100,
          188,
          138,
          93,
          97,
          40,
          158,
          33,
          310,
          146,
          134,
          37,
          106,
          13,
          12
         ],
         "yaxis": "y"
        },
        {
         "alignmentgroup": "True",
         "hovertemplate": "Household Income=Household Income $25,000 to $49,999<br>neighborhood=%{x}<br>Total Households in Atwater Village=%{y}<extra></extra>",
         "legendgroup": "Household Income $25,000 to $49,999",
         "marker": {
          "color": "#EF553B"
         },
         "name": "Household Income $25,000 to $49,999",
         "offsetgroup": "Household Income $25,000 to $49,999",
         "orientation": "v",
         "showlegend": true,
         "textposition": "auto",
         "type": "bar",
         "x": [
          "Atwater",
          "Atwater",
          "Atwater",
          "Atwater",
          "Atwater",
          "Atwater",
          "Atwater",
          "Atwater",
          "Atwater",
          "Atwater",
          "Atwater",
          "Atwater",
          "Atwater",
          "Atwater",
          "Atwater",
          "Atwater",
          "Atwater",
          "Atwater"
         ],
         "xaxis": "x",
         "y": [
          35,
          113,
          79,
          68,
          155,
          63,
          87,
          76,
          107,
          167,
          80,
          199,
          144,
          64,
          121,
          76,
          62,
          63
         ],
         "yaxis": "y"
        },
        {
         "alignmentgroup": "True",
         "hovertemplate": "Household Income=Household Income $50,000 to $74,999<br>neighborhood=%{x}<br>Total Households in Atwater Village=%{y}<extra></extra>",
         "legendgroup": "Household Income $50,000 to $74,999",
         "marker": {
          "color": "#00cc96"
         },
         "name": "Household Income $50,000 to $74,999",
         "offsetgroup": "Household Income $50,000 to $74,999",
         "orientation": "v",
         "showlegend": true,
         "textposition": "auto",
         "type": "bar",
         "x": [
          "Atwater",
          "Atwater",
          "Atwater",
          "Atwater",
          "Atwater",
          "Atwater",
          "Atwater",
          "Atwater",
          "Atwater",
          "Atwater",
          "Atwater",
          "Atwater",
          "Atwater",
          "Atwater",
          "Atwater",
          "Atwater",
          "Atwater",
          "Atwater"
         ],
         "xaxis": "x",
         "y": [
          83,
          16,
          101,
          88,
          206,
          53,
          61,
          96,
          65,
          63,
          50,
          108,
          214,
          61,
          64,
          6,
          59,
          61
         ],
         "yaxis": "y"
        },
        {
         "alignmentgroup": "True",
         "hovertemplate": "Household Income=Household Income $75,000 to $99,999<br>neighborhood=%{x}<br>Total Households in Atwater Village=%{y}<extra></extra>",
         "legendgroup": "Household Income $75,000 to $99,999",
         "marker": {
          "color": "#ab63fa"
         },
         "name": "Household Income $75,000 to $99,999",
         "offsetgroup": "Household Income $75,000 to $99,999",
         "orientation": "v",
         "showlegend": true,
         "textposition": "auto",
         "type": "bar",
         "x": [
          "Atwater",
          "Atwater",
          "Atwater",
          "Atwater",
          "Atwater",
          "Atwater",
          "Atwater",
          "Atwater",
          "Atwater",
          "Atwater",
          "Atwater",
          "Atwater",
          "Atwater",
          "Atwater",
          "Atwater",
          "Atwater",
          "Atwater",
          "Atwater"
         ],
         "xaxis": "x",
         "y": [
          19,
          6,
          39,
          84,
          61,
          6,
          31,
          57,
          90,
          110,
          42,
          76,
          96,
          25,
          80,
          53,
          34,
          41
         ],
         "yaxis": "y"
        },
        {
         "alignmentgroup": "True",
         "hovertemplate": "Household Income=Household Income $100,000 or More<br>neighborhood=%{x}<br>Total Households in Atwater Village=%{y}<extra></extra>",
         "legendgroup": "Household Income $100,000 or More",
         "marker": {
          "color": "#FFA15A"
         },
         "name": "Household Income $100,000 or More",
         "offsetgroup": "Household Income $100,000 or More",
         "orientation": "v",
         "showlegend": true,
         "textposition": "auto",
         "type": "bar",
         "x": [
          "Atwater",
          "Atwater",
          "Atwater",
          "Atwater",
          "Atwater",
          "Atwater",
          "Atwater",
          "Atwater",
          "Atwater",
          "Atwater",
          "Atwater",
          "Atwater",
          "Atwater",
          "Atwater",
          "Atwater",
          "Atwater",
          "Atwater",
          "Atwater"
         ],
         "xaxis": "x",
         "y": [
          161,
          39,
          27,
          213,
          83,
          48,
          96,
          141,
          137,
          291,
          192,
          289,
          255,
          140,
          139,
          232,
          211,
          361
         ],
         "yaxis": "y"
        }
       ],
       "layout": {
        "barmode": "relative",
        "legend": {
         "title": {
          "text": "Household Income"
         },
         "tracegroupgap": 0
        },
        "template": {
         "data": {
          "bar": [
           {
            "error_x": {
             "color": "#2a3f5f"
            },
            "error_y": {
             "color": "#2a3f5f"
            },
            "marker": {
             "line": {
              "color": "#E5ECF6",
              "width": 0.5
             }
            },
            "type": "bar"
           }
          ],
          "barpolar": [
           {
            "marker": {
             "line": {
              "color": "#E5ECF6",
              "width": 0.5
             }
            },
            "type": "barpolar"
           }
          ],
          "carpet": [
           {
            "aaxis": {
             "endlinecolor": "#2a3f5f",
             "gridcolor": "white",
             "linecolor": "white",
             "minorgridcolor": "white",
             "startlinecolor": "#2a3f5f"
            },
            "baxis": {
             "endlinecolor": "#2a3f5f",
             "gridcolor": "white",
             "linecolor": "white",
             "minorgridcolor": "white",
             "startlinecolor": "#2a3f5f"
            },
            "type": "carpet"
           }
          ],
          "choropleth": [
           {
            "colorbar": {
             "outlinewidth": 0,
             "ticks": ""
            },
            "type": "choropleth"
           }
          ],
          "contour": [
           {
            "colorbar": {
             "outlinewidth": 0,
             "ticks": ""
            },
            "colorscale": [
             [
              0,
              "#0d0887"
             ],
             [
              0.1111111111111111,
              "#46039f"
             ],
             [
              0.2222222222222222,
              "#7201a8"
             ],
             [
              0.3333333333333333,
              "#9c179e"
             ],
             [
              0.4444444444444444,
              "#bd3786"
             ],
             [
              0.5555555555555556,
              "#d8576b"
             ],
             [
              0.6666666666666666,
              "#ed7953"
             ],
             [
              0.7777777777777778,
              "#fb9f3a"
             ],
             [
              0.8888888888888888,
              "#fdca26"
             ],
             [
              1,
              "#f0f921"
             ]
            ],
            "type": "contour"
           }
          ],
          "contourcarpet": [
           {
            "colorbar": {
             "outlinewidth": 0,
             "ticks": ""
            },
            "type": "contourcarpet"
           }
          ],
          "heatmap": [
           {
            "colorbar": {
             "outlinewidth": 0,
             "ticks": ""
            },
            "colorscale": [
             [
              0,
              "#0d0887"
             ],
             [
              0.1111111111111111,
              "#46039f"
             ],
             [
              0.2222222222222222,
              "#7201a8"
             ],
             [
              0.3333333333333333,
              "#9c179e"
             ],
             [
              0.4444444444444444,
              "#bd3786"
             ],
             [
              0.5555555555555556,
              "#d8576b"
             ],
             [
              0.6666666666666666,
              "#ed7953"
             ],
             [
              0.7777777777777778,
              "#fb9f3a"
             ],
             [
              0.8888888888888888,
              "#fdca26"
             ],
             [
              1,
              "#f0f921"
             ]
            ],
            "type": "heatmap"
           }
          ],
          "heatmapgl": [
           {
            "colorbar": {
             "outlinewidth": 0,
             "ticks": ""
            },
            "colorscale": [
             [
              0,
              "#0d0887"
             ],
             [
              0.1111111111111111,
              "#46039f"
             ],
             [
              0.2222222222222222,
              "#7201a8"
             ],
             [
              0.3333333333333333,
              "#9c179e"
             ],
             [
              0.4444444444444444,
              "#bd3786"
             ],
             [
              0.5555555555555556,
              "#d8576b"
             ],
             [
              0.6666666666666666,
              "#ed7953"
             ],
             [
              0.7777777777777778,
              "#fb9f3a"
             ],
             [
              0.8888888888888888,
              "#fdca26"
             ],
             [
              1,
              "#f0f921"
             ]
            ],
            "type": "heatmapgl"
           }
          ],
          "histogram": [
           {
            "marker": {
             "colorbar": {
              "outlinewidth": 0,
              "ticks": ""
             }
            },
            "type": "histogram"
           }
          ],
          "histogram2d": [
           {
            "colorbar": {
             "outlinewidth": 0,
             "ticks": ""
            },
            "colorscale": [
             [
              0,
              "#0d0887"
             ],
             [
              0.1111111111111111,
              "#46039f"
             ],
             [
              0.2222222222222222,
              "#7201a8"
             ],
             [
              0.3333333333333333,
              "#9c179e"
             ],
             [
              0.4444444444444444,
              "#bd3786"
             ],
             [
              0.5555555555555556,
              "#d8576b"
             ],
             [
              0.6666666666666666,
              "#ed7953"
             ],
             [
              0.7777777777777778,
              "#fb9f3a"
             ],
             [
              0.8888888888888888,
              "#fdca26"
             ],
             [
              1,
              "#f0f921"
             ]
            ],
            "type": "histogram2d"
           }
          ],
          "histogram2dcontour": [
           {
            "colorbar": {
             "outlinewidth": 0,
             "ticks": ""
            },
            "colorscale": [
             [
              0,
              "#0d0887"
             ],
             [
              0.1111111111111111,
              "#46039f"
             ],
             [
              0.2222222222222222,
              "#7201a8"
             ],
             [
              0.3333333333333333,
              "#9c179e"
             ],
             [
              0.4444444444444444,
              "#bd3786"
             ],
             [
              0.5555555555555556,
              "#d8576b"
             ],
             [
              0.6666666666666666,
              "#ed7953"
             ],
             [
              0.7777777777777778,
              "#fb9f3a"
             ],
             [
              0.8888888888888888,
              "#fdca26"
             ],
             [
              1,
              "#f0f921"
             ]
            ],
            "type": "histogram2dcontour"
           }
          ],
          "mesh3d": [
           {
            "colorbar": {
             "outlinewidth": 0,
             "ticks": ""
            },
            "type": "mesh3d"
           }
          ],
          "parcoords": [
           {
            "line": {
             "colorbar": {
              "outlinewidth": 0,
              "ticks": ""
             }
            },
            "type": "parcoords"
           }
          ],
          "pie": [
           {
            "automargin": true,
            "type": "pie"
           }
          ],
          "scatter": [
           {
            "marker": {
             "colorbar": {
              "outlinewidth": 0,
              "ticks": ""
             }
            },
            "type": "scatter"
           }
          ],
          "scatter3d": [
           {
            "line": {
             "colorbar": {
              "outlinewidth": 0,
              "ticks": ""
             }
            },
            "marker": {
             "colorbar": {
              "outlinewidth": 0,
              "ticks": ""
             }
            },
            "type": "scatter3d"
           }
          ],
          "scattercarpet": [
           {
            "marker": {
             "colorbar": {
              "outlinewidth": 0,
              "ticks": ""
             }
            },
            "type": "scattercarpet"
           }
          ],
          "scattergeo": [
           {
            "marker": {
             "colorbar": {
              "outlinewidth": 0,
              "ticks": ""
             }
            },
            "type": "scattergeo"
           }
          ],
          "scattergl": [
           {
            "marker": {
             "colorbar": {
              "outlinewidth": 0,
              "ticks": ""
             }
            },
            "type": "scattergl"
           }
          ],
          "scattermapbox": [
           {
            "marker": {
             "colorbar": {
              "outlinewidth": 0,
              "ticks": ""
             }
            },
            "type": "scattermapbox"
           }
          ],
          "scatterpolar": [
           {
            "marker": {
             "colorbar": {
              "outlinewidth": 0,
              "ticks": ""
             }
            },
            "type": "scatterpolar"
           }
          ],
          "scatterpolargl": [
           {
            "marker": {
             "colorbar": {
              "outlinewidth": 0,
              "ticks": ""
             }
            },
            "type": "scatterpolargl"
           }
          ],
          "scatterternary": [
           {
            "marker": {
             "colorbar": {
              "outlinewidth": 0,
              "ticks": ""
             }
            },
            "type": "scatterternary"
           }
          ],
          "surface": [
           {
            "colorbar": {
             "outlinewidth": 0,
             "ticks": ""
            },
            "colorscale": [
             [
              0,
              "#0d0887"
             ],
             [
              0.1111111111111111,
              "#46039f"
             ],
             [
              0.2222222222222222,
              "#7201a8"
             ],
             [
              0.3333333333333333,
              "#9c179e"
             ],
             [
              0.4444444444444444,
              "#bd3786"
             ],
             [
              0.5555555555555556,
              "#d8576b"
             ],
             [
              0.6666666666666666,
              "#ed7953"
             ],
             [
              0.7777777777777778,
              "#fb9f3a"
             ],
             [
              0.8888888888888888,
              "#fdca26"
             ],
             [
              1,
              "#f0f921"
             ]
            ],
            "type": "surface"
           }
          ],
          "table": [
           {
            "cells": {
             "fill": {
              "color": "#EBF0F8"
             },
             "line": {
              "color": "white"
             }
            },
            "header": {
             "fill": {
              "color": "#C8D4E3"
             },
             "line": {
              "color": "white"
             }
            },
            "type": "table"
           }
          ]
         },
         "layout": {
          "annotationdefaults": {
           "arrowcolor": "#2a3f5f",
           "arrowhead": 0,
           "arrowwidth": 1
          },
          "coloraxis": {
           "colorbar": {
            "outlinewidth": 0,
            "ticks": ""
           }
          },
          "colorscale": {
           "diverging": [
            [
             0,
             "#8e0152"
            ],
            [
             0.1,
             "#c51b7d"
            ],
            [
             0.2,
             "#de77ae"
            ],
            [
             0.3,
             "#f1b6da"
            ],
            [
             0.4,
             "#fde0ef"
            ],
            [
             0.5,
             "#f7f7f7"
            ],
            [
             0.6,
             "#e6f5d0"
            ],
            [
             0.7,
             "#b8e186"
            ],
            [
             0.8,
             "#7fbc41"
            ],
            [
             0.9,
             "#4d9221"
            ],
            [
             1,
             "#276419"
            ]
           ],
           "sequential": [
            [
             0,
             "#0d0887"
            ],
            [
             0.1111111111111111,
             "#46039f"
            ],
            [
             0.2222222222222222,
             "#7201a8"
            ],
            [
             0.3333333333333333,
             "#9c179e"
            ],
            [
             0.4444444444444444,
             "#bd3786"
            ],
            [
             0.5555555555555556,
             "#d8576b"
            ],
            [
             0.6666666666666666,
             "#ed7953"
            ],
            [
             0.7777777777777778,
             "#fb9f3a"
            ],
            [
             0.8888888888888888,
             "#fdca26"
            ],
            [
             1,
             "#f0f921"
            ]
           ],
           "sequentialminus": [
            [
             0,
             "#0d0887"
            ],
            [
             0.1111111111111111,
             "#46039f"
            ],
            [
             0.2222222222222222,
             "#7201a8"
            ],
            [
             0.3333333333333333,
             "#9c179e"
            ],
            [
             0.4444444444444444,
             "#bd3786"
            ],
            [
             0.5555555555555556,
             "#d8576b"
            ],
            [
             0.6666666666666666,
             "#ed7953"
            ],
            [
             0.7777777777777778,
             "#fb9f3a"
            ],
            [
             0.8888888888888888,
             "#fdca26"
            ],
            [
             1,
             "#f0f921"
            ]
           ]
          },
          "colorway": [
           "#636efa",
           "#EF553B",
           "#00cc96",
           "#ab63fa",
           "#FFA15A",
           "#19d3f3",
           "#FF6692",
           "#B6E880",
           "#FF97FF",
           "#FECB52"
          ],
          "font": {
           "color": "#2a3f5f"
          },
          "geo": {
           "bgcolor": "white",
           "lakecolor": "white",
           "landcolor": "#E5ECF6",
           "showlakes": true,
           "showland": true,
           "subunitcolor": "white"
          },
          "hoverlabel": {
           "align": "left"
          },
          "hovermode": "closest",
          "mapbox": {
           "style": "light"
          },
          "paper_bgcolor": "white",
          "plot_bgcolor": "#E5ECF6",
          "polar": {
           "angularaxis": {
            "gridcolor": "white",
            "linecolor": "white",
            "ticks": ""
           },
           "bgcolor": "#E5ECF6",
           "radialaxis": {
            "gridcolor": "white",
            "linecolor": "white",
            "ticks": ""
           }
          },
          "scene": {
           "xaxis": {
            "backgroundcolor": "#E5ECF6",
            "gridcolor": "white",
            "gridwidth": 2,
            "linecolor": "white",
            "showbackground": true,
            "ticks": "",
            "zerolinecolor": "white"
           },
           "yaxis": {
            "backgroundcolor": "#E5ECF6",
            "gridcolor": "white",
            "gridwidth": 2,
            "linecolor": "white",
            "showbackground": true,
            "ticks": "",
            "zerolinecolor": "white"
           },
           "zaxis": {
            "backgroundcolor": "#E5ECF6",
            "gridcolor": "white",
            "gridwidth": 2,
            "linecolor": "white",
            "showbackground": true,
            "ticks": "",
            "zerolinecolor": "white"
           }
          },
          "shapedefaults": {
           "line": {
            "color": "#2a3f5f"
           }
          },
          "ternary": {
           "aaxis": {
            "gridcolor": "white",
            "linecolor": "white",
            "ticks": ""
           },
           "baxis": {
            "gridcolor": "white",
            "linecolor": "white",
            "ticks": ""
           },
           "bgcolor": "#E5ECF6",
           "caxis": {
            "gridcolor": "white",
            "linecolor": "white",
            "ticks": ""
           }
          },
          "title": {
           "x": 0.05
          },
          "xaxis": {
           "automargin": true,
           "gridcolor": "white",
           "linecolor": "white",
           "ticks": "",
           "title": {
            "standoff": 15
           },
           "zerolinecolor": "white",
           "zerolinewidth": 2
          },
          "yaxis": {
           "automargin": true,
           "gridcolor": "white",
           "linecolor": "white",
           "ticks": "",
           "title": {
            "standoff": 15
           },
           "zerolinecolor": "white",
           "zerolinewidth": 2
          }
         }
        },
        "title": {
         "text": "Income Breakdown by Block Group in Atwater Village (2019)"
        },
        "xaxis": {
         "anchor": "y",
         "domain": [
          0,
          1
         ],
         "title": {
          "text": "neighborhood"
         }
        },
        "yaxis": {
         "anchor": "x",
         "domain": [
          0,
          1
         ],
         "title": {
          "text": "Total Households in Atwater Village"
         }
        }
       }
      },
      "text/html": [
       "<div>                            <div id=\"2aa20a2b-b8db-4d57-b000-e41d79b4fe23\" class=\"plotly-graph-div\" style=\"height:525px; width:100%;\"></div>            <script type=\"text/javascript\">                require([\"plotly\"], function(Plotly) {                    window.PLOTLYENV=window.PLOTLYENV || {};                                    if (document.getElementById(\"2aa20a2b-b8db-4d57-b000-e41d79b4fe23\")) {                    Plotly.newPlot(                        \"2aa20a2b-b8db-4d57-b000-e41d79b4fe23\",                        [{\"alignmentgroup\": \"True\", \"hovertemplate\": \"Household Income=Household Income Less than $25,000<br>neighborhood=%{x}<br>Total Households in Atwater Village=%{y}<extra></extra>\", \"legendgroup\": \"Household Income Less than $25,000\", \"marker\": {\"color\": \"#636efa\"}, \"name\": \"Household Income Less than $25,000\", \"offsetgroup\": \"Household Income Less than $25,000\", \"orientation\": \"v\", \"showlegend\": true, \"textposition\": \"auto\", \"type\": \"bar\", \"x\": [\"Atwater\", \"Atwater\", \"Atwater\", \"Atwater\", \"Atwater\", \"Atwater\", \"Atwater\", \"Atwater\", \"Atwater\", \"Atwater\", \"Atwater\", \"Atwater\", \"Atwater\", \"Atwater\", \"Atwater\", \"Atwater\", \"Atwater\", \"Atwater\"], \"xaxis\": \"x\", \"y\": [35, 67, 69, 100, 188, 138, 93, 97, 40, 158, 33, 310, 146, 134, 37, 106, 13, 12], \"yaxis\": \"y\"}, {\"alignmentgroup\": \"True\", \"hovertemplate\": \"Household Income=Household Income $25,000 to $49,999<br>neighborhood=%{x}<br>Total Households in Atwater Village=%{y}<extra></extra>\", \"legendgroup\": \"Household Income $25,000 to $49,999\", \"marker\": {\"color\": \"#EF553B\"}, \"name\": \"Household Income $25,000 to $49,999\", \"offsetgroup\": \"Household Income $25,000 to $49,999\", \"orientation\": \"v\", \"showlegend\": true, \"textposition\": \"auto\", \"type\": \"bar\", \"x\": [\"Atwater\", \"Atwater\", \"Atwater\", \"Atwater\", \"Atwater\", \"Atwater\", \"Atwater\", \"Atwater\", \"Atwater\", \"Atwater\", \"Atwater\", \"Atwater\", \"Atwater\", \"Atwater\", \"Atwater\", \"Atwater\", \"Atwater\", \"Atwater\"], \"xaxis\": \"x\", \"y\": [35, 113, 79, 68, 155, 63, 87, 76, 107, 167, 80, 199, 144, 64, 121, 76, 62, 63], \"yaxis\": \"y\"}, {\"alignmentgroup\": \"True\", \"hovertemplate\": \"Household Income=Household Income $50,000 to $74,999<br>neighborhood=%{x}<br>Total Households in Atwater Village=%{y}<extra></extra>\", \"legendgroup\": \"Household Income $50,000 to $74,999\", \"marker\": {\"color\": \"#00cc96\"}, \"name\": \"Household Income $50,000 to $74,999\", \"offsetgroup\": \"Household Income $50,000 to $74,999\", \"orientation\": \"v\", \"showlegend\": true, \"textposition\": \"auto\", \"type\": \"bar\", \"x\": [\"Atwater\", \"Atwater\", \"Atwater\", \"Atwater\", \"Atwater\", \"Atwater\", \"Atwater\", \"Atwater\", \"Atwater\", \"Atwater\", \"Atwater\", \"Atwater\", \"Atwater\", \"Atwater\", \"Atwater\", \"Atwater\", \"Atwater\", \"Atwater\"], \"xaxis\": \"x\", \"y\": [83, 16, 101, 88, 206, 53, 61, 96, 65, 63, 50, 108, 214, 61, 64, 6, 59, 61], \"yaxis\": \"y\"}, {\"alignmentgroup\": \"True\", \"hovertemplate\": \"Household Income=Household Income $75,000 to $99,999<br>neighborhood=%{x}<br>Total Households in Atwater Village=%{y}<extra></extra>\", \"legendgroup\": \"Household Income $75,000 to $99,999\", \"marker\": {\"color\": \"#ab63fa\"}, \"name\": \"Household Income $75,000 to $99,999\", \"offsetgroup\": \"Household Income $75,000 to $99,999\", \"orientation\": \"v\", \"showlegend\": true, \"textposition\": \"auto\", \"type\": \"bar\", \"x\": [\"Atwater\", \"Atwater\", \"Atwater\", \"Atwater\", \"Atwater\", \"Atwater\", \"Atwater\", \"Atwater\", \"Atwater\", \"Atwater\", \"Atwater\", \"Atwater\", \"Atwater\", \"Atwater\", \"Atwater\", \"Atwater\", \"Atwater\", \"Atwater\"], \"xaxis\": \"x\", \"y\": [19, 6, 39, 84, 61, 6, 31, 57, 90, 110, 42, 76, 96, 25, 80, 53, 34, 41], \"yaxis\": \"y\"}, {\"alignmentgroup\": \"True\", \"hovertemplate\": \"Household Income=Household Income $100,000 or More<br>neighborhood=%{x}<br>Total Households in Atwater Village=%{y}<extra></extra>\", \"legendgroup\": \"Household Income $100,000 or More\", \"marker\": {\"color\": \"#FFA15A\"}, \"name\": \"Household Income $100,000 or More\", \"offsetgroup\": \"Household Income $100,000 or More\", \"orientation\": \"v\", \"showlegend\": true, \"textposition\": \"auto\", \"type\": \"bar\", \"x\": [\"Atwater\", \"Atwater\", \"Atwater\", \"Atwater\", \"Atwater\", \"Atwater\", \"Atwater\", \"Atwater\", \"Atwater\", \"Atwater\", \"Atwater\", \"Atwater\", \"Atwater\", \"Atwater\", \"Atwater\", \"Atwater\", \"Atwater\", \"Atwater\"], \"xaxis\": \"x\", \"y\": [161, 39, 27, 213, 83, 48, 96, 141, 137, 291, 192, 289, 255, 140, 139, 232, 211, 361], \"yaxis\": \"y\"}],                        {\"barmode\": \"relative\", \"legend\": {\"title\": {\"text\": \"Household Income\"}, \"tracegroupgap\": 0}, \"template\": {\"data\": {\"bar\": [{\"error_x\": {\"color\": \"#2a3f5f\"}, \"error_y\": {\"color\": \"#2a3f5f\"}, \"marker\": {\"line\": {\"color\": \"#E5ECF6\", \"width\": 0.5}}, \"type\": \"bar\"}], \"barpolar\": [{\"marker\": {\"line\": {\"color\": \"#E5ECF6\", \"width\": 0.5}}, \"type\": \"barpolar\"}], \"carpet\": [{\"aaxis\": {\"endlinecolor\": \"#2a3f5f\", \"gridcolor\": \"white\", \"linecolor\": \"white\", \"minorgridcolor\": \"white\", \"startlinecolor\": \"#2a3f5f\"}, \"baxis\": {\"endlinecolor\": \"#2a3f5f\", \"gridcolor\": \"white\", \"linecolor\": \"white\", \"minorgridcolor\": \"white\", \"startlinecolor\": \"#2a3f5f\"}, \"type\": \"carpet\"}], \"choropleth\": [{\"colorbar\": {\"outlinewidth\": 0, \"ticks\": \"\"}, \"type\": \"choropleth\"}], \"contour\": [{\"colorbar\": {\"outlinewidth\": 0, \"ticks\": \"\"}, \"colorscale\": [[0.0, \"#0d0887\"], [0.1111111111111111, \"#46039f\"], [0.2222222222222222, \"#7201a8\"], [0.3333333333333333, \"#9c179e\"], [0.4444444444444444, \"#bd3786\"], [0.5555555555555556, \"#d8576b\"], [0.6666666666666666, \"#ed7953\"], [0.7777777777777778, \"#fb9f3a\"], [0.8888888888888888, \"#fdca26\"], [1.0, \"#f0f921\"]], \"type\": \"contour\"}], \"contourcarpet\": [{\"colorbar\": {\"outlinewidth\": 0, \"ticks\": \"\"}, \"type\": \"contourcarpet\"}], \"heatmap\": [{\"colorbar\": {\"outlinewidth\": 0, \"ticks\": \"\"}, \"colorscale\": [[0.0, \"#0d0887\"], [0.1111111111111111, \"#46039f\"], [0.2222222222222222, \"#7201a8\"], [0.3333333333333333, \"#9c179e\"], [0.4444444444444444, \"#bd3786\"], [0.5555555555555556, \"#d8576b\"], [0.6666666666666666, \"#ed7953\"], [0.7777777777777778, \"#fb9f3a\"], [0.8888888888888888, \"#fdca26\"], [1.0, \"#f0f921\"]], \"type\": \"heatmap\"}], \"heatmapgl\": [{\"colorbar\": {\"outlinewidth\": 0, \"ticks\": \"\"}, \"colorscale\": [[0.0, \"#0d0887\"], [0.1111111111111111, \"#46039f\"], [0.2222222222222222, \"#7201a8\"], [0.3333333333333333, \"#9c179e\"], [0.4444444444444444, \"#bd3786\"], [0.5555555555555556, \"#d8576b\"], [0.6666666666666666, \"#ed7953\"], [0.7777777777777778, \"#fb9f3a\"], [0.8888888888888888, \"#fdca26\"], [1.0, \"#f0f921\"]], \"type\": \"heatmapgl\"}], \"histogram\": [{\"marker\": {\"colorbar\": {\"outlinewidth\": 0, \"ticks\": \"\"}}, \"type\": \"histogram\"}], \"histogram2d\": [{\"colorbar\": {\"outlinewidth\": 0, \"ticks\": \"\"}, \"colorscale\": [[0.0, \"#0d0887\"], [0.1111111111111111, \"#46039f\"], [0.2222222222222222, \"#7201a8\"], [0.3333333333333333, \"#9c179e\"], [0.4444444444444444, \"#bd3786\"], [0.5555555555555556, \"#d8576b\"], [0.6666666666666666, \"#ed7953\"], [0.7777777777777778, \"#fb9f3a\"], [0.8888888888888888, \"#fdca26\"], [1.0, \"#f0f921\"]], \"type\": \"histogram2d\"}], \"histogram2dcontour\": [{\"colorbar\": {\"outlinewidth\": 0, \"ticks\": \"\"}, \"colorscale\": [[0.0, \"#0d0887\"], [0.1111111111111111, \"#46039f\"], [0.2222222222222222, \"#7201a8\"], [0.3333333333333333, \"#9c179e\"], [0.4444444444444444, \"#bd3786\"], [0.5555555555555556, \"#d8576b\"], [0.6666666666666666, \"#ed7953\"], [0.7777777777777778, \"#fb9f3a\"], [0.8888888888888888, \"#fdca26\"], [1.0, \"#f0f921\"]], \"type\": \"histogram2dcontour\"}], \"mesh3d\": [{\"colorbar\": {\"outlinewidth\": 0, \"ticks\": \"\"}, \"type\": \"mesh3d\"}], \"parcoords\": [{\"line\": {\"colorbar\": {\"outlinewidth\": 0, \"ticks\": \"\"}}, \"type\": \"parcoords\"}], \"pie\": [{\"automargin\": true, \"type\": \"pie\"}], \"scatter\": [{\"marker\": {\"colorbar\": {\"outlinewidth\": 0, \"ticks\": \"\"}}, \"type\": \"scatter\"}], \"scatter3d\": [{\"line\": {\"colorbar\": {\"outlinewidth\": 0, \"ticks\": \"\"}}, \"marker\": {\"colorbar\": {\"outlinewidth\": 0, \"ticks\": \"\"}}, \"type\": \"scatter3d\"}], \"scattercarpet\": [{\"marker\": {\"colorbar\": {\"outlinewidth\": 0, \"ticks\": \"\"}}, \"type\": \"scattercarpet\"}], \"scattergeo\": [{\"marker\": {\"colorbar\": {\"outlinewidth\": 0, \"ticks\": \"\"}}, \"type\": \"scattergeo\"}], \"scattergl\": [{\"marker\": {\"colorbar\": {\"outlinewidth\": 0, \"ticks\": \"\"}}, \"type\": \"scattergl\"}], \"scattermapbox\": [{\"marker\": {\"colorbar\": {\"outlinewidth\": 0, \"ticks\": \"\"}}, \"type\": \"scattermapbox\"}], \"scatterpolar\": [{\"marker\": {\"colorbar\": {\"outlinewidth\": 0, \"ticks\": \"\"}}, \"type\": \"scatterpolar\"}], \"scatterpolargl\": [{\"marker\": {\"colorbar\": {\"outlinewidth\": 0, \"ticks\": \"\"}}, \"type\": \"scatterpolargl\"}], \"scatterternary\": [{\"marker\": {\"colorbar\": {\"outlinewidth\": 0, \"ticks\": \"\"}}, \"type\": \"scatterternary\"}], \"surface\": [{\"colorbar\": {\"outlinewidth\": 0, \"ticks\": \"\"}, \"colorscale\": [[0.0, \"#0d0887\"], [0.1111111111111111, \"#46039f\"], [0.2222222222222222, \"#7201a8\"], [0.3333333333333333, \"#9c179e\"], [0.4444444444444444, \"#bd3786\"], [0.5555555555555556, \"#d8576b\"], [0.6666666666666666, \"#ed7953\"], [0.7777777777777778, \"#fb9f3a\"], [0.8888888888888888, \"#fdca26\"], [1.0, \"#f0f921\"]], \"type\": \"surface\"}], \"table\": [{\"cells\": {\"fill\": {\"color\": \"#EBF0F8\"}, \"line\": {\"color\": \"white\"}}, \"header\": {\"fill\": {\"color\": \"#C8D4E3\"}, \"line\": {\"color\": \"white\"}}, \"type\": \"table\"}]}, \"layout\": {\"annotationdefaults\": {\"arrowcolor\": \"#2a3f5f\", \"arrowhead\": 0, \"arrowwidth\": 1}, \"coloraxis\": {\"colorbar\": {\"outlinewidth\": 0, \"ticks\": \"\"}}, \"colorscale\": {\"diverging\": [[0, \"#8e0152\"], [0.1, \"#c51b7d\"], [0.2, \"#de77ae\"], [0.3, \"#f1b6da\"], [0.4, \"#fde0ef\"], [0.5, \"#f7f7f7\"], [0.6, \"#e6f5d0\"], [0.7, \"#b8e186\"], [0.8, \"#7fbc41\"], [0.9, \"#4d9221\"], [1, \"#276419\"]], \"sequential\": [[0.0, \"#0d0887\"], [0.1111111111111111, \"#46039f\"], [0.2222222222222222, \"#7201a8\"], [0.3333333333333333, \"#9c179e\"], [0.4444444444444444, \"#bd3786\"], [0.5555555555555556, \"#d8576b\"], [0.6666666666666666, \"#ed7953\"], [0.7777777777777778, \"#fb9f3a\"], [0.8888888888888888, \"#fdca26\"], [1.0, \"#f0f921\"]], \"sequentialminus\": [[0.0, \"#0d0887\"], [0.1111111111111111, \"#46039f\"], [0.2222222222222222, \"#7201a8\"], [0.3333333333333333, \"#9c179e\"], [0.4444444444444444, \"#bd3786\"], [0.5555555555555556, \"#d8576b\"], [0.6666666666666666, \"#ed7953\"], [0.7777777777777778, \"#fb9f3a\"], [0.8888888888888888, \"#fdca26\"], [1.0, \"#f0f921\"]]}, \"colorway\": [\"#636efa\", \"#EF553B\", \"#00cc96\", \"#ab63fa\", \"#FFA15A\", \"#19d3f3\", \"#FF6692\", \"#B6E880\", \"#FF97FF\", \"#FECB52\"], \"font\": {\"color\": \"#2a3f5f\"}, \"geo\": {\"bgcolor\": \"white\", \"lakecolor\": \"white\", \"landcolor\": \"#E5ECF6\", \"showlakes\": true, \"showland\": true, \"subunitcolor\": \"white\"}, \"hoverlabel\": {\"align\": \"left\"}, \"hovermode\": \"closest\", \"mapbox\": {\"style\": \"light\"}, \"paper_bgcolor\": \"white\", \"plot_bgcolor\": \"#E5ECF6\", \"polar\": {\"angularaxis\": {\"gridcolor\": \"white\", \"linecolor\": \"white\", \"ticks\": \"\"}, \"bgcolor\": \"#E5ECF6\", \"radialaxis\": {\"gridcolor\": \"white\", \"linecolor\": \"white\", \"ticks\": \"\"}}, \"scene\": {\"xaxis\": {\"backgroundcolor\": \"#E5ECF6\", \"gridcolor\": \"white\", \"gridwidth\": 2, \"linecolor\": \"white\", \"showbackground\": true, \"ticks\": \"\", \"zerolinecolor\": \"white\"}, \"yaxis\": {\"backgroundcolor\": \"#E5ECF6\", \"gridcolor\": \"white\", \"gridwidth\": 2, \"linecolor\": \"white\", \"showbackground\": true, \"ticks\": \"\", \"zerolinecolor\": \"white\"}, \"zaxis\": {\"backgroundcolor\": \"#E5ECF6\", \"gridcolor\": \"white\", \"gridwidth\": 2, \"linecolor\": \"white\", \"showbackground\": true, \"ticks\": \"\", \"zerolinecolor\": \"white\"}}, \"shapedefaults\": {\"line\": {\"color\": \"#2a3f5f\"}}, \"ternary\": {\"aaxis\": {\"gridcolor\": \"white\", \"linecolor\": \"white\", \"ticks\": \"\"}, \"baxis\": {\"gridcolor\": \"white\", \"linecolor\": \"white\", \"ticks\": \"\"}, \"bgcolor\": \"#E5ECF6\", \"caxis\": {\"gridcolor\": \"white\", \"linecolor\": \"white\", \"ticks\": \"\"}}, \"title\": {\"x\": 0.05}, \"xaxis\": {\"automargin\": true, \"gridcolor\": \"white\", \"linecolor\": \"white\", \"ticks\": \"\", \"title\": {\"standoff\": 15}, \"zerolinecolor\": \"white\", \"zerolinewidth\": 2}, \"yaxis\": {\"automargin\": true, \"gridcolor\": \"white\", \"linecolor\": \"white\", \"ticks\": \"\", \"title\": {\"standoff\": 15}, \"zerolinecolor\": \"white\", \"zerolinewidth\": 2}}}, \"title\": {\"text\": \"Income Breakdown by Block Group in Atwater Village (2019)\"}, \"xaxis\": {\"anchor\": \"y\", \"domain\": [0.0, 1.0], \"title\": {\"text\": \"neighborhood\"}}, \"yaxis\": {\"anchor\": \"x\", \"domain\": [0.0, 1.0], \"title\": {\"text\": \"Total Households in Atwater Village\"}}},                        {\"responsive\": true}                    ).then(function(){\n",
       "                            \n",
       "var gd = document.getElementById('2aa20a2b-b8db-4d57-b000-e41d79b4fe23');\n",
       "var x = new MutationObserver(function (mutations, observer) {{\n",
       "        var display = window.getComputedStyle(gd).display;\n",
       "        if (!display || display === 'none') {{\n",
       "            console.log([gd, 'removed!']);\n",
       "            Plotly.purge(gd);\n",
       "            observer.disconnect();\n",
       "        }}\n",
       "}});\n",
       "\n",
       "// Listen for the removal of the full notebook cells\n",
       "var notebookContainer = gd.closest('#notebook-container');\n",
       "if (notebookContainer) {{\n",
       "    x.observe(notebookContainer, {childList: true});\n",
       "}}\n",
       "\n",
       "// Listen for the clearing of the current output cell\n",
       "var outputEl = gd.closest('.output');\n",
       "if (outputEl) {{\n",
       "    x.observe(outputEl, {childList: true});\n",
       "}}\n",
       "\n",
       "                        })                };                });            </script>        </div>"
      ]
     },
     "metadata": {},
     "output_type": "display_data"
    }
   ],
   "source": [
    "px.bar(df, x=\"neighborhood\", y=[\"Household Income Less than $25,000\",\n",
    " \"Household Income $25,000 to $49,999\",\n",
    " \"Household Income $50,000 to $74,999\",\n",
    " \"Household Income $75,000 to $99,999\",\n",
    " \"Household Income $100,000 or More\"], title=\"Income Breakdown by Block Group in Atwater Village (2019)\", \n",
    "       labels={'Geo_NAME':'Census Tract Block Group','value':'Total Households in Atwater Village', 'variable': 'Household Income'})"
   ]
  },
  {
   "cell_type": "markdown",
   "metadata": {},
   "source": [
    "### Leimert Park Income Data"
   ]
  },
  {
   "cell_type": "code",
   "execution_count": 149,
   "metadata": {},
   "outputs": [],
   "source": [
    "df2 = pd.read_csv('data/Leimert2019_HHIncomeCategories.csv')"
   ]
  },
  {
   "cell_type": "code",
   "execution_count": 150,
   "metadata": {},
   "outputs": [],
   "source": [
    "df2 = pd.read_csv(\n",
    "    'data/Leimert2019_HHIncomeCategories.csv',\n",
    "    dtype=\n",
    "    {\n",
    "        'Geo_FIPS':str,\n",
    "        'Geo_STATE':str,\n",
    "        'Geo_COUNTY': str\n",
    "    }\n",
    ")"
   ]
  },
  {
   "cell_type": "code",
   "execution_count": 151,
   "metadata": {},
   "outputs": [
    {
     "data": {
      "text/plain": [
       "['Geo_US',\n",
       " 'Geo_REGION',\n",
       " 'Geo_DIVISION',\n",
       " 'Geo_STATECE',\n",
       " 'Geo_COUSUB',\n",
       " 'Geo_PLACE',\n",
       " 'Geo_CONCIT',\n",
       " 'Geo_AIANHH',\n",
       " 'Geo_AIANHHFP',\n",
       " 'Geo_AIHHTLI',\n",
       " 'Geo_AITSCE',\n",
       " 'Geo_AITS',\n",
       " 'Geo_ANRC',\n",
       " 'Geo_CBSA',\n",
       " 'Geo_CSA',\n",
       " 'Geo_METDIV',\n",
       " 'Geo_MACC',\n",
       " 'Geo_MEMI',\n",
       " 'Geo_NECTA',\n",
       " 'Geo_CNECTA',\n",
       " 'Geo_NECTADIV',\n",
       " 'Geo_UA',\n",
       " 'Geo_UACP',\n",
       " 'Geo_CDCURR',\n",
       " 'Geo_SLDU',\n",
       " 'Geo_SLDL',\n",
       " 'Geo_VTD',\n",
       " 'Geo_ZCTA3',\n",
       " 'Geo_ZCTA5',\n",
       " 'Geo_SUBMCD',\n",
       " 'Geo_SDELM',\n",
       " 'Geo_SDSEC',\n",
       " 'Geo_SDUNI',\n",
       " 'Geo_UR',\n",
       " 'Geo_PCI',\n",
       " 'Geo_TAZ',\n",
       " 'Geo_UGA',\n",
       " 'Geo_PUMA5',\n",
       " 'Geo_PUMA1',\n",
       " 'Geo_BTTR',\n",
       " 'Geo_BTBG',\n",
       " 'Geo_PLACESE']"
      ]
     },
     "execution_count": 151,
     "metadata": {},
     "output_type": "execute_result"
    }
   ],
   "source": [
    "df2.columns[df2.isna().all()].tolist()"
   ]
  },
  {
   "cell_type": "code",
   "execution_count": 152,
   "metadata": {},
   "outputs": [],
   "source": [
    "df2 = df2.dropna(axis=1,how=\"all\")"
   ]
  },
  {
   "cell_type": "code",
   "execution_count": 153,
   "metadata": {},
   "outputs": [
    {
     "data": {
      "text/html": [
       "<div>\n",
       "<style scoped>\n",
       "    .dataframe tbody tr th:only-of-type {\n",
       "        vertical-align: middle;\n",
       "    }\n",
       "\n",
       "    .dataframe tbody tr th {\n",
       "        vertical-align: top;\n",
       "    }\n",
       "\n",
       "    .dataframe thead th {\n",
       "        text-align: right;\n",
       "    }\n",
       "</style>\n",
       "<table border=\"1\" class=\"dataframe\">\n",
       "  <thead>\n",
       "    <tr style=\"text-align: right;\">\n",
       "      <th></th>\n",
       "      <th>Geo_FIPS</th>\n",
       "      <th>Geo_QName</th>\n",
       "      <th>Geo_FILEID</th>\n",
       "      <th>Geo_STUSAB</th>\n",
       "      <th>Geo_GEOCOMP</th>\n",
       "      <th>Geo_LOGRECNO</th>\n",
       "      <th>Geo_STATE</th>\n",
       "      <th>Geo_COUNTY</th>\n",
       "      <th>Geo_TRACT</th>\n",
       "      <th>Geo_BLKGRP</th>\n",
       "      <th>Geo_GEOID</th>\n",
       "      <th>Geo_NAME</th>\n",
       "      <th>SE_B14001_001</th>\n",
       "      <th>SE_B14001_002</th>\n",
       "      <th>SE_B14001_003</th>\n",
       "      <th>SE_B14001_004</th>\n",
       "      <th>SE_B14001_005</th>\n",
       "      <th>SE_B14001_006</th>\n",
       "    </tr>\n",
       "  </thead>\n",
       "  <tbody>\n",
       "    <tr>\n",
       "      <th>0</th>\n",
       "      <td>060372190203</td>\n",
       "      <td>Block Group 3, Census Tract 2190.20, Los Angel...</td>\n",
       "      <td>ACSSF</td>\n",
       "      <td>ca</td>\n",
       "      <td>0</td>\n",
       "      <td>15885</td>\n",
       "      <td>06</td>\n",
       "      <td>037</td>\n",
       "      <td>219020</td>\n",
       "      <td>3</td>\n",
       "      <td>15000US060372190203</td>\n",
       "      <td>Block Group 3</td>\n",
       "      <td>337</td>\n",
       "      <td>91</td>\n",
       "      <td>25</td>\n",
       "      <td>86</td>\n",
       "      <td>51</td>\n",
       "      <td>84</td>\n",
       "    </tr>\n",
       "    <tr>\n",
       "      <th>1</th>\n",
       "      <td>060372340001</td>\n",
       "      <td>Block Group 1, Census Tract 2340, Los Angeles ...</td>\n",
       "      <td>ACSSF</td>\n",
       "      <td>ca</td>\n",
       "      <td>0</td>\n",
       "      <td>16106</td>\n",
       "      <td>06</td>\n",
       "      <td>037</td>\n",
       "      <td>234000</td>\n",
       "      <td>1</td>\n",
       "      <td>15000US060372340001</td>\n",
       "      <td>Block Group 1</td>\n",
       "      <td>681</td>\n",
       "      <td>150</td>\n",
       "      <td>218</td>\n",
       "      <td>139</td>\n",
       "      <td>20</td>\n",
       "      <td>154</td>\n",
       "    </tr>\n",
       "    <tr>\n",
       "      <th>2</th>\n",
       "      <td>060372340002</td>\n",
       "      <td>Block Group 2, Census Tract 2340, Los Angeles ...</td>\n",
       "      <td>ACSSF</td>\n",
       "      <td>ca</td>\n",
       "      <td>0</td>\n",
       "      <td>16107</td>\n",
       "      <td>06</td>\n",
       "      <td>037</td>\n",
       "      <td>234000</td>\n",
       "      <td>2</td>\n",
       "      <td>15000US060372340002</td>\n",
       "      <td>Block Group 2</td>\n",
       "      <td>316</td>\n",
       "      <td>12</td>\n",
       "      <td>53</td>\n",
       "      <td>9</td>\n",
       "      <td>70</td>\n",
       "      <td>172</td>\n",
       "    </tr>\n",
       "    <tr>\n",
       "      <th>3</th>\n",
       "      <td>060372340003</td>\n",
       "      <td>Block Group 3, Census Tract 2340, Los Angeles ...</td>\n",
       "      <td>ACSSF</td>\n",
       "      <td>ca</td>\n",
       "      <td>0</td>\n",
       "      <td>16108</td>\n",
       "      <td>06</td>\n",
       "      <td>037</td>\n",
       "      <td>234000</td>\n",
       "      <td>3</td>\n",
       "      <td>15000US060372340003</td>\n",
       "      <td>Block Group 3</td>\n",
       "      <td>289</td>\n",
       "      <td>11</td>\n",
       "      <td>82</td>\n",
       "      <td>44</td>\n",
       "      <td>40</td>\n",
       "      <td>112</td>\n",
       "    </tr>\n",
       "    <tr>\n",
       "      <th>4</th>\n",
       "      <td>060372340004</td>\n",
       "      <td>Block Group 4, Census Tract 2340, Los Angeles ...</td>\n",
       "      <td>ACSSF</td>\n",
       "      <td>ca</td>\n",
       "      <td>0</td>\n",
       "      <td>16109</td>\n",
       "      <td>06</td>\n",
       "      <td>037</td>\n",
       "      <td>234000</td>\n",
       "      <td>4</td>\n",
       "      <td>15000US060372340004</td>\n",
       "      <td>Block Group 4</td>\n",
       "      <td>502</td>\n",
       "      <td>169</td>\n",
       "      <td>60</td>\n",
       "      <td>59</td>\n",
       "      <td>50</td>\n",
       "      <td>164</td>\n",
       "    </tr>\n",
       "  </tbody>\n",
       "</table>\n",
       "</div>"
      ],
      "text/plain": [
       "       Geo_FIPS                                          Geo_QName Geo_FILEID  \\\n",
       "0  060372190203  Block Group 3, Census Tract 2190.20, Los Angel...      ACSSF   \n",
       "1  060372340001  Block Group 1, Census Tract 2340, Los Angeles ...      ACSSF   \n",
       "2  060372340002  Block Group 2, Census Tract 2340, Los Angeles ...      ACSSF   \n",
       "3  060372340003  Block Group 3, Census Tract 2340, Los Angeles ...      ACSSF   \n",
       "4  060372340004  Block Group 4, Census Tract 2340, Los Angeles ...      ACSSF   \n",
       "\n",
       "  Geo_STUSAB  Geo_GEOCOMP  Geo_LOGRECNO Geo_STATE Geo_COUNTY  Geo_TRACT  \\\n",
       "0         ca            0         15885        06        037     219020   \n",
       "1         ca            0         16106        06        037     234000   \n",
       "2         ca            0         16107        06        037     234000   \n",
       "3         ca            0         16108        06        037     234000   \n",
       "4         ca            0         16109        06        037     234000   \n",
       "\n",
       "   Geo_BLKGRP            Geo_GEOID       Geo_NAME  SE_B14001_001  \\\n",
       "0           3  15000US060372190203  Block Group 3            337   \n",
       "1           1  15000US060372340001  Block Group 1            681   \n",
       "2           2  15000US060372340002  Block Group 2            316   \n",
       "3           3  15000US060372340003  Block Group 3            289   \n",
       "4           4  15000US060372340004  Block Group 4            502   \n",
       "\n",
       "   SE_B14001_002  SE_B14001_003  SE_B14001_004  SE_B14001_005  SE_B14001_006  \n",
       "0             91             25             86             51             84  \n",
       "1            150            218            139             20            154  \n",
       "2             12             53              9             70            172  \n",
       "3             11             82             44             40            112  \n",
       "4            169             60             59             50            164  "
      ]
     },
     "execution_count": 153,
     "metadata": {},
     "output_type": "execute_result"
    }
   ],
   "source": [
    "df2.head()"
   ]
  },
  {
   "cell_type": "code",
   "execution_count": 154,
   "metadata": {},
   "outputs": [],
   "source": [
    "columns_to_drop = ['Geo_FILEID','Geo_STUSAB','Geo_GEOCOMP','Geo_LOGRECNO','Geo_STATE','Geo_COUNTY','Geo_TRACT','Geo_GEOID']"
   ]
  },
  {
   "cell_type": "code",
   "execution_count": 155,
   "metadata": {},
   "outputs": [
    {
     "data": {
      "text/html": [
       "<div>\n",
       "<style scoped>\n",
       "    .dataframe tbody tr th:only-of-type {\n",
       "        vertical-align: middle;\n",
       "    }\n",
       "\n",
       "    .dataframe tbody tr th {\n",
       "        vertical-align: top;\n",
       "    }\n",
       "\n",
       "    .dataframe thead th {\n",
       "        text-align: right;\n",
       "    }\n",
       "</style>\n",
       "<table border=\"1\" class=\"dataframe\">\n",
       "  <thead>\n",
       "    <tr style=\"text-align: right;\">\n",
       "      <th></th>\n",
       "      <th>Geo_FIPS</th>\n",
       "      <th>Geo_QName</th>\n",
       "      <th>Geo_BLKGRP</th>\n",
       "      <th>Geo_NAME</th>\n",
       "      <th>SE_B14001_001</th>\n",
       "      <th>SE_B14001_002</th>\n",
       "      <th>SE_B14001_003</th>\n",
       "      <th>SE_B14001_004</th>\n",
       "      <th>SE_B14001_005</th>\n",
       "      <th>SE_B14001_006</th>\n",
       "    </tr>\n",
       "  </thead>\n",
       "  <tbody>\n",
       "    <tr>\n",
       "      <th>0</th>\n",
       "      <td>060372190203</td>\n",
       "      <td>Block Group 3, Census Tract 2190.20, Los Angel...</td>\n",
       "      <td>3</td>\n",
       "      <td>Block Group 3</td>\n",
       "      <td>337</td>\n",
       "      <td>91</td>\n",
       "      <td>25</td>\n",
       "      <td>86</td>\n",
       "      <td>51</td>\n",
       "      <td>84</td>\n",
       "    </tr>\n",
       "    <tr>\n",
       "      <th>1</th>\n",
       "      <td>060372340001</td>\n",
       "      <td>Block Group 1, Census Tract 2340, Los Angeles ...</td>\n",
       "      <td>1</td>\n",
       "      <td>Block Group 1</td>\n",
       "      <td>681</td>\n",
       "      <td>150</td>\n",
       "      <td>218</td>\n",
       "      <td>139</td>\n",
       "      <td>20</td>\n",
       "      <td>154</td>\n",
       "    </tr>\n",
       "    <tr>\n",
       "      <th>2</th>\n",
       "      <td>060372340002</td>\n",
       "      <td>Block Group 2, Census Tract 2340, Los Angeles ...</td>\n",
       "      <td>2</td>\n",
       "      <td>Block Group 2</td>\n",
       "      <td>316</td>\n",
       "      <td>12</td>\n",
       "      <td>53</td>\n",
       "      <td>9</td>\n",
       "      <td>70</td>\n",
       "      <td>172</td>\n",
       "    </tr>\n",
       "    <tr>\n",
       "      <th>3</th>\n",
       "      <td>060372340003</td>\n",
       "      <td>Block Group 3, Census Tract 2340, Los Angeles ...</td>\n",
       "      <td>3</td>\n",
       "      <td>Block Group 3</td>\n",
       "      <td>289</td>\n",
       "      <td>11</td>\n",
       "      <td>82</td>\n",
       "      <td>44</td>\n",
       "      <td>40</td>\n",
       "      <td>112</td>\n",
       "    </tr>\n",
       "    <tr>\n",
       "      <th>4</th>\n",
       "      <td>060372340004</td>\n",
       "      <td>Block Group 4, Census Tract 2340, Los Angeles ...</td>\n",
       "      <td>4</td>\n",
       "      <td>Block Group 4</td>\n",
       "      <td>502</td>\n",
       "      <td>169</td>\n",
       "      <td>60</td>\n",
       "      <td>59</td>\n",
       "      <td>50</td>\n",
       "      <td>164</td>\n",
       "    </tr>\n",
       "  </tbody>\n",
       "</table>\n",
       "</div>"
      ],
      "text/plain": [
       "       Geo_FIPS                                          Geo_QName  \\\n",
       "0  060372190203  Block Group 3, Census Tract 2190.20, Los Angel...   \n",
       "1  060372340001  Block Group 1, Census Tract 2340, Los Angeles ...   \n",
       "2  060372340002  Block Group 2, Census Tract 2340, Los Angeles ...   \n",
       "3  060372340003  Block Group 3, Census Tract 2340, Los Angeles ...   \n",
       "4  060372340004  Block Group 4, Census Tract 2340, Los Angeles ...   \n",
       "\n",
       "   Geo_BLKGRP       Geo_NAME  SE_B14001_001  SE_B14001_002  SE_B14001_003  \\\n",
       "0           3  Block Group 3            337             91             25   \n",
       "1           1  Block Group 1            681            150            218   \n",
       "2           2  Block Group 2            316             12             53   \n",
       "3           3  Block Group 3            289             11             82   \n",
       "4           4  Block Group 4            502            169             60   \n",
       "\n",
       "   SE_B14001_004  SE_B14001_005  SE_B14001_006  \n",
       "0             86             51             84  \n",
       "1            139             20            154  \n",
       "2              9             70            172  \n",
       "3             44             40            112  \n",
       "4             59             50            164  "
      ]
     },
     "execution_count": 155,
     "metadata": {},
     "output_type": "execute_result"
    }
   ],
   "source": [
    "df2 = df2.drop(columns_to_drop,axis=1)\n",
    "df2.head()"
   ]
  },
  {
   "cell_type": "code",
   "execution_count": 156,
   "metadata": {},
   "outputs": [],
   "source": [
    "df2.columns = ['FIPS',\n",
    " 'Geo_QName',\n",
    " 'Geo_BLKGRP',\n",
    " 'Geo_NAME',\n",
    " 'Total Households in Leimert Park',\n",
    " 'Household Income Less than $25,000',\n",
    " 'Household Income $25,000 to $49,999',\n",
    " 'Household Income $50,000 to $74,999',\n",
    " 'Household Income $75,000 to $99,999',\n",
    " 'Household Income $100,000 or More']"
   ]
  },
  {
   "cell_type": "code",
   "execution_count": 157,
   "metadata": {},
   "outputs": [
    {
     "data": {
      "text/html": [
       "<div>\n",
       "<style scoped>\n",
       "    .dataframe tbody tr th:only-of-type {\n",
       "        vertical-align: middle;\n",
       "    }\n",
       "\n",
       "    .dataframe tbody tr th {\n",
       "        vertical-align: top;\n",
       "    }\n",
       "\n",
       "    .dataframe thead th {\n",
       "        text-align: right;\n",
       "    }\n",
       "</style>\n",
       "<table border=\"1\" class=\"dataframe\">\n",
       "  <thead>\n",
       "    <tr style=\"text-align: right;\">\n",
       "      <th></th>\n",
       "      <th>FIPS</th>\n",
       "      <th>Geo_QName</th>\n",
       "      <th>Geo_BLKGRP</th>\n",
       "      <th>Geo_NAME</th>\n",
       "      <th>Total Households in Leimert Park</th>\n",
       "      <th>Household Income Less than $25,000</th>\n",
       "      <th>Household Income $25,000 to $49,999</th>\n",
       "      <th>Household Income $50,000 to $74,999</th>\n",
       "      <th>Household Income $75,000 to $99,999</th>\n",
       "      <th>Household Income $100,000 or More</th>\n",
       "    </tr>\n",
       "  </thead>\n",
       "  <tbody>\n",
       "    <tr>\n",
       "      <th>0</th>\n",
       "      <td>060372190203</td>\n",
       "      <td>Block Group 3, Census Tract 2190.20, Los Angel...</td>\n",
       "      <td>3</td>\n",
       "      <td>Block Group 3</td>\n",
       "      <td>337</td>\n",
       "      <td>91</td>\n",
       "      <td>25</td>\n",
       "      <td>86</td>\n",
       "      <td>51</td>\n",
       "      <td>84</td>\n",
       "    </tr>\n",
       "    <tr>\n",
       "      <th>1</th>\n",
       "      <td>060372340001</td>\n",
       "      <td>Block Group 1, Census Tract 2340, Los Angeles ...</td>\n",
       "      <td>1</td>\n",
       "      <td>Block Group 1</td>\n",
       "      <td>681</td>\n",
       "      <td>150</td>\n",
       "      <td>218</td>\n",
       "      <td>139</td>\n",
       "      <td>20</td>\n",
       "      <td>154</td>\n",
       "    </tr>\n",
       "    <tr>\n",
       "      <th>2</th>\n",
       "      <td>060372340002</td>\n",
       "      <td>Block Group 2, Census Tract 2340, Los Angeles ...</td>\n",
       "      <td>2</td>\n",
       "      <td>Block Group 2</td>\n",
       "      <td>316</td>\n",
       "      <td>12</td>\n",
       "      <td>53</td>\n",
       "      <td>9</td>\n",
       "      <td>70</td>\n",
       "      <td>172</td>\n",
       "    </tr>\n",
       "    <tr>\n",
       "      <th>3</th>\n",
       "      <td>060372340003</td>\n",
       "      <td>Block Group 3, Census Tract 2340, Los Angeles ...</td>\n",
       "      <td>3</td>\n",
       "      <td>Block Group 3</td>\n",
       "      <td>289</td>\n",
       "      <td>11</td>\n",
       "      <td>82</td>\n",
       "      <td>44</td>\n",
       "      <td>40</td>\n",
       "      <td>112</td>\n",
       "    </tr>\n",
       "    <tr>\n",
       "      <th>4</th>\n",
       "      <td>060372340004</td>\n",
       "      <td>Block Group 4, Census Tract 2340, Los Angeles ...</td>\n",
       "      <td>4</td>\n",
       "      <td>Block Group 4</td>\n",
       "      <td>502</td>\n",
       "      <td>169</td>\n",
       "      <td>60</td>\n",
       "      <td>59</td>\n",
       "      <td>50</td>\n",
       "      <td>164</td>\n",
       "    </tr>\n",
       "  </tbody>\n",
       "</table>\n",
       "</div>"
      ],
      "text/plain": [
       "           FIPS                                          Geo_QName  \\\n",
       "0  060372190203  Block Group 3, Census Tract 2190.20, Los Angel...   \n",
       "1  060372340001  Block Group 1, Census Tract 2340, Los Angeles ...   \n",
       "2  060372340002  Block Group 2, Census Tract 2340, Los Angeles ...   \n",
       "3  060372340003  Block Group 3, Census Tract 2340, Los Angeles ...   \n",
       "4  060372340004  Block Group 4, Census Tract 2340, Los Angeles ...   \n",
       "\n",
       "   Geo_BLKGRP       Geo_NAME  Total Households in Leimert Park  \\\n",
       "0           3  Block Group 3                               337   \n",
       "1           1  Block Group 1                               681   \n",
       "2           2  Block Group 2                               316   \n",
       "3           3  Block Group 3                               289   \n",
       "4           4  Block Group 4                               502   \n",
       "\n",
       "   Household Income Less than $25,000  Household Income $25,000 to $49,999  \\\n",
       "0                                  91                                   25   \n",
       "1                                 150                                  218   \n",
       "2                                  12                                   53   \n",
       "3                                  11                                   82   \n",
       "4                                 169                                   60   \n",
       "\n",
       "   Household Income $50,000 to $74,999  Household Income $75,000 to $99,999  \\\n",
       "0                                   86                                   51   \n",
       "1                                  139                                   20   \n",
       "2                                    9                                   70   \n",
       "3                                   44                                   40   \n",
       "4                                   59                                   50   \n",
       "\n",
       "   Household Income $100,000 or More  \n",
       "0                                 84  \n",
       "1                                154  \n",
       "2                                172  \n",
       "3                                112  \n",
       "4                                164  "
      ]
     },
     "execution_count": 157,
     "metadata": {},
     "output_type": "execute_result"
    }
   ],
   "source": [
    "df2.head()"
   ]
  },
  {
   "cell_type": "markdown",
   "metadata": {},
   "source": [
    "### Normalize Atwater Data For Bar Graphs"
   ]
  },
  {
   "cell_type": "code",
   "execution_count": 158,
   "metadata": {},
   "outputs": [],
   "source": [
    "df2_sum= df2.sum().reset_index()"
   ]
  },
  {
   "cell_type": "code",
   "execution_count": 159,
   "metadata": {},
   "outputs": [],
   "source": [
    "df2_sum=df2_sum.set_index('index').T"
   ]
  },
  {
   "cell_type": "code",
   "execution_count": 160,
   "metadata": {},
   "outputs": [
    {
     "data": {
      "text/html": [
       "<div>\n",
       "<style scoped>\n",
       "    .dataframe tbody tr th:only-of-type {\n",
       "        vertical-align: middle;\n",
       "    }\n",
       "\n",
       "    .dataframe tbody tr th {\n",
       "        vertical-align: top;\n",
       "    }\n",
       "\n",
       "    .dataframe thead th {\n",
       "        text-align: right;\n",
       "    }\n",
       "</style>\n",
       "<table border=\"1\" class=\"dataframe\">\n",
       "  <thead>\n",
       "    <tr style=\"text-align: right;\">\n",
       "      <th>index</th>\n",
       "      <th>FIPS</th>\n",
       "      <th>Geo_QName</th>\n",
       "      <th>Geo_BLKGRP</th>\n",
       "      <th>Geo_NAME</th>\n",
       "      <th>Total Households in Leimert Park</th>\n",
       "      <th>Household Income Less than $25,000</th>\n",
       "      <th>Household Income $25,000 to $49,999</th>\n",
       "      <th>Household Income $50,000 to $74,999</th>\n",
       "      <th>Household Income $75,000 to $99,999</th>\n",
       "      <th>Household Income $100,000 or More</th>\n",
       "    </tr>\n",
       "  </thead>\n",
       "  <tbody>\n",
       "    <tr>\n",
       "      <th>0</th>\n",
       "      <td>0603721902030603723400010603723400020603723400...</td>\n",
       "      <td>Block Group 3, Census Tract 2190.20, Los Angel...</td>\n",
       "      <td>34</td>\n",
       "      <td>Block Group 3Block Group 1Block Group 2Block G...</td>\n",
       "      <td>5812</td>\n",
       "      <td>1407</td>\n",
       "      <td>1321</td>\n",
       "      <td>1039</td>\n",
       "      <td>614</td>\n",
       "      <td>1431</td>\n",
       "    </tr>\n",
       "  </tbody>\n",
       "</table>\n",
       "</div>"
      ],
      "text/plain": [
       "index                                               FIPS  \\\n",
       "0      0603721902030603723400010603723400020603723400...   \n",
       "\n",
       "index                                          Geo_QName Geo_BLKGRP  \\\n",
       "0      Block Group 3, Census Tract 2190.20, Los Angel...         34   \n",
       "\n",
       "index                                           Geo_NAME  \\\n",
       "0      Block Group 3Block Group 1Block Group 2Block G...   \n",
       "\n",
       "index Total Households in Leimert Park Household Income Less than $25,000  \\\n",
       "0                                 5812                               1407   \n",
       "\n",
       "index Household Income $25,000 to $49,999 Household Income $50,000 to $74,999  \\\n",
       "0                                    1321                                1039   \n",
       "\n",
       "index Household Income $75,000 to $99,999 Household Income $100,000 or More  \n",
       "0                                     614                              1431  "
      ]
     },
     "execution_count": 160,
     "metadata": {},
     "output_type": "execute_result"
    }
   ],
   "source": [
    "df2_sum.head()"
   ]
  },
  {
   "cell_type": "code",
   "execution_count": 161,
   "metadata": {},
   "outputs": [],
   "source": [
    "df2_sum['% Less than $25K'] = df2_sum['Household Income Less than $25,000']/df2_sum['Total Households in Leimert Park']*100"
   ]
  },
  {
   "cell_type": "code",
   "execution_count": 162,
   "metadata": {},
   "outputs": [],
   "source": [
    "df2_sum['% More than $100K'] = df2_sum['Household Income $100,000 or More']/df2_sum['Total Households in Leimert Park']*100"
   ]
  },
  {
   "cell_type": "code",
   "execution_count": 163,
   "metadata": {},
   "outputs": [],
   "source": [
    "df2_sum['neighborhood'] = 'Leimert'"
   ]
  },
  {
   "cell_type": "code",
   "execution_count": 164,
   "metadata": {},
   "outputs": [
    {
     "data": {
      "text/plain": [
       "<matplotlib.axes._subplots.AxesSubplot at 0x7fa89d482e80>"
      ]
     },
     "execution_count": 164,
     "metadata": {},
     "output_type": "execute_result"
    },
    {
     "data": {
      "image/png": "[encoded data removed]",
      "text/plain": [
       "<Figure size 432x288 with 1 Axes>"
      ]
     },
     "metadata": {
      "needs_background": "light"
     },
     "output_type": "display_data"
    }
   ],
   "source": [
    "df2_sum.plot.bar(x = 'neighborhood', y='% Less than $25K', title=\"Percentage of Households with Income Less than $25K (2019)\")"
   ]
  },
  {
   "cell_type": "code",
   "execution_count": 165,
   "metadata": {},
   "outputs": [
    {
     "data": {
      "text/plain": [
       "<matplotlib.axes._subplots.AxesSubplot at 0x7fa89d406b20>"
      ]
     },
     "execution_count": 165,
     "metadata": {},
     "output_type": "execute_result"
    },
    {
     "data": {
      "image/png": "[encoded data removed]",
      "text/plain": [
       "<Figure size 432x288 with 1 Axes>"
      ]
     },
     "metadata": {
      "needs_background": "light"
     },
     "output_type": "display_data"
    }
   ],
   "source": [
    "df2_sum.plot.bar(x = 'neighborhood', y='% More than $100K', title=\"Percentage of Households with Income More than $100K (2019)\")"
   ]
  },
  {
   "cell_type": "markdown",
   "metadata": {},
   "source": [
    "### Normalize Leimert Data for Mapping"
   ]
  },
  {
   "cell_type": "code",
   "execution_count": 166,
   "metadata": {},
   "outputs": [],
   "source": [
    "df2['neighborhood'] = 'Leimert'"
   ]
  },
  {
   "cell_type": "code",
   "execution_count": 167,
   "metadata": {},
   "outputs": [],
   "source": [
    "df2['p_less_25k'] = df2['Household Income Less than $25,000']/df2['Total Households in Leimert Park']*100"
   ]
  },
  {
   "cell_type": "code",
   "execution_count": 168,
   "metadata": {},
   "outputs": [],
   "source": [
    "df2['p_more_100k'] = df2['Household Income $100,000 or More']/df2['Total Households in Leimert Park']*100"
   ]
  },
  {
   "cell_type": "code",
   "execution_count": 169,
   "metadata": {},
   "outputs": [],
   "source": [
    "df2['Total Households'] = df2['Total Households in Leimert Park']"
   ]
  },
  {
   "cell_type": "code",
   "execution_count": 170,
   "metadata": {},
   "outputs": [
    {
     "data": {
      "text/html": [
       "<div>\n",
       "<style scoped>\n",
       "    .dataframe tbody tr th:only-of-type {\n",
       "        vertical-align: middle;\n",
       "    }\n",
       "\n",
       "    .dataframe tbody tr th {\n",
       "        vertical-align: top;\n",
       "    }\n",
       "\n",
       "    .dataframe thead th {\n",
       "        text-align: right;\n",
       "    }\n",
       "</style>\n",
       "<table border=\"1\" class=\"dataframe\">\n",
       "  <thead>\n",
       "    <tr style=\"text-align: right;\">\n",
       "      <th></th>\n",
       "      <th>FIPS</th>\n",
       "      <th>Geo_QName</th>\n",
       "      <th>Geo_BLKGRP</th>\n",
       "      <th>Geo_NAME</th>\n",
       "      <th>Total Households in Leimert Park</th>\n",
       "      <th>Household Income Less than $25,000</th>\n",
       "      <th>Household Income $25,000 to $49,999</th>\n",
       "      <th>Household Income $50,000 to $74,999</th>\n",
       "      <th>Household Income $75,000 to $99,999</th>\n",
       "      <th>Household Income $100,000 or More</th>\n",
       "      <th>neighborhood</th>\n",
       "      <th>p_less_25k</th>\n",
       "      <th>p_more_100k</th>\n",
       "      <th>Total Households</th>\n",
       "    </tr>\n",
       "  </thead>\n",
       "  <tbody>\n",
       "    <tr>\n",
       "      <th>0</th>\n",
       "      <td>060372190203</td>\n",
       "      <td>Block Group 3, Census Tract 2190.20, Los Angel...</td>\n",
       "      <td>3</td>\n",
       "      <td>Block Group 3</td>\n",
       "      <td>337</td>\n",
       "      <td>91</td>\n",
       "      <td>25</td>\n",
       "      <td>86</td>\n",
       "      <td>51</td>\n",
       "      <td>84</td>\n",
       "      <td>Leimert</td>\n",
       "      <td>27.002967</td>\n",
       "      <td>24.925816</td>\n",
       "      <td>337</td>\n",
       "    </tr>\n",
       "    <tr>\n",
       "      <th>1</th>\n",
       "      <td>060372340001</td>\n",
       "      <td>Block Group 1, Census Tract 2340, Los Angeles ...</td>\n",
       "      <td>1</td>\n",
       "      <td>Block Group 1</td>\n",
       "      <td>681</td>\n",
       "      <td>150</td>\n",
       "      <td>218</td>\n",
       "      <td>139</td>\n",
       "      <td>20</td>\n",
       "      <td>154</td>\n",
       "      <td>Leimert</td>\n",
       "      <td>22.026432</td>\n",
       "      <td>22.613803</td>\n",
       "      <td>681</td>\n",
       "    </tr>\n",
       "    <tr>\n",
       "      <th>2</th>\n",
       "      <td>060372340002</td>\n",
       "      <td>Block Group 2, Census Tract 2340, Los Angeles ...</td>\n",
       "      <td>2</td>\n",
       "      <td>Block Group 2</td>\n",
       "      <td>316</td>\n",
       "      <td>12</td>\n",
       "      <td>53</td>\n",
       "      <td>9</td>\n",
       "      <td>70</td>\n",
       "      <td>172</td>\n",
       "      <td>Leimert</td>\n",
       "      <td>3.797468</td>\n",
       "      <td>54.430380</td>\n",
       "      <td>316</td>\n",
       "    </tr>\n",
       "    <tr>\n",
       "      <th>3</th>\n",
       "      <td>060372340003</td>\n",
       "      <td>Block Group 3, Census Tract 2340, Los Angeles ...</td>\n",
       "      <td>3</td>\n",
       "      <td>Block Group 3</td>\n",
       "      <td>289</td>\n",
       "      <td>11</td>\n",
       "      <td>82</td>\n",
       "      <td>44</td>\n",
       "      <td>40</td>\n",
       "      <td>112</td>\n",
       "      <td>Leimert</td>\n",
       "      <td>3.806228</td>\n",
       "      <td>38.754325</td>\n",
       "      <td>289</td>\n",
       "    </tr>\n",
       "    <tr>\n",
       "      <th>4</th>\n",
       "      <td>060372340004</td>\n",
       "      <td>Block Group 4, Census Tract 2340, Los Angeles ...</td>\n",
       "      <td>4</td>\n",
       "      <td>Block Group 4</td>\n",
       "      <td>502</td>\n",
       "      <td>169</td>\n",
       "      <td>60</td>\n",
       "      <td>59</td>\n",
       "      <td>50</td>\n",
       "      <td>164</td>\n",
       "      <td>Leimert</td>\n",
       "      <td>33.665339</td>\n",
       "      <td>32.669323</td>\n",
       "      <td>502</td>\n",
       "    </tr>\n",
       "  </tbody>\n",
       "</table>\n",
       "</div>"
      ],
      "text/plain": [
       "           FIPS                                          Geo_QName  \\\n",
       "0  060372190203  Block Group 3, Census Tract 2190.20, Los Angel...   \n",
       "1  060372340001  Block Group 1, Census Tract 2340, Los Angeles ...   \n",
       "2  060372340002  Block Group 2, Census Tract 2340, Los Angeles ...   \n",
       "3  060372340003  Block Group 3, Census Tract 2340, Los Angeles ...   \n",
       "4  060372340004  Block Group 4, Census Tract 2340, Los Angeles ...   \n",
       "\n",
       "   Geo_BLKGRP       Geo_NAME  Total Households in Leimert Park  \\\n",
       "0           3  Block Group 3                               337   \n",
       "1           1  Block Group 1                               681   \n",
       "2           2  Block Group 2                               316   \n",
       "3           3  Block Group 3                               289   \n",
       "4           4  Block Group 4                               502   \n",
       "\n",
       "   Household Income Less than $25,000  Household Income $25,000 to $49,999  \\\n",
       "0                                  91                                   25   \n",
       "1                                 150                                  218   \n",
       "2                                  12                                   53   \n",
       "3                                  11                                   82   \n",
       "4                                 169                                   60   \n",
       "\n",
       "   Household Income $50,000 to $74,999  Household Income $75,000 to $99,999  \\\n",
       "0                                   86                                   51   \n",
       "1                                  139                                   20   \n",
       "2                                    9                                   70   \n",
       "3                                   44                                   40   \n",
       "4                                   59                                   50   \n",
       "\n",
       "   Household Income $100,000 or More neighborhood  p_less_25k  p_more_100k  \\\n",
       "0                                 84      Leimert   27.002967    24.925816   \n",
       "1                                154      Leimert   22.026432    22.613803   \n",
       "2                                172      Leimert    3.797468    54.430380   \n",
       "3                                112      Leimert    3.806228    38.754325   \n",
       "4                                164      Leimert   33.665339    32.669323   \n",
       "\n",
       "   Total Households  \n",
       "0               337  \n",
       "1               681  \n",
       "2               316  \n",
       "3               289  \n",
       "4               502  "
      ]
     },
     "execution_count": 170,
     "metadata": {},
     "output_type": "execute_result"
    }
   ],
   "source": [
    "df2.head()"
   ]
  },
  {
   "cell_type": "code",
   "execution_count": 171,
   "metadata": {},
   "outputs": [
    {
     "data": {
      "application/vnd.plotly.v1+json": {
       "config": {
        "plotlyServerURL": "https://plot.ly"
       },
       "data": [
        {
         "alignmentgroup": "True",
         "hovertemplate": "Household Income=Household Income Less than $25,000<br>neighborhood=%{x}<br>Total Households in Leimert Park=%{y}<extra></extra>",
         "legendgroup": "Household Income Less than $25,000",
         "marker": {
          "color": "#636efa"
         },
         "name": "Household Income Less than $25,000",
         "offsetgroup": "Household Income Less than $25,000",
         "orientation": "v",
         "showlegend": true,
         "textposition": "auto",
         "type": "bar",
         "x": [
          "Leimert",
          "Leimert",
          "Leimert",
          "Leimert",
          "Leimert",
          "Leimert",
          "Leimert",
          "Leimert",
          "Leimert",
          "Leimert",
          "Leimert",
          "Leimert",
          "Leimert"
         ],
         "xaxis": "x",
         "y": [
          91,
          150,
          12,
          11,
          169,
          121,
          110,
          43,
          105,
          169,
          163,
          114,
          149
         ],
         "yaxis": "y"
        },
        {
         "alignmentgroup": "True",
         "hovertemplate": "Household Income=Household Income $25,000 to $49,999<br>neighborhood=%{x}<br>Total Households in Leimert Park=%{y}<extra></extra>",
         "legendgroup": "Household Income $25,000 to $49,999",
         "marker": {
          "color": "#EF553B"
         },
         "name": "Household Income $25,000 to $49,999",
         "offsetgroup": "Household Income $25,000 to $49,999",
         "orientation": "v",
         "showlegend": true,
         "textposition": "auto",
         "type": "bar",
         "x": [
          "Leimert",
          "Leimert",
          "Leimert",
          "Leimert",
          "Leimert",
          "Leimert",
          "Leimert",
          "Leimert",
          "Leimert",
          "Leimert",
          "Leimert",
          "Leimert",
          "Leimert"
         ],
         "xaxis": "x",
         "y": [
          25,
          218,
          53,
          82,
          60,
          76,
          82,
          87,
          19,
          208,
          157,
          103,
          151
         ],
         "yaxis": "y"
        },
        {
         "alignmentgroup": "True",
         "hovertemplate": "Household Income=Household Income $50,000 to $74,999<br>neighborhood=%{x}<br>Total Households in Leimert Park=%{y}<extra></extra>",
         "legendgroup": "Household Income $50,000 to $74,999",
         "marker": {
          "color": "#00cc96"
         },
         "name": "Household Income $50,000 to $74,999",
         "offsetgroup": "Household Income $50,000 to $74,999",
         "orientation": "v",
         "showlegend": true,
         "textposition": "auto",
         "type": "bar",
         "x": [
          "Leimert",
          "Leimert",
          "Leimert",
          "Leimert",
          "Leimert",
          "Leimert",
          "Leimert",
          "Leimert",
          "Leimert",
          "Leimert",
          "Leimert",
          "Leimert",
          "Leimert"
         ],
         "xaxis": "x",
         "y": [
          86,
          139,
          9,
          44,
          59,
          27,
          47,
          27,
          48,
          259,
          105,
          68,
          121
         ],
         "yaxis": "y"
        },
        {
         "alignmentgroup": "True",
         "hovertemplate": "Household Income=Household Income $75,000 to $99,999<br>neighborhood=%{x}<br>Total Households in Leimert Park=%{y}<extra></extra>",
         "legendgroup": "Household Income $75,000 to $99,999",
         "marker": {
          "color": "#ab63fa"
         },
         "name": "Household Income $75,000 to $99,999",
         "offsetgroup": "Household Income $75,000 to $99,999",
         "orientation": "v",
         "showlegend": true,
         "textposition": "auto",
         "type": "bar",
         "x": [
          "Leimert",
          "Leimert",
          "Leimert",
          "Leimert",
          "Leimert",
          "Leimert",
          "Leimert",
          "Leimert",
          "Leimert",
          "Leimert",
          "Leimert",
          "Leimert",
          "Leimert"
         ],
         "xaxis": "x",
         "y": [
          51,
          20,
          70,
          40,
          50,
          13,
          104,
          57,
          24,
          62,
          16,
          107,
          0
         ],
         "yaxis": "y"
        },
        {
         "alignmentgroup": "True",
         "hovertemplate": "Household Income=Household Income $100,000 or More<br>neighborhood=%{x}<br>Total Households in Leimert Park=%{y}<extra></extra>",
         "legendgroup": "Household Income $100,000 or More",
         "marker": {
          "color": "#FFA15A"
         },
         "name": "Household Income $100,000 or More",
         "offsetgroup": "Household Income $100,000 or More",
         "orientation": "v",
         "showlegend": true,
         "textposition": "auto",
         "type": "bar",
         "x": [
          "Leimert",
          "Leimert",
          "Leimert",
          "Leimert",
          "Leimert",
          "Leimert",
          "Leimert",
          "Leimert",
          "Leimert",
          "Leimert",
          "Leimert",
          "Leimert",
          "Leimert"
         ],
         "xaxis": "x",
         "y": [
          84,
          154,
          172,
          112,
          164,
          7,
          56,
          172,
          186,
          37,
          66,
          167,
          54
         ],
         "yaxis": "y"
        }
       ],
       "layout": {
        "barmode": "relative",
        "legend": {
         "title": {
          "text": "Household Income"
         },
         "tracegroupgap": 0
        },
        "template": {
         "data": {
          "bar": [
           {
            "error_x": {
             "color": "#2a3f5f"
            },
            "error_y": {
             "color": "#2a3f5f"
            },
            "marker": {
             "line": {
              "color": "#E5ECF6",
              "width": 0.5
             }
            },
            "type": "bar"
           }
          ],
          "barpolar": [
           {
            "marker": {
             "line": {
              "color": "#E5ECF6",
              "width": 0.5
             }
            },
            "type": "barpolar"
           }
          ],
          "carpet": [
           {
            "aaxis": {
             "endlinecolor": "#2a3f5f",
             "gridcolor": "white",
             "linecolor": "white",
             "minorgridcolor": "white",
             "startlinecolor": "#2a3f5f"
            },
            "baxis": {
             "endlinecolor": "#2a3f5f",
             "gridcolor": "white",
             "linecolor": "white",
             "minorgridcolor": "white",
             "startlinecolor": "#2a3f5f"
            },
            "type": "carpet"
           }
          ],
          "choropleth": [
           {
            "colorbar": {
             "outlinewidth": 0,
             "ticks": ""
            },
            "type": "choropleth"
           }
          ],
          "contour": [
           {
            "colorbar": {
             "outlinewidth": 0,
             "ticks": ""
            },
            "colorscale": [
             [
              0,
              "#0d0887"
             ],
             [
              0.1111111111111111,
              "#46039f"
             ],
             [
              0.2222222222222222,
              "#7201a8"
             ],
             [
              0.3333333333333333,
              "#9c179e"
             ],
             [
              0.4444444444444444,
              "#bd3786"
             ],
             [
              0.5555555555555556,
              "#d8576b"
             ],
             [
              0.6666666666666666,
              "#ed7953"
             ],
             [
              0.7777777777777778,
              "#fb9f3a"
             ],
             [
              0.8888888888888888,
              "#fdca26"
             ],
             [
              1,
              "#f0f921"
             ]
            ],
            "type": "contour"
           }
          ],
          "contourcarpet": [
           {
            "colorbar": {
             "outlinewidth": 0,
             "ticks": ""
            },
            "type": "contourcarpet"
           }
          ],
          "heatmap": [
           {
            "colorbar": {
             "outlinewidth": 0,
             "ticks": ""
            },
            "colorscale": [
             [
              0,
              "#0d0887"
             ],
             [
              0.1111111111111111,
              "#46039f"
             ],
             [
              0.2222222222222222,
              "#7201a8"
             ],
             [
              0.3333333333333333,
              "#9c179e"
             ],
             [
              0.4444444444444444,
              "#bd3786"
             ],
             [
              0.5555555555555556,
              "#d8576b"
             ],
             [
              0.6666666666666666,
              "#ed7953"
             ],
             [
              0.7777777777777778,
              "#fb9f3a"
             ],
             [
              0.8888888888888888,
              "#fdca26"
             ],
             [
              1,
              "#f0f921"
             ]
            ],
            "type": "heatmap"
           }
          ],
          "heatmapgl": [
           {
            "colorbar": {
             "outlinewidth": 0,
             "ticks": ""
            },
            "colorscale": [
             [
              0,
              "#0d0887"
             ],
             [
              0.1111111111111111,
              "#46039f"
             ],
             [
              0.2222222222222222,
              "#7201a8"
             ],
             [
              0.3333333333333333,
              "#9c179e"
             ],
             [
              0.4444444444444444,
              "#bd3786"
             ],
             [
              0.5555555555555556,
              "#d8576b"
             ],
             [
              0.6666666666666666,
              "#ed7953"
             ],
             [
              0.7777777777777778,
              "#fb9f3a"
             ],
             [
              0.8888888888888888,
              "#fdca26"
             ],
             [
              1,
              "#f0f921"
             ]
            ],
            "type": "heatmapgl"
           }
          ],
          "histogram": [
           {
            "marker": {
             "colorbar": {
              "outlinewidth": 0,
              "ticks": ""
             }
            },
            "type": "histogram"
           }
          ],
          "histogram2d": [
           {
            "colorbar": {
             "outlinewidth": 0,
             "ticks": ""
            },
            "colorscale": [
             [
              0,
              "#0d0887"
             ],
             [
              0.1111111111111111,
              "#46039f"
             ],
             [
              0.2222222222222222,
              "#7201a8"
             ],
             [
              0.3333333333333333,
              "#9c179e"
             ],
             [
              0.4444444444444444,
              "#bd3786"
             ],
             [
              0.5555555555555556,
              "#d8576b"
             ],
             [
              0.6666666666666666,
              "#ed7953"
             ],
             [
              0.7777777777777778,
              "#fb9f3a"
             ],
             [
              0.8888888888888888,
              "#fdca26"
             ],
             [
              1,
              "#f0f921"
             ]
            ],
            "type": "histogram2d"
           }
          ],
          "histogram2dcontour": [
           {
            "colorbar": {
             "outlinewidth": 0,
             "ticks": ""
            },
            "colorscale": [
             [
              0,
              "#0d0887"
             ],
             [
              0.1111111111111111,
              "#46039f"
             ],
             [
              0.2222222222222222,
              "#7201a8"
             ],
             [
              0.3333333333333333,
              "#9c179e"
             ],
             [
              0.4444444444444444,
              "#bd3786"
             ],
             [
              0.5555555555555556,
              "#d8576b"
             ],
             [
              0.6666666666666666,
              "#ed7953"
             ],
             [
              0.7777777777777778,
              "#fb9f3a"
             ],
             [
              0.8888888888888888,
              "#fdca26"
             ],
             [
              1,
              "#f0f921"
             ]
            ],
            "type": "histogram2dcontour"
           }
          ],
          "mesh3d": [
           {
            "colorbar": {
             "outlinewidth": 0,
             "ticks": ""
            },
            "type": "mesh3d"
           }
          ],
          "parcoords": [
           {
            "line": {
             "colorbar": {
              "outlinewidth": 0,
              "ticks": ""
             }
            },
            "type": "parcoords"
           }
          ],
          "pie": [
           {
            "automargin": true,
            "type": "pie"
           }
          ],
          "scatter": [
           {
            "marker": {
             "colorbar": {
              "outlinewidth": 0,
              "ticks": ""
             }
            },
            "type": "scatter"
           }
          ],
          "scatter3d": [
           {
            "line": {
             "colorbar": {
              "outlinewidth": 0,
              "ticks": ""
             }
            },
            "marker": {
             "colorbar": {
              "outlinewidth": 0,
              "ticks": ""
             }
            },
            "type": "scatter3d"
           }
          ],
          "scattercarpet": [
           {
            "marker": {
             "colorbar": {
              "outlinewidth": 0,
              "ticks": ""
             }
            },
            "type": "scattercarpet"
           }
          ],
          "scattergeo": [
           {
            "marker": {
             "colorbar": {
              "outlinewidth": 0,
              "ticks": ""
             }
            },
            "type": "scattergeo"
           }
          ],
          "scattergl": [
           {
            "marker": {
             "colorbar": {
              "outlinewidth": 0,
              "ticks": ""
             }
            },
            "type": "scattergl"
           }
          ],
          "scattermapbox": [
           {
            "marker": {
             "colorbar": {
              "outlinewidth": 0,
              "ticks": ""
             }
            },
            "type": "scattermapbox"
           }
          ],
          "scatterpolar": [
           {
            "marker": {
             "colorbar": {
              "outlinewidth": 0,
              "ticks": ""
             }
            },
            "type": "scatterpolar"
           }
          ],
          "scatterpolargl": [
           {
            "marker": {
             "colorbar": {
              "outlinewidth": 0,
              "ticks": ""
             }
            },
            "type": "scatterpolargl"
           }
          ],
          "scatterternary": [
           {
            "marker": {
             "colorbar": {
              "outlinewidth": 0,
              "ticks": ""
             }
            },
            "type": "scatterternary"
           }
          ],
          "surface": [
           {
            "colorbar": {
             "outlinewidth": 0,
             "ticks": ""
            },
            "colorscale": [
             [
              0,
              "#0d0887"
             ],
             [
              0.1111111111111111,
              "#46039f"
             ],
             [
              0.2222222222222222,
              "#7201a8"
             ],
             [
              0.3333333333333333,
              "#9c179e"
             ],
             [
              0.4444444444444444,
              "#bd3786"
             ],
             [
              0.5555555555555556,
              "#d8576b"
             ],
             [
              0.6666666666666666,
              "#ed7953"
             ],
             [
              0.7777777777777778,
              "#fb9f3a"
             ],
             [
              0.8888888888888888,
              "#fdca26"
             ],
             [
              1,
              "#f0f921"
             ]
            ],
            "type": "surface"
           }
          ],
          "table": [
           {
            "cells": {
             "fill": {
              "color": "#EBF0F8"
             },
             "line": {
              "color": "white"
             }
            },
            "header": {
             "fill": {
              "color": "#C8D4E3"
             },
             "line": {
              "color": "white"
             }
            },
            "type": "table"
           }
          ]
         },
         "layout": {
          "annotationdefaults": {
           "arrowcolor": "#2a3f5f",
           "arrowhead": 0,
           "arrowwidth": 1
          },
          "coloraxis": {
           "colorbar": {
            "outlinewidth": 0,
            "ticks": ""
           }
          },
          "colorscale": {
           "diverging": [
            [
             0,
             "#8e0152"
            ],
            [
             0.1,
             "#c51b7d"
            ],
            [
             0.2,
             "#de77ae"
            ],
            [
             0.3,
             "#f1b6da"
            ],
            [
             0.4,
             "#fde0ef"
            ],
            [
             0.5,
             "#f7f7f7"
            ],
            [
             0.6,
             "#e6f5d0"
            ],
            [
             0.7,
             "#b8e186"
            ],
            [
             0.8,
             "#7fbc41"
            ],
            [
             0.9,
             "#4d9221"
            ],
            [
             1,
             "#276419"
            ]
           ],
           "sequential": [
            [
             0,
             "#0d0887"
            ],
            [
             0.1111111111111111,
             "#46039f"
            ],
            [
             0.2222222222222222,
             "#7201a8"
            ],
            [
             0.3333333333333333,
             "#9c179e"
            ],
            [
             0.4444444444444444,
             "#bd3786"
            ],
            [
             0.5555555555555556,
             "#d8576b"
            ],
            [
             0.6666666666666666,
             "#ed7953"
            ],
            [
             0.7777777777777778,
             "#fb9f3a"
            ],
            [
             0.8888888888888888,
             "#fdca26"
            ],
            [
             1,
             "#f0f921"
            ]
           ],
           "sequentialminus": [
            [
             0,
             "#0d0887"
            ],
            [
             0.1111111111111111,
             "#46039f"
            ],
            [
             0.2222222222222222,
             "#7201a8"
            ],
            [
             0.3333333333333333,
             "#9c179e"
            ],
            [
             0.4444444444444444,
             "#bd3786"
            ],
            [
             0.5555555555555556,
             "#d8576b"
            ],
            [
             0.6666666666666666,
             "#ed7953"
            ],
            [
             0.7777777777777778,
             "#fb9f3a"
            ],
            [
             0.8888888888888888,
             "#fdca26"
            ],
            [
             1,
             "#f0f921"
            ]
           ]
          },
          "colorway": [
           "#636efa",
           "#EF553B",
           "#00cc96",
           "#ab63fa",
           "#FFA15A",
           "#19d3f3",
           "#FF6692",
           "#B6E880",
           "#FF97FF",
           "#FECB52"
          ],
          "font": {
           "color": "#2a3f5f"
          },
          "geo": {
           "bgcolor": "white",
           "lakecolor": "white",
           "landcolor": "#E5ECF6",
           "showlakes": true,
           "showland": true,
           "subunitcolor": "white"
          },
          "hoverlabel": {
           "align": "left"
          },
          "hovermode": "closest",
          "mapbox": {
           "style": "light"
          },
          "paper_bgcolor": "white",
          "plot_bgcolor": "#E5ECF6",
          "polar": {
           "angularaxis": {
            "gridcolor": "white",
            "linecolor": "white",
            "ticks": ""
           },
           "bgcolor": "#E5ECF6",
           "radialaxis": {
            "gridcolor": "white",
            "linecolor": "white",
            "ticks": ""
           }
          },
          "scene": {
           "xaxis": {
            "backgroundcolor": "#E5ECF6",
            "gridcolor": "white",
            "gridwidth": 2,
            "linecolor": "white",
            "showbackground": true,
            "ticks": "",
            "zerolinecolor": "white"
           },
           "yaxis": {
            "backgroundcolor": "#E5ECF6",
            "gridcolor": "white",
            "gridwidth": 2,
            "linecolor": "white",
            "showbackground": true,
            "ticks": "",
            "zerolinecolor": "white"
           },
           "zaxis": {
            "backgroundcolor": "#E5ECF6",
            "gridcolor": "white",
            "gridwidth": 2,
            "linecolor": "white",
            "showbackground": true,
            "ticks": "",
            "zerolinecolor": "white"
           }
          },
          "shapedefaults": {
           "line": {
            "color": "#2a3f5f"
           }
          },
          "ternary": {
           "aaxis": {
            "gridcolor": "white",
            "linecolor": "white",
            "ticks": ""
           },
           "baxis": {
            "gridcolor": "white",
            "linecolor": "white",
            "ticks": ""
           },
           "bgcolor": "#E5ECF6",
           "caxis": {
            "gridcolor": "white",
            "linecolor": "white",
            "ticks": ""
           }
          },
          "title": {
           "x": 0.05
          },
          "xaxis": {
           "automargin": true,
           "gridcolor": "white",
           "linecolor": "white",
           "ticks": "",
           "title": {
            "standoff": 15
           },
           "zerolinecolor": "white",
           "zerolinewidth": 2
          },
          "yaxis": {
           "automargin": true,
           "gridcolor": "white",
           "linecolor": "white",
           "ticks": "",
           "title": {
            "standoff": 15
           },
           "zerolinecolor": "white",
           "zerolinewidth": 2
          }
         }
        },
        "title": {
         "text": "Income Breakdown by Block Group in Leimert Park (2019)"
        },
        "xaxis": {
         "anchor": "y",
         "domain": [
          0,
          1
         ],
         "title": {
          "text": "neighborhood"
         }
        },
        "yaxis": {
         "anchor": "x",
         "domain": [
          0,
          1
         ],
         "title": {
          "text": "Total Households in Leimert Park"
         }
        }
       }
      },
      "text/html": [
       "<div>                            <div id=\"6bf8b164-36d6-4bc6-9b5d-e771da410744\" class=\"plotly-graph-div\" style=\"height:525px; width:100%;\"></div>            <script type=\"text/javascript\">                require([\"plotly\"], function(Plotly) {                    window.PLOTLYENV=window.PLOTLYENV || {};                                    if (document.getElementById(\"6bf8b164-36d6-4bc6-9b5d-e771da410744\")) {                    Plotly.newPlot(                        \"6bf8b164-36d6-4bc6-9b5d-e771da410744\",                        [{\"alignmentgroup\": \"True\", \"hovertemplate\": \"Household Income=Household Income Less than $25,000<br>neighborhood=%{x}<br>Total Households in Leimert Park=%{y}<extra></extra>\", \"legendgroup\": \"Household Income Less than $25,000\", \"marker\": {\"color\": \"#636efa\"}, \"name\": \"Household Income Less than $25,000\", \"offsetgroup\": \"Household Income Less than $25,000\", \"orientation\": \"v\", \"showlegend\": true, \"textposition\": \"auto\", \"type\": \"bar\", \"x\": [\"Leimert\", \"Leimert\", \"Leimert\", \"Leimert\", \"Leimert\", \"Leimert\", \"Leimert\", \"Leimert\", \"Leimert\", \"Leimert\", \"Leimert\", \"Leimert\", \"Leimert\"], \"xaxis\": \"x\", \"y\": [91, 150, 12, 11, 169, 121, 110, 43, 105, 169, 163, 114, 149], \"yaxis\": \"y\"}, {\"alignmentgroup\": \"True\", \"hovertemplate\": \"Household Income=Household Income $25,000 to $49,999<br>neighborhood=%{x}<br>Total Households in Leimert Park=%{y}<extra></extra>\", \"legendgroup\": \"Household Income $25,000 to $49,999\", \"marker\": {\"color\": \"#EF553B\"}, \"name\": \"Household Income $25,000 to $49,999\", \"offsetgroup\": \"Household Income $25,000 to $49,999\", \"orientation\": \"v\", \"showlegend\": true, \"textposition\": \"auto\", \"type\": \"bar\", \"x\": [\"Leimert\", \"Leimert\", \"Leimert\", \"Leimert\", \"Leimert\", \"Leimert\", \"Leimert\", \"Leimert\", \"Leimert\", \"Leimert\", \"Leimert\", \"Leimert\", \"Leimert\"], \"xaxis\": \"x\", \"y\": [25, 218, 53, 82, 60, 76, 82, 87, 19, 208, 157, 103, 151], \"yaxis\": \"y\"}, {\"alignmentgroup\": \"True\", \"hovertemplate\": \"Household Income=Household Income $50,000 to $74,999<br>neighborhood=%{x}<br>Total Households in Leimert Park=%{y}<extra></extra>\", \"legendgroup\": \"Household Income $50,000 to $74,999\", \"marker\": {\"color\": \"#00cc96\"}, \"name\": \"Household Income $50,000 to $74,999\", \"offsetgroup\": \"Household Income $50,000 to $74,999\", \"orientation\": \"v\", \"showlegend\": true, \"textposition\": \"auto\", \"type\": \"bar\", \"x\": [\"Leimert\", \"Leimert\", \"Leimert\", \"Leimert\", \"Leimert\", \"Leimert\", \"Leimert\", \"Leimert\", \"Leimert\", \"Leimert\", \"Leimert\", \"Leimert\", \"Leimert\"], \"xaxis\": \"x\", \"y\": [86, 139, 9, 44, 59, 27, 47, 27, 48, 259, 105, 68, 121], \"yaxis\": \"y\"}, {\"alignmentgroup\": \"True\", \"hovertemplate\": \"Household Income=Household Income $75,000 to $99,999<br>neighborhood=%{x}<br>Total Households in Leimert Park=%{y}<extra></extra>\", \"legendgroup\": \"Household Income $75,000 to $99,999\", \"marker\": {\"color\": \"#ab63fa\"}, \"name\": \"Household Income $75,000 to $99,999\", \"offsetgroup\": \"Household Income $75,000 to $99,999\", \"orientation\": \"v\", \"showlegend\": true, \"textposition\": \"auto\", \"type\": \"bar\", \"x\": [\"Leimert\", \"Leimert\", \"Leimert\", \"Leimert\", \"Leimert\", \"Leimert\", \"Leimert\", \"Leimert\", \"Leimert\", \"Leimert\", \"Leimert\", \"Leimert\", \"Leimert\"], \"xaxis\": \"x\", \"y\": [51, 20, 70, 40, 50, 13, 104, 57, 24, 62, 16, 107, 0], \"yaxis\": \"y\"}, {\"alignmentgroup\": \"True\", \"hovertemplate\": \"Household Income=Household Income $100,000 or More<br>neighborhood=%{x}<br>Total Households in Leimert Park=%{y}<extra></extra>\", \"legendgroup\": \"Household Income $100,000 or More\", \"marker\": {\"color\": \"#FFA15A\"}, \"name\": \"Household Income $100,000 or More\", \"offsetgroup\": \"Household Income $100,000 or More\", \"orientation\": \"v\", \"showlegend\": true, \"textposition\": \"auto\", \"type\": \"bar\", \"x\": [\"Leimert\", \"Leimert\", \"Leimert\", \"Leimert\", \"Leimert\", \"Leimert\", \"Leimert\", \"Leimert\", \"Leimert\", \"Leimert\", \"Leimert\", \"Leimert\", \"Leimert\"], \"xaxis\": \"x\", \"y\": [84, 154, 172, 112, 164, 7, 56, 172, 186, 37, 66, 167, 54], \"yaxis\": \"y\"}],                        {\"barmode\": \"relative\", \"legend\": {\"title\": {\"text\": \"Household Income\"}, \"tracegroupgap\": 0}, \"template\": {\"data\": {\"bar\": [{\"error_x\": {\"color\": \"#2a3f5f\"}, \"error_y\": {\"color\": \"#2a3f5f\"}, \"marker\": {\"line\": {\"color\": \"#E5ECF6\", \"width\": 0.5}}, \"type\": \"bar\"}], \"barpolar\": [{\"marker\": {\"line\": {\"color\": \"#E5ECF6\", \"width\": 0.5}}, \"type\": \"barpolar\"}], \"carpet\": [{\"aaxis\": {\"endlinecolor\": \"#2a3f5f\", \"gridcolor\": \"white\", \"linecolor\": \"white\", \"minorgridcolor\": \"white\", \"startlinecolor\": \"#2a3f5f\"}, \"baxis\": {\"endlinecolor\": \"#2a3f5f\", \"gridcolor\": \"white\", \"linecolor\": \"white\", \"minorgridcolor\": \"white\", \"startlinecolor\": \"#2a3f5f\"}, \"type\": \"carpet\"}], \"choropleth\": [{\"colorbar\": {\"outlinewidth\": 0, \"ticks\": \"\"}, \"type\": \"choropleth\"}], \"contour\": [{\"colorbar\": {\"outlinewidth\": 0, \"ticks\": \"\"}, \"colorscale\": [[0.0, \"#0d0887\"], [0.1111111111111111, \"#46039f\"], [0.2222222222222222, \"#7201a8\"], [0.3333333333333333, \"#9c179e\"], [0.4444444444444444, \"#bd3786\"], [0.5555555555555556, \"#d8576b\"], [0.6666666666666666, \"#ed7953\"], [0.7777777777777778, \"#fb9f3a\"], [0.8888888888888888, \"#fdca26\"], [1.0, \"#f0f921\"]], \"type\": \"contour\"}], \"contourcarpet\": [{\"colorbar\": {\"outlinewidth\": 0, \"ticks\": \"\"}, \"type\": \"contourcarpet\"}], \"heatmap\": [{\"colorbar\": {\"outlinewidth\": 0, \"ticks\": \"\"}, \"colorscale\": [[0.0, \"#0d0887\"], [0.1111111111111111, \"#46039f\"], [0.2222222222222222, \"#7201a8\"], [0.3333333333333333, \"#9c179e\"], [0.4444444444444444, \"#bd3786\"], [0.5555555555555556, \"#d8576b\"], [0.6666666666666666, \"#ed7953\"], [0.7777777777777778, \"#fb9f3a\"], [0.8888888888888888, \"#fdca26\"], [1.0, \"#f0f921\"]], \"type\": \"heatmap\"}], \"heatmapgl\": [{\"colorbar\": {\"outlinewidth\": 0, \"ticks\": \"\"}, \"colorscale\": [[0.0, \"#0d0887\"], [0.1111111111111111, \"#46039f\"], [0.2222222222222222, \"#7201a8\"], [0.3333333333333333, \"#9c179e\"], [0.4444444444444444, \"#bd3786\"], [0.5555555555555556, \"#d8576b\"], [0.6666666666666666, \"#ed7953\"], [0.7777777777777778, \"#fb9f3a\"], [0.8888888888888888, \"#fdca26\"], [1.0, \"#f0f921\"]], \"type\": \"heatmapgl\"}], \"histogram\": [{\"marker\": {\"colorbar\": {\"outlinewidth\": 0, \"ticks\": \"\"}}, \"type\": \"histogram\"}], \"histogram2d\": [{\"colorbar\": {\"outlinewidth\": 0, \"ticks\": \"\"}, \"colorscale\": [[0.0, \"#0d0887\"], [0.1111111111111111, \"#46039f\"], [0.2222222222222222, \"#7201a8\"], [0.3333333333333333, \"#9c179e\"], [0.4444444444444444, \"#bd3786\"], [0.5555555555555556, \"#d8576b\"], [0.6666666666666666, \"#ed7953\"], [0.7777777777777778, \"#fb9f3a\"], [0.8888888888888888, \"#fdca26\"], [1.0, \"#f0f921\"]], \"type\": \"histogram2d\"}], \"histogram2dcontour\": [{\"colorbar\": {\"outlinewidth\": 0, \"ticks\": \"\"}, \"colorscale\": [[0.0, \"#0d0887\"], [0.1111111111111111, \"#46039f\"], [0.2222222222222222, \"#7201a8\"], [0.3333333333333333, \"#9c179e\"], [0.4444444444444444, \"#bd3786\"], [0.5555555555555556, \"#d8576b\"], [0.6666666666666666, \"#ed7953\"], [0.7777777777777778, \"#fb9f3a\"], [0.8888888888888888, \"#fdca26\"], [1.0, \"#f0f921\"]], \"type\": \"histogram2dcontour\"}], \"mesh3d\": [{\"colorbar\": {\"outlinewidth\": 0, \"ticks\": \"\"}, \"type\": \"mesh3d\"}], \"parcoords\": [{\"line\": {\"colorbar\": {\"outlinewidth\": 0, \"ticks\": \"\"}}, \"type\": \"parcoords\"}], \"pie\": [{\"automargin\": true, \"type\": \"pie\"}], \"scatter\": [{\"marker\": {\"colorbar\": {\"outlinewidth\": 0, \"ticks\": \"\"}}, \"type\": \"scatter\"}], \"scatter3d\": [{\"line\": {\"colorbar\": {\"outlinewidth\": 0, \"ticks\": \"\"}}, \"marker\": {\"colorbar\": {\"outlinewidth\": 0, \"ticks\": \"\"}}, \"type\": \"scatter3d\"}], \"scattercarpet\": [{\"marker\": {\"colorbar\": {\"outlinewidth\": 0, \"ticks\": \"\"}}, \"type\": \"scattercarpet\"}], \"scattergeo\": [{\"marker\": {\"colorbar\": {\"outlinewidth\": 0, \"ticks\": \"\"}}, \"type\": \"scattergeo\"}], \"scattergl\": [{\"marker\": {\"colorbar\": {\"outlinewidth\": 0, \"ticks\": \"\"}}, \"type\": \"scattergl\"}], \"scattermapbox\": [{\"marker\": {\"colorbar\": {\"outlinewidth\": 0, \"ticks\": \"\"}}, \"type\": \"scattermapbox\"}], \"scatterpolar\": [{\"marker\": {\"colorbar\": {\"outlinewidth\": 0, \"ticks\": \"\"}}, \"type\": \"scatterpolar\"}], \"scatterpolargl\": [{\"marker\": {\"colorbar\": {\"outlinewidth\": 0, \"ticks\": \"\"}}, \"type\": \"scatterpolargl\"}], \"scatterternary\": [{\"marker\": {\"colorbar\": {\"outlinewidth\": 0, \"ticks\": \"\"}}, \"type\": \"scatterternary\"}], \"surface\": [{\"colorbar\": {\"outlinewidth\": 0, \"ticks\": \"\"}, \"colorscale\": [[0.0, \"#0d0887\"], [0.1111111111111111, \"#46039f\"], [0.2222222222222222, \"#7201a8\"], [0.3333333333333333, \"#9c179e\"], [0.4444444444444444, \"#bd3786\"], [0.5555555555555556, \"#d8576b\"], [0.6666666666666666, \"#ed7953\"], [0.7777777777777778, \"#fb9f3a\"], [0.8888888888888888, \"#fdca26\"], [1.0, \"#f0f921\"]], \"type\": \"surface\"}], \"table\": [{\"cells\": {\"fill\": {\"color\": \"#EBF0F8\"}, \"line\": {\"color\": \"white\"}}, \"header\": {\"fill\": {\"color\": \"#C8D4E3\"}, \"line\": {\"color\": \"white\"}}, \"type\": \"table\"}]}, \"layout\": {\"annotationdefaults\": {\"arrowcolor\": \"#2a3f5f\", \"arrowhead\": 0, \"arrowwidth\": 1}, \"coloraxis\": {\"colorbar\": {\"outlinewidth\": 0, \"ticks\": \"\"}}, \"colorscale\": {\"diverging\": [[0, \"#8e0152\"], [0.1, \"#c51b7d\"], [0.2, \"#de77ae\"], [0.3, \"#f1b6da\"], [0.4, \"#fde0ef\"], [0.5, \"#f7f7f7\"], [0.6, \"#e6f5d0\"], [0.7, \"#b8e186\"], [0.8, \"#7fbc41\"], [0.9, \"#4d9221\"], [1, \"#276419\"]], \"sequential\": [[0.0, \"#0d0887\"], [0.1111111111111111, \"#46039f\"], [0.2222222222222222, \"#7201a8\"], [0.3333333333333333, \"#9c179e\"], [0.4444444444444444, \"#bd3786\"], [0.5555555555555556, \"#d8576b\"], [0.6666666666666666, \"#ed7953\"], [0.7777777777777778, \"#fb9f3a\"], [0.8888888888888888, \"#fdca26\"], [1.0, \"#f0f921\"]], \"sequentialminus\": [[0.0, \"#0d0887\"], [0.1111111111111111, \"#46039f\"], [0.2222222222222222, \"#7201a8\"], [0.3333333333333333, \"#9c179e\"], [0.4444444444444444, \"#bd3786\"], [0.5555555555555556, \"#d8576b\"], [0.6666666666666666, \"#ed7953\"], [0.7777777777777778, \"#fb9f3a\"], [0.8888888888888888, \"#fdca26\"], [1.0, \"#f0f921\"]]}, \"colorway\": [\"#636efa\", \"#EF553B\", \"#00cc96\", \"#ab63fa\", \"#FFA15A\", \"#19d3f3\", \"#FF6692\", \"#B6E880\", \"#FF97FF\", \"#FECB52\"], \"font\": {\"color\": \"#2a3f5f\"}, \"geo\": {\"bgcolor\": \"white\", \"lakecolor\": \"white\", \"landcolor\": \"#E5ECF6\", \"showlakes\": true, \"showland\": true, \"subunitcolor\": \"white\"}, \"hoverlabel\": {\"align\": \"left\"}, \"hovermode\": \"closest\", \"mapbox\": {\"style\": \"light\"}, \"paper_bgcolor\": \"white\", \"plot_bgcolor\": \"#E5ECF6\", \"polar\": {\"angularaxis\": {\"gridcolor\": \"white\", \"linecolor\": \"white\", \"ticks\": \"\"}, \"bgcolor\": \"#E5ECF6\", \"radialaxis\": {\"gridcolor\": \"white\", \"linecolor\": \"white\", \"ticks\": \"\"}}, \"scene\": {\"xaxis\": {\"backgroundcolor\": \"#E5ECF6\", \"gridcolor\": \"white\", \"gridwidth\": 2, \"linecolor\": \"white\", \"showbackground\": true, \"ticks\": \"\", \"zerolinecolor\": \"white\"}, \"yaxis\": {\"backgroundcolor\": \"#E5ECF6\", \"gridcolor\": \"white\", \"gridwidth\": 2, \"linecolor\": \"white\", \"showbackground\": true, \"ticks\": \"\", \"zerolinecolor\": \"white\"}, \"zaxis\": {\"backgroundcolor\": \"#E5ECF6\", \"gridcolor\": \"white\", \"gridwidth\": 2, \"linecolor\": \"white\", \"showbackground\": true, \"ticks\": \"\", \"zerolinecolor\": \"white\"}}, \"shapedefaults\": {\"line\": {\"color\": \"#2a3f5f\"}}, \"ternary\": {\"aaxis\": {\"gridcolor\": \"white\", \"linecolor\": \"white\", \"ticks\": \"\"}, \"baxis\": {\"gridcolor\": \"white\", \"linecolor\": \"white\", \"ticks\": \"\"}, \"bgcolor\": \"#E5ECF6\", \"caxis\": {\"gridcolor\": \"white\", \"linecolor\": \"white\", \"ticks\": \"\"}}, \"title\": {\"x\": 0.05}, \"xaxis\": {\"automargin\": true, \"gridcolor\": \"white\", \"linecolor\": \"white\", \"ticks\": \"\", \"title\": {\"standoff\": 15}, \"zerolinecolor\": \"white\", \"zerolinewidth\": 2}, \"yaxis\": {\"automargin\": true, \"gridcolor\": \"white\", \"linecolor\": \"white\", \"ticks\": \"\", \"title\": {\"standoff\": 15}, \"zerolinecolor\": \"white\", \"zerolinewidth\": 2}}}, \"title\": {\"text\": \"Income Breakdown by Block Group in Leimert Park (2019)\"}, \"xaxis\": {\"anchor\": \"y\", \"domain\": [0.0, 1.0], \"title\": {\"text\": \"neighborhood\"}}, \"yaxis\": {\"anchor\": \"x\", \"domain\": [0.0, 1.0], \"title\": {\"text\": \"Total Households in Leimert Park\"}}},                        {\"responsive\": true}                    ).then(function(){\n",
       "                            \n",
       "var gd = document.getElementById('6bf8b164-36d6-4bc6-9b5d-e771da410744');\n",
       "var x = new MutationObserver(function (mutations, observer) {{\n",
       "        var display = window.getComputedStyle(gd).display;\n",
       "        if (!display || display === 'none') {{\n",
       "            console.log([gd, 'removed!']);\n",
       "            Plotly.purge(gd);\n",
       "            observer.disconnect();\n",
       "        }}\n",
       "}});\n",
       "\n",
       "// Listen for the removal of the full notebook cells\n",
       "var notebookContainer = gd.closest('#notebook-container');\n",
       "if (notebookContainer) {{\n",
       "    x.observe(notebookContainer, {childList: true});\n",
       "}}\n",
       "\n",
       "// Listen for the clearing of the current output cell\n",
       "var outputEl = gd.closest('.output');\n",
       "if (outputEl) {{\n",
       "    x.observe(outputEl, {childList: true});\n",
       "}}\n",
       "\n",
       "                        })                };                });            </script>        </div>"
      ]
     },
     "metadata": {},
     "output_type": "display_data"
    }
   ],
   "source": [
    "px.bar(df2, x=\"neighborhood\", y=[\"Household Income Less than $25,000\",\n",
    " \"Household Income $25,000 to $49,999\",\n",
    " \"Household Income $50,000 to $74,999\",\n",
    " \"Household Income $75,000 to $99,999\",\n",
    " \"Household Income $100,000 or More\"], title=\"Income Breakdown by Block Group in Leimert Park (2019)\", \n",
    "       labels={'Geo_NAME':'Census Tract Block Group','value':'Total Households in Leimert Park', 'variable': 'Household Income'})"
   ]
  },
  {
   "cell_type": "markdown",
   "metadata": {},
   "source": [
    "## Merge Atwater Village and Leimert Park Data"
   ]
  },
  {
   "cell_type": "code",
   "execution_count": 172,
   "metadata": {},
   "outputs": [],
   "source": [
    "income_merged= df_sum.append(df2_sum)"
   ]
  },
  {
   "cell_type": "code",
   "execution_count": 173,
   "metadata": {},
   "outputs": [
    {
     "data": {
      "text/html": [
       "<div>\n",
       "<style scoped>\n",
       "    .dataframe tbody tr th:only-of-type {\n",
       "        vertical-align: middle;\n",
       "    }\n",
       "\n",
       "    .dataframe tbody tr th {\n",
       "        vertical-align: top;\n",
       "    }\n",
       "\n",
       "    .dataframe thead th {\n",
       "        text-align: right;\n",
       "    }\n",
       "</style>\n",
       "<table border=\"1\" class=\"dataframe\">\n",
       "  <thead>\n",
       "    <tr style=\"text-align: right;\">\n",
       "      <th></th>\n",
       "      <th>FIPS</th>\n",
       "      <th>Geo_QName</th>\n",
       "      <th>Geo_BLKGRP</th>\n",
       "      <th>Geo_NAME</th>\n",
       "      <th>Total Households in Atwater Village</th>\n",
       "      <th>Household Income Less than $25,000</th>\n",
       "      <th>Household Income $25,000 to $49,999</th>\n",
       "      <th>Household Income $50,000 to $74,999</th>\n",
       "      <th>Household Income $75,000 to $99,999</th>\n",
       "      <th>Household Income $100,000 or More</th>\n",
       "      <th>% Less than $25K</th>\n",
       "      <th>% More than $100K</th>\n",
       "      <th>neighborhood</th>\n",
       "      <th>year</th>\n",
       "      <th>Total Households in Leimert Park</th>\n",
       "    </tr>\n",
       "  </thead>\n",
       "  <tbody>\n",
       "    <tr>\n",
       "      <th>0</th>\n",
       "      <td>0603718630110603718630120603718630130603718630...</td>\n",
       "      <td>Block Group 1, Census Tract 1863.01, Los Angel...</td>\n",
       "      <td>31</td>\n",
       "      <td>Block Group 1Block Group 2Block Group 3Block G...</td>\n",
       "      <td>8995</td>\n",
       "      <td>1776</td>\n",
       "      <td>1759</td>\n",
       "      <td>1455</td>\n",
       "      <td>950</td>\n",
       "      <td>3055</td>\n",
       "      <td>19.7443</td>\n",
       "      <td>33.9633</td>\n",
       "      <td>Atwater</td>\n",
       "      <td>2019</td>\n",
       "      <td>NaN</td>\n",
       "    </tr>\n",
       "    <tr>\n",
       "      <th>0</th>\n",
       "      <td>0603721902030603723400010603723400020603723400...</td>\n",
       "      <td>Block Group 3, Census Tract 2190.20, Los Angel...</td>\n",
       "      <td>34</td>\n",
       "      <td>Block Group 3Block Group 1Block Group 2Block G...</td>\n",
       "      <td>NaN</td>\n",
       "      <td>1407</td>\n",
       "      <td>1321</td>\n",
       "      <td>1039</td>\n",
       "      <td>614</td>\n",
       "      <td>1431</td>\n",
       "      <td>24.2085</td>\n",
       "      <td>24.6215</td>\n",
       "      <td>Leimert</td>\n",
       "      <td>NaN</td>\n",
       "      <td>5812</td>\n",
       "    </tr>\n",
       "  </tbody>\n",
       "</table>\n",
       "</div>"
      ],
      "text/plain": [
       "                                                FIPS  \\\n",
       "0  0603718630110603718630120603718630130603718630...   \n",
       "0  0603721902030603723400010603723400020603723400...   \n",
       "\n",
       "                                           Geo_QName Geo_BLKGRP  \\\n",
       "0  Block Group 1, Census Tract 1863.01, Los Angel...         31   \n",
       "0  Block Group 3, Census Tract 2190.20, Los Angel...         34   \n",
       "\n",
       "                                            Geo_NAME  \\\n",
       "0  Block Group 1Block Group 2Block Group 3Block G...   \n",
       "0  Block Group 3Block Group 1Block Group 2Block G...   \n",
       "\n",
       "  Total Households in Atwater Village Household Income Less than $25,000  \\\n",
       "0                                8995                               1776   \n",
       "0                                 NaN                               1407   \n",
       "\n",
       "  Household Income $25,000 to $49,999 Household Income $50,000 to $74,999  \\\n",
       "0                                1759                                1455   \n",
       "0                                1321                                1039   \n",
       "\n",
       "  Household Income $75,000 to $99,999 Household Income $100,000 or More  \\\n",
       "0                                 950                              3055   \n",
       "0                                 614                              1431   \n",
       "\n",
       "  % Less than $25K % More than $100K neighborhood  year  \\\n",
       "0          19.7443           33.9633      Atwater  2019   \n",
       "0          24.2085           24.6215      Leimert   NaN   \n",
       "\n",
       "  Total Households in Leimert Park  \n",
       "0                              NaN  \n",
       "0                             5812  "
      ]
     },
     "execution_count": 173,
     "metadata": {},
     "output_type": "execute_result"
    }
   ],
   "source": [
    "income_merged"
   ]
  },
  {
   "cell_type": "code",
   "execution_count": 174,
   "metadata": {},
   "outputs": [
    {
     "data": {
      "text/plain": [
       "<matplotlib.axes._subplots.AxesSubplot at 0x7fa89d3aa5b0>"
      ]
     },
     "execution_count": 174,
     "metadata": {},
     "output_type": "execute_result"
    },
    {
     "data": {
      "image/png": "[encoded data removed]",
      "text/plain": [
       "<Figure size 432x288 with 1 Axes>"
      ]
     },
     "metadata": {
      "needs_background": "light"
     },
     "output_type": "display_data"
    }
   ],
   "source": [
    "income_merged.plot.bar(x = 'neighborhood', y='% Less than $25K', title=\"Percentage of Households with Income Less than $25K (2019)\")"
   ]
  },
  {
   "cell_type": "code",
   "execution_count": 175,
   "metadata": {},
   "outputs": [
    {
     "data": {
      "text/plain": [
       "<matplotlib.axes._subplots.AxesSubplot at 0x7fa89d3438e0>"
      ]
     },
     "execution_count": 175,
     "metadata": {},
     "output_type": "execute_result"
    },
    {
     "data": {
      "image/png": "[encoded data removed]",
      "text/plain": [
       "<Figure size 432x288 with 1 Axes>"
      ]
     },
     "metadata": {
      "needs_background": "light"
     },
     "output_type": "display_data"
    }
   ],
   "source": [
    "income_merged.plot.bar(x = 'neighborhood', y='% More than $100K', title=\"Percentage of Households with Income More than $100K (2019)\")"
   ]
  },
  {
   "cell_type": "markdown",
   "metadata": {},
   "source": [
    "## Race"
   ]
  },
  {
   "cell_type": "markdown",
   "metadata": {},
   "source": [
    "### Atwater Village Race Data"
   ]
  },
  {
   "cell_type": "code",
   "execution_count": 176,
   "metadata": {},
   "outputs": [],
   "source": [
    "df3 = pd.read_csv('data/Atwater2019_Race.csv')"
   ]
  },
  {
   "cell_type": "code",
   "execution_count": 177,
   "metadata": {},
   "outputs": [],
   "source": [
    "df3 = pd.read_csv(\n",
    "    'data/Atwater2019_Race.csv',\n",
    "    dtype=\n",
    "    {\n",
    "        'Geo_FIPS':str,\n",
    "        'Geo_STATE':str,\n",
    "        'Geo_COUNTY': str\n",
    "    }\n",
    ")"
   ]
  },
  {
   "cell_type": "code",
   "execution_count": 178,
   "metadata": {},
   "outputs": [
    {
     "data": {
      "text/plain": [
       "['Geo_US',\n",
       " 'Geo_REGION',\n",
       " 'Geo_DIVISION',\n",
       " 'Geo_STATECE',\n",
       " 'Geo_COUSUB',\n",
       " 'Geo_PLACE',\n",
       " 'Geo_CONCIT',\n",
       " 'Geo_AIANHH',\n",
       " 'Geo_AIANHHFP',\n",
       " 'Geo_AIHHTLI',\n",
       " 'Geo_AITSCE',\n",
       " 'Geo_AITS',\n",
       " 'Geo_ANRC',\n",
       " 'Geo_CBSA',\n",
       " 'Geo_CSA',\n",
       " 'Geo_METDIV',\n",
       " 'Geo_MACC',\n",
       " 'Geo_MEMI',\n",
       " 'Geo_NECTA',\n",
       " 'Geo_CNECTA',\n",
       " 'Geo_NECTADIV',\n",
       " 'Geo_UA',\n",
       " 'Geo_UACP',\n",
       " 'Geo_CDCURR',\n",
       " 'Geo_SLDU',\n",
       " 'Geo_SLDL',\n",
       " 'Geo_VTD',\n",
       " 'Geo_ZCTA3',\n",
       " 'Geo_ZCTA5',\n",
       " 'Geo_SUBMCD',\n",
       " 'Geo_SDELM',\n",
       " 'Geo_SDSEC',\n",
       " 'Geo_SDUNI',\n",
       " 'Geo_UR',\n",
       " 'Geo_PCI',\n",
       " 'Geo_TAZ',\n",
       " 'Geo_UGA',\n",
       " 'Geo_PUMA5',\n",
       " 'Geo_PUMA1',\n",
       " 'Geo_BTTR',\n",
       " 'Geo_BTBG',\n",
       " 'Geo_PLACESE']"
      ]
     },
     "execution_count": 178,
     "metadata": {},
     "output_type": "execute_result"
    }
   ],
   "source": [
    "df3.columns[df3.isna().all()].tolist()"
   ]
  },
  {
   "cell_type": "code",
   "execution_count": 179,
   "metadata": {},
   "outputs": [],
   "source": [
    "df3 = df3.dropna(axis=1,how=\"all\")"
   ]
  },
  {
   "cell_type": "code",
   "execution_count": 180,
   "metadata": {},
   "outputs": [
    {
     "data": {
      "text/html": [
       "<div>\n",
       "<style scoped>\n",
       "    .dataframe tbody tr th:only-of-type {\n",
       "        vertical-align: middle;\n",
       "    }\n",
       "\n",
       "    .dataframe tbody tr th {\n",
       "        vertical-align: top;\n",
       "    }\n",
       "\n",
       "    .dataframe thead th {\n",
       "        text-align: right;\n",
       "    }\n",
       "</style>\n",
       "<table border=\"1\" class=\"dataframe\">\n",
       "  <thead>\n",
       "    <tr style=\"text-align: right;\">\n",
       "      <th></th>\n",
       "      <th>Geo_FIPS</th>\n",
       "      <th>Geo_QName</th>\n",
       "      <th>Geo_FILEID</th>\n",
       "      <th>Geo_STUSAB</th>\n",
       "      <th>Geo_GEOCOMP</th>\n",
       "      <th>Geo_LOGRECNO</th>\n",
       "      <th>Geo_STATE</th>\n",
       "      <th>Geo_COUNTY</th>\n",
       "      <th>Geo_TRACT</th>\n",
       "      <th>Geo_BLKGRP</th>\n",
       "      <th>...</th>\n",
       "      <th>SE_A04001_008</th>\n",
       "      <th>SE_A04001_009</th>\n",
       "      <th>SE_A04001_010</th>\n",
       "      <th>SE_A04001_011</th>\n",
       "      <th>SE_A04001_012</th>\n",
       "      <th>SE_A04001_013</th>\n",
       "      <th>SE_A04001_014</th>\n",
       "      <th>SE_A04001_015</th>\n",
       "      <th>SE_A04001_016</th>\n",
       "      <th>SE_A04001_017</th>\n",
       "    </tr>\n",
       "  </thead>\n",
       "  <tbody>\n",
       "    <tr>\n",
       "      <th>0</th>\n",
       "      <td>060371863011</td>\n",
       "      <td>Block Group 1, Census Tract 1863.01, Los Angel...</td>\n",
       "      <td>ACSSF</td>\n",
       "      <td>ca</td>\n",
       "      <td>0</td>\n",
       "      <td>15234</td>\n",
       "      <td>06</td>\n",
       "      <td>037</td>\n",
       "      <td>186301</td>\n",
       "      <td>1</td>\n",
       "      <td>...</td>\n",
       "      <td>0</td>\n",
       "      <td>38</td>\n",
       "      <td>409</td>\n",
       "      <td>268</td>\n",
       "      <td>0</td>\n",
       "      <td>0</td>\n",
       "      <td>36</td>\n",
       "      <td>0</td>\n",
       "      <td>73</td>\n",
       "      <td>32</td>\n",
       "    </tr>\n",
       "    <tr>\n",
       "      <th>1</th>\n",
       "      <td>060371863012</td>\n",
       "      <td>Block Group 2, Census Tract 1863.01, Los Angel...</td>\n",
       "      <td>ACSSF</td>\n",
       "      <td>ca</td>\n",
       "      <td>0</td>\n",
       "      <td>15235</td>\n",
       "      <td>06</td>\n",
       "      <td>037</td>\n",
       "      <td>186301</td>\n",
       "      <td>2</td>\n",
       "      <td>...</td>\n",
       "      <td>0</td>\n",
       "      <td>5</td>\n",
       "      <td>811</td>\n",
       "      <td>415</td>\n",
       "      <td>0</td>\n",
       "      <td>62</td>\n",
       "      <td>0</td>\n",
       "      <td>0</td>\n",
       "      <td>334</td>\n",
       "      <td>0</td>\n",
       "    </tr>\n",
       "    <tr>\n",
       "      <th>2</th>\n",
       "      <td>060371863013</td>\n",
       "      <td>Block Group 3, Census Tract 1863.01, Los Angel...</td>\n",
       "      <td>ACSSF</td>\n",
       "      <td>ca</td>\n",
       "      <td>0</td>\n",
       "      <td>15236</td>\n",
       "      <td>06</td>\n",
       "      <td>037</td>\n",
       "      <td>186301</td>\n",
       "      <td>3</td>\n",
       "      <td>...</td>\n",
       "      <td>0</td>\n",
       "      <td>24</td>\n",
       "      <td>782</td>\n",
       "      <td>272</td>\n",
       "      <td>0</td>\n",
       "      <td>59</td>\n",
       "      <td>21</td>\n",
       "      <td>0</td>\n",
       "      <td>328</td>\n",
       "      <td>102</td>\n",
       "    </tr>\n",
       "    <tr>\n",
       "      <th>3</th>\n",
       "      <td>060371863021</td>\n",
       "      <td>Block Group 1, Census Tract 1863.02, Los Angel...</td>\n",
       "      <td>ACSSF</td>\n",
       "      <td>ca</td>\n",
       "      <td>0</td>\n",
       "      <td>15237</td>\n",
       "      <td>06</td>\n",
       "      <td>037</td>\n",
       "      <td>186302</td>\n",
       "      <td>1</td>\n",
       "      <td>...</td>\n",
       "      <td>0</td>\n",
       "      <td>60</td>\n",
       "      <td>304</td>\n",
       "      <td>103</td>\n",
       "      <td>0</td>\n",
       "      <td>20</td>\n",
       "      <td>0</td>\n",
       "      <td>0</td>\n",
       "      <td>141</td>\n",
       "      <td>40</td>\n",
       "    </tr>\n",
       "    <tr>\n",
       "      <th>4</th>\n",
       "      <td>060371864011</td>\n",
       "      <td>Block Group 1, Census Tract 1864.01, Los Angel...</td>\n",
       "      <td>ACSSF</td>\n",
       "      <td>ca</td>\n",
       "      <td>0</td>\n",
       "      <td>15240</td>\n",
       "      <td>06</td>\n",
       "      <td>037</td>\n",
       "      <td>186401</td>\n",
       "      <td>1</td>\n",
       "      <td>...</td>\n",
       "      <td>0</td>\n",
       "      <td>8</td>\n",
       "      <td>2116</td>\n",
       "      <td>760</td>\n",
       "      <td>11</td>\n",
       "      <td>57</td>\n",
       "      <td>0</td>\n",
       "      <td>0</td>\n",
       "      <td>1107</td>\n",
       "      <td>181</td>\n",
       "    </tr>\n",
       "  </tbody>\n",
       "</table>\n",
       "<p>5 rows × 29 columns</p>\n",
       "</div>"
      ],
      "text/plain": [
       "       Geo_FIPS                                          Geo_QName Geo_FILEID  \\\n",
       "0  060371863011  Block Group 1, Census Tract 1863.01, Los Angel...      ACSSF   \n",
       "1  060371863012  Block Group 2, Census Tract 1863.01, Los Angel...      ACSSF   \n",
       "2  060371863013  Block Group 3, Census Tract 1863.01, Los Angel...      ACSSF   \n",
       "3  060371863021  Block Group 1, Census Tract 1863.02, Los Angel...      ACSSF   \n",
       "4  060371864011  Block Group 1, Census Tract 1864.01, Los Angel...      ACSSF   \n",
       "\n",
       "  Geo_STUSAB  Geo_GEOCOMP  Geo_LOGRECNO Geo_STATE Geo_COUNTY  Geo_TRACT  \\\n",
       "0         ca            0         15234        06        037     186301   \n",
       "1         ca            0         15235        06        037     186301   \n",
       "2         ca            0         15236        06        037     186301   \n",
       "3         ca            0         15237        06        037     186302   \n",
       "4         ca            0         15240        06        037     186401   \n",
       "\n",
       "   Geo_BLKGRP  ... SE_A04001_008 SE_A04001_009  SE_A04001_010  SE_A04001_011  \\\n",
       "0           1  ...             0            38            409            268   \n",
       "1           2  ...             0             5            811            415   \n",
       "2           3  ...             0            24            782            272   \n",
       "3           1  ...             0            60            304            103   \n",
       "4           1  ...             0             8           2116            760   \n",
       "\n",
       "   SE_A04001_012  SE_A04001_013  SE_A04001_014  SE_A04001_015  SE_A04001_016  \\\n",
       "0              0              0             36              0             73   \n",
       "1              0             62              0              0            334   \n",
       "2              0             59             21              0            328   \n",
       "3              0             20              0              0            141   \n",
       "4             11             57              0              0           1107   \n",
       "\n",
       "   SE_A04001_017  \n",
       "0             32  \n",
       "1              0  \n",
       "2            102  \n",
       "3             40  \n",
       "4            181  \n",
       "\n",
       "[5 rows x 29 columns]"
      ]
     },
     "execution_count": 180,
     "metadata": {},
     "output_type": "execute_result"
    }
   ],
   "source": [
    "df3.head()"
   ]
  },
  {
   "cell_type": "code",
   "execution_count": 181,
   "metadata": {},
   "outputs": [],
   "source": [
    "columns_to_drop = ['Geo_FILEID','Geo_STUSAB','Geo_GEOCOMP','Geo_LOGRECNO','Geo_STATE', 'Geo_COUNTY','Geo_GEOID','SE_A04001_002','SE_A04001_011','SE_A04001_012','SE_A04001_013','SE_A04001_014','SE_A04001_015','SE_A04001_016','SE_A04001_017']"
   ]
  },
  {
   "cell_type": "code",
   "execution_count": 182,
   "metadata": {},
   "outputs": [
    {
     "data": {
      "text/html": [
       "<div>\n",
       "<style scoped>\n",
       "    .dataframe tbody tr th:only-of-type {\n",
       "        vertical-align: middle;\n",
       "    }\n",
       "\n",
       "    .dataframe tbody tr th {\n",
       "        vertical-align: top;\n",
       "    }\n",
       "\n",
       "    .dataframe thead th {\n",
       "        text-align: right;\n",
       "    }\n",
       "</style>\n",
       "<table border=\"1\" class=\"dataframe\">\n",
       "  <thead>\n",
       "    <tr style=\"text-align: right;\">\n",
       "      <th></th>\n",
       "      <th>Geo_FIPS</th>\n",
       "      <th>Geo_QName</th>\n",
       "      <th>Geo_TRACT</th>\n",
       "      <th>Geo_BLKGRP</th>\n",
       "      <th>Geo_NAME</th>\n",
       "      <th>SE_A04001_001</th>\n",
       "      <th>SE_A04001_003</th>\n",
       "      <th>SE_A04001_004</th>\n",
       "      <th>SE_A04001_005</th>\n",
       "      <th>SE_A04001_006</th>\n",
       "      <th>SE_A04001_007</th>\n",
       "      <th>SE_A04001_008</th>\n",
       "      <th>SE_A04001_009</th>\n",
       "      <th>SE_A04001_010</th>\n",
       "    </tr>\n",
       "  </thead>\n",
       "  <tbody>\n",
       "    <tr>\n",
       "      <th>0</th>\n",
       "      <td>060371863011</td>\n",
       "      <td>Block Group 1, Census Tract 1863.01, Los Angel...</td>\n",
       "      <td>186301</td>\n",
       "      <td>1</td>\n",
       "      <td>Block Group 1</td>\n",
       "      <td>924</td>\n",
       "      <td>324</td>\n",
       "      <td>89</td>\n",
       "      <td>0</td>\n",
       "      <td>64</td>\n",
       "      <td>0</td>\n",
       "      <td>0</td>\n",
       "      <td>38</td>\n",
       "      <td>409</td>\n",
       "    </tr>\n",
       "    <tr>\n",
       "      <th>1</th>\n",
       "      <td>060371863012</td>\n",
       "      <td>Block Group 2, Census Tract 1863.01, Los Angel...</td>\n",
       "      <td>186301</td>\n",
       "      <td>2</td>\n",
       "      <td>Block Group 2</td>\n",
       "      <td>948</td>\n",
       "      <td>107</td>\n",
       "      <td>25</td>\n",
       "      <td>0</td>\n",
       "      <td>0</td>\n",
       "      <td>0</td>\n",
       "      <td>0</td>\n",
       "      <td>5</td>\n",
       "      <td>811</td>\n",
       "    </tr>\n",
       "    <tr>\n",
       "      <th>2</th>\n",
       "      <td>060371863013</td>\n",
       "      <td>Block Group 3, Census Tract 1863.01, Los Angel...</td>\n",
       "      <td>186301</td>\n",
       "      <td>3</td>\n",
       "      <td>Block Group 3</td>\n",
       "      <td>1034</td>\n",
       "      <td>83</td>\n",
       "      <td>79</td>\n",
       "      <td>0</td>\n",
       "      <td>66</td>\n",
       "      <td>0</td>\n",
       "      <td>0</td>\n",
       "      <td>24</td>\n",
       "      <td>782</td>\n",
       "    </tr>\n",
       "    <tr>\n",
       "      <th>3</th>\n",
       "      <td>060371863021</td>\n",
       "      <td>Block Group 1, Census Tract 1863.02, Los Angel...</td>\n",
       "      <td>186302</td>\n",
       "      <td>1</td>\n",
       "      <td>Block Group 1</td>\n",
       "      <td>1454</td>\n",
       "      <td>608</td>\n",
       "      <td>34</td>\n",
       "      <td>0</td>\n",
       "      <td>448</td>\n",
       "      <td>0</td>\n",
       "      <td>0</td>\n",
       "      <td>60</td>\n",
       "      <td>304</td>\n",
       "    </tr>\n",
       "    <tr>\n",
       "      <th>4</th>\n",
       "      <td>060371864011</td>\n",
       "      <td>Block Group 1, Census Tract 1864.01, Los Angel...</td>\n",
       "      <td>186401</td>\n",
       "      <td>1</td>\n",
       "      <td>Block Group 1</td>\n",
       "      <td>2551</td>\n",
       "      <td>147</td>\n",
       "      <td>0</td>\n",
       "      <td>0</td>\n",
       "      <td>280</td>\n",
       "      <td>0</td>\n",
       "      <td>0</td>\n",
       "      <td>8</td>\n",
       "      <td>2116</td>\n",
       "    </tr>\n",
       "  </tbody>\n",
       "</table>\n",
       "</div>"
      ],
      "text/plain": [
       "       Geo_FIPS                                          Geo_QName  Geo_TRACT  \\\n",
       "0  060371863011  Block Group 1, Census Tract 1863.01, Los Angel...     186301   \n",
       "1  060371863012  Block Group 2, Census Tract 1863.01, Los Angel...     186301   \n",
       "2  060371863013  Block Group 3, Census Tract 1863.01, Los Angel...     186301   \n",
       "3  060371863021  Block Group 1, Census Tract 1863.02, Los Angel...     186302   \n",
       "4  060371864011  Block Group 1, Census Tract 1864.01, Los Angel...     186401   \n",
       "\n",
       "   Geo_BLKGRP       Geo_NAME  SE_A04001_001  SE_A04001_003  SE_A04001_004  \\\n",
       "0           1  Block Group 1            924            324             89   \n",
       "1           2  Block Group 2            948            107             25   \n",
       "2           3  Block Group 3           1034             83             79   \n",
       "3           1  Block Group 1           1454            608             34   \n",
       "4           1  Block Group 1           2551            147              0   \n",
       "\n",
       "   SE_A04001_005  SE_A04001_006  SE_A04001_007  SE_A04001_008  SE_A04001_009  \\\n",
       "0              0             64              0              0             38   \n",
       "1              0              0              0              0              5   \n",
       "2              0             66              0              0             24   \n",
       "3              0            448              0              0             60   \n",
       "4              0            280              0              0              8   \n",
       "\n",
       "   SE_A04001_010  \n",
       "0            409  \n",
       "1            811  \n",
       "2            782  \n",
       "3            304  \n",
       "4           2116  "
      ]
     },
     "execution_count": 182,
     "metadata": {},
     "output_type": "execute_result"
    }
   ],
   "source": [
    "df3 = df3.drop(columns_to_drop,axis=1)\n",
    "df3.head()"
   ]
  },
  {
   "cell_type": "code",
   "execution_count": 183,
   "metadata": {},
   "outputs": [
    {
     "data": {
      "text/plain": [
       "['Geo_FIPS',\n",
       " 'Geo_QName',\n",
       " 'Geo_TRACT',\n",
       " 'Geo_BLKGRP',\n",
       " 'Geo_NAME',\n",
       " 'SE_A04001_001',\n",
       " 'SE_A04001_003',\n",
       " 'SE_A04001_004',\n",
       " 'SE_A04001_005',\n",
       " 'SE_A04001_006',\n",
       " 'SE_A04001_007',\n",
       " 'SE_A04001_008',\n",
       " 'SE_A04001_009',\n",
       " 'SE_A04001_010']"
      ]
     },
     "execution_count": 183,
     "metadata": {},
     "output_type": "execute_result"
    }
   ],
   "source": [
    "columns3 = list(df3) # this is the same as df.columns.to_list()\n",
    "columns3"
   ]
  },
  {
   "cell_type": "code",
   "execution_count": 184,
   "metadata": {},
   "outputs": [],
   "source": [
    "df3.columns = ['FIPS',\n",
    " 'Geo_NAME',\n",
    " 'Geo_QName',\n",
    " 'Geo_TRACT',\n",
    " 'Geo_BLKGRP',\n",
    " 'Total Population',\n",
    " 'White',\n",
    " 'Black',\n",
    " 'AmIndian',\n",
    "'Native Hawaiian and Other Pacific Islander Alone',\n",
    " 'Asian',\n",
    " 'Some Other Race Alone',\n",
    " 'Two or More Races',\n",
    " 'Hispanic or Latino']"
   ]
  },
  {
   "cell_type": "code",
   "execution_count": 185,
   "metadata": {},
   "outputs": [
    {
     "data": {
      "text/html": [
       "<div>\n",
       "<style scoped>\n",
       "    .dataframe tbody tr th:only-of-type {\n",
       "        vertical-align: middle;\n",
       "    }\n",
       "\n",
       "    .dataframe tbody tr th {\n",
       "        vertical-align: top;\n",
       "    }\n",
       "\n",
       "    .dataframe thead th {\n",
       "        text-align: right;\n",
       "    }\n",
       "</style>\n",
       "<table border=\"1\" class=\"dataframe\">\n",
       "  <thead>\n",
       "    <tr style=\"text-align: right;\">\n",
       "      <th></th>\n",
       "      <th>FIPS</th>\n",
       "      <th>Geo_NAME</th>\n",
       "      <th>Geo_QName</th>\n",
       "      <th>Geo_TRACT</th>\n",
       "      <th>Geo_BLKGRP</th>\n",
       "      <th>Total Population</th>\n",
       "      <th>White</th>\n",
       "      <th>Black</th>\n",
       "      <th>AmIndian</th>\n",
       "      <th>Native Hawaiian and Other Pacific Islander Alone</th>\n",
       "      <th>Asian</th>\n",
       "      <th>Some Other Race Alone</th>\n",
       "      <th>Two or More Races</th>\n",
       "      <th>Hispanic or Latino</th>\n",
       "    </tr>\n",
       "  </thead>\n",
       "  <tbody>\n",
       "    <tr>\n",
       "      <th>0</th>\n",
       "      <td>060371863011</td>\n",
       "      <td>Block Group 1, Census Tract 1863.01, Los Angel...</td>\n",
       "      <td>186301</td>\n",
       "      <td>1</td>\n",
       "      <td>Block Group 1</td>\n",
       "      <td>924</td>\n",
       "      <td>324</td>\n",
       "      <td>89</td>\n",
       "      <td>0</td>\n",
       "      <td>64</td>\n",
       "      <td>0</td>\n",
       "      <td>0</td>\n",
       "      <td>38</td>\n",
       "      <td>409</td>\n",
       "    </tr>\n",
       "    <tr>\n",
       "      <th>1</th>\n",
       "      <td>060371863012</td>\n",
       "      <td>Block Group 2, Census Tract 1863.01, Los Angel...</td>\n",
       "      <td>186301</td>\n",
       "      <td>2</td>\n",
       "      <td>Block Group 2</td>\n",
       "      <td>948</td>\n",
       "      <td>107</td>\n",
       "      <td>25</td>\n",
       "      <td>0</td>\n",
       "      <td>0</td>\n",
       "      <td>0</td>\n",
       "      <td>0</td>\n",
       "      <td>5</td>\n",
       "      <td>811</td>\n",
       "    </tr>\n",
       "    <tr>\n",
       "      <th>2</th>\n",
       "      <td>060371863013</td>\n",
       "      <td>Block Group 3, Census Tract 1863.01, Los Angel...</td>\n",
       "      <td>186301</td>\n",
       "      <td>3</td>\n",
       "      <td>Block Group 3</td>\n",
       "      <td>1034</td>\n",
       "      <td>83</td>\n",
       "      <td>79</td>\n",
       "      <td>0</td>\n",
       "      <td>66</td>\n",
       "      <td>0</td>\n",
       "      <td>0</td>\n",
       "      <td>24</td>\n",
       "      <td>782</td>\n",
       "    </tr>\n",
       "    <tr>\n",
       "      <th>3</th>\n",
       "      <td>060371863021</td>\n",
       "      <td>Block Group 1, Census Tract 1863.02, Los Angel...</td>\n",
       "      <td>186302</td>\n",
       "      <td>1</td>\n",
       "      <td>Block Group 1</td>\n",
       "      <td>1454</td>\n",
       "      <td>608</td>\n",
       "      <td>34</td>\n",
       "      <td>0</td>\n",
       "      <td>448</td>\n",
       "      <td>0</td>\n",
       "      <td>0</td>\n",
       "      <td>60</td>\n",
       "      <td>304</td>\n",
       "    </tr>\n",
       "    <tr>\n",
       "      <th>4</th>\n",
       "      <td>060371864011</td>\n",
       "      <td>Block Group 1, Census Tract 1864.01, Los Angel...</td>\n",
       "      <td>186401</td>\n",
       "      <td>1</td>\n",
       "      <td>Block Group 1</td>\n",
       "      <td>2551</td>\n",
       "      <td>147</td>\n",
       "      <td>0</td>\n",
       "      <td>0</td>\n",
       "      <td>280</td>\n",
       "      <td>0</td>\n",
       "      <td>0</td>\n",
       "      <td>8</td>\n",
       "      <td>2116</td>\n",
       "    </tr>\n",
       "  </tbody>\n",
       "</table>\n",
       "</div>"
      ],
      "text/plain": [
       "           FIPS                                           Geo_NAME  Geo_QName  \\\n",
       "0  060371863011  Block Group 1, Census Tract 1863.01, Los Angel...     186301   \n",
       "1  060371863012  Block Group 2, Census Tract 1863.01, Los Angel...     186301   \n",
       "2  060371863013  Block Group 3, Census Tract 1863.01, Los Angel...     186301   \n",
       "3  060371863021  Block Group 1, Census Tract 1863.02, Los Angel...     186302   \n",
       "4  060371864011  Block Group 1, Census Tract 1864.01, Los Angel...     186401   \n",
       "\n",
       "   Geo_TRACT     Geo_BLKGRP  Total Population  White  Black  AmIndian  \\\n",
       "0          1  Block Group 1               924    324     89         0   \n",
       "1          2  Block Group 2               948    107     25         0   \n",
       "2          3  Block Group 3              1034     83     79         0   \n",
       "3          1  Block Group 1              1454    608     34         0   \n",
       "4          1  Block Group 1              2551    147      0         0   \n",
       "\n",
       "   Native Hawaiian and Other Pacific Islander Alone  Asian  \\\n",
       "0                                                64      0   \n",
       "1                                                 0      0   \n",
       "2                                                66      0   \n",
       "3                                               448      0   \n",
       "4                                               280      0   \n",
       "\n",
       "   Some Other Race Alone  Two or More Races  Hispanic or Latino  \n",
       "0                      0                 38                 409  \n",
       "1                      0                  5                 811  \n",
       "2                      0                 24                 782  \n",
       "3                      0                 60                 304  \n",
       "4                      0                  8                2116  "
      ]
     },
     "execution_count": 185,
     "metadata": {},
     "output_type": "execute_result"
    }
   ],
   "source": [
    "df3.head()"
   ]
  },
  {
   "cell_type": "code",
   "execution_count": 186,
   "metadata": {},
   "outputs": [],
   "source": [
    "df3_sum= df3.sum().reset_index()"
   ]
  },
  {
   "cell_type": "code",
   "execution_count": 187,
   "metadata": {},
   "outputs": [
    {
     "data": {
      "text/html": [
       "<div>\n",
       "<style scoped>\n",
       "    .dataframe tbody tr th:only-of-type {\n",
       "        vertical-align: middle;\n",
       "    }\n",
       "\n",
       "    .dataframe tbody tr th {\n",
       "        vertical-align: top;\n",
       "    }\n",
       "\n",
       "    .dataframe thead th {\n",
       "        text-align: right;\n",
       "    }\n",
       "</style>\n",
       "<table border=\"1\" class=\"dataframe\">\n",
       "  <thead>\n",
       "    <tr style=\"text-align: right;\">\n",
       "      <th></th>\n",
       "      <th>index</th>\n",
       "      <th>0</th>\n",
       "    </tr>\n",
       "  </thead>\n",
       "  <tbody>\n",
       "    <tr>\n",
       "      <th>0</th>\n",
       "      <td>FIPS</td>\n",
       "      <td>0603718630110603718630120603718630130603718630...</td>\n",
       "    </tr>\n",
       "    <tr>\n",
       "      <th>1</th>\n",
       "      <td>Geo_NAME</td>\n",
       "      <td>Block Group 1, Census Tract 1863.01, Los Angel...</td>\n",
       "    </tr>\n",
       "    <tr>\n",
       "      <th>2</th>\n",
       "      <td>Geo_QName</td>\n",
       "      <td>3368419</td>\n",
       "    </tr>\n",
       "    <tr>\n",
       "      <th>3</th>\n",
       "      <td>Geo_TRACT</td>\n",
       "      <td>31</td>\n",
       "    </tr>\n",
       "    <tr>\n",
       "      <th>4</th>\n",
       "      <td>Geo_BLKGRP</td>\n",
       "      <td>Block Group 1Block Group 2Block Group 3Block G...</td>\n",
       "    </tr>\n",
       "    <tr>\n",
       "      <th>5</th>\n",
       "      <td>Total Population</td>\n",
       "      <td>25442</td>\n",
       "    </tr>\n",
       "    <tr>\n",
       "      <th>6</th>\n",
       "      <td>White</td>\n",
       "      <td>6001</td>\n",
       "    </tr>\n",
       "    <tr>\n",
       "      <th>7</th>\n",
       "      <td>Black</td>\n",
       "      <td>443</td>\n",
       "    </tr>\n",
       "    <tr>\n",
       "      <th>8</th>\n",
       "      <td>AmIndian</td>\n",
       "      <td>141</td>\n",
       "    </tr>\n",
       "    <tr>\n",
       "      <th>9</th>\n",
       "      <td>Native Hawaiian and Other Pacific Islander Alone</td>\n",
       "      <td>4412</td>\n",
       "    </tr>\n",
       "    <tr>\n",
       "      <th>10</th>\n",
       "      <td>Asian</td>\n",
       "      <td>28</td>\n",
       "    </tr>\n",
       "    <tr>\n",
       "      <th>11</th>\n",
       "      <td>Some Other Race Alone</td>\n",
       "      <td>60</td>\n",
       "    </tr>\n",
       "    <tr>\n",
       "      <th>12</th>\n",
       "      <td>Two or More Races</td>\n",
       "      <td>673</td>\n",
       "    </tr>\n",
       "    <tr>\n",
       "      <th>13</th>\n",
       "      <td>Hispanic or Latino</td>\n",
       "      <td>13684</td>\n",
       "    </tr>\n",
       "  </tbody>\n",
       "</table>\n",
       "</div>"
      ],
      "text/plain": [
       "                                               index  \\\n",
       "0                                               FIPS   \n",
       "1                                           Geo_NAME   \n",
       "2                                          Geo_QName   \n",
       "3                                          Geo_TRACT   \n",
       "4                                         Geo_BLKGRP   \n",
       "5                                   Total Population   \n",
       "6                                              White   \n",
       "7                                              Black   \n",
       "8                                           AmIndian   \n",
       "9   Native Hawaiian and Other Pacific Islander Alone   \n",
       "10                                             Asian   \n",
       "11                             Some Other Race Alone   \n",
       "12                                 Two or More Races   \n",
       "13                                Hispanic or Latino   \n",
       "\n",
       "                                                    0  \n",
       "0   0603718630110603718630120603718630130603718630...  \n",
       "1   Block Group 1, Census Tract 1863.01, Los Angel...  \n",
       "2                                             3368419  \n",
       "3                                                  31  \n",
       "4   Block Group 1Block Group 2Block Group 3Block G...  \n",
       "5                                               25442  \n",
       "6                                                6001  \n",
       "7                                                 443  \n",
       "8                                                 141  \n",
       "9                                                4412  \n",
       "10                                                 28  \n",
       "11                                                 60  \n",
       "12                                                673  \n",
       "13                                              13684  "
      ]
     },
     "execution_count": 187,
     "metadata": {},
     "output_type": "execute_result"
    }
   ],
   "source": [
    "df3_sum"
   ]
  },
  {
   "cell_type": "code",
   "execution_count": 188,
   "metadata": {},
   "outputs": [],
   "source": [
    "df3_sum = df3_sum.set_index('index').T"
   ]
  },
  {
   "cell_type": "code",
   "execution_count": 189,
   "metadata": {},
   "outputs": [
    {
     "data": {
      "text/plain": [
       "pandas.core.frame.DataFrame"
      ]
     },
     "execution_count": 189,
     "metadata": {},
     "output_type": "execute_result"
    }
   ],
   "source": [
    "type(df3_sum)"
   ]
  },
  {
   "cell_type": "code",
   "execution_count": 190,
   "metadata": {},
   "outputs": [
    {
     "data": {
      "text/html": [
       "<div>\n",
       "<style scoped>\n",
       "    .dataframe tbody tr th:only-of-type {\n",
       "        vertical-align: middle;\n",
       "    }\n",
       "\n",
       "    .dataframe tbody tr th {\n",
       "        vertical-align: top;\n",
       "    }\n",
       "\n",
       "    .dataframe thead th {\n",
       "        text-align: right;\n",
       "    }\n",
       "</style>\n",
       "<table border=\"1\" class=\"dataframe\">\n",
       "  <thead>\n",
       "    <tr style=\"text-align: right;\">\n",
       "      <th>index</th>\n",
       "      <th>FIPS</th>\n",
       "      <th>Geo_NAME</th>\n",
       "      <th>Geo_QName</th>\n",
       "      <th>Geo_TRACT</th>\n",
       "      <th>Geo_BLKGRP</th>\n",
       "      <th>Total Population</th>\n",
       "      <th>White</th>\n",
       "      <th>Black</th>\n",
       "      <th>AmIndian</th>\n",
       "      <th>Native Hawaiian and Other Pacific Islander Alone</th>\n",
       "      <th>Asian</th>\n",
       "      <th>Some Other Race Alone</th>\n",
       "      <th>Two or More Races</th>\n",
       "      <th>Hispanic or Latino</th>\n",
       "    </tr>\n",
       "  </thead>\n",
       "  <tbody>\n",
       "    <tr>\n",
       "      <th>0</th>\n",
       "      <td>0603718630110603718630120603718630130603718630...</td>\n",
       "      <td>Block Group 1, Census Tract 1863.01, Los Angel...</td>\n",
       "      <td>3368419</td>\n",
       "      <td>31</td>\n",
       "      <td>Block Group 1Block Group 2Block Group 3Block G...</td>\n",
       "      <td>25442</td>\n",
       "      <td>6001</td>\n",
       "      <td>443</td>\n",
       "      <td>141</td>\n",
       "      <td>4412</td>\n",
       "      <td>28</td>\n",
       "      <td>60</td>\n",
       "      <td>673</td>\n",
       "      <td>13684</td>\n",
       "    </tr>\n",
       "  </tbody>\n",
       "</table>\n",
       "</div>"
      ],
      "text/plain": [
       "index                                               FIPS  \\\n",
       "0      0603718630110603718630120603718630130603718630...   \n",
       "\n",
       "index                                           Geo_NAME Geo_QName Geo_TRACT  \\\n",
       "0      Block Group 1, Census Tract 1863.01, Los Angel...   3368419        31   \n",
       "\n",
       "index                                         Geo_BLKGRP Total Population  \\\n",
       "0      Block Group 1Block Group 2Block Group 3Block G...            25442   \n",
       "\n",
       "index White Black AmIndian Native Hawaiian and Other Pacific Islander Alone  \\\n",
       "0      6001   443      141                                             4412   \n",
       "\n",
       "index Asian Some Other Race Alone Two or More Races Hispanic or Latino  \n",
       "0        28                    60               673              13684  "
      ]
     },
     "execution_count": 190,
     "metadata": {},
     "output_type": "execute_result"
    }
   ],
   "source": [
    "df3_sum.head()"
   ]
  },
  {
   "cell_type": "code",
   "execution_count": 191,
   "metadata": {},
   "outputs": [],
   "source": [
    "df3_sum['% Latino'] = df3_sum['Hispanic or Latino']/df3_sum['Total Population']*100"
   ]
  },
  {
   "cell_type": "code",
   "execution_count": 192,
   "metadata": {},
   "outputs": [],
   "source": [
    "df3_sum['% White'] = df3_sum['White']/df3_sum['Total Population']*100"
   ]
  },
  {
   "cell_type": "code",
   "execution_count": 193,
   "metadata": {},
   "outputs": [],
   "source": [
    "df3_sum['% Black'] = df3_sum['Black']/df3_sum['Total Population']*100"
   ]
  },
  {
   "cell_type": "code",
   "execution_count": 194,
   "metadata": {},
   "outputs": [],
   "source": [
    "df3_sum['neighborhood'] = 'Atwater'\n",
    "df3_sum['year'] = '2019'"
   ]
  },
  {
   "cell_type": "code",
   "execution_count": 195,
   "metadata": {},
   "outputs": [
    {
     "data": {
      "text/html": [
       "<div>\n",
       "<style scoped>\n",
       "    .dataframe tbody tr th:only-of-type {\n",
       "        vertical-align: middle;\n",
       "    }\n",
       "\n",
       "    .dataframe tbody tr th {\n",
       "        vertical-align: top;\n",
       "    }\n",
       "\n",
       "    .dataframe thead th {\n",
       "        text-align: right;\n",
       "    }\n",
       "</style>\n",
       "<table border=\"1\" class=\"dataframe\">\n",
       "  <thead>\n",
       "    <tr style=\"text-align: right;\">\n",
       "      <th>index</th>\n",
       "      <th>FIPS</th>\n",
       "      <th>Geo_NAME</th>\n",
       "      <th>Geo_QName</th>\n",
       "      <th>Geo_TRACT</th>\n",
       "      <th>Geo_BLKGRP</th>\n",
       "      <th>Total Population</th>\n",
       "      <th>White</th>\n",
       "      <th>Black</th>\n",
       "      <th>AmIndian</th>\n",
       "      <th>Native Hawaiian and Other Pacific Islander Alone</th>\n",
       "      <th>Asian</th>\n",
       "      <th>Some Other Race Alone</th>\n",
       "      <th>Two or More Races</th>\n",
       "      <th>Hispanic or Latino</th>\n",
       "      <th>% Latino</th>\n",
       "      <th>% White</th>\n",
       "      <th>% Black</th>\n",
       "      <th>neighborhood</th>\n",
       "      <th>year</th>\n",
       "    </tr>\n",
       "  </thead>\n",
       "  <tbody>\n",
       "    <tr>\n",
       "      <th>0</th>\n",
       "      <td>0603718630110603718630120603718630130603718630...</td>\n",
       "      <td>Block Group 1, Census Tract 1863.01, Los Angel...</td>\n",
       "      <td>3368419</td>\n",
       "      <td>31</td>\n",
       "      <td>Block Group 1Block Group 2Block Group 3Block G...</td>\n",
       "      <td>25442</td>\n",
       "      <td>6001</td>\n",
       "      <td>443</td>\n",
       "      <td>141</td>\n",
       "      <td>4412</td>\n",
       "      <td>28</td>\n",
       "      <td>60</td>\n",
       "      <td>673</td>\n",
       "      <td>13684</td>\n",
       "      <td>53.7851</td>\n",
       "      <td>23.587</td>\n",
       "      <td>1.74122</td>\n",
       "      <td>Atwater</td>\n",
       "      <td>2019</td>\n",
       "    </tr>\n",
       "  </tbody>\n",
       "</table>\n",
       "</div>"
      ],
      "text/plain": [
       "index                                               FIPS  \\\n",
       "0      0603718630110603718630120603718630130603718630...   \n",
       "\n",
       "index                                           Geo_NAME Geo_QName Geo_TRACT  \\\n",
       "0      Block Group 1, Census Tract 1863.01, Los Angel...   3368419        31   \n",
       "\n",
       "index                                         Geo_BLKGRP Total Population  \\\n",
       "0      Block Group 1Block Group 2Block Group 3Block G...            25442   \n",
       "\n",
       "index White Black AmIndian Native Hawaiian and Other Pacific Islander Alone  \\\n",
       "0      6001   443      141                                             4412   \n",
       "\n",
       "index Asian Some Other Race Alone Two or More Races Hispanic or Latino  \\\n",
       "0        28                    60               673              13684   \n",
       "\n",
       "index % Latino % White  % Black neighborhood  year  \n",
       "0      53.7851  23.587  1.74122      Atwater  2019  "
      ]
     },
     "execution_count": 195,
     "metadata": {},
     "output_type": "execute_result"
    }
   ],
   "source": [
    "df3_sum.head()"
   ]
  },
  {
   "cell_type": "markdown",
   "metadata": {},
   "source": [
    "### Leimert Park Race Data"
   ]
  },
  {
   "cell_type": "code",
   "execution_count": 196,
   "metadata": {},
   "outputs": [],
   "source": [
    "df4 = pd.read_csv('data/Leimert2019_Race.csv')"
   ]
  },
  {
   "cell_type": "code",
   "execution_count": 197,
   "metadata": {},
   "outputs": [],
   "source": [
    "df4 = pd.read_csv(\n",
    "    'data/Leimert2019_Race.csv',\n",
    "    dtype=\n",
    "    {\n",
    "        'Geo_FIPS':str,\n",
    "        'Geo_STATE':str,\n",
    "        'Geo_COUNTY': str\n",
    "    }\n",
    ")"
   ]
  },
  {
   "cell_type": "code",
   "execution_count": 198,
   "metadata": {},
   "outputs": [
    {
     "data": {
      "text/plain": [
       "['Geo_US',\n",
       " 'Geo_REGION',\n",
       " 'Geo_DIVISION',\n",
       " 'Geo_STATECE',\n",
       " 'Geo_COUSUB',\n",
       " 'Geo_PLACE',\n",
       " 'Geo_CONCIT',\n",
       " 'Geo_AIANHH',\n",
       " 'Geo_AIANHHFP',\n",
       " 'Geo_AIHHTLI',\n",
       " 'Geo_AITSCE',\n",
       " 'Geo_AITS',\n",
       " 'Geo_ANRC',\n",
       " 'Geo_CBSA',\n",
       " 'Geo_CSA',\n",
       " 'Geo_METDIV',\n",
       " 'Geo_MACC',\n",
       " 'Geo_MEMI',\n",
       " 'Geo_NECTA',\n",
       " 'Geo_CNECTA',\n",
       " 'Geo_NECTADIV',\n",
       " 'Geo_UA',\n",
       " 'Geo_UACP',\n",
       " 'Geo_CDCURR',\n",
       " 'Geo_SLDU',\n",
       " 'Geo_SLDL',\n",
       " 'Geo_VTD',\n",
       " 'Geo_ZCTA3',\n",
       " 'Geo_ZCTA5',\n",
       " 'Geo_SUBMCD',\n",
       " 'Geo_SDELM',\n",
       " 'Geo_SDSEC',\n",
       " 'Geo_SDUNI',\n",
       " 'Geo_UR',\n",
       " 'Geo_PCI',\n",
       " 'Geo_TAZ',\n",
       " 'Geo_UGA',\n",
       " 'Geo_PUMA5',\n",
       " 'Geo_PUMA1',\n",
       " 'Geo_BTTR',\n",
       " 'Geo_BTBG',\n",
       " 'Geo_PLACESE']"
      ]
     },
     "execution_count": 198,
     "metadata": {},
     "output_type": "execute_result"
    }
   ],
   "source": [
    "df4.columns[df4.isna().all()].tolist()"
   ]
  },
  {
   "cell_type": "code",
   "execution_count": 199,
   "metadata": {},
   "outputs": [],
   "source": [
    "df4 = df4.dropna(axis=1,how=\"all\")"
   ]
  },
  {
   "cell_type": "code",
   "execution_count": 200,
   "metadata": {},
   "outputs": [
    {
     "data": {
      "text/html": [
       "<div>\n",
       "<style scoped>\n",
       "    .dataframe tbody tr th:only-of-type {\n",
       "        vertical-align: middle;\n",
       "    }\n",
       "\n",
       "    .dataframe tbody tr th {\n",
       "        vertical-align: top;\n",
       "    }\n",
       "\n",
       "    .dataframe thead th {\n",
       "        text-align: right;\n",
       "    }\n",
       "</style>\n",
       "<table border=\"1\" class=\"dataframe\">\n",
       "  <thead>\n",
       "    <tr style=\"text-align: right;\">\n",
       "      <th></th>\n",
       "      <th>Geo_FIPS</th>\n",
       "      <th>Geo_QName</th>\n",
       "      <th>Geo_FILEID</th>\n",
       "      <th>Geo_STUSAB</th>\n",
       "      <th>Geo_GEOCOMP</th>\n",
       "      <th>Geo_LOGRECNO</th>\n",
       "      <th>Geo_STATE</th>\n",
       "      <th>Geo_COUNTY</th>\n",
       "      <th>Geo_TRACT</th>\n",
       "      <th>Geo_BLKGRP</th>\n",
       "      <th>...</th>\n",
       "      <th>SE_A04001_008</th>\n",
       "      <th>SE_A04001_009</th>\n",
       "      <th>SE_A04001_010</th>\n",
       "      <th>SE_A04001_011</th>\n",
       "      <th>SE_A04001_012</th>\n",
       "      <th>SE_A04001_013</th>\n",
       "      <th>SE_A04001_014</th>\n",
       "      <th>SE_A04001_015</th>\n",
       "      <th>SE_A04001_016</th>\n",
       "      <th>SE_A04001_017</th>\n",
       "    </tr>\n",
       "  </thead>\n",
       "  <tbody>\n",
       "    <tr>\n",
       "      <th>0</th>\n",
       "      <td>060372190203</td>\n",
       "      <td>Block Group 3, Census Tract 2190.20, Los Angel...</td>\n",
       "      <td>ACSSF</td>\n",
       "      <td>ca</td>\n",
       "      <td>0</td>\n",
       "      <td>15885</td>\n",
       "      <td>06</td>\n",
       "      <td>037</td>\n",
       "      <td>219020</td>\n",
       "      <td>3</td>\n",
       "      <td>...</td>\n",
       "      <td>0</td>\n",
       "      <td>0</td>\n",
       "      <td>935</td>\n",
       "      <td>414</td>\n",
       "      <td>0</td>\n",
       "      <td>0</td>\n",
       "      <td>0</td>\n",
       "      <td>0</td>\n",
       "      <td>407</td>\n",
       "      <td>114</td>\n",
       "    </tr>\n",
       "    <tr>\n",
       "      <th>1</th>\n",
       "      <td>060372340001</td>\n",
       "      <td>Block Group 1, Census Tract 2340, Los Angeles ...</td>\n",
       "      <td>ACSSF</td>\n",
       "      <td>ca</td>\n",
       "      <td>0</td>\n",
       "      <td>16106</td>\n",
       "      <td>06</td>\n",
       "      <td>037</td>\n",
       "      <td>234000</td>\n",
       "      <td>1</td>\n",
       "      <td>...</td>\n",
       "      <td>0</td>\n",
       "      <td>12</td>\n",
       "      <td>1425</td>\n",
       "      <td>485</td>\n",
       "      <td>222</td>\n",
       "      <td>0</td>\n",
       "      <td>0</td>\n",
       "      <td>0</td>\n",
       "      <td>718</td>\n",
       "      <td>0</td>\n",
       "    </tr>\n",
       "    <tr>\n",
       "      <th>2</th>\n",
       "      <td>060372340002</td>\n",
       "      <td>Block Group 2, Census Tract 2340, Los Angeles ...</td>\n",
       "      <td>ACSSF</td>\n",
       "      <td>ca</td>\n",
       "      <td>0</td>\n",
       "      <td>16107</td>\n",
       "      <td>06</td>\n",
       "      <td>037</td>\n",
       "      <td>234000</td>\n",
       "      <td>2</td>\n",
       "      <td>...</td>\n",
       "      <td>0</td>\n",
       "      <td>0</td>\n",
       "      <td>95</td>\n",
       "      <td>0</td>\n",
       "      <td>0</td>\n",
       "      <td>12</td>\n",
       "      <td>0</td>\n",
       "      <td>0</td>\n",
       "      <td>38</td>\n",
       "      <td>45</td>\n",
       "    </tr>\n",
       "    <tr>\n",
       "      <th>3</th>\n",
       "      <td>060372340003</td>\n",
       "      <td>Block Group 3, Census Tract 2340, Los Angeles ...</td>\n",
       "      <td>ACSSF</td>\n",
       "      <td>ca</td>\n",
       "      <td>0</td>\n",
       "      <td>16108</td>\n",
       "      <td>06</td>\n",
       "      <td>037</td>\n",
       "      <td>234000</td>\n",
       "      <td>3</td>\n",
       "      <td>...</td>\n",
       "      <td>0</td>\n",
       "      <td>22</td>\n",
       "      <td>29</td>\n",
       "      <td>21</td>\n",
       "      <td>0</td>\n",
       "      <td>0</td>\n",
       "      <td>0</td>\n",
       "      <td>0</td>\n",
       "      <td>0</td>\n",
       "      <td>8</td>\n",
       "    </tr>\n",
       "    <tr>\n",
       "      <th>4</th>\n",
       "      <td>060372340004</td>\n",
       "      <td>Block Group 4, Census Tract 2340, Los Angeles ...</td>\n",
       "      <td>ACSSF</td>\n",
       "      <td>ca</td>\n",
       "      <td>0</td>\n",
       "      <td>16109</td>\n",
       "      <td>06</td>\n",
       "      <td>037</td>\n",
       "      <td>234000</td>\n",
       "      <td>4</td>\n",
       "      <td>...</td>\n",
       "      <td>0</td>\n",
       "      <td>44</td>\n",
       "      <td>171</td>\n",
       "      <td>156</td>\n",
       "      <td>0</td>\n",
       "      <td>0</td>\n",
       "      <td>0</td>\n",
       "      <td>0</td>\n",
       "      <td>11</td>\n",
       "      <td>4</td>\n",
       "    </tr>\n",
       "  </tbody>\n",
       "</table>\n",
       "<p>5 rows × 29 columns</p>\n",
       "</div>"
      ],
      "text/plain": [
       "       Geo_FIPS                                          Geo_QName Geo_FILEID  \\\n",
       "0  060372190203  Block Group 3, Census Tract 2190.20, Los Angel...      ACSSF   \n",
       "1  060372340001  Block Group 1, Census Tract 2340, Los Angeles ...      ACSSF   \n",
       "2  060372340002  Block Group 2, Census Tract 2340, Los Angeles ...      ACSSF   \n",
       "3  060372340003  Block Group 3, Census Tract 2340, Los Angeles ...      ACSSF   \n",
       "4  060372340004  Block Group 4, Census Tract 2340, Los Angeles ...      ACSSF   \n",
       "\n",
       "  Geo_STUSAB  Geo_GEOCOMP  Geo_LOGRECNO Geo_STATE Geo_COUNTY  Geo_TRACT  \\\n",
       "0         ca            0         15885        06        037     219020   \n",
       "1         ca            0         16106        06        037     234000   \n",
       "2         ca            0         16107        06        037     234000   \n",
       "3         ca            0         16108        06        037     234000   \n",
       "4         ca            0         16109        06        037     234000   \n",
       "\n",
       "   Geo_BLKGRP  ... SE_A04001_008 SE_A04001_009  SE_A04001_010  SE_A04001_011  \\\n",
       "0           3  ...             0             0            935            414   \n",
       "1           1  ...             0            12           1425            485   \n",
       "2           2  ...             0             0             95              0   \n",
       "3           3  ...             0            22             29             21   \n",
       "4           4  ...             0            44            171            156   \n",
       "\n",
       "   SE_A04001_012  SE_A04001_013  SE_A04001_014  SE_A04001_015  SE_A04001_016  \\\n",
       "0              0              0              0              0            407   \n",
       "1            222              0              0              0            718   \n",
       "2              0             12              0              0             38   \n",
       "3              0              0              0              0              0   \n",
       "4              0              0              0              0             11   \n",
       "\n",
       "   SE_A04001_017  \n",
       "0            114  \n",
       "1              0  \n",
       "2             45  \n",
       "3              8  \n",
       "4              4  \n",
       "\n",
       "[5 rows x 29 columns]"
      ]
     },
     "execution_count": 200,
     "metadata": {},
     "output_type": "execute_result"
    }
   ],
   "source": [
    "df4.head()"
   ]
  },
  {
   "cell_type": "code",
   "execution_count": 201,
   "metadata": {},
   "outputs": [],
   "source": [
    "columns_to_drop = ['Geo_FILEID','Geo_STUSAB','Geo_GEOCOMP','Geo_LOGRECNO','Geo_STATE', 'Geo_COUNTY','Geo_GEOID','SE_A04001_002','SE_A04001_011','SE_A04001_012','SE_A04001_013','SE_A04001_014','SE_A04001_015','SE_A04001_016','SE_A04001_017']"
   ]
  },
  {
   "cell_type": "code",
   "execution_count": 202,
   "metadata": {},
   "outputs": [
    {
     "data": {
      "text/html": [
       "<div>\n",
       "<style scoped>\n",
       "    .dataframe tbody tr th:only-of-type {\n",
       "        vertical-align: middle;\n",
       "    }\n",
       "\n",
       "    .dataframe tbody tr th {\n",
       "        vertical-align: top;\n",
       "    }\n",
       "\n",
       "    .dataframe thead th {\n",
       "        text-align: right;\n",
       "    }\n",
       "</style>\n",
       "<table border=\"1\" class=\"dataframe\">\n",
       "  <thead>\n",
       "    <tr style=\"text-align: right;\">\n",
       "      <th></th>\n",
       "      <th>Geo_FIPS</th>\n",
       "      <th>Geo_QName</th>\n",
       "      <th>Geo_TRACT</th>\n",
       "      <th>Geo_BLKGRP</th>\n",
       "      <th>Geo_NAME</th>\n",
       "      <th>SE_A04001_001</th>\n",
       "      <th>SE_A04001_003</th>\n",
       "      <th>SE_A04001_004</th>\n",
       "      <th>SE_A04001_005</th>\n",
       "      <th>SE_A04001_006</th>\n",
       "      <th>SE_A04001_007</th>\n",
       "      <th>SE_A04001_008</th>\n",
       "      <th>SE_A04001_009</th>\n",
       "      <th>SE_A04001_010</th>\n",
       "    </tr>\n",
       "  </thead>\n",
       "  <tbody>\n",
       "    <tr>\n",
       "      <th>0</th>\n",
       "      <td>060372190203</td>\n",
       "      <td>Block Group 3, Census Tract 2190.20, Los Angel...</td>\n",
       "      <td>219020</td>\n",
       "      <td>3</td>\n",
       "      <td>Block Group 3</td>\n",
       "      <td>1408</td>\n",
       "      <td>46</td>\n",
       "      <td>403</td>\n",
       "      <td>0</td>\n",
       "      <td>24</td>\n",
       "      <td>0</td>\n",
       "      <td>0</td>\n",
       "      <td>0</td>\n",
       "      <td>935</td>\n",
       "    </tr>\n",
       "    <tr>\n",
       "      <th>1</th>\n",
       "      <td>060372340001</td>\n",
       "      <td>Block Group 1, Census Tract 2340, Los Angeles ...</td>\n",
       "      <td>234000</td>\n",
       "      <td>1</td>\n",
       "      <td>Block Group 1</td>\n",
       "      <td>2024</td>\n",
       "      <td>38</td>\n",
       "      <td>549</td>\n",
       "      <td>0</td>\n",
       "      <td>0</td>\n",
       "      <td>0</td>\n",
       "      <td>0</td>\n",
       "      <td>12</td>\n",
       "      <td>1425</td>\n",
       "    </tr>\n",
       "    <tr>\n",
       "      <th>2</th>\n",
       "      <td>060372340002</td>\n",
       "      <td>Block Group 2, Census Tract 2340, Los Angeles ...</td>\n",
       "      <td>234000</td>\n",
       "      <td>2</td>\n",
       "      <td>Block Group 2</td>\n",
       "      <td>1000</td>\n",
       "      <td>85</td>\n",
       "      <td>811</td>\n",
       "      <td>0</td>\n",
       "      <td>9</td>\n",
       "      <td>0</td>\n",
       "      <td>0</td>\n",
       "      <td>0</td>\n",
       "      <td>95</td>\n",
       "    </tr>\n",
       "    <tr>\n",
       "      <th>3</th>\n",
       "      <td>060372340003</td>\n",
       "      <td>Block Group 3, Census Tract 2340, Los Angeles ...</td>\n",
       "      <td>234000</td>\n",
       "      <td>3</td>\n",
       "      <td>Block Group 3</td>\n",
       "      <td>665</td>\n",
       "      <td>66</td>\n",
       "      <td>548</td>\n",
       "      <td>0</td>\n",
       "      <td>0</td>\n",
       "      <td>0</td>\n",
       "      <td>0</td>\n",
       "      <td>22</td>\n",
       "      <td>29</td>\n",
       "    </tr>\n",
       "    <tr>\n",
       "      <th>4</th>\n",
       "      <td>060372340004</td>\n",
       "      <td>Block Group 4, Census Tract 2340, Los Angeles ...</td>\n",
       "      <td>234000</td>\n",
       "      <td>4</td>\n",
       "      <td>Block Group 4</td>\n",
       "      <td>1143</td>\n",
       "      <td>99</td>\n",
       "      <td>823</td>\n",
       "      <td>0</td>\n",
       "      <td>6</td>\n",
       "      <td>0</td>\n",
       "      <td>0</td>\n",
       "      <td>44</td>\n",
       "      <td>171</td>\n",
       "    </tr>\n",
       "  </tbody>\n",
       "</table>\n",
       "</div>"
      ],
      "text/plain": [
       "       Geo_FIPS                                          Geo_QName  Geo_TRACT  \\\n",
       "0  060372190203  Block Group 3, Census Tract 2190.20, Los Angel...     219020   \n",
       "1  060372340001  Block Group 1, Census Tract 2340, Los Angeles ...     234000   \n",
       "2  060372340002  Block Group 2, Census Tract 2340, Los Angeles ...     234000   \n",
       "3  060372340003  Block Group 3, Census Tract 2340, Los Angeles ...     234000   \n",
       "4  060372340004  Block Group 4, Census Tract 2340, Los Angeles ...     234000   \n",
       "\n",
       "   Geo_BLKGRP       Geo_NAME  SE_A04001_001  SE_A04001_003  SE_A04001_004  \\\n",
       "0           3  Block Group 3           1408             46            403   \n",
       "1           1  Block Group 1           2024             38            549   \n",
       "2           2  Block Group 2           1000             85            811   \n",
       "3           3  Block Group 3            665             66            548   \n",
       "4           4  Block Group 4           1143             99            823   \n",
       "\n",
       "   SE_A04001_005  SE_A04001_006  SE_A04001_007  SE_A04001_008  SE_A04001_009  \\\n",
       "0              0             24              0              0              0   \n",
       "1              0              0              0              0             12   \n",
       "2              0              9              0              0              0   \n",
       "3              0              0              0              0             22   \n",
       "4              0              6              0              0             44   \n",
       "\n",
       "   SE_A04001_010  \n",
       "0            935  \n",
       "1           1425  \n",
       "2             95  \n",
       "3             29  \n",
       "4            171  "
      ]
     },
     "execution_count": 202,
     "metadata": {},
     "output_type": "execute_result"
    }
   ],
   "source": [
    "df4 = df4.drop(columns_to_drop,axis=1)\n",
    "df4.head()"
   ]
  },
  {
   "cell_type": "code",
   "execution_count": 203,
   "metadata": {},
   "outputs": [
    {
     "data": {
      "text/plain": [
       "['Geo_FIPS',\n",
       " 'Geo_QName',\n",
       " 'Geo_TRACT',\n",
       " 'Geo_BLKGRP',\n",
       " 'Geo_NAME',\n",
       " 'SE_A04001_001',\n",
       " 'SE_A04001_003',\n",
       " 'SE_A04001_004',\n",
       " 'SE_A04001_005',\n",
       " 'SE_A04001_006',\n",
       " 'SE_A04001_007',\n",
       " 'SE_A04001_008',\n",
       " 'SE_A04001_009',\n",
       " 'SE_A04001_010']"
      ]
     },
     "execution_count": 203,
     "metadata": {},
     "output_type": "execute_result"
    }
   ],
   "source": [
    "columns4 = list(df4) # this is the same as df.columns.to_list()\n",
    "columns4"
   ]
  },
  {
   "cell_type": "code",
   "execution_count": 204,
   "metadata": {},
   "outputs": [],
   "source": [
    "df4.columns = ['FIPS',\n",
    " 'Geo_NAME',\n",
    " 'Geo_QName',\n",
    " 'Geo_TRACT',\n",
    " 'Geo_BLKGRP',\n",
    " 'Total Population',\n",
    " 'White',\n",
    " 'Black',\n",
    " 'AmIndian',\n",
    "'Native Hawaiian and Other Pacific Islander Alone',\n",
    " 'Asian',\n",
    " 'Some Other Race Alone',\n",
    " 'Two or More Races',\n",
    " 'Hispanic or Latino']"
   ]
  },
  {
   "cell_type": "code",
   "execution_count": 205,
   "metadata": {},
   "outputs": [
    {
     "data": {
      "text/html": [
       "<div>\n",
       "<style scoped>\n",
       "    .dataframe tbody tr th:only-of-type {\n",
       "        vertical-align: middle;\n",
       "    }\n",
       "\n",
       "    .dataframe tbody tr th {\n",
       "        vertical-align: top;\n",
       "    }\n",
       "\n",
       "    .dataframe thead th {\n",
       "        text-align: right;\n",
       "    }\n",
       "</style>\n",
       "<table border=\"1\" class=\"dataframe\">\n",
       "  <thead>\n",
       "    <tr style=\"text-align: right;\">\n",
       "      <th></th>\n",
       "      <th>FIPS</th>\n",
       "      <th>Geo_NAME</th>\n",
       "      <th>Geo_QName</th>\n",
       "      <th>Geo_TRACT</th>\n",
       "      <th>Geo_BLKGRP</th>\n",
       "      <th>Total Population</th>\n",
       "      <th>White</th>\n",
       "      <th>Black</th>\n",
       "      <th>AmIndian</th>\n",
       "      <th>Native Hawaiian and Other Pacific Islander Alone</th>\n",
       "      <th>Asian</th>\n",
       "      <th>Some Other Race Alone</th>\n",
       "      <th>Two or More Races</th>\n",
       "      <th>Hispanic or Latino</th>\n",
       "    </tr>\n",
       "  </thead>\n",
       "  <tbody>\n",
       "    <tr>\n",
       "      <th>0</th>\n",
       "      <td>060372190203</td>\n",
       "      <td>Block Group 3, Census Tract 2190.20, Los Angel...</td>\n",
       "      <td>219020</td>\n",
       "      <td>3</td>\n",
       "      <td>Block Group 3</td>\n",
       "      <td>1408</td>\n",
       "      <td>46</td>\n",
       "      <td>403</td>\n",
       "      <td>0</td>\n",
       "      <td>24</td>\n",
       "      <td>0</td>\n",
       "      <td>0</td>\n",
       "      <td>0</td>\n",
       "      <td>935</td>\n",
       "    </tr>\n",
       "    <tr>\n",
       "      <th>1</th>\n",
       "      <td>060372340001</td>\n",
       "      <td>Block Group 1, Census Tract 2340, Los Angeles ...</td>\n",
       "      <td>234000</td>\n",
       "      <td>1</td>\n",
       "      <td>Block Group 1</td>\n",
       "      <td>2024</td>\n",
       "      <td>38</td>\n",
       "      <td>549</td>\n",
       "      <td>0</td>\n",
       "      <td>0</td>\n",
       "      <td>0</td>\n",
       "      <td>0</td>\n",
       "      <td>12</td>\n",
       "      <td>1425</td>\n",
       "    </tr>\n",
       "    <tr>\n",
       "      <th>2</th>\n",
       "      <td>060372340002</td>\n",
       "      <td>Block Group 2, Census Tract 2340, Los Angeles ...</td>\n",
       "      <td>234000</td>\n",
       "      <td>2</td>\n",
       "      <td>Block Group 2</td>\n",
       "      <td>1000</td>\n",
       "      <td>85</td>\n",
       "      <td>811</td>\n",
       "      <td>0</td>\n",
       "      <td>9</td>\n",
       "      <td>0</td>\n",
       "      <td>0</td>\n",
       "      <td>0</td>\n",
       "      <td>95</td>\n",
       "    </tr>\n",
       "    <tr>\n",
       "      <th>3</th>\n",
       "      <td>060372340003</td>\n",
       "      <td>Block Group 3, Census Tract 2340, Los Angeles ...</td>\n",
       "      <td>234000</td>\n",
       "      <td>3</td>\n",
       "      <td>Block Group 3</td>\n",
       "      <td>665</td>\n",
       "      <td>66</td>\n",
       "      <td>548</td>\n",
       "      <td>0</td>\n",
       "      <td>0</td>\n",
       "      <td>0</td>\n",
       "      <td>0</td>\n",
       "      <td>22</td>\n",
       "      <td>29</td>\n",
       "    </tr>\n",
       "    <tr>\n",
       "      <th>4</th>\n",
       "      <td>060372340004</td>\n",
       "      <td>Block Group 4, Census Tract 2340, Los Angeles ...</td>\n",
       "      <td>234000</td>\n",
       "      <td>4</td>\n",
       "      <td>Block Group 4</td>\n",
       "      <td>1143</td>\n",
       "      <td>99</td>\n",
       "      <td>823</td>\n",
       "      <td>0</td>\n",
       "      <td>6</td>\n",
       "      <td>0</td>\n",
       "      <td>0</td>\n",
       "      <td>44</td>\n",
       "      <td>171</td>\n",
       "    </tr>\n",
       "  </tbody>\n",
       "</table>\n",
       "</div>"
      ],
      "text/plain": [
       "           FIPS                                           Geo_NAME  Geo_QName  \\\n",
       "0  060372190203  Block Group 3, Census Tract 2190.20, Los Angel...     219020   \n",
       "1  060372340001  Block Group 1, Census Tract 2340, Los Angeles ...     234000   \n",
       "2  060372340002  Block Group 2, Census Tract 2340, Los Angeles ...     234000   \n",
       "3  060372340003  Block Group 3, Census Tract 2340, Los Angeles ...     234000   \n",
       "4  060372340004  Block Group 4, Census Tract 2340, Los Angeles ...     234000   \n",
       "\n",
       "   Geo_TRACT     Geo_BLKGRP  Total Population  White  Black  AmIndian  \\\n",
       "0          3  Block Group 3              1408     46    403         0   \n",
       "1          1  Block Group 1              2024     38    549         0   \n",
       "2          2  Block Group 2              1000     85    811         0   \n",
       "3          3  Block Group 3               665     66    548         0   \n",
       "4          4  Block Group 4              1143     99    823         0   \n",
       "\n",
       "   Native Hawaiian and Other Pacific Islander Alone  Asian  \\\n",
       "0                                                24      0   \n",
       "1                                                 0      0   \n",
       "2                                                 9      0   \n",
       "3                                                 0      0   \n",
       "4                                                 6      0   \n",
       "\n",
       "   Some Other Race Alone  Two or More Races  Hispanic or Latino  \n",
       "0                      0                  0                 935  \n",
       "1                      0                 12                1425  \n",
       "2                      0                  0                  95  \n",
       "3                      0                 22                  29  \n",
       "4                      0                 44                 171  "
      ]
     },
     "execution_count": 205,
     "metadata": {},
     "output_type": "execute_result"
    }
   ],
   "source": [
    "df4.head()"
   ]
  },
  {
   "cell_type": "code",
   "execution_count": 206,
   "metadata": {},
   "outputs": [],
   "source": [
    "df4_sum= df4.sum().reset_index()"
   ]
  },
  {
   "cell_type": "code",
   "execution_count": 207,
   "metadata": {},
   "outputs": [],
   "source": [
    "df4_sum=df4_sum.set_index('index').T"
   ]
  },
  {
   "cell_type": "code",
   "execution_count": 208,
   "metadata": {},
   "outputs": [
    {
     "data": {
      "text/plain": [
       "pandas.core.frame.DataFrame"
      ]
     },
     "execution_count": 208,
     "metadata": {},
     "output_type": "execute_result"
    }
   ],
   "source": [
    "type(df4_sum)"
   ]
  },
  {
   "cell_type": "code",
   "execution_count": 209,
   "metadata": {},
   "outputs": [],
   "source": [
    "df4_sum['% Black'] = (df4_sum['Black']/df4_sum['Total Population'])*100"
   ]
  },
  {
   "cell_type": "code",
   "execution_count": 210,
   "metadata": {},
   "outputs": [],
   "source": [
    "df4_sum['% White'] = (df4_sum['White']/df4_sum['Total Population'])*100"
   ]
  },
  {
   "cell_type": "code",
   "execution_count": 211,
   "metadata": {},
   "outputs": [],
   "source": [
    "df4_sum['% Latino'] = (df4_sum['Hispanic or Latino']/df4_sum['Total Population'])*100"
   ]
  },
  {
   "cell_type": "code",
   "execution_count": 212,
   "metadata": {},
   "outputs": [],
   "source": [
    "df4_sum['neighborhood'] = 'Leimert'\n",
    "df4_sum['year'] = '2019'"
   ]
  },
  {
   "cell_type": "code",
   "execution_count": 213,
   "metadata": {},
   "outputs": [
    {
     "data": {
      "text/html": [
       "<div>\n",
       "<style scoped>\n",
       "    .dataframe tbody tr th:only-of-type {\n",
       "        vertical-align: middle;\n",
       "    }\n",
       "\n",
       "    .dataframe tbody tr th {\n",
       "        vertical-align: top;\n",
       "    }\n",
       "\n",
       "    .dataframe thead th {\n",
       "        text-align: right;\n",
       "    }\n",
       "</style>\n",
       "<table border=\"1\" class=\"dataframe\">\n",
       "  <thead>\n",
       "    <tr style=\"text-align: right;\">\n",
       "      <th>index</th>\n",
       "      <th>FIPS</th>\n",
       "      <th>Geo_NAME</th>\n",
       "      <th>Geo_QName</th>\n",
       "      <th>Geo_TRACT</th>\n",
       "      <th>Geo_BLKGRP</th>\n",
       "      <th>Total Population</th>\n",
       "      <th>White</th>\n",
       "      <th>Black</th>\n",
       "      <th>AmIndian</th>\n",
       "      <th>Native Hawaiian and Other Pacific Islander Alone</th>\n",
       "      <th>Asian</th>\n",
       "      <th>Some Other Race Alone</th>\n",
       "      <th>Two or More Races</th>\n",
       "      <th>Hispanic or Latino</th>\n",
       "      <th>% Black</th>\n",
       "      <th>% White</th>\n",
       "      <th>% Latino</th>\n",
       "      <th>neighborhood</th>\n",
       "      <th>year</th>\n",
       "    </tr>\n",
       "  </thead>\n",
       "  <tbody>\n",
       "    <tr>\n",
       "      <th>0</th>\n",
       "      <td>0603721902030603723400010603723400020603723400...</td>\n",
       "      <td>Block Group 3, Census Tract 2190.20, Los Angel...</td>\n",
       "      <td>3028820</td>\n",
       "      <td>34</td>\n",
       "      <td>Block Group 3Block Group 1Block Group 2Block G...</td>\n",
       "      <td>13054</td>\n",
       "      <td>849</td>\n",
       "      <td>8046</td>\n",
       "      <td>0</td>\n",
       "      <td>330</td>\n",
       "      <td>10</td>\n",
       "      <td>0</td>\n",
       "      <td>320</td>\n",
       "      <td>3499</td>\n",
       "      <td>61.6363</td>\n",
       "      <td>6.50375</td>\n",
       "      <td>26.804</td>\n",
       "      <td>Leimert</td>\n",
       "      <td>2019</td>\n",
       "    </tr>\n",
       "  </tbody>\n",
       "</table>\n",
       "</div>"
      ],
      "text/plain": [
       "index                                               FIPS  \\\n",
       "0      0603721902030603723400010603723400020603723400...   \n",
       "\n",
       "index                                           Geo_NAME Geo_QName Geo_TRACT  \\\n",
       "0      Block Group 3, Census Tract 2190.20, Los Angel...   3028820        34   \n",
       "\n",
       "index                                         Geo_BLKGRP Total Population  \\\n",
       "0      Block Group 3Block Group 1Block Group 2Block G...            13054   \n",
       "\n",
       "index White Black AmIndian Native Hawaiian and Other Pacific Islander Alone  \\\n",
       "0       849  8046        0                                              330   \n",
       "\n",
       "index Asian Some Other Race Alone Two or More Races Hispanic or Latino  \\\n",
       "0        10                     0               320               3499   \n",
       "\n",
       "index  % Black  % White % Latino neighborhood  year  \n",
       "0      61.6363  6.50375   26.804      Leimert  2019  "
      ]
     },
     "execution_count": 213,
     "metadata": {},
     "output_type": "execute_result"
    }
   ],
   "source": [
    "df4_sum"
   ]
  },
  {
   "cell_type": "code",
   "execution_count": 214,
   "metadata": {},
   "outputs": [],
   "source": [
    "df3['Total Households'] = 'Total Households in Atwater Village'"
   ]
  },
  {
   "cell_type": "code",
   "execution_count": 215,
   "metadata": {},
   "outputs": [],
   "source": [
    "df4['Total Households'] = 'Total Households in Leimert Park'"
   ]
  },
  {
   "cell_type": "markdown",
   "metadata": {},
   "source": [
    "### Merge Atwater Village and Leimert Park Data"
   ]
  },
  {
   "cell_type": "code",
   "execution_count": 216,
   "metadata": {},
   "outputs": [],
   "source": [
    "race_merged= df3_sum.append(df4_sum)"
   ]
  },
  {
   "cell_type": "code",
   "execution_count": 217,
   "metadata": {},
   "outputs": [
    {
     "data": {
      "text/html": [
       "<div>\n",
       "<style scoped>\n",
       "    .dataframe tbody tr th:only-of-type {\n",
       "        vertical-align: middle;\n",
       "    }\n",
       "\n",
       "    .dataframe tbody tr th {\n",
       "        vertical-align: top;\n",
       "    }\n",
       "\n",
       "    .dataframe thead th {\n",
       "        text-align: right;\n",
       "    }\n",
       "</style>\n",
       "<table border=\"1\" class=\"dataframe\">\n",
       "  <thead>\n",
       "    <tr style=\"text-align: right;\">\n",
       "      <th></th>\n",
       "      <th>FIPS</th>\n",
       "      <th>Geo_NAME</th>\n",
       "      <th>Geo_QName</th>\n",
       "      <th>Geo_TRACT</th>\n",
       "      <th>Geo_BLKGRP</th>\n",
       "      <th>Total Population</th>\n",
       "      <th>White</th>\n",
       "      <th>Black</th>\n",
       "      <th>AmIndian</th>\n",
       "      <th>Native Hawaiian and Other Pacific Islander Alone</th>\n",
       "      <th>Asian</th>\n",
       "      <th>Some Other Race Alone</th>\n",
       "      <th>Two or More Races</th>\n",
       "      <th>Hispanic or Latino</th>\n",
       "      <th>% Latino</th>\n",
       "      <th>% White</th>\n",
       "      <th>% Black</th>\n",
       "      <th>neighborhood</th>\n",
       "      <th>year</th>\n",
       "    </tr>\n",
       "  </thead>\n",
       "  <tbody>\n",
       "    <tr>\n",
       "      <th>0</th>\n",
       "      <td>0603718630110603718630120603718630130603718630...</td>\n",
       "      <td>Block Group 1, Census Tract 1863.01, Los Angel...</td>\n",
       "      <td>3368419</td>\n",
       "      <td>31</td>\n",
       "      <td>Block Group 1Block Group 2Block Group 3Block G...</td>\n",
       "      <td>25442</td>\n",
       "      <td>6001</td>\n",
       "      <td>443</td>\n",
       "      <td>141</td>\n",
       "      <td>4412</td>\n",
       "      <td>28</td>\n",
       "      <td>60</td>\n",
       "      <td>673</td>\n",
       "      <td>13684</td>\n",
       "      <td>53.7851</td>\n",
       "      <td>23.587</td>\n",
       "      <td>1.74122</td>\n",
       "      <td>Atwater</td>\n",
       "      <td>2019</td>\n",
       "    </tr>\n",
       "    <tr>\n",
       "      <th>0</th>\n",
       "      <td>0603721902030603723400010603723400020603723400...</td>\n",
       "      <td>Block Group 3, Census Tract 2190.20, Los Angel...</td>\n",
       "      <td>3028820</td>\n",
       "      <td>34</td>\n",
       "      <td>Block Group 3Block Group 1Block Group 2Block G...</td>\n",
       "      <td>13054</td>\n",
       "      <td>849</td>\n",
       "      <td>8046</td>\n",
       "      <td>0</td>\n",
       "      <td>330</td>\n",
       "      <td>10</td>\n",
       "      <td>0</td>\n",
       "      <td>320</td>\n",
       "      <td>3499</td>\n",
       "      <td>26.804</td>\n",
       "      <td>6.50375</td>\n",
       "      <td>61.6363</td>\n",
       "      <td>Leimert</td>\n",
       "      <td>2019</td>\n",
       "    </tr>\n",
       "  </tbody>\n",
       "</table>\n",
       "</div>"
      ],
      "text/plain": [
       "                                                FIPS  \\\n",
       "0  0603718630110603718630120603718630130603718630...   \n",
       "0  0603721902030603723400010603723400020603723400...   \n",
       "\n",
       "                                            Geo_NAME Geo_QName Geo_TRACT  \\\n",
       "0  Block Group 1, Census Tract 1863.01, Los Angel...   3368419        31   \n",
       "0  Block Group 3, Census Tract 2190.20, Los Angel...   3028820        34   \n",
       "\n",
       "                                          Geo_BLKGRP Total Population White  \\\n",
       "0  Block Group 1Block Group 2Block Group 3Block G...            25442  6001   \n",
       "0  Block Group 3Block Group 1Block Group 2Block G...            13054   849   \n",
       "\n",
       "  Black AmIndian Native Hawaiian and Other Pacific Islander Alone Asian  \\\n",
       "0   443      141                                             4412    28   \n",
       "0  8046        0                                              330    10   \n",
       "\n",
       "  Some Other Race Alone Two or More Races Hispanic or Latino % Latino  \\\n",
       "0                    60               673              13684  53.7851   \n",
       "0                     0               320               3499   26.804   \n",
       "\n",
       "   % White  % Black neighborhood  year  \n",
       "0   23.587  1.74122      Atwater  2019  \n",
       "0  6.50375  61.6363      Leimert  2019  "
      ]
     },
     "execution_count": 217,
     "metadata": {},
     "output_type": "execute_result"
    }
   ],
   "source": [
    "race_merged\n"
   ]
  },
  {
   "cell_type": "code",
   "execution_count": 218,
   "metadata": {},
   "outputs": [
    {
     "data": {
      "text/plain": [
       "<matplotlib.axes._subplots.AxesSubplot at 0x7fa89d2c7af0>"
      ]
     },
     "execution_count": 218,
     "metadata": {},
     "output_type": "execute_result"
    },
    {
     "data": {
      "image/png": "[encoded data removed]",
      "text/plain": [
       "<Figure size 432x288 with 1 Axes>"
      ]
     },
     "metadata": {
      "needs_background": "light"
     },
     "output_type": "display_data"
    }
   ],
   "source": [
    "race_merged.plot.bar(x = 'neighborhood', y='% White', title=\"Percentage of White Population (2019)\")"
   ]
  },
  {
   "cell_type": "code",
   "execution_count": 219,
   "metadata": {},
   "outputs": [
    {
     "data": {
      "text/plain": [
       "<matplotlib.axes._subplots.AxesSubplot at 0x7fa89d2b36d0>"
      ]
     },
     "execution_count": 219,
     "metadata": {},
     "output_type": "execute_result"
    },
    {
     "data": {
      "image/png": "[encoded data removed]",
      "text/plain": [
       "<Figure size 432x288 with 1 Axes>"
      ]
     },
     "metadata": {
      "needs_background": "light"
     },
     "output_type": "display_data"
    }
   ],
   "source": [
    "race_merged.plot.bar(x = 'neighborhood', y='% Black', title=\"Percentage of Black Population (2019)\")"
   ]
  },
  {
   "cell_type": "code",
   "execution_count": 220,
   "metadata": {},
   "outputs": [
    {
     "data": {
      "text/plain": [
       "<matplotlib.axes._subplots.AxesSubplot at 0x7fa89d202f10>"
      ]
     },
     "execution_count": 220,
     "metadata": {},
     "output_type": "execute_result"
    },
    {
     "data": {
      "image/png": "[encoded data removed]",
      "text/plain": [
       "<Figure size 432x288 with 1 Axes>"
      ]
     },
     "metadata": {
      "needs_background": "light"
     },
     "output_type": "display_data"
    }
   ],
   "source": [
    "race_merged.plot.bar(x = 'neighborhood', y='% Latino', title=\"Percentage of Latino Population (2019)\")"
   ]
  },
  {
   "cell_type": "markdown",
   "metadata": {},
   "source": [
    "### Normalize Data For Mapping"
   ]
  },
  {
   "cell_type": "code",
   "execution_count": 221,
   "metadata": {},
   "outputs": [],
   "source": [
    "# create a new column and normalize\n",
    "# also repeat this for 'p_White'\n",
    "df3['p_Latino'] = df3['Hispanic or Latino']/df3['Total Population']*100"
   ]
  },
  {
   "cell_type": "code",
   "execution_count": 222,
   "metadata": {},
   "outputs": [],
   "source": [
    "df3['p_White'] = df3['White']/df3['Total Population']*100"
   ]
  },
  {
   "cell_type": "code",
   "execution_count": 223,
   "metadata": {},
   "outputs": [],
   "source": [
    "df3['p_Black'] = df3['Black']/df3['Total Population']*100"
   ]
  },
  {
   "cell_type": "code",
   "execution_count": 224,
   "metadata": {},
   "outputs": [],
   "source": [
    "df4['p_Black'] = df4['Black']/df4['Total Population']*100"
   ]
  },
  {
   "cell_type": "code",
   "execution_count": 225,
   "metadata": {},
   "outputs": [],
   "source": [
    "df4['p_White'] = df4['White']/df4['Total Population']*100"
   ]
  },
  {
   "cell_type": "code",
   "execution_count": 226,
   "metadata": {},
   "outputs": [],
   "source": [
    "df4['p_Latino'] = df4['Hispanic or Latino']/df4['Total Population']*100"
   ]
  },
  {
   "cell_type": "code",
   "execution_count": 227,
   "metadata": {},
   "outputs": [],
   "source": [
    "df['neighborhood'] = 'Atwater'"
   ]
  },
  {
   "cell_type": "code",
   "execution_count": 228,
   "metadata": {},
   "outputs": [],
   "source": [
    "df2['neighborhood'] = 'Leimert'"
   ]
  },
  {
   "cell_type": "markdown",
   "metadata": {},
   "source": [
    "## Mapping"
   ]
  },
  {
   "cell_type": "code",
   "execution_count": 229,
   "metadata": {},
   "outputs": [],
   "source": [
    "import geopandas as gpd\n",
    "block_groups= gpd.read_file('data/tl_2019_06_bg.shp')"
   ]
  },
  {
   "cell_type": "code",
   "execution_count": 230,
   "metadata": {},
   "outputs": [],
   "source": [
    "# subset to only LA block groups\n",
    "block_groups_LA = block_groups[block_groups.COUNTYFP == '037']"
   ]
  },
  {
   "cell_type": "code",
   "execution_count": 231,
   "metadata": {},
   "outputs": [
    {
     "data": {
      "text/plain": [
       "(6425, 13)"
      ]
     },
     "execution_count": 231,
     "metadata": {},
     "output_type": "execute_result"
    }
   ],
   "source": [
    "block_groups_LA.shape"
   ]
  },
  {
   "cell_type": "code",
   "execution_count": 232,
   "metadata": {},
   "outputs": [
    {
     "data": {
      "text/plain": [
       "['STATEFP',\n",
       " 'COUNTYFP',\n",
       " 'TRACTCE',\n",
       " 'BLKGRPCE',\n",
       " 'GEOID',\n",
       " 'NAMELSAD',\n",
       " 'MTFCC',\n",
       " 'FUNCSTAT',\n",
       " 'ALAND',\n",
       " 'AWATER',\n",
       " 'INTPTLAT',\n",
       " 'INTPTLON',\n",
       " 'geometry']"
      ]
     },
     "execution_count": 232,
     "metadata": {},
     "output_type": "execute_result"
    }
   ],
   "source": [
    "columns = list(block_groups)\n",
    "columns"
   ]
  },
  {
   "cell_type": "code",
   "execution_count": 233,
   "metadata": {},
   "outputs": [
    {
     "data": {
      "text/html": [
       "<div>\n",
       "<style scoped>\n",
       "    .dataframe tbody tr th:only-of-type {\n",
       "        vertical-align: middle;\n",
       "    }\n",
       "\n",
       "    .dataframe tbody tr th {\n",
       "        vertical-align: top;\n",
       "    }\n",
       "\n",
       "    .dataframe thead th {\n",
       "        text-align: right;\n",
       "    }\n",
       "</style>\n",
       "<table border=\"1\" class=\"dataframe\">\n",
       "  <thead>\n",
       "    <tr style=\"text-align: right;\">\n",
       "      <th></th>\n",
       "      <th>GEOID</th>\n",
       "      <th>geometry</th>\n",
       "    </tr>\n",
       "  </thead>\n",
       "  <tbody>\n",
       "    <tr>\n",
       "      <th>30</th>\n",
       "      <td>060371872002</td>\n",
       "      <td>POLYGON ((-118.25704 34.10773, -118.25664 34.1...</td>\n",
       "    </tr>\n",
       "    <tr>\n",
       "      <th>31</th>\n",
       "      <td>060371873001</td>\n",
       "      <td>POLYGON ((-118.26544 34.11216, -118.26540 34.1...</td>\n",
       "    </tr>\n",
       "    <tr>\n",
       "      <th>32</th>\n",
       "      <td>060371873002</td>\n",
       "      <td>POLYGON ((-118.25924 34.09416, -118.25924 34.0...</td>\n",
       "    </tr>\n",
       "    <tr>\n",
       "      <th>36</th>\n",
       "      <td>060375437024</td>\n",
       "      <td>POLYGON ((-118.27553 33.80936, -118.27553 33.8...</td>\n",
       "    </tr>\n",
       "    <tr>\n",
       "      <th>37</th>\n",
       "      <td>060375437025</td>\n",
       "      <td>POLYGON ((-118.27549 33.81246, -118.27549 33.8...</td>\n",
       "    </tr>\n",
       "  </tbody>\n",
       "</table>\n",
       "</div>"
      ],
      "text/plain": [
       "           GEOID                                           geometry\n",
       "30  060371872002  POLYGON ((-118.25704 34.10773, -118.25664 34.1...\n",
       "31  060371873001  POLYGON ((-118.26544 34.11216, -118.26540 34.1...\n",
       "32  060371873002  POLYGON ((-118.25924 34.09416, -118.25924 34.0...\n",
       "36  060375437024  POLYGON ((-118.27553 33.80936, -118.27553 33.8...\n",
       "37  060375437025  POLYGON ((-118.27549 33.81246, -118.27549 33.8..."
      ]
     },
     "execution_count": 233,
     "metadata": {},
     "output_type": "execute_result"
    }
   ],
   "source": [
    "blocks = block_groups_LA[['GEOID','geometry']]\n",
    "blocks.head()"
   ]
  },
  {
   "cell_type": "code",
   "execution_count": 234,
   "metadata": {},
   "outputs": [],
   "source": [
    "blocks.columns = ['FIPS','geometry']"
   ]
  },
  {
   "cell_type": "code",
   "execution_count": 235,
   "metadata": {},
   "outputs": [],
   "source": [
    "# create a new dataframe based on the join (ATWATER)\n",
    "blocks_units=blocks.merge(df,on=\"FIPS\")"
   ]
  },
  {
   "cell_type": "code",
   "execution_count": 236,
   "metadata": {},
   "outputs": [
    {
     "data": {
      "text/plain": [
       "Text(0.5, 1.0, 'Census Block Groups in Atwater Village with Annual Household Income Less than $25K (2019)')"
      ]
     },
     "execution_count": 236,
     "metadata": {},
     "output_type": "execute_result"
    },
    {
     "data": {
      "image/png": "[encoded data removed]",
      "text/plain": [
       "<Figure size 864x720 with 1 Axes>"
      ]
     },
     "metadata": {
      "needs_background": "light"
     },
     "output_type": "display_data"
    }
   ],
   "source": [
    "# subsetting by neighborhood\n",
    "axA1=blocks_units[blocks_units.neighborhood=='Atwater'].plot(figsize=(12,10),\n",
    "                 column='p_less_25k',                                  \n",
    "                  cmap='cool',\n",
    "                 legend=True,            \n",
    "                scheme='equal_interval')\n",
    "\n",
    "# get rid of the axis\n",
    "axA1.axis('off')\n",
    "\n",
    "# add a title\n",
    "axA1.set_title('Census Block Groups in Atwater Village with Annual Household Income Less than $25K (2019)')"
   ]
  },
  {
   "cell_type": "code",
   "execution_count": 237,
   "metadata": {},
   "outputs": [],
   "source": [
    "# create a new dataframe based on the join (Leimert)\n",
    "blocks_units2=blocks.merge(df2,on=\"FIPS\")"
   ]
  },
  {
   "cell_type": "code",
   "execution_count": 238,
   "metadata": {},
   "outputs": [
    {
     "data": {
      "text/plain": [
       "Text(0.5, 1.0, 'Census Block Groups in Leimert Park with Annual Household Income Less than $25K (2019)')"
      ]
     },
     "execution_count": 238,
     "metadata": {},
     "output_type": "execute_result"
    },
    {
     "data": {
      "image/png": "[encoded data removed]",
      "text/plain": [
       "<Figure size 864x720 with 1 Axes>"
      ]
     },
     "metadata": {
      "needs_background": "light"
     },
     "output_type": "display_data"
    }
   ],
   "source": [
    "# subsetting by neighborhood\n",
    "axL1= blocks_units2[blocks_units2.neighborhood=='Leimert'].plot(figsize=(12,10),\n",
    "                 column='p_less_25k',                                  \n",
    "                 cmap='cool',\n",
    "                 legend=True,\n",
    "                scheme='equal_interval')\n",
    "# get rid of the axis\n",
    "axL1.axis('off')\n",
    "# add a title\n",
    "axL1.set_title('Census Block Groups in Leimert Park with Annual Household Income Less than $25K (2019)')"
   ]
  },
  {
   "cell_type": "code",
   "execution_count": 239,
   "metadata": {},
   "outputs": [
    {
     "data": {
      "text/plain": [
       "Text(0.5, 1.0, 'Census Block Groups in Atwater Village with Annual Household Income More than $100K (2019)')"
      ]
     },
     "execution_count": 239,
     "metadata": {},
     "output_type": "execute_result"
    },
    {
     "data": {
      "image/png": "[encoded data removed]",
      "text/plain": [
       "<Figure size 864x720 with 1 Axes>"
      ]
     },
     "metadata": {
      "needs_background": "light"
     },
     "output_type": "display_data"
    }
   ],
   "source": [
    "# subsetting by neighborhood\n",
    "axA2=blocks_units[blocks_units.neighborhood=='Atwater'].plot(figsize=(12,10),\n",
    "                 column='p_more_100k',                                  \n",
    "                  cmap='cool',\n",
    "                 legend=True,\n",
    "                                \n",
    "                scheme='equal_interval')\n",
    "\n",
    "# get rid of the axis\n",
    "axA2.axis('off')\n",
    "# add a title\n",
    "axA2.set_title('Census Block Groups in Atwater Village with Annual Household Income More than $100K (2019)')"
   ]
  },
  {
   "cell_type": "code",
   "execution_count": 240,
   "metadata": {},
   "outputs": [
    {
     "data": {
      "text/plain": [
       "Text(0.5, 1.0, 'Census Block Groups in Leimert Park with Annual Household Income More than $100K (2019)')"
      ]
     },
     "execution_count": 240,
     "metadata": {},
     "output_type": "execute_result"
    },
    {
     "data": {
      "image/png": "[encoded data removed]",
      "text/plain": [
       "<Figure size 864x720 with 1 Axes>"
      ]
     },
     "metadata": {
      "needs_background": "light"
     },
     "output_type": "display_data"
    }
   ],
   "source": [
    "# subsetting by neighborhood\n",
    "axL2 = blocks_units2[blocks_units2.neighborhood=='Leimert'].plot(figsize=(12,10),\n",
    "                 column='p_more_100k',                                  \n",
    "                  cmap='cool',\n",
    "                 legend=True,          \n",
    "                scheme='equal_interval')\n",
    "\n",
    "# get rid of the axis\n",
    "axL2.axis('off')\n",
    "\n",
    "# add a title\n",
    "axL2.set_title('Census Block Groups in Leimert Park with Annual Household Income More than $100K (2019)')"
   ]
  },
  {
   "cell_type": "markdown",
   "metadata": {},
   "source": [
    "## Choropleth Income Map"
   ]
  },
  {
   "cell_type": "code",
   "execution_count": 241,
   "metadata": {},
   "outputs": [],
   "source": [
    "import folium"
   ]
  },
  {
   "cell_type": "code",
   "execution_count": 242,
   "metadata": {},
   "outputs": [
    {
     "data": {
      "text/html": [
       "<div style=\"width:100%;\"><div style=\"position:relative;width:100%;height:0;padding-bottom:60%;\"><span style=\"color:#565656\">Make this Notebook Trusted to load map: File -> Trust Notebook</span><iframe src=\"about:blank\" style=\"position:absolute;width:100%;height:100%;left:0;top:0;border:none !important;\" data-html=PCFET0NUWVBFIGh0bWw+CjxoZWFkPiAgICAKICAgIDxtZXRhIGh0dHAtZXF1aXY9ImNvbnRlbnQtdHlwZSIgY29udGVudD0idGV4dC9odG1sOyBjaGFyc2V0PVVURi04IiAvPgogICAgCiAgICAgICAgPHNjcmlwdD4KICAgICAgICAgICAgTF9OT19UT1VDSCA9IGZhbHNlOwogICAgICAgICAgICBMX0RJU0FCTEVfM0QgPSBmYWxzZTsKICAgICAgICA8L3NjcmlwdD4KICAgIAogICAgPHNjcmlwdCBzcmM9Imh0dHBzOi8vY2RuLmpzZGVsaXZyLm5ldC9ucG0vbGVhZmxldEAxLjYuMC9kaXN0L2xlYWZsZXQuanMiPjwvc2NyaXB0PgogICAgPHNjcmlwdCBzcmM9Imh0dHBzOi8vY29kZS5qcXVlcnkuY29tL2pxdWVyeS0xLjEyLjQubWluLmpzIj48L3NjcmlwdD4KICAgIDxzY3JpcHQgc3JjPSJodHRwczovL21heGNkbi5ib290c3RyYXBjZG4uY29tL2Jvb3RzdHJhcC8zLjIuMC9qcy9ib290c3RyYXAubWluLmpzIj48L3NjcmlwdD4KICAgIDxzY3JpcHQgc3JjPSJodHRwczovL2NkbmpzLmNsb3VkZmxhcmUuY29tL2FqYXgvbGlicy9MZWFmbGV0LmF3ZXNvbWUtbWFya2Vycy8yLjAuMi9sZWFmbGV0LmF3ZXNvbWUtbWFya2Vycy5qcyI+PC9zY3JpcHQ+CiAgICA8bGluayByZWw9InN0eWxlc2hlZXQiIGhyZWY9Imh0dHBzOi8vY2RuLmpzZGVsaXZyLm5ldC9ucG0vbGVhZmxldEAxLjYuMC9kaXN0L2xlYWZsZXQuY3NzIi8+CiAgICA8bGluayByZWw9InN0eWxlc2hlZXQiIGhyZWY9Imh0dHBzOi8vbWF4Y2RuLmJvb3RzdHJhcGNkbi5jb20vYm9vdHN0cmFwLzMuMi4wL2Nzcy9ib290c3RyYXAubWluLmNzcyIvPgogICAgPGxpbmsgcmVsPSJzdHlsZXNoZWV0IiBocmVmPSJodHRwczovL21heGNkbi5ib290c3RyYXBjZG4uY29tL2Jvb3RzdHJhcC8zLjIuMC9jc3MvYm9vdHN0cmFwLXRoZW1lLm1pbi5jc3MiLz4KICAgIDxsaW5rIHJlbD0ic3R5bGVzaGVldCIgaHJlZj0iaHR0cHM6Ly9tYXhjZG4uYm9vdHN0cmFwY2RuLmNvbS9mb250LWF3ZXNvbWUvNC42LjMvY3NzL2ZvbnQtYXdlc29tZS5taW4uY3NzIi8+CiAgICA8bGluayByZWw9InN0eWxlc2hlZXQiIGhyZWY9Imh0dHBzOi8vY2RuanMuY2xvdWRmbGFyZS5jb20vYWpheC9saWJzL0xlYWZsZXQuYXdlc29tZS1tYXJrZXJzLzIuMC4yL2xlYWZsZXQuYXdlc29tZS1tYXJrZXJzLmNzcyIvPgogICAgPGxpbmsgcmVsPSJzdHlsZXNoZWV0IiBocmVmPSJodHRwczovL3Jhd2Nkbi5naXRoYWNrLmNvbS9weXRob24tdmlzdWFsaXphdGlvbi9mb2xpdW0vbWFzdGVyL2ZvbGl1bS90ZW1wbGF0ZXMvbGVhZmxldC5hd2Vzb21lLnJvdGF0ZS5jc3MiLz4KICAgIDxzdHlsZT5odG1sLCBib2R5IHt3aWR0aDogMTAwJTtoZWlnaHQ6IDEwMCU7bWFyZ2luOiAwO3BhZGRpbmc6IDA7fTwvc3R5bGU+CiAgICA8c3R5bGU+I21hcCB7cG9zaXRpb246YWJzb2x1dGU7dG9wOjA7Ym90dG9tOjA7cmlnaHQ6MDtsZWZ0OjA7fTwvc3R5bGU+CiAgICAKICAgICAgICAgICAgPG1ldGEgbmFtZT0idmlld3BvcnQiIGNvbnRlbnQ9IndpZHRoPWRldmljZS13aWR0aCwKICAgICAgICAgICAgICAgIGluaXRpYWwtc2NhbGU9MS4wLCBtYXhpbXVtLXNjYWxlPTEuMCwgdXNlci1zY2FsYWJsZT1ubyIgLz4KICAgICAgICAgICAgPHN0eWxlPgogICAgICAgICAgICAgICAgI21hcF8xNDliN2NhYTZlMTU0NzFhYjNmY2IzYTVjODE1ZTIxMCB7CiAgICAgICAgICAgICAgICAgICAgcG9zaXRpb246IHJlbGF0aXZlOwogICAgICAgICAgICAgICAgICAgIHdpZHRoOiAxMDAuMCU7CiAgICAgICAgICAgICAgICAgICAgaGVpZ2h0OiAxMDAuMCU7CiAgICAgICAgICAgICAgICAgICAgbGVmdDogMC4wJTsKICAgICAgICAgICAgICAgICAgICB0b3A6IDAuMCU7CiAgICAgICAgICAgICAgICB9CiAgICAgICAgICAgIDwvc3R5bGU+CiAgICAgICAgCiAgICA8c2NyaXB0IHNyYz0iaHR0cHM6Ly9jZG5qcy5jbG91ZGZsYXJlLmNvbS9hamF4L2xpYnMvZDMvMy41LjUvZDMubWluLmpzIj48L3NjcmlwdD4KPC9oZWFkPgo8Ym9keT4gICAgCiAgICAKICAgICAgICAgICAgPGRpdiBjbGFzcz0iZm9saXVtLW1hcCIgaWQ9Im1hcF8xNDliN2NhYTZlMTU0NzFhYjNmY2IzYTVjODE1ZTIxMCIgPjwvZGl2PgogICAgICAgIAo8L2JvZHk+CjxzY3JpcHQ+ICAgIAogICAgCiAgICAgICAgICAgIHZhciBtYXBfMTQ5YjdjYWE2ZTE1NDcxYWIzZmNiM2E1YzgxNWUyMTAgPSBMLm1hcCgKICAgICAgICAgICAgICAgICJtYXBfMTQ5YjdjYWE2ZTE1NDcxYWIzZmNiM2E1YzgxNWUyMTAiLAogICAgICAgICAgICAgICAgewogICAgICAgICAgICAgICAgICAgIGNlbnRlcjogWzM0LjIsIC0xMTguMl0sCiAgICAgICAgICAgICAgICAgICAgY3JzOiBMLkNSUy5FUFNHMzg1NywKICAgICAgICAgICAgICAgICAgICB6b29tOiA5LAogICAgICAgICAgICAgICAgICAgIHpvb21Db250cm9sOiB0cnVlLAogICAgICAgICAgICAgICAgICAgIHByZWZlckNhbnZhczogZmFsc2UsCiAgICAgICAgICAgICAgICAgICAgYXR0cmlidXRpb246ICJDYXJ0b0RCIiwKICAgICAgICAgICAgICAgIH0KICAgICAgICAgICAgKTsKCiAgICAgICAgICAgIAoKICAgICAgICAKICAgIAogICAgICAgICAgICB2YXIgdGlsZV9sYXllcl9kMzkwZGUyMzA3YjE0YzE0YjM0ZjAxOWZmOTJlY2NiMSA9IEwudGlsZUxheWVyKAogICAgICAgICAgICAgICAgImh0dHBzOi8vY2FydG9kYi1iYXNlbWFwcy17c30uZ2xvYmFsLnNzbC5mYXN0bHkubmV0L2xpZ2h0X2FsbC97en0ve3h9L3t5fS5wbmciLAogICAgICAgICAgICAgICAgeyJhdHRyaWJ1dGlvbiI6ICJcdTAwMjZjb3B5OyBcdTAwM2NhIGhyZWY9XCJodHRwOi8vd3d3Lm9wZW5zdHJlZXRtYXAub3JnL2NvcHlyaWdodFwiXHUwMDNlT3BlblN0cmVldE1hcFx1MDAzYy9hXHUwMDNlIGNvbnRyaWJ1dG9ycyBcdTAwMjZjb3B5OyBcdTAwM2NhIGhyZWY9XCJodHRwOi8vY2FydG9kYi5jb20vYXR0cmlidXRpb25zXCJcdTAwM2VDYXJ0b0RCXHUwMDNjL2FcdTAwM2UsIENhcnRvREIgXHUwMDNjYSBocmVmID1cImh0dHA6Ly9jYXJ0b2RiLmNvbS9hdHRyaWJ1dGlvbnNcIlx1MDAzZWF0dHJpYnV0aW9uc1x1MDAzYy9hXHUwMDNlIiwgImRldGVjdFJldGluYSI6IGZhbHNlLCAibWF4TmF0aXZlWm9vbSI6IDE4LCAibWF4Wm9vbSI6IDE4LCAibWluWm9vbSI6IDAsICJub1dyYXAiOiBmYWxzZSwgIm9wYWNpdHkiOiAxLCAic3ViZG9tYWlucyI6ICJhYmMiLCAidG1zIjogZmFsc2V9CiAgICAgICAgICAgICkuYWRkVG8obWFwXzE0OWI3Y2FhNmUxNTQ3MWFiM2ZjYjNhNWM4MTVlMjEwKTsKICAgICAgICAKICAgIAogICAgICAgICAgICB2YXIgY2hvcm9wbGV0aF85ZDM0MjVkZTVkNjU0YmM0OTAyMzVjOTEzZjE5MTNhZiA9IEwuZmVhdHVyZUdyb3VwKAogICAgICAgICAgICAgICAge30KICAgICAgICAgICAgKS5hZGRUbyhtYXBfMTQ5YjdjYWE2ZTE1NDcxYWIzZmNiM2E1YzgxNWUyMTApOwogICAgICAgIAogICAgCiAgICAgICAgZnVuY3Rpb24gZ2VvX2pzb25fMTZjMjk1ZmExZGQ0NDRiOGI1MTI0YTMxOGUwZjU1ZTNfc3R5bGVyKGZlYXR1cmUpIHsKICAgICAgICAgICAgc3dpdGNoKGZlYXR1cmUuaWQpIHsKICAgICAgICAgICAgICAgIGNhc2UgIjAiOiBjYXNlICI0IjogY2FzZSAiNSI6IGNhc2UgIjEzIjogCiAgICAgICAgICAgICAgICAgICAgcmV0dXJuIHsiY29sb3IiOiAiYmxhY2siLCAiZmlsbENvbG9yIjogIiNlZGY4ZmIiLCAiZmlsbE9wYWNpdHkiOiAwLjgsICJvcGFjaXR5IjogMC4yLCAid2VpZ2h0IjogMC4xfTsKICAgICAgICAgICAgICAgIGNhc2UgIjMiOiBjYXNlICI5IjogY2FzZSAiMTEiOiBjYXNlICIxNCI6IAogICAgICAgICAgICAgICAgICAgIHJldHVybiB7ImNvbG9yIjogImJsYWNrIiwgImZpbGxDb2xvciI6ICIjODg1NmE3IiwgImZpbGxPcGFjaXR5IjogMC44LCAib3BhY2l0eSI6IDAuMiwgIndlaWdodCI6IDAuMX07CiAgICAgICAgICAgICAgICBjYXNlICIxMiI6IAogICAgICAgICAgICAgICAgICAgIHJldHVybiB7ImNvbG9yIjogImJsYWNrIiwgImZpbGxDb2xvciI6ICIjODEwZjdjIiwgImZpbGxPcGFjaXR5IjogMC44LCAib3BhY2l0eSI6IDAuMiwgIndlaWdodCI6IDAuMX07CiAgICAgICAgICAgICAgICBjYXNlICIxNSI6IAogICAgICAgICAgICAgICAgICAgIHJldHVybiB7ImNvbG9yIjogImJsYWNrIiwgImZpbGxDb2xvciI6ICIjOGM5NmM2IiwgImZpbGxPcGFjaXR5IjogMC44LCAib3BhY2l0eSI6IDAuMiwgIndlaWdodCI6IDAuMX07CiAgICAgICAgICAgICAgICBjYXNlICIxNyI6IAogICAgICAgICAgICAgICAgICAgIHJldHVybiB7ImNvbG9yIjogImJsYWNrIiwgImZpbGxDb2xvciI6ICIjYmZkM2U2IiwgImZpbGxPcGFjaXR5IjogMC44LCAib3BhY2l0eSI6IDAuMiwgIndlaWdodCI6IDAuMX07CiAgICAgICAgICAgICAgICBkZWZhdWx0OgogICAgICAgICAgICAgICAgICAgIHJldHVybiB7ImNvbG9yIjogImJsYWNrIiwgImZpbGxDb2xvciI6ICIjOWViY2RhIiwgImZpbGxPcGFjaXR5IjogMC44LCAib3BhY2l0eSI6IDAuMiwgIndlaWdodCI6IDAuMX07CiAgICAgICAgICAgIH0KICAgICAgICB9CiAgICAgICAgZnVuY3Rpb24gZ2VvX2pzb25fMTZjMjk1ZmExZGQ0NDRiOGI1MTI0YTMxOGUwZjU1ZTNfb25FYWNoRmVhdHVyZShmZWF0dXJlLCBsYXllcikgewogICAgICAgICAgICBsYXllci5vbih7CiAgICAgICAgICAgICAgICBjbGljazogZnVuY3Rpb24oZSkgewogICAgICAgICAgICAgICAgICAgIG1hcF8xNDliN2NhYTZlMTU0NzFhYjNmY2IzYTVjODE1ZTIxMC5maXRCb3VuZHMoZS50YXJnZXQuZ2V0Qm91bmRzKCkpOwogICAgICAgICAgICAgICAgfQogICAgICAgICAgICB9KTsKICAgICAgICB9OwogICAgICAgIHZhciBnZW9fanNvbl8xNmMyOTVmYTFkZDQ0NGI4YjUxMjRhMzE4ZTBmNTVlMyA9IEwuZ2VvSnNvbihudWxsLCB7CiAgICAgICAgICAgICAgICBvbkVhY2hGZWF0dXJlOiBnZW9fanNvbl8xNmMyOTVmYTFkZDQ0NGI4YjUxMjRhMzE4ZTBmNTVlM19vbkVhY2hGZWF0dXJlLAogICAgICAgICAgICAKICAgICAgICAgICAgICAgIHN0eWxlOiBnZW9fanNvbl8xNmMyOTVmYTFkZDQ0NGI4YjUxMjRhMzE4ZTBmNTVlM19zdHlsZXIsCiAgICAgICAgfSkuYWRkVG8oY2hvcm9wbGV0aF85ZDM0MjVkZTVkNjU0YmM0OTAyMzVjOTEzZjE5MTNhZik7CgogICAgICAgIGZ1bmN0aW9uIGdlb19qc29uXzE2YzI5NWZhMWRkNDQ0YjhiNTEyNGEzMThlMGY1NWUzX2FkZCAoZGF0YSkgewogICAgICAgICAgICBnZW9fanNvbl8xNmMyOTVmYTFkZDQ0NGI4YjUxMjRhMzE4ZTBmNTVlMy5hZGREYXRhKGRhdGEpOwogICAgICAgIH0KICAgICAgICAgICAgZ2VvX2pzb25fMTZjMjk1ZmExZGQ0NDRiOGI1MTI0YTMxOGUwZjU1ZTNfYWRkKHsiYmJveCI6IFstMTE4LjI3ODMzNywgMzQuMDgyNzE4LCAtMTE4LjIyMzE1NywgMzQuMTUzMjU5OTk5OTk5OTk2XSwgImZlYXR1cmVzIjogW3siYmJveCI6IFstMTE4LjI0NTg3NiwgMzQuMTE1OTExLCAtMTE4LjIzNDg3LCAzNC4xMjAwNTNdLCAiZ2VvbWV0cnkiOiB7ImNvb3JkaW5hdGVzIjogW1tbLTExOC4yNDU2MDE5OTk5OTk5OSwgMzQuMTE4MjE2XSwgWy0xMTguMjQ1MDEzLCAzNC4xMTg2MjFdLCBbLTExOC4yNDMxMDIsIDM0LjExOTkzNTk5OTk5OTk5Nl0sIFstMTE4LjI0MjE2NywgMzQuMTE4OTk1OTk5OTk5OTk2XSwgWy0xMTguMjQwNzQ1LCAzNC4xMTk5NzNdLCBbLTExOC4yNDA2NjgsIDM0LjEyMDAxXSwgWy0xMTguMjQwNTc3LCAzNC4xMjAwMzldLCBbLTExOC4yNDA0Nzk5OTk5OTk5OSwgMzQuMTIwMDUzXSwgWy0xMTguMjQwMzczLCAzNC4xMjAwNTNdLCBbLTExOC4yNDAzMDYsIDM0LjEyMDA0NV0sIFstMTE4LjIzOTYzLCAzNC4xMTk4OTddLCBbLTExOC4yMzk1NSwgMzQuMTE5ODY2XSwgWy0xMTguMjM5NDg1LCAzNC4xMTk4MjU5OTk5OTk5OTZdLCBbLTExOC4yMzg1NDIsIDM0LjExOTE0Nl0sIFstMTE4LjIzODU1OSwgMzQuMTE5MTE4XSwgWy0xMTguMjM4MTAzLCAzNC4xMTkwNl0sIFstMTE4LjIzNjgzOSwgMzQuMTE4OTAwMDAwMDAwMDA0XSwgWy0xMTguMjM2NTkyLCAzNC4xMTg4NTddLCBbLTExOC4yMzYzNDcsIDM0LjExODgwM10sIFstMTE4LjIzNjI0LCAzNC4xMTg3NzddLCBbLTExOC4yMzU3MDEsIDM0LjExODY0NV0sIFstMTE4LjIzNTUyLCAzNC4xMTg2Mjk5OTk5OTk5OTZdLCBbLTExOC4yMzU0NTMsIDM0LjExODYyOTk5OTk5OTk5Nl0sIFstMTE4LjIzNTI5OSwgMzQuMTE4Mzc2OTk5OTk5OTk1XSwgWy0xMTguMjM1MjA2LCAzNC4xMTgyNjFdLCBbLTExOC4yMzQ5ODU5OTk5OTk5OSwgMzQuMTE3OTg1XSwgWy0xMTguMjM0ODkxLCAzNC4xMTc4NjRdLCBbLTExOC4yMzQ4NywgMzQuMTE3ODM4XSwgWy0xMTguMjM2OTQ4LCAzNC4xMTY4MjJdLCBbLTExOC4yMzg3MzIsIDM0LjExNTkxMV0sIFstMTE4LjIzODg0OSwgMzQuMTE2MDU3OTk5OTk5OTk1XSwgWy0xMTguMjM4OTQyLCAzNC4xMTYxNzU5OTk5OTk5OTZdLCBbLTExOC4yMzkwMzYsIDM0LjExNjI5M10sIFstMTE4LjIzOTQ1MiwgMzQuMTE2ODE0XSwgWy0xMTguMjM5NTE5LCAzNC4xMTY4NjldLCBbLTExOC4yMzk1OTYsIDM0LjExNjkwOV0sIFstMTE4LjIzOTYyMywgMzQuMTE2OTE4XSwgWy0xMTguMjM5Njk2LCAzNC4xMTY5MzU5OTk5OTk5OTVdLCBbLTExOC4yMzk4NTcsIDM0LjExNjk0NV0sIFstMTE4LjIzOTk1OSwgMzQuMTE2OTYzXSwgWy0xMTguMjQwMDU2LCAzNC4xMTY5OTE5OTk5OTk5OTZdLCBbLTExOC4yNDAxNiwgMzQuMTE3MDM2OTk5OTk5OTk2XSwgWy0xMTguMjQwMjU2LCAzNC4xMTcwOTRdLCBbLTExOC4yNDAzNDEsIDM0LjExNzE2MDk5OTk5OTk5Nl0sIFstMTE4LjI0MDY3MiwgMzQuMTE3NDkyOTk5OTk5OTk2XSwgWy0xMTguMjQxMjMyLCAzNC4xMTgwNTU5OTk5OTk5OTZdLCBbLTExOC4yNDI0NjcsIDM0LjExNzIwNTk5OTk5OTk5Nl0sIFstMTE4LjI0MzE0MywgMzQuMTE2NzRdLCBbLTExOC4yNDM0ODQ5OTk5OTk5OSwgMzQuMTE2NTA0XSwgWy0xMTguMjQ0MDAxLCAzNC4xMTYxNDldLCBbLTExOC4yNDQ5MjcsIDM0LjExNzA5Ml0sIFstMTE4LjI0NTg3NiwgMzQuMTE4MDEwOTk5OTk5OTk2XSwgWy0xMTguMjQ1NjAxOTk5OTk5OTksIDM0LjExODIxNl1dXSwgInR5cGUiOiAiUG9seWdvbiJ9LCAiaWQiOiAiMCIsICJwcm9wZXJ0aWVzIjogeyJGSVBTIjogIjA2MDM3MTg2NDAxMSIsICJHZW9fQkxLR1JQIjogMSwgIkdlb19OQU1FIjogIkJsb2NrIEdyb3VwIDEiLCAiR2VvX1FOYW1lIjogIkJsb2NrIEdyb3VwIDEsIENlbnN1cyBUcmFjdCAxODY0LjAxLCBMb3MgQW5nZWxlcyBDb3VudHksIENhbGlmb3JuaWEiLCAiSG91c2Vob2xkIEluY29tZSAkMTAwLDAwMCBvciBNb3JlIjogODMsICJIb3VzZWhvbGQgSW5jb21lICQyNSwwMDAgdG8gJDQ5LDk5OSI6IDE1NSwgIkhvdXNlaG9sZCBJbmNvbWUgJDUwLDAwMCB0byAkNzQsOTk5IjogMjA2LCAiSG91c2Vob2xkIEluY29tZSAkNzUsMDAwIHRvICQ5OSw5OTkiOiA2MSwgIkhvdXNlaG9sZCBJbmNvbWUgTGVzcyB0aGFuICQyNSwwMDAiOiAxODgsICJUb3RhbCBIb3VzZWhvbGRzIjogNjkzLCAiVG90YWwgSG91c2Vob2xkcyBpbiBBdHdhdGVyIFZpbGxhZ2UiOiA2OTMsICJuZWlnaGJvcmhvb2QiOiAiQXR3YXRlciIsICJwX2xlc3NfMjVrIjogMjcuMTI4NDI3MTI4NDI3MTMsICJwX21vcmVfMTAwayI6IDExLjk3NjkxMTk3NjkxMTk3OH0sICJ0eXBlIjogIkZlYXR1cmUifSwgeyJiYm94IjogWy0xMTguMjcxMTE1LCAzNC4xMjg4NTY5OTk5OTk5OTYsIC0xMTguMjY0NDk2LCAzNC4xMzcwOTQ5OTk5OTk5OTVdLCAiZ2VvbWV0cnkiOiB7ImNvb3JkaW5hdGVzIjogW1tbLTExOC4yNzEwNDgwMDAwMDAwMSwgMzQuMTMzMDM4XSwgWy0xMTguMjcxMDM3LCAzNC4xMzMzOTZdLCBbLTExOC4yNzA4MTksIDM0LjEzMzM5Njk5OTk5OTk5NV0sIFstMTE4LjI3MDE5MiwgMzQuMTMzNF0sIFstMTE4LjI2OTAwOSwgMzQuMTMzNDA0OTk5OTk5OTk2XSwgWy0xMTguMjY5MDE1LCAzNC4xMzQzMjZdLCBbLTExOC4yNjkwMjEsIDM0LjEzNTIzM10sIFstMTE4LjI2OTAyNzk5OTk5OTk5LCAzNC4xMzYxNF0sIFstMTE4LjI2OTAzNCwgMzQuMTM3MDg3XSwgWy0xMTguMjY3ODg0LCAzNC4xMzcwOTE5OTk5OTk5OTZdLCBbLTExOC4yNjcyOTEsIDM0LjEzNzA5NDk5OTk5OTk5NV0sIFstMTE4LjI2NTk0NywgMzQuMTM0NDgyOTk5OTk5OTk2XSwgWy0xMTguMjY1NDU4OTk5OTk5OTksIDM0LjEzMzUzNF0sIFstMTE4LjI2NTQwMSwgMzQuMTMzNDIxXSwgWy0xMTguMjY1NDQ2LCAzNC4xMzM0MjFdLCBbLTExOC4yNjQ5OTMsIDM0LjEzMjU0MDk5OTk5OTk5Nl0sIFstMTE4LjI2NDQ5NiwgMzQuMTMxNTc1XSwgWy0xMTguMjY2NTIxLCAzNC4xMzEzMTldLCBbLTExOC4yNjc3NDYsIDM0LjEzMTE2NF0sIFstMTE4LjI2NzcxOCwgMzQuMTMxMDEyXSwgWy0xMTguMjY3NjU5LCAzNC4xMzA2ODhdLCBbLTExOC4yNjc2MjksIDM0LjEzMDUxXSwgWy0xMTguMjY3NjE3LCAzNC4xMzAzNzVdLCBbLTExOC4yNjc2MTEsIDM0LjEyOTM3OV0sIFstMTE4LjI2NzU5Nzk5OTk5OTk5LCAzNC4xMjkyMzRdLCBbLTExOC4yNjgzODksIDM0LjEyODg1Njk5OTk5OTk5Nl0sIFstMTE4LjI2ODkyMiwgMzQuMTMwMDQ2XSwgWy0xMTguMjY4OTY0LCAzNC4xMzAxNjg5OTk5OTk5OTVdLCBbLTExOC4yNjg5OTMsIDM0LjEzMDI5Nl0sIFstMTE4LjI2OTAwOSwgMzQuMTMwNDQ1XSwgWy0xMTguMjY5MDE0LCAzNC4xMzEyMDY5OTk5OTk5OTZdLCBbLTExOC4yNzAxNzgsIDM0LjEzMTIwM10sIFstMTE4LjI3MDgyMzAwMDAwMDAxLCAzNC4xMzEyMjFdLCBbLTExOC4yNzExMTUsIDM0LjEzMTIwOV0sIFstMTE4LjI3MTA0ODAwMDAwMDAxLCAzNC4xMzMwMzhdXV0sICJ0eXBlIjogIlBvbHlnb24ifSwgImlkIjogIjEiLCAicHJvcGVydGllcyI6IHsiRklQUyI6ICIwNjAzNzE4ODEwMDMiLCAiR2VvX0JMS0dSUCI6IDMsICJHZW9fTkFNRSI6ICJCbG9jayBHcm91cCAzIiwgIkdlb19RTmFtZSI6ICJCbG9jayBHcm91cCAzLCBDZW5zdXMgVHJhY3QgMTg4MSwgTG9zIEFuZ2VsZXMgQ291bnR5LCBDYWxpZm9ybmlhIiwgIkhvdXNlaG9sZCBJbmNvbWUgJDEwMCwwMDAgb3IgTW9yZSI6IDEzOSwgIkhvdXNlaG9sZCBJbmNvbWUgJDI1LDAwMCB0byAkNDksOTk5IjogMTIxLCAiSG91c2Vob2xkIEluY29tZSAkNTAsMDAwIHRvICQ3NCw5OTkiOiA2NCwgIkhvdXNlaG9sZCBJbmNvbWUgJDc1LDAwMCB0byAkOTksOTk5IjogODAsICJIb3VzZWhvbGQgSW5jb21lIExlc3MgdGhhbiAkMjUsMDAwIjogMzcsICJUb3RhbCBIb3VzZWhvbGRzIjogNDQxLCAiVG90YWwgSG91c2Vob2xkcyBpbiBBdHdhdGVyIFZpbGxhZ2UiOiA0NDEsICJuZWlnaGJvcmhvb2QiOiAiQXR3YXRlciIsICJwX2xlc3NfMjVrIjogOC4zOTAwMjI2NzU3MzY5NjIsICJwX21vcmVfMTAwayI6IDMxLjUxOTI3NDM3NjQxNzIzM30sICJ0eXBlIjogIkZlYXR1cmUifSwgeyJiYm94IjogWy0xMTguMjcsIDM0LjEyNDAyOSwgLTExOC4yNjE4NzMsIDM0LjEzMzQyMV0sICJnZW9tZXRyeSI6IHsiY29vcmRpbmF0ZXMiOiBbW1stMTE4LjI2OTI0OCwgMzQuMTI4NDQ3XSwgWy0xMTguMjY4Mzg5LCAzNC4xMjg4NTY5OTk5OTk5OTZdLCBbLTExOC4yNjc1OTc5OTk5OTk5OSwgMzQuMTI5MjM0XSwgWy0xMTguMjY3NjExLCAzNC4xMjkzNzldLCBbLTExOC4yNjc2MTcsIDM0LjEzMDM3NV0sIFstMTE4LjI2NzYyOSwgMzQuMTMwNTFdLCBbLTExOC4yNjc2NTksIDM0LjEzMDY4OF0sIFstMTE4LjI2NzcxOCwgMzQuMTMxMDEyXSwgWy0xMTguMjY3NzQ2LCAzNC4xMzExNjRdLCBbLTExOC4yNjY1MjEsIDM0LjEzMTMxOV0sIFstMTE4LjI2NDQ5NiwgMzQuMTMxNTc1XSwgWy0xMTguMjY0OTkzLCAzNC4xMzI1NDA5OTk5OTk5OTZdLCBbLTExOC4yNjU0NDYsIDM0LjEzMzQyMV0sIFstMTE4LjI2NTQwMSwgMzQuMTMzNDIxXSwgWy0xMTguMjYzNDczLCAzNC4xMjk2NzNdLCBbLTExOC4yNjMyMDYsIDM0LjEyOTE2OF0sIFstMTE4LjI2MjkyOSwgMzQuMTI4NjY1OTk5OTk5OTk2XSwgWy0xMTguMjYyNjQyLCAzNC4xMjgxNjldLCBbLTExOC4yNjIzNDQsIDM0LjEyNzY3Nl0sIFstMTE4LjI2MiwgMzQuMTI3MTI5XSwgWy0xMTguMjYxOTQ5LCAzNC4xMjcwNTJdLCBbLTExOC4yNjE4NzMsIDM0LjEyNjkzN10sIFstMTE4LjI2MjAwMSwgMzQuMTI2ODU2XSwgWy0xMTguMjYyNzM3LCAzNC4xMjY0NjJdLCBbLTExOC4yNjI4NjYsIDM0LjEyNjQ3NV0sIFstMTE4LjI2Mjg5OCwgMzQuMTI2NDU4XSwgWy0xMTguMjYzNzg0LCAzNC4xMjU5ODVdLCBbLTExOC4yNjQ3MDQ5OTk5OTk5OSwgMzQuMTI1NDk2OTk5OTk5OTk2XSwgWy0xMTguMjY0ODIxLCAzNC4xMjU0MzZdLCBbLTExOC4yNjU2MjYsIDM0LjEyNTAxMV0sIFstMTE4LjI2NjUzMywgMzQuMTI0NTMxOTk5OTk5OTk1XSwgWy0xMTguMjY3NDg1OTk5OTk5OTksIDM0LjEyNDAyOV0sIFstMTE4LjI2ODI3Mzk5OTk5OTk5LCAzNC4xMjUwNjJdLCBbLTExOC4yNjg4MTM5OTk5OTk5OSwgMzQuMTI2MDA4OTk5OTk5OTk2XSwgWy0xMTguMjcsIDM0LjEyODA4ODk5OTk5OTk5Nl0sIFstMTE4LjI2OTI0OCwgMzQuMTI4NDQ3XV1dLCAidHlwZSI6ICJQb2x5Z29uIn0sICJpZCI6ICIyIiwgInByb3BlcnRpZXMiOiB7IkZJUFMiOiAiMDYwMzcxODgxMDAyIiwgIkdlb19CTEtHUlAiOiAyLCAiR2VvX05BTUUiOiAiQmxvY2sgR3JvdXAgMiIsICJHZW9fUU5hbWUiOiAiQmxvY2sgR3JvdXAgMiwgQ2Vuc3VzIFRyYWN0IDE4ODEsIExvcyBBbmdlbGVzIENvdW50eSwgQ2FsaWZvcm5pYSIsICJIb3VzZWhvbGQgSW5jb21lICQxMDAsMDAwIG9yIE1vcmUiOiAxNDAsICJIb3VzZWhvbGQgSW5jb21lICQyNSwwMDAgdG8gJDQ5LDk5OSI6IDY0LCAiSG91c2Vob2xkIEluY29tZSAkNTAsMDAwIHRvICQ3NCw5OTkiOiA2MSwgIkhvdXNlaG9sZCBJbmNvbWUgJDc1LDAwMCB0byAkOTksOTk5IjogMjUsICJIb3VzZWhvbGQgSW5jb21lIExlc3MgdGhhbiAkMjUsMDAwIjogMTM0LCAiVG90YWwgSG91c2Vob2xkcyI6IDQyNCwgIlRvdGFsIEhvdXNlaG9sZHMgaW4gQXR3YXRlciBWaWxsYWdlIjogNDI0LCAibmVpZ2hib3Job29kIjogIkF0d2F0ZXIiLCAicF9sZXNzXzI1ayI6IDMxLjYwMzc3MzU4NDkwNTY2LCAicF9tb3JlXzEwMGsiOiAzMy4wMTg4Njc5MjQ1MjgzfSwgInR5cGUiOiAiRmVhdHVyZSJ9LCB7ImJib3giOiBbLTExOC4yNjg0NCwgMzQuMTE2MTM5LCAtMTE4LjI2MDM0NSwgMzQuMTI1MDExXSwgImdlb21ldHJ5IjogeyJjb29yZGluYXRlcyI6IFtbWy0xMTguMjY4NDQsIDM0LjEyMzUyNl0sIFstMTE4LjI2NzQ4NTk5OTk5OTk5LCAzNC4xMjQwMjldLCBbLTExOC4yNjY1MzMsIDM0LjEyNDUzMTk5OTk5OTk5NV0sIFstMTE4LjI2NTYyNiwgMzQuMTI1MDExXSwgWy0xMTguMjYzOTU3LCAzNC4xMjMwMDNdLCBbLTExOC4yNjI1MjksIDM0LjEyMTI4NV0sIFstMTE4LjI2MDM0NSwgMzQuMTE4NjU3XSwgWy0xMTguMjYwNjM5LCAzNC4xMTgzODJdLCBbLTExOC4yNjEwNzk5OTk5OTk5OSwgMzQuMTE3OTcxXSwgWy0xMTguMjYxMzcxLCAzNC4xMTc2OTldLCBbLTExOC4yNjMwNDIsIDM0LjExNjEzOV0sIFstMTE4LjI2MzIwMywgMzQuMTE2MjYzXSwgWy0xMTguMjYzMzA4OTk5OTk5OTksIDM0LjExNjM2Nl0sIFstMTE4LjI2MzM5MzAwMDAwMDAxLCAzNC4xMTY0NjU5OTk5OTk5OTZdLCBbLTExOC4yNjM0NjEsIDM0LjExNjU2M10sIFstMTE4LjI2MzUyODAwMDAwMDAxLCAzNC4xMTY2ODZdLCBbLTExOC4yNjM1NTY5OTk5OTk5OSwgMzQuMTE2NzUxXSwgWy0xMTguMjYzNjM1OTk5OTk5OTksIDM0LjExNjk2MDk5OTk5OTk5Nl0sIFstMTE4LjI2MzgwNDk5OTk5OTk5LCAzNC4xMTc0MDI5OTk5OTk5OTZdLCBbLTExOC4yNjM4OCwgMzQuMTE3NTYyXSwgWy0xMTguMjYzODksIDM0LjExNzU4XSwgWy0xMTguMjYzOTksIDM0LjExNzc2Ml0sIFstMTE4LjI2NDMyNCwgMzQuMTE4MzY5XSwgWy0xMTguMjY0MzQxLCAzNC4xMTgzOTNdLCBbLTExOC4yNjQ2NTcsIDM0LjExODg1NDk5OTk5OTk5Nl0sIFstMTE4LjI2NDc0LCAzNC4xMTg5ODldLCBbLTExOC4yNjQ4MjIsIDM0LjExOTE1MDk5OTk5OTk5NV0sIFstMTE4LjI2NDg3NSwgMzQuMTE5Mjg0XSwgWy0xMTguMjY0OTcsIDM0LjExOTU5M10sIFstMTE4LjI2NTAyNiwgMzQuMTE5NzE4XSwgWy0xMTguMjY1MTA2LCAzNC4xMTk4NDJdLCBbLTExOC4yNjUxNDksIDM0LjExOTg5N10sIFstMTE4LjI2NTI0MSwgMzQuMTE5OTkzXSwgWy0xMTguMjY1MzM3LCAzNC4xMjAwNzM5OTk5OTk5OTVdLCBbLTExOC4yNjU0NDMsIDM0LjEyMDE0Njk5OTk5OTk5Nl0sIFstMTE4LjI2NjE2LCAzNC4xMjA1NDNdLCBbLTExOC4yNjYzLCAzNC4xMjA2MTk5OTk5OTk5OTVdLCBbLTExOC4yNjcwODMsIDM0LjEyMTA1NF0sIFstMTE4LjI2NzE5MSwgMzQuMTIxMTU5XSwgWy0xMTguMjY3MzA5LCAzNC4xMjE1MTNdLCBbLTExOC4yNjczODksIDM0LjEyMTY4ODk5OTk5OTk5Nl0sIFstMTE4LjI2NzQ2NSwgMzQuMTIxODI0XSwgWy0xMTguMjY3NTY0LCAzNC4xMjE5N10sIFstMTE4LjI2Nzg4MywgMzQuMTIyNDAwOTk5OTk5OTk2XSwgWy0xMTguMjY3OTU2LCAzNC4xMjI1MjNdLCBbLTExOC4yNjgwNTIsIDM0LjEyMjcyMTk5OTk5OTk5Nl0sIFstMTE4LjI2ODQ0LCAzNC4xMjM1MjZdXV0sICJ0eXBlIjogIlBvbHlnb24ifSwgImlkIjogIjMiLCAicHJvcGVydGllcyI6IHsiRklQUyI6ICIwNjAzNzE4ODMwMDIiLCAiR2VvX0JMS0dSUCI6IDIsICJHZW9fTkFNRSI6ICJCbG9jayBHcm91cCAyIiwgIkdlb19RTmFtZSI6ICJCbG9jayBHcm91cCAyLCBDZW5zdXMgVHJhY3QgMTg4MywgTG9zIEFuZ2VsZXMgQ291bnR5LCBDYWxpZm9ybmlhIiwgIkhvdXNlaG9sZCBJbmNvbWUgJDEwMCwwMDAgb3IgTW9yZSI6IDIxMSwgIkhvdXNlaG9sZCBJbmNvbWUgJDI1LDAwMCB0byAkNDksOTk5IjogNjIsICJIb3VzZWhvbGQgSW5jb21lICQ1MCwwMDAgdG8gJDc0LDk5OSI6IDU5LCAiSG91c2Vob2xkIEluY29tZSAkNzUsMDAwIHRvICQ5OSw5OTkiOiAzNCwgIkhvdXNlaG9sZCBJbmNvbWUgTGVzcyB0aGFuICQyNSwwMDAiOiAxMywgIlRvdGFsIEhvdXNlaG9sZHMiOiAzNzksICJUb3RhbCBIb3VzZWhvbGRzIGluIEF0d2F0ZXIgVmlsbGFnZSI6IDM3OSwgIm5laWdoYm9yaG9vZCI6ICJBdHdhdGVyIiwgInBfbGVzc18yNWsiOiAzLjQzMDA3OTE1NTY3MjgyMywgInBfbW9yZV8xMDBrIjogNTUuNjcyODIzMjE4OTk3MzZ9LCAidHlwZSI6ICJGZWF0dXJlIn0sIHsiYmJveCI6IFstMTE4LjI0NDExNSwgMzQuMTE5OTM1OTk5OTk5OTk2LCAtMTE4LjI0MDUzLCAzNC4xMjI3MTVdLCAiZ2VvbWV0cnkiOiB7ImNvb3JkaW5hdGVzIjogW1tbLTExOC4yNDQxMTUsIDM0LjEyMDk1NF0sIFstMTE4LjI0MTgwMDAwMDAwMDAxLCAzNC4xMjI3MTVdLCBbLTExOC4yNDEyNDYsIDM0LjEyMjIwNV0sIFstMTE4LjI0MTA4OSwgMzQuMTIyMDc0XSwgWy0xMTguMjQwOTIyLCAzNC4xMjE5NTM5OTk5OTk5OTVdLCBbLTExOC4yNDA1MywgMzQuMTIxNzA4XSwgWy0xMTguMjQxMTkxLCAzNC4xMjEyNTJdLCBbLTExOC4yNDMxMDIsIDM0LjExOTkzNTk5OTk5OTk5Nl0sIFstMTE4LjI0NDExNSwgMzQuMTIwOTU0XV1dLCAidHlwZSI6ICJQb2x5Z29uIn0sICJpZCI6ICI0IiwgInByb3BlcnRpZXMiOiB7IkZJUFMiOiAiMDYwMzcxODYzMDEyIiwgIkdlb19CTEtHUlAiOiAyLCAiR2VvX05BTUUiOiAiQmxvY2sgR3JvdXAgMiIsICJHZW9fUU5hbWUiOiAiQmxvY2sgR3JvdXAgMiwgQ2Vuc3VzIFRyYWN0IDE4NjMuMDEsIExvcyBBbmdlbGVzIENvdW50eSwgQ2FsaWZvcm5pYSIsICJIb3VzZWhvbGQgSW5jb21lICQxMDAsMDAwIG9yIE1vcmUiOiAzOSwgIkhvdXNlaG9sZCBJbmNvbWUgJDI1LDAwMCB0byAkNDksOTk5IjogMTEzLCAiSG91c2Vob2xkIEluY29tZSAkNTAsMDAwIHRvICQ3NCw5OTkiOiAxNiwgIkhvdXNlaG9sZCBJbmNvbWUgJDc1LDAwMCB0byAkOTksOTk5IjogNiwgIkhvdXNlaG9sZCBJbmNvbWUgTGVzcyB0aGFuICQyNSwwMDAiOiA2NywgIlRvdGFsIEhvdXNlaG9sZHMiOiAyNDEsICJUb3RhbCBIb3VzZWhvbGRzIGluIEF0d2F0ZXIgVmlsbGFnZSI6IDI0MSwgIm5laWdoYm9yaG9vZCI6ICJBdHdhdGVyIiwgInBfbGVzc18yNWsiOiAyNy44MDA4Mjk4NzU1MTg2NzMsICJwX21vcmVfMTAwayI6IDE2LjE4MjU3MjYxNDEwNzg4M30sICJ0eXBlIjogIkZlYXR1cmUifSwgeyJiYm94IjogWy0xMTguMjQzMTAyLCAzNC4xMTg3NzcsIC0xMTguMjM2MjQsIDM0LjEyMTcwOF0sICJnZW9tZXRyeSI6IHsiY29vcmRpbmF0ZXMiOiBbW1stMTE4LjI0MzEwMiwgMzQuMTE5OTM1OTk5OTk5OTk2XSwgWy0xMTguMjQxMTkxLCAzNC4xMjEyNTJdLCBbLTExOC4yNDA1MywgMzQuMTIxNzA4XSwgWy0xMTguMjQwMjk2LCAzNC4xMjE1NjRdLCBbLTExOC4yNDAyMzUsIDM0LjEyMTUyMV0sIFstMTE4LjI0MDE3LCAzNC4xMjE0Nl0sIFstMTE4LjI0MDExMiwgMzQuMTIxMzgyXSwgWy0xMTguMjQwMDc3LCAzNC4xMjEzMTQ5OTk5OTk5OTZdLCBbLTExOC4yNDAwNSwgMzQuMTIxMjI3XSwgWy0xMTguMjQwMDQwOTk5OTk5OTksIDM0LjEyMTExOV0sIFstMTE4LjI0MDAyNCwgMzQuMTIwOTk2OTk5OTk5OTk2XSwgWy0xMTguMjM5OTk3LCAzNC4xMjA5XSwgWy0xMTguMjM5OTU2LCAzNC4xMjA4MTY5OTk5OTk5OTVdLCBbLTExOC4yMzk4OTcsIDM0LjEyMDc0Ml0sIFstMTE4LjIzOTgyMSwgMzQuMTIwNjc4XSwgWy0xMTguMjM5NzM5LCAzNC4xMjA2M10sIFstMTE4LjIzOTY1LCAzNC4xMjA1OTZdLCBbLTExOC4yMzk1MzYsIDM0LjEyMDU3MTk5OTk5OTk5Nl0sIFstMTE4LjIzOTQ0OCwgMzQuMTIwNTY4XSwgWy0xMTguMjM5MzYsIDM0LjEyMDU3NDk5OTk5OTk5NV0sIFstMTE4LjIzOTI1LCAzNC4xMjA2XSwgWy0xMTguMjM5MTYyLCAzNC4xMjA2MTM5OTk5OTk5OTZdLCBbLTExOC4yMzkwNzIsIDM0LjEyMDYxMl0sIFstMTE4LjIzODk4NCwgMzQuMTIwNTk0XSwgWy0xMTguMjM4OTIzLCAzNC4xMjA1NzFdLCBbLTExOC4yMzg4NDQsIDM0LjEyMDUyNjk5OTk5OTk5Nl0sIFstMTE4LjIzODc0MywgMzQuMTIwNDVdLCBbLTExOC4yMzgyMywgMzQuMTE5OTYyXSwgWy0xMTguMjM4MTIyLCAzNC4xMTk4NzhdLCBbLTExOC4yMzgwMDEsIDM0LjExOTgwOF0sIFstMTE4LjIzNzg2OSwgMzQuMTE5NzUyOTk5OTk5OTk2XSwgWy0xMTguMjM3NzQ3LCAzNC4xMTk3MTddLCBbLTExOC4yMzY4OTgsIDM0LjExOTU2M10sIFstMTE4LjIzNjgzMywgMzQuMTE5NTQzXSwgWy0xMTguMjM2NzcsIDM0LjExOTUxXSwgWy0xMTguMjM2NzExLCAzNC4xMTk0NThdLCBbLTExOC4yMzY0MDksIDM0LjExOTAyMl0sIFstMTE4LjIzNjMwNiwgMzQuMTE4ODcxOTk5OTk5OTk2XSwgWy0xMTguMjM2MjQsIDM0LjExODc3N10sIFstMTE4LjIzNjM0NywgMzQuMTE4ODAzXSwgWy0xMTguMjM2NTkyLCAzNC4xMTg4NTddLCBbLTExOC4yMzY4MzksIDM0LjExODkwMDAwMDAwMDAwNF0sIFstMTE4LjIzODEwMywgMzQuMTE5MDZdLCBbLTExOC4yMzg1NTksIDM0LjExOTExOF0sIFstMTE4LjIzODU0MiwgMzQuMTE5MTQ2XSwgWy0xMTguMjM5NDg1LCAzNC4xMTk4MjU5OTk5OTk5OTZdLCBbLTExOC4yMzk1NSwgMzQuMTE5ODY2XSwgWy0xMTguMjM5NjMsIDM0LjExOTg5N10sIFstMTE4LjI0MDMwNiwgMzQuMTIwMDQ1XSwgWy0xMTguMjQwMzczLCAzNC4xMjAwNTNdLCBbLTExOC4yNDA0Nzk5OTk5OTk5OSwgMzQuMTIwMDUzXSwgWy0xMTguMjQwNTc3LCAzNC4xMjAwMzldLCBbLTExOC4yNDA2NjgsIDM0LjEyMDAxXSwgWy0xMTguMjQwNzQ1LCAzNC4xMTk5NzNdLCBbLTExOC4yNDIxNjcsIDM0LjExODk5NTk5OTk5OTk5Nl0sIFstMTE4LjI0MzEwMiwgMzQuMTE5OTM1OTk5OTk5OTk2XV1dLCAidHlwZSI6ICJQb2x5Z29uIn0sICJpZCI6ICI1IiwgInByb3BlcnRpZXMiOiB7IkZJUFMiOiAiMDYwMzcxODYzMDEzIiwgIkdlb19CTEtHUlAiOiAzLCAiR2VvX05BTUUiOiAiQmxvY2sgR3JvdXAgMyIsICJHZW9fUU5hbWUiOiAiQmxvY2sgR3JvdXAgMywgQ2Vuc3VzIFRyYWN0IDE4NjMuMDEsIExvcyBBbmdlbGVzIENvdW50eSwgQ2FsaWZvcm5pYSIsICJIb3VzZWhvbGQgSW5jb21lICQxMDAsMDAwIG9yIE1vcmUiOiAyNywgIkhvdXNlaG9sZCBJbmNvbWUgJDI1LDAwMCB0byAkNDksOTk5IjogNzksICJIb3VzZWhvbGQgSW5jb21lICQ1MCwwMDAgdG8gJDc0LDk5OSI6IDEwMSwgIkhvdXNlaG9sZCBJbmNvbWUgJDc1LDAwMCB0byAkOTksOTk5IjogMzksICJIb3VzZWhvbGQgSW5jb21lIExlc3MgdGhhbiAkMjUsMDAwIjogNjksICJUb3RhbCBIb3VzZWhvbGRzIjogMzE1LCAiVG90YWwgSG91c2Vob2xkcyBpbiBBdHdhdGVyIFZpbGxhZ2UiOiAzMTUsICJuZWlnaGJvcmhvb2QiOiAiQXR3YXRlciIsICJwX2xlc3NfMjVrIjogMjEuOTA0NzYxOTA0NzYxOTA1LCAicF9tb3JlXzEwMGsiOiA4LjU3MTQyODU3MTQyODU3MX0sICJ0eXBlIjogIkZlYXR1cmUifSwgeyJiYm94IjogWy0xMTguMjY2MjQzLCAzNC4xMTExMjUsIC0xMTguMjU0MjU4LCAzNC4xMjE0NDY5OTk5OTk5OTZdLCAiZ2VvbWV0cnkiOiB7ImNvb3JkaW5hdGVzIjogW1tbLTExOC4yNjYwOTQsIDM0LjExMjc5N10sIFstMTE4LjI2NTk2MSwgMzQuMTEyOTI0XSwgWy0xMTguMjY1Nzc5LCAzNC4xMTMxNjhdLCBbLTExOC4yNjU3MTksIDM0LjExMzI0OF0sIFstMTE4LjI2NTUyNSwgMzQuMTEzNTA0OTk5OTk5OTk2XSwgWy0xMTguMjY1NDQyMDAwMDAwMDEsIDM0LjExMzYxNl0sIFstMTE4LjI2NTM5MSwgMzQuMTEzNjg0XSwgWy0xMTguMjY1MjMsIDM0LjExMzg5N10sIFstMTE4LjI2NDk2NywgMzQuMTE0MjQ3XSwgWy0xMTguMjY0ODkxLCAzNC4xMTQzNzE5OTk5OTk5OTZdLCBbLTExOC4yNjQ3NjE5OTk5OTk5OSwgMzQuMTE0NTU0XSwgWy0xMTguMjY0NjU1LCAzNC4xMTQ2ODVdLCBbLTExOC4yNjQ1MzU5OTk5OTk5OSwgMzQuMTE0ODA2XSwgWy0xMTguMjY0NTAxLCAzNC4xMTQ4NV0sIFstMTE4LjI2Mzg1MSwgMzQuMTE1Mzg0XSwgWy0xMTguMjYzMDQyLCAzNC4xMTYxMzldLCBbLTExOC4yNjEzNzEsIDM0LjExNzY5OV0sIFstMTE4LjI2MTA3OTk5OTk5OTk5LCAzNC4xMTc5NzFdLCBbLTExOC4yNjA2MzksIDM0LjExODM4Ml0sIFstMTE4LjI2MDM0NSwgMzQuMTE4NjU3XSwgWy0xMTguMjU5OTE1LCAzNC4xMTkwNTc5OTk5OTk5OTVdLCBbLTExOC4yNTk1OTksIDM0LjExOTM1M10sIFstMTE4LjI1ODg1MywgMzQuMTIwMDUxXSwgWy0xMTguMjU4MTA2LCAzNC4xMjA3NDddLCBbLTExOC4yNTc0NDUsIDM0LjEyMTM2Nl0sIFstMTE4LjI1NzI5NCwgMzQuMTIxNDQ2OTk5OTk5OTk2XSwgWy0xMTguMjU3MTQ2LCAzNC4xMjEzMDM5OTk5OTk5OTVdLCBbLTExOC4yNTcwNjMsIDM0LjEyMTIyNF0sIFstMTE4LjI1NjYyMSwgMzQuMTIwODEyXSwgWy0xMTguMjU2MTcsIDM0LjEyMDQwOF0sIFstMTE4LjI1NTQ3NiwgMzQuMTE5ODA3XSwgWy0xMTguMjU0MjU4LCAzNC4xMTg3NjFdLCBbLTExOC4yNTQ2NSwgMzQuMTE4NDQ1XSwgWy0xMTguMjU1NDM0LCAzNC4xMTc4MTVdLCBbLTExOC4yNTYyMTgsIDM0LjExNzE4NF0sIFstMTE4LjI1NzAwMSwgMzQuMTE2NTU0XSwgWy0xMTguMjU3Nzg1LCAzNC4xMTU5MjRdLCBbLTExOC4yNTg1NjgsIDM0LjExNTI5M10sIFstMTE4LjI1OTM1MiwgMzQuMTE0NjYxOTk5OTk5OTk2XSwgWy0xMTguMjYwMTM2LCAzNC4xMTQwMzFdLCBbLTExOC4yNjA4NzIsIDM0LjExMzQzOV0sIFstMTE4LjI2MTYwOCwgMzQuMTEyODQ2XSwgWy0xMTguMjYyMjk3LCAzNC4xMTIyOTJdLCBbLTExOC4yNjI2NDQ5OTk5OTk5OSwgMzQuMTEyMDEzXSwgWy0xMTguMjYzMDA3LCAzNC4xMTE3MzE5OTk5OTk5OTZdLCBbLTExOC4yNjMyMDUsIDM0LjExMTYyNV0sIFstMTE4LjI2MzMwNCwgMzQuMTExNTY3XSwgWy0xMTguMjYzNDY2OTk5OTk5OTksIDM0LjExMTQ2XSwgWy0xMTguMjYzNzg3MDAwMDAwMDEsIDM0LjExMTIyMl0sIFstMTE4LjI2MzkwMSwgMzQuMTExMTI1XSwgWy0xMTguMjY0NTIzLCAzNC4xMTE1NDA5OTk5OTk5OTVdLCBbLTExOC4yNjUzNTcsIDM0LjExMjEwM10sIFstMTE4LjI2NTQsIDM0LjExMjEzXSwgWy0xMTguMjY1NDQxLCAzNC4xMTIxNTldLCBbLTExOC4yNjU0OTksIDM0LjExMjE5OF0sIFstMTE4LjI2NjI0MywgMzQuMTEyNzAwMDAwMDAwMDA0XSwgWy0xMTguMjY2MDk0LCAzNC4xMTI3OTddXV0sICJ0eXBlIjogIlBvbHlnb24ifSwgImlkIjogIjYiLCAicHJvcGVydGllcyI6IHsiRklQUyI6ICIwNjAzNzE4NzEwMTIiLCAiR2VvX0JMS0dSUCI6IDIsICJHZW9fTkFNRSI6ICJCbG9jayBHcm91cCAyIiwgIkdlb19RTmFtZSI6ICJCbG9jayBHcm91cCAyLCBDZW5zdXMgVHJhY3QgMTg3MS4wMSwgTG9zIEFuZ2VsZXMgQ291bnR5LCBDYWxpZm9ybmlhIiwgIkhvdXNlaG9sZCBJbmNvbWUgJDEwMCwwMDAgb3IgTW9yZSI6IDI5MSwgIkhvdXNlaG9sZCBJbmNvbWUgJDI1LDAwMCB0byAkNDksOTk5IjogMTY3LCAiSG91c2Vob2xkIEluY29tZSAkNTAsMDAwIHRvICQ3NCw5OTkiOiA2MywgIkhvdXNlaG9sZCBJbmNvbWUgJDc1LDAwMCB0byAkOTksOTk5IjogMTEwLCAiSG91c2Vob2xkIEluY29tZSBMZXNzIHRoYW4gJDI1LDAwMCI6IDE1OCwgIlRvdGFsIEhvdXNlaG9sZHMiOiA3ODksICJUb3RhbCBIb3VzZWhvbGRzIGluIEF0d2F0ZXIgVmlsbGFnZSI6IDc4OSwgIm5laWdoYm9yaG9vZCI6ICJBdHdhdGVyIiwgInBfbGVzc18yNWsiOiAyMC4wMjUzNDg1NDI0NTg4MDgsICJwX21vcmVfMTAwayI6IDM2Ljg4MjEyOTI3NzU2NjU0fSwgInR5cGUiOiAiRmVhdHVyZSJ9LCB7ImJib3giOiBbLTExOC4yNjM5MDEsIDM0LjEwOTc5OCwgLTExOC4yNTIzNjMsIDM0LjExODg2XSwgImdlb21ldHJ5IjogeyJjb29yZGluYXRlcyI6IFtbWy0xMTguMjYzNzg3MDAwMDAwMDEsIDM0LjExMTIyMl0sIFstMTE4LjI2MzQ2Njk5OTk5OTk5LCAzNC4xMTE0Nl0sIFstMTE4LjI2MzMwNCwgMzQuMTExNTY3XSwgWy0xMTguMjYzMjA1LCAzNC4xMTE2MjVdLCBbLTExOC4yNjMwMDcsIDM0LjExMTczMTk5OTk5OTk5Nl0sIFstMTE4LjI2MjY0NDk5OTk5OTk5LCAzNC4xMTIwMTNdLCBbLTExOC4yNjIyOTcsIDM0LjExMjI5Ml0sIFstMTE4LjI2MTYwOCwgMzQuMTEyODQ2XSwgWy0xMTguMjYwODcyLCAzNC4xMTM0MzldLCBbLTExOC4yNjAxMzYsIDM0LjExNDAzMV0sIFstMTE4LjI1OTM1MiwgMzQuMTE0NjYxOTk5OTk5OTk2XSwgWy0xMTguMjU4NTY4LCAzNC4xMTUyOTNdLCBbLTExOC4yNTc3ODUsIDM0LjExNTkyNF0sIFstMTE4LjI1NzAwMSwgMzQuMTE2NTU0XSwgWy0xMTguMjU2MjE4LCAzNC4xMTcxODRdLCBbLTExOC4yNTU0MzQsIDM0LjExNzgxNV0sIFstMTE4LjI1NDY1LCAzNC4xMTg0NDVdLCBbLTExOC4yNTQyNTgsIDM0LjExODc2MV0sIFstMTE4LjI1NDE1Njk5OTk5OTk5LCAzNC4xMTg4NDVdLCBbLTExOC4yNTQxMzQ5OTk5OTk5OSwgMzQuMTE4ODZdLCBbLTExOC4yNTM2ODgsIDM0LjExODQ3M10sIFstMTE4LjI1MjM2MywgMzQuMTE3MzQ5XSwgWy0xMTguMjUyNjc3LCAzNC4xMTY3NDldLCBbLTExOC4yNTMxMDQwMDAwMDAwMSwgMzQuMTE1ODEyXSwgWy0xMTguMjUzNTMxLCAzNC4xMTQ4NzVdLCBbLTExOC4yNTM5NTgsIDM0LjExMzkzOF0sIFstMTE4LjI1NDM4NSwgMzQuMTEzMDAxXSwgWy0xMTguMjU2MDM4LCAzNC4xMTQ0MjJdLCBbLTExOC4yNTY4MjIsIDM0LjExMzc5Ml0sIFstMTE4LjI1NzYwNiwgMzQuMTEzMTYxXSwgWy0xMTguMjU4Mzg5OTk5OTk5OTksIDM0LjExMjUzXSwgWy0xMTguMjU5MTI2LCAzNC4xMTE5MzddLCBbLTExOC4yNjA4NjQsIDM0LjExMDU0XSwgWy0xMTguMjYwOTc0LCAzNC4xMTAzOTc5OTk5OTk5OTZdLCBbLTExOC4yNjExODgsIDM0LjExMDIwNl0sIFstMTE4LjI2MTMwMiwgMzQuMTEwMTEzOTk5OTk5OTk2XSwgWy0xMTguMjYxMzg3LCAzNC4xMTAwNDddLCBbLTExOC4yNjE2NjMsIDM0LjEwOTgyOF0sIFstMTE4LjI2MTcwMywgMzQuMTA5Nzk4XSwgWy0xMTguMjYyMjM5OTk5OTk5OTksIDM0LjExMDA5Nl0sIFstMTE4LjI2MjM1NywgMzQuMTEwMTYzXSwgWy0xMTguMjYyODM5LCAzNC4xMTA0NDddLCBbLTExOC4yNjMyMDksIDM0LjExMDY3Mzk5OTk5OTk5Nl0sIFstMTE4LjI2MzU3MzAwMDAwMDAxLCAzNC4xMTA5MDZdLCBbLTExOC4yNjM5MDEsIDM0LjExMTEyNV0sIFstMTE4LjI2Mzc4NzAwMDAwMDAxLCAzNC4xMTEyMjJdXV0sICJ0eXBlIjogIlBvbHlnb24ifSwgImlkIjogIjciLCAicHJvcGVydGllcyI6IHsiRklQUyI6ICIwNjAzNzE4NzEwMTEiLCAiR2VvX0JMS0dSUCI6IDEsICJHZW9fTkFNRSI6ICJCbG9jayBHcm91cCAxIiwgIkdlb19RTmFtZSI6ICJCbG9jayBHcm91cCAxLCBDZW5zdXMgVHJhY3QgMTg3MS4wMSwgTG9zIEFuZ2VsZXMgQ291bnR5LCBDYWxpZm9ybmlhIiwgIkhvdXNlaG9sZCBJbmNvbWUgJDEwMCwwMDAgb3IgTW9yZSI6IDEzNywgIkhvdXNlaG9sZCBJbmNvbWUgJDI1LDAwMCB0byAkNDksOTk5IjogMTA3LCAiSG91c2Vob2xkIEluY29tZSAkNTAsMDAwIHRvICQ3NCw5OTkiOiA2NSwgIkhvdXNlaG9sZCBJbmNvbWUgJDc1LDAwMCB0byAkOTksOTk5IjogOTAsICJIb3VzZWhvbGQgSW5jb21lIExlc3MgdGhhbiAkMjUsMDAwIjogNDAsICJUb3RhbCBIb3VzZWhvbGRzIjogNDM5LCAiVG90YWwgSG91c2Vob2xkcyBpbiBBdHdhdGVyIFZpbGxhZ2UiOiA0MzksICJuZWlnaGJvcmhvb2QiOiAiQXR3YXRlciIsICJwX2xlc3NfMjVrIjogOS4xMTE2MTczMTIwNzI4OTMsICJwX21vcmVfMTAwayI6IDMxLjIwNzI4OTI5Mzg0OTY2Mn0sICJ0eXBlIjogIkZlYXR1cmUifSwgeyJiYm94IjogWy0xMTguMjQ0MTYsIDM0LjEwNDczNTk5OTk5OTk5NSwgLTExOC4yMzcyNjMsIDM0LjExNDgzMl0sICJnZW9tZXRyeSI6IHsiY29vcmRpbmF0ZXMiOiBbW1stMTE4LjI0NDE2LCAzNC4xMTMxODY5OTk5OTk5OTZdLCBbLTExOC4yNDMwNDcsIDM0LjExMzg4N10sIFstMTE4LjI0MjgxMiwgMzQuMTE0MDI4XSwgWy0xMTguMjQyNzY5LCAzNC4xMTQwNTM5OTk5OTk5OTZdLCBbLTExOC4yNDI0ODUsIDM0LjExNDIxMl0sIFstMTE4LjI0MjA0NywgMzQuMTE0NDMzOTk5OTk5OTk2XSwgWy0xMTguMjQxNjQsIDM0LjExNDYxOF0sIFstMTE4LjI0MTQ0MSwgMzQuMTE0N10sIFstMTE4LjI0MTExMywgMzQuMTE0ODMyXSwgWy0xMTguMjQwODQyLCAzNC4xMTQ2MzA5OTk5OTk5OTZdLCBbLTExOC4yMzk4NSwgMzQuMTEzNjMzXSwgWy0xMTguMjM3MjYzLCAzNC4xMTAzODhdLCBbLTExOC4yMzc1NywgMzQuMTA5MjA3XSwgWy0xMTguMjM3OTQzLCAzNC4xMDc3NzZdLCBbLTExOC4yMzgyMDQsIDM0LjEwNjc3XSwgWy0xMTguMjM4MjUsIDM0LjEwNjU3NF0sIFstMTE4LjIzODI5LCAzNC4xMDYzMDddLCBbLTExOC4yMzgzMDIsIDM0LjEwNjE1M10sIFstMTE4LjIzODMwMywgMzQuMTA1OTI4OTk5OTk5OTk2XSwgWy0xMTguMjM4Mjg0OTk5OTk5OTksIDM0LjEwNTcwNl0sIFstMTE4LjIzODI0OSwgMzQuMTA1NDg0XSwgWy0xMTguMjM4MjA5LCAzNC4xMDUzMl0sIFstMTE4LjIzODE1OSwgMzQuMTA1MTU3XSwgWy0xMTguMjM4MDc5LCAzNC4xMDQ5NDk5OTk5OTk5OTVdLCBbLTExOC4yMzgyODgsIDM0LjEwNDgxNl0sIFstMTE4LjIzODM2NCwgMzQuMTA0NzY2XSwgWy0xMTguMjM4NDEsIDM0LjEwNDczNTk5OTk5OTk5NV0sIFstMTE4LjIzODUwNCwgMzQuMTA0ODQ2XSwgWy0xMTguMjM4NTU0OTk5OTk5OTksIDM0LjEwNDkwNl0sIFstMTE4LjIzODYwNywgMzQuMTA0OTY2OTk5OTk5OTk1XSwgWy0xMTguMjM5ODg1LCAzNC4xMDYzMjVdLCBbLTExOC4yNDA0MzksIDM0LjEwNjk4XSwgWy0xMTguMjQxNTQzMDAwMDAwMDEsIDM0LjEwODQxNV0sIFstMTE4LjI0MjI3NSwgMzQuMTA5MzcyXSwgWy0xMTguMjQzMTEzLCAzNC4xMTA0MzQ5OTk5OTk5OTVdLCBbLTExOC4yNDM1OSwgMzQuMTExMDk0XSwgWy0xMTguMjQzNjQsIDM0LjExMTE4MV0sIFstMTE4LjI0MzY4MiwgMzQuMTExMjg4XSwgWy0xMTguMjQzNzA3LCAzNC4xMTEzODddLCBbLTExOC4yNDM3MjEsIDM0LjExMTUxNV0sIFstMTE4LjI0MzcxNSwgMzQuMTExNjI3XSwgWy0xMTguMjQzNjkzMDAwMDAwMDEsIDM0LjExMTczNzk5OTk5OTk5NV0sIFstMTE4LjI0MzYyMiwgMzQuMTExOTM3XSwgWy0xMTguMjQzNTk2LCAzNC4xMTIwNTFdLCBbLTExOC4yNDM1ODUsIDM0LjExMjE2Ml0sIFstMTE4LjI0MzU3NDk5OTk5OTk5LCAzNC4xMTIyNzJdLCBbLTExOC4yNDM1NzYsIDM0LjExMjI5Nzk5OTk5OTk5Nl0sIFstMTE4LjI0MzU4MywgMzQuMTEyNDE1OTk5OTk5OTk2XSwgWy0xMTguMjQzNTg5LCAzNC4xMTI0NDk5OTk5OTk5OTVdLCBbLTExOC4yNDM2MTUsIDM0LjExMjUyNTk5OTk5OTk5NV0sIFstMTE4LjI0MzY3NiwgMzQuMTEyNjQ5XSwgWy0xMTguMjQzNzQxLCAzNC4xMTI3NDldLCBbLTExOC4yNDM4MiwgMzQuMTEyODQzXSwgWy0xMTguMjQzOTQ1LCAzNC4xMTI5NzFdLCBbLTExOC4yNDQxNiwgMzQuMTEzMTg2OTk5OTk5OTk2XV1dLCAidHlwZSI6ICJQb2x5Z29uIn0sICJpZCI6ICI4IiwgInByb3BlcnRpZXMiOiB7IkZJUFMiOiAiMDYwMzcxODY0MDMyIiwgIkdlb19CTEtHUlAiOiAyLCAiR2VvX05BTUUiOiAiQmxvY2sgR3JvdXAgMiIsICJHZW9fUU5hbWUiOiAiQmxvY2sgR3JvdXAgMiwgQ2Vuc3VzIFRyYWN0IDE4NjQuMDMsIExvcyBBbmdlbGVzIENvdW50eSwgQ2FsaWZvcm5pYSIsICJIb3VzZWhvbGQgSW5jb21lICQxMDAsMDAwIG9yIE1vcmUiOiAxNDEsICJIb3VzZWhvbGQgSW5jb21lICQyNSwwMDAgdG8gJDQ5LDk5OSI6IDc2LCAiSG91c2Vob2xkIEluY29tZSAkNTAsMDAwIHRvICQ3NCw5OTkiOiA5NiwgIkhvdXNlaG9sZCBJbmNvbWUgJDc1LDAwMCB0byAkOTksOTk5IjogNTcsICJIb3VzZWhvbGQgSW5jb21lIExlc3MgdGhhbiAkMjUsMDAwIjogOTcsICJUb3RhbCBIb3VzZWhvbGRzIjogNDY3LCAiVG90YWwgSG91c2Vob2xkcyBpbiBBdHdhdGVyIFZpbGxhZ2UiOiA0NjcsICJuZWlnaGJvcmhvb2QiOiAiQXR3YXRlciIsICJwX2xlc3NfMjVrIjogMjAuNzcwODc3OTQ0MzI1NDg0LCAicF9tb3JlXzEwMGsiOiAzMC4xOTI3MTk0ODYwODEzN30sICJ0eXBlIjogIkZlYXR1cmUifSwgeyJiYm94IjogWy0xMTguMjYxNzAzLCAzNC4xMDc1MywgLTExOC4yNTQzODUsIDM0LjExNDQyMl0sICJnZW9tZXRyeSI6IHsiY29vcmRpbmF0ZXMiOiBbW1stMTE4LjI2MTY2MywgMzQuMTA5ODI4XSwgWy0xMTguMjYxMzg3LCAzNC4xMTAwNDddLCBbLTExOC4yNjEzMDIsIDM0LjExMDExMzk5OTk5OTk5Nl0sIFstMTE4LjI2MTE4OCwgMzQuMTEwMjA2XSwgWy0xMTguMjYwOTc0LCAzNC4xMTAzOTc5OTk5OTk5OTZdLCBbLTExOC4yNjA4NjQsIDM0LjExMDU0XSwgWy0xMTguMjU5MTI2LCAzNC4xMTE5MzddLCBbLTExOC4yNTgzODk5OTk5OTk5OSwgMzQuMTEyNTNdLCBbLTExOC4yNTc2MDYsIDM0LjExMzE2MV0sIFstMTE4LjI1NjgyMiwgMzQuMTEzNzkyXSwgWy0xMTguMjU2MDM4LCAzNC4xMTQ0MjJdLCBbLTExOC4yNTQzODUsIDM0LjExMzAwMV0sIFstMTE4LjI1NDgxMiwgMzQuMTEyMDYzXSwgWy0xMTguMjU1MjM5LCAzNC4xMTExMjVdLCBbLTExOC4yNTU0NjksIDM0LjExMDYyXSwgWy0xMTguMjU1NjY1OTk5OTk5OTksIDM0LjExMDE4OF0sIFstMTE4LjI1NTk5MywgMzQuMTA5NDddLCBbLTExOC4yNTYxNjUsIDM0LjEwOTA5MV0sIFstMTE4LjI1NjIxMTAwMDAwMDAxLCAzNC4xMDg2MjddLCBbLTExOC4yNTYzNjEsIDM0LjEwODY3Mjk5OTk5OTk5Nl0sIFstMTE4LjI1NjQyMywgMzQuMTA4NTE4XSwgWy0xMTguMjU2NDUsIDM0LjEwODQ4MTk5OTk5OTk5NV0sIFstMTE4LjI1NjU4MywgMzQuMTA4MzIxXSwgWy0xMTguMjU2NjM2LCAzNC4xMDgyNDNdLCBbLTExOC4yNTcwMzYsIDM0LjEwNzcyNl0sIFstMTE4LjI1NzE4OSwgMzQuMTA3NTNdLCBbLTExOC4yNTk3OTY5OTk5OTk5OSwgMzQuMTA4ODMyXSwgWy0xMTguMjYwMzA5LCAzNC4xMDkwODY5OTk5OTk5OTVdLCBbLTExOC4yNjA5MjQsIDM0LjEwOTM5NF0sIFstMTE4LjI2MTMxNiwgMzQuMTA5NTkzXSwgWy0xMTguMjYxNzAzLCAzNC4xMDk3OThdLCBbLTExOC4yNjE2NjMsIDM0LjEwOTgyOF1dXSwgInR5cGUiOiAiUG9seWdvbiJ9LCAiaWQiOiAiOSIsICJwcm9wZXJ0aWVzIjogeyJGSVBTIjogIjA2MDM3MTg3MTAyMSIsICJHZW9fQkxLR1JQIjogMSwgIkdlb19OQU1FIjogIkJsb2NrIEdyb3VwIDEiLCAiR2VvX1FOYW1lIjogIkJsb2NrIEdyb3VwIDEsIENlbnN1cyBUcmFjdCAxODcxLjAyLCBMb3MgQW5nZWxlcyBDb3VudHksIENhbGlmb3JuaWEiLCAiSG91c2Vob2xkIEluY29tZSAkMTAwLDAwMCBvciBNb3JlIjogMTkyLCAiSG91c2Vob2xkIEluY29tZSAkMjUsMDAwIHRvICQ0OSw5OTkiOiA4MCwgIkhvdXNlaG9sZCBJbmNvbWUgJDUwLDAwMCB0byAkNzQsOTk5IjogNTAsICJIb3VzZWhvbGQgSW5jb21lICQ3NSwwMDAgdG8gJDk5LDk5OSI6IDQyLCAiSG91c2Vob2xkIEluY29tZSBMZXNzIHRoYW4gJDI1LDAwMCI6IDMzLCAiVG90YWwgSG91c2Vob2xkcyI6IDM5NywgIlRvdGFsIEhvdXNlaG9sZHMgaW4gQXR3YXRlciBWaWxsYWdlIjogMzk3LCAibmVpZ2hib3Job29kIjogIkF0d2F0ZXIiLCAicF9sZXNzXzI1ayI6IDguMzEyMzQyNTY5MjY5NTIxLCAicF9tb3JlXzEwMGsiOiA0OC4zNjI3MjA0MDMwMjI2N30sICJ0eXBlIjogIkZlYXR1cmUifSwgeyJiYm94IjogWy0xMTguMjc4MzM3LCAzNC4xMjIwNjYsIC0xMTguMjY3MjkxLCAzNC4xNTMyNTk5OTk5OTk5OTZdLCAiZ2VvbWV0cnkiOiB7ImNvb3JkaW5hdGVzIjogW1tbLTExOC4yNzgzMzcsIDM0LjE1MzIwNV0sIFstMTE4LjI3NzY4MywgMzQuMTUzMjA3XSwgWy0xMTguMjc3MjE5LCAzNC4xNTMyMDhdLCBbLTExOC4yNzcwNjgsIDM0LjE1MzI1Nl0sIFstMTE4LjI3NjA0MiwgMzQuMTUzMjU5OTk5OTk5OTk2XSwgWy0xMTguMjc1OTM0LCAzNC4xNTMyNTk5OTk5OTk5OTZdLCBbLTExOC4yNzU4NzYsIDM0LjE1MzE2NV0sIFstMTE4LjI3NTg1MiwgMzQuMTUzMDc4XSwgWy0xMTguMjc0NDI5LCAzNC4xNTAzMjNdLCBbLTExOC4yNzQyOTcsIDM0LjE1MDE2Nl0sIFstMTE4LjI3Mzc5MSwgMzQuMTQ5NzMzXSwgWy0xMTguMjczNzMsIDM0LjE0OTYxMjk5OTk5OTk5NV0sIFstMTE4LjI3MzA4MywgMzQuMTQ4MzU0XSwgWy0xMTguMjcyMjY1LCAzNC4xNDY3NjRdLCBbLTExOC4yNzEyODMsIDM0LjE0NDg1Nl0sIFstMTE4LjI2OTk5MywgMzQuMTQyMzQ4XSwgWy0xMTguMjY5ODA4LCAzNC4xNDE5ODhdLCBbLTExOC4yNjk3NTUsIDM0LjE0MTg4Nl0sIFstMTE4LjI2OTUxOSwgMzQuMTQxNDI3XSwgWy0xMTguMjY4MTA0OTk5OTk5OTksIDM0LjEzODY3ODk5OTk5OTk5Nl0sIFstMTE4LjI2Nzg4NSwgMzQuMTM4MjUxXSwgWy0xMTguMjY3MjkxLCAzNC4xMzcwOTQ5OTk5OTk5OTVdLCBbLTExOC4yNjc4ODQsIDM0LjEzNzA5MTk5OTk5OTk5Nl0sIFstMTE4LjI2OTAzNCwgMzQuMTM3MDg3XSwgWy0xMTguMjY5MDI3OTk5OTk5OTksIDM0LjEzNjE0XSwgWy0xMTguMjY5MDIxLCAzNC4xMzUyMzNdLCBbLTExOC4yNjkwMTUsIDM0LjEzNDMyNl0sIFstMTE4LjI2OTAwOSwgMzQuMTMzNDA0OTk5OTk5OTk2XSwgWy0xMTguMjcwMTkyLCAzNC4xMzM0XSwgWy0xMTguMjcwODE5LCAzNC4xMzMzOTY5OTk5OTk5OTVdLCBbLTExOC4yNzEwMzcsIDM0LjEzMzM5Nl0sIFstMTE4LjI3MTA0ODAwMDAwMDAxLCAzNC4xMzMwMzhdLCBbLTExOC4yNzExMTUsIDM0LjEzMTIwOV0sIFstMTE4LjI3MDgyMzAwMDAwMDAxLCAzNC4xMzEyMjFdLCBbLTExOC4yNzAxNzgsIDM0LjEzMTIwM10sIFstMTE4LjI2OTAxNCwgMzQuMTMxMjA2OTk5OTk5OTk2XSwgWy0xMTguMjY5MDA5LCAzNC4xMzA0NDVdLCBbLTExOC4yNjg5OTMsIDM0LjEzMDI5Nl0sIFstMTE4LjI2ODk2NCwgMzQuMTMwMTY4OTk5OTk5OTk1XSwgWy0xMTguMjY4OTIyLCAzNC4xMzAwNDZdLCBbLTExOC4yNjgzODksIDM0LjEyODg1Njk5OTk5OTk5Nl0sIFstMTE4LjI2OTI0OCwgMzQuMTI4NDQ3XSwgWy0xMTguMjcsIDM0LjEyODA4ODk5OTk5OTk5Nl0sIFstMTE4LjI2ODgxMzk5OTk5OTk5LCAzNC4xMjYwMDg5OTk5OTk5OTZdLCBbLTExOC4yNjgyNzM5OTk5OTk5OSwgMzQuMTI1MDYyXSwgWy0xMTguMjY3NDg1OTk5OTk5OTksIDM0LjEyNDAyOV0sIFstMTE4LjI2ODQ0LCAzNC4xMjM1MjZdLCBbLTExOC4yNjkwNTA5OTk5OTk5OSwgMzQuMTIzMjAxXSwgWy0xMTguMjY5MDc4MDAwMDAwMDEsIDM0LjEyMzE4N10sIFstMTE4LjI2OTIyNCwgMzQuMTIzMDkyXSwgWy0xMTguMjY5MzMzLCAzNC4xMjMwMDhdLCBbLTExOC4yNjkzNTksIDM0LjEyMjk4OF0sIFstMTE4LjI2OTQ4MiwgMzQuMTIyODczOTk5OTk5OTk2XSwgWy0xMTguMjY5NTk0LCAzNC4xMjI3NTJdLCBbLTExOC4yNjk2ODA5OTk5OTk5OSwgMzQuMTIyNjM3XSwgWy0xMTguMjcwMDcxLCAzNC4xMjIwNjZdLCBbLTExOC4yNzA0NSwgMzQuMTIyNzgzXSwgWy0xMTguMjcwNjAyLCAzNC4xMjMxNTFdLCBbLTExOC4yNzA3MjcsIDM0LjEyMzM5OF0sIFstMTE4LjI3MTQyMSwgMzQuMTI1MDAxXSwgWy0xMTguMjcxNDE0LCAzNC4xMjUwMl0sIFstMTE4LjI3MTUzLCAzNC4xMjUzMTM5OTk5OTk5OTZdLCBbLTExOC4yNzE5MzE5OTk5OTk5OSwgMzQuMTI2MjI3XSwgWy0xMTguMjcyMDY2LCAzNC4xMjY1OTFdLCBbLTExOC4yNzIzMDgsIDM0LjEyNzI0N10sIFstMTE4LjI3MjQwOCwgMzQuMTI3NTE3OTk5OTk5OTk1XSwgWy0xMTguMjczMTgsIDM0LjEzMDA2NF0sIFstMTE4LjI3MzM2NSwgMzQuMTMwODM5XSwgWy0xMTguMjczNDQsIDM0LjEzMTA5MTk5OTk5OTk5NV0sIFstMTE4LjI3MzY4MSwgMzQuMTMxOTEwOTk5OTk5OTk1XSwgWy0xMTguMjc1MTI2LCAzNC4xMzY5MTE5OTk5OTk5OTVdLCBbLTExOC4yNzUxNDcsIDM0LjEzNjk4NDk5OTk5OTk5Nl0sIFstMTE4LjI3NTMzOCwgMzQuMTM3NzcxXSwgWy0xMTguMjc1ODk0LCAzNC4xMzk3MThdLCBbLTExOC4yNzU5NzYsIDM0LjE0MDAwOF0sIFstMTE4LjI3NjI3MiwgMzQuMTQxMDQyOTk5OTk5OTk2XSwgWy0xMTguMjc2MywgMzQuMTQxMTM4OTk5OTk5OTk1XSwgWy0xMTguMjc3MDgxLCAzNC4xNDM4NDVdLCBbLTExOC4yNzcyODUsIDM0LjE0NDY0OF0sIFstMTE4LjI3NzY4MSwgMzQuMTQ1OTg0XSwgWy0xMTguMjc3ODk1LCAzNC4xNDY3OTZdLCBbLTExOC4yNzgwMTA5OTk5OTk5OSwgMzQuMTQ3MjMxOTk5OTk5OTk1XSwgWy0xMTguMjc4MTgzLCAzNC4xNDgwMjldLCBbLTExOC4yNzgxNjgsIDM0LjE0ODM1NDk5OTk5OTk5NV0sIFstMTE4LjI3ODE2MywgMzQuMTQ4NDU3XSwgWy0xMTguMjc4MTc2LCAzNC4xNDkzMDg5OTk5OTk5OTVdLCBbLTExOC4yNzgxNDksIDM0LjE0OTc4OF0sIFstMTE4LjI3ODI1NCwgMzQuMTUyMTM5OTk5OTk5OTk2XSwgWy0xMTguMjc4Mjg1LCAzNC4xNTI0NzQ5OTk5OTk5OTVdLCBbLTExOC4yNzgzMDcsIDM0LjE1MjcxNjk5OTk5OTk5Nl0sIFstMTE4LjI3ODMyNCwgMzQuMTUyOTk2XSwgWy0xMTguMjc4MzI4LCAzNC4xNTMwNTddLCBbLTExOC4yNzgzMzcsIDM0LjE1MzIwNV1dXSwgInR5cGUiOiAiUG9seWdvbiJ9LCAiaWQiOiAiMTAiLCAicHJvcGVydGllcyI6IHsiRklQUyI6ICIwNjAzNzE4ODEwMDEiLCAiR2VvX0JMS0dSUCI6IDEsICJHZW9fTkFNRSI6ICJCbG9jayBHcm91cCAxIiwgIkdlb19RTmFtZSI6ICJCbG9jayBHcm91cCAxLCBDZW5zdXMgVHJhY3QgMTg4MSwgTG9zIEFuZ2VsZXMgQ291bnR5LCBDYWxpZm9ybmlhIiwgIkhvdXNlaG9sZCBJbmNvbWUgJDEwMCwwMDAgb3IgTW9yZSI6IDI1NSwgIkhvdXNlaG9sZCBJbmNvbWUgJDI1LDAwMCB0byAkNDksOTk5IjogMTQ0LCAiSG91c2Vob2xkIEluY29tZSAkNTAsMDAwIHRvICQ3NCw5OTkiOiAyMTQsICJIb3VzZWhvbGQgSW5jb21lICQ3NSwwMDAgdG8gJDk5LDk5OSI6IDk2LCAiSG91c2Vob2xkIEluY29tZSBMZXNzIHRoYW4gJDI1LDAwMCI6IDE0NiwgIlRvdGFsIEhvdXNlaG9sZHMiOiA4NTUsICJUb3RhbCBIb3VzZWhvbGRzIGluIEF0d2F0ZXIgVmlsbGFnZSI6IDg1NSwgIm5laWdoYm9yaG9vZCI6ICJBdHdhdGVyIiwgInBfbGVzc18yNWsiOiAxNy4wNzYwMjMzOTE4MTI4NjgsICJwX21vcmVfMTAwayI6IDI5LjgyNDU2MTQwMzUwODc3fSwgInR5cGUiOiAiRmVhdHVyZSJ9LCB7ImJib3giOiBbLTExOC4yNjU2MjYsIDM0LjExODY1NywgLTExOC4yNTcyOTQsIDM0LjEyNjkzN10sICJnZW9tZXRyeSI6IHsiY29vcmRpbmF0ZXMiOiBbW1stMTE4LjI2NDgyMSwgMzQuMTI1NDM2XSwgWy0xMTguMjY0NzA0OTk5OTk5OTksIDM0LjEyNTQ5Njk5OTk5OTk5Nl0sIFstMTE4LjI2Mzc4NCwgMzQuMTI1OTg1XSwgWy0xMTguMjYyODk4LCAzNC4xMjY0NThdLCBbLTExOC4yNjI4NjYsIDM0LjEyNjQ3NV0sIFstMTE4LjI2MjczNywgMzQuMTI2NDYyXSwgWy0xMTguMjYyMDAxLCAzNC4xMjY4NTZdLCBbLTExOC4yNjE4NzMsIDM0LjEyNjkzN10sIFstMTE4LjI2MTc2OCwgMzQuMTI2Nzc5XSwgWy0xMTguMjYxNzM0LCAzNC4xMjY3MjY5OTk5OTk5OTVdLCBbLTExOC4yNjE0MDYsIDM0LjEyNjI0Nl0sIFstMTE4LjI2MTA2ODk5OTk5OTk5LCAzNC4xMjU3NzFdLCBbLTExOC4yNjA2NjkwMDAwMDAwMSwgMzQuMTI1MjM0XSwgWy0xMTguMjYwMzU2LCAzNC4xMjQ4MjY5OTk5OTk5OTZdLCBbLTExOC4yNTk5ODksIDM0LjEyNDM2OF0sIFstMTE4LjI1OTYxMSwgMzQuMTIzOTE0XSwgWy0xMTguMjU5MjI1LCAzNC4xMjM0NjQ5OTk5OTk5OTZdLCBbLTExOC4yNTg4Mjg5OTk5OTk5OSwgMzQuMTIzMDIyXSwgWy0xMTguMjU4NDIzOTk5OTk5OTksIDM0LjEyMjU4NV0sIFstMTE4LjI1ODAwOSwgMzQuMTIyMTU0XSwgWy0xMTguMjU3NTg2LCAzNC4xMjE3MjhdLCBbLTExOC4yNTc1MjksIDM0LjEyMTY3M10sIFstMTE4LjI1NzI5NCwgMzQuMTIxNDQ2OTk5OTk5OTk2XSwgWy0xMTguMjU3NDQ1LCAzNC4xMjEzNjZdLCBbLTExOC4yNTgxMDYsIDM0LjEyMDc0N10sIFstMTE4LjI1ODg1MywgMzQuMTIwMDUxXSwgWy0xMTguMjU5NTk5LCAzNC4xMTkzNTNdLCBbLTExOC4yNTk5MTUsIDM0LjExOTA1Nzk5OTk5OTk5NV0sIFstMTE4LjI2MDM0NSwgMzQuMTE4NjU3XSwgWy0xMTguMjYyNTI5LCAzNC4xMjEyODVdLCBbLTExOC4yNjM5NTcsIDM0LjEyMzAwM10sIFstMTE4LjI2NTYyNiwgMzQuMTI1MDExXSwgWy0xMTguMjY0ODIxLCAzNC4xMjU0MzZdXV0sICJ0eXBlIjogIlBvbHlnb24ifSwgImlkIjogIjExIiwgInByb3BlcnRpZXMiOiB7IkZJUFMiOiAiMDYwMzcxODgzMDAxIiwgIkdlb19CTEtHUlAiOiAxLCAiR2VvX05BTUUiOiAiQmxvY2sgR3JvdXAgMSIsICJHZW9fUU5hbWUiOiAiQmxvY2sgR3JvdXAgMSwgQ2Vuc3VzIFRyYWN0IDE4ODMsIExvcyBBbmdlbGVzIENvdW50eSwgQ2FsaWZvcm5pYSIsICJIb3VzZWhvbGQgSW5jb21lICQxMDAsMDAwIG9yIE1vcmUiOiAyMzIsICJIb3VzZWhvbGQgSW5jb21lICQyNSwwMDAgdG8gJDQ5LDk5OSI6IDc2LCAiSG91c2Vob2xkIEluY29tZSAkNTAsMDAwIHRvICQ3NCw5OTkiOiA2LCAiSG91c2Vob2xkIEluY29tZSAkNzUsMDAwIHRvICQ5OSw5OTkiOiA1MywgIkhvdXNlaG9sZCBJbmNvbWUgTGVzcyB0aGFuICQyNSwwMDAiOiAxMDYsICJUb3RhbCBIb3VzZWhvbGRzIjogNDczLCAiVG90YWwgSG91c2Vob2xkcyBpbiBBdHdhdGVyIFZpbGxhZ2UiOiA0NzMsICJuZWlnaGJvcmhvb2QiOiAiQXR3YXRlciIsICJwX2xlc3NfMjVrIjogMjIuNDEwMTQ3OTkxNTQzMzQsICJwX21vcmVfMTAwayI6IDQ5LjA0ODYyNTc5MjgxMTg0fSwgInR5cGUiOiAiRmVhdHVyZSJ9LCB7ImJib3giOiBbLTExOC4yNzAwNzEsIDM0LjExMzY4NCwgLTExOC4yNjMwNDIsIDM0LjEyMzUyNl0sICJnZW9tZXRyeSI6IHsiY29vcmRpbmF0ZXMiOiBbW1stMTE4LjI3MDA3MSwgMzQuMTIyMDY2XSwgWy0xMTguMjY5NjgwOTk5OTk5OTksIDM0LjEyMjYzN10sIFstMTE4LjI2OTU5NCwgMzQuMTIyNzUyXSwgWy0xMTguMjY5NDgyLCAzNC4xMjI4NzM5OTk5OTk5OTZdLCBbLTExOC4yNjkzNTksIDM0LjEyMjk4OF0sIFstMTE4LjI2OTMzMywgMzQuMTIzMDA4XSwgWy0xMTguMjY5MjI0LCAzNC4xMjMwOTJdLCBbLTExOC4yNjkwNzgwMDAwMDAwMSwgMzQuMTIzMTg3XSwgWy0xMTguMjY5MDUwOTk5OTk5OTksIDM0LjEyMzIwMV0sIFstMTE4LjI2ODQ0LCAzNC4xMjM1MjZdLCBbLTExOC4yNjgwNTIsIDM0LjEyMjcyMTk5OTk5OTk5Nl0sIFstMTE4LjI2Nzk1NiwgMzQuMTIyNTIzXSwgWy0xMTguMjY3ODgzLCAzNC4xMjI0MDA5OTk5OTk5OTZdLCBbLTExOC4yNjc1NjQsIDM0LjEyMTk3XSwgWy0xMTguMjY3NDY1LCAzNC4xMjE4MjRdLCBbLTExOC4yNjczODksIDM0LjEyMTY4ODk5OTk5OTk5Nl0sIFstMTE4LjI2NzMwOSwgMzQuMTIxNTEzXSwgWy0xMTguMjY3MTkxLCAzNC4xMjExNTldLCBbLTExOC4yNjcwODMsIDM0LjEyMTA1NF0sIFstMTE4LjI2NjMsIDM0LjEyMDYxOTk5OTk5OTk5NV0sIFstMTE4LjI2NjE2LCAzNC4xMjA1NDNdLCBbLTExOC4yNjU0NDMsIDM0LjEyMDE0Njk5OTk5OTk5Nl0sIFstMTE4LjI2NTMzNywgMzQuMTIwMDczOTk5OTk5OTk1XSwgWy0xMTguMjY1MjQxLCAzNC4xMTk5OTNdLCBbLTExOC4yNjUxNDksIDM0LjExOTg5N10sIFstMTE4LjI2NTEwNiwgMzQuMTE5ODQyXSwgWy0xMTguMjY1MDI2LCAzNC4xMTk3MThdLCBbLTExOC4yNjQ5NywgMzQuMTE5NTkzXSwgWy0xMTguMjY0ODc1LCAzNC4xMTkyODRdLCBbLTExOC4yNjQ4MjIsIDM0LjExOTE1MDk5OTk5OTk5NV0sIFstMTE4LjI2NDc0LCAzNC4xMTg5ODldLCBbLTExOC4yNjQ2NTcsIDM0LjExODg1NDk5OTk5OTk5Nl0sIFstMTE4LjI2NDM0MSwgMzQuMTE4MzkzXSwgWy0xMTguMjY0MzI0LCAzNC4xMTgzNjldLCBbLTExOC4yNjM5OSwgMzQuMTE3NzYyXSwgWy0xMTguMjYzODksIDM0LjExNzU4XSwgWy0xMTguMjYzODgsIDM0LjExNzU2Ml0sIFstMTE4LjI2MzgwNDk5OTk5OTk5LCAzNC4xMTc0MDI5OTk5OTk5OTZdLCBbLTExOC4yNjM2MzU5OTk5OTk5OSwgMzQuMTE2OTYwOTk5OTk5OTk2XSwgWy0xMTguMjYzNTU2OTk5OTk5OTksIDM0LjExNjc1MV0sIFstMTE4LjI2MzUyODAwMDAwMDAxLCAzNC4xMTY2ODZdLCBbLTExOC4yNjM0NjEsIDM0LjExNjU2M10sIFstMTE4LjI2MzM5MzAwMDAwMDAxLCAzNC4xMTY0NjU5OTk5OTk5OTZdLCBbLTExOC4yNjMzMDg5OTk5OTk5OSwgMzQuMTE2MzY2XSwgWy0xMTguMjYzMjAzLCAzNC4xMTYyNjNdLCBbLTExOC4yNjMwNDIsIDM0LjExNjEzOV0sIFstMTE4LjI2Mzg1MSwgMzQuMTE1Mzg0XSwgWy0xMTguMjY0NTAxLCAzNC4xMTQ4NV0sIFstMTE4LjI2NDUzNTk5OTk5OTk5LCAzNC4xMTQ4MDZdLCBbLTExOC4yNjQ2NTUsIDM0LjExNDY4NV0sIFstMTE4LjI2NDc2MTk5OTk5OTk5LCAzNC4xMTQ1NTRdLCBbLTExOC4yNjQ4OTEsIDM0LjExNDM3MTk5OTk5OTk5Nl0sIFstMTE4LjI2NDk2NywgMzQuMTE0MjQ3XSwgWy0xMTguMjY1MjMsIDM0LjExMzg5N10sIFstMTE4LjI2NTM5MSwgMzQuMTEzNjg0XSwgWy0xMTguMjY1NTIyLCAzNC4xMTM3NzRdLCBbLTExOC4yNjczNSwgMzQuMTE1NzY0OTk5OTk5OTk2XSwgWy0xMTguMjY5Njk5LCAzNC4xMjA2NTZdLCBbLTExOC4yNjk5NjcsIDM0LjEyMTIxM10sIFstMTE4LjI3MDA3MSwgMzQuMTIyMDY2XV1dLCAidHlwZSI6ICJQb2x5Z29uIn0sICJpZCI6ICIxMiIsICJwcm9wZXJ0aWVzIjogeyJGSVBTIjogIjA2MDM3MTg4MzAwMyIsICJHZW9fQkxLR1JQIjogMywgIkdlb19OQU1FIjogIkJsb2NrIEdyb3VwIDMiLCAiR2VvX1FOYW1lIjogIkJsb2NrIEdyb3VwIDMsIENlbnN1cyBUcmFjdCAxODgzLCBMb3MgQW5nZWxlcyBDb3VudHksIENhbGlmb3JuaWEiLCAiSG91c2Vob2xkIEluY29tZSAkMTAwLDAwMCBvciBNb3JlIjogMzYxLCAiSG91c2Vob2xkIEluY29tZSAkMjUsMDAwIHRvICQ0OSw5OTkiOiA2MywgIkhvdXNlaG9sZCBJbmNvbWUgJDUwLDAwMCB0byAkNzQsOTk5IjogNjEsICJIb3VzZWhvbGQgSW5jb21lICQ3NSwwMDAgdG8gJDk5LDk5OSI6IDQxLCAiSG91c2Vob2xkIEluY29tZSBMZXNzIHRoYW4gJDI1LDAwMCI6IDEyLCAiVG90YWwgSG91c2Vob2xkcyI6IDUzOCwgIlRvdGFsIEhvdXNlaG9sZHMgaW4gQXR3YXRlciBWaWxsYWdlIjogNTM4LCAibmVpZ2hib3Job29kIjogIkF0d2F0ZXIiLCAicF9sZXNzXzI1ayI6IDIuMjMwNDgzMjcxMzc1NDY0OCwgInBfbW9yZV8xMDBrIjogNjcuMTAwMzcxNzQ3MjExOX0sICJ0eXBlIjogIkZlYXR1cmUifSwgeyJiYm94IjogWy0xMTguMjU0MTM0OTk5OTk5OTksIDM0LjExMTc1MywgLTExOC4yMzg3MzIsIDM0LjEyNDQ0OV0sICJnZW9tZXRyeSI6IHsiY29vcmRpbmF0ZXMiOiBbW1stMTE4LjI1NDA2Njk5OTk5OTk5LCAzNC4xMTg4OTNdLCBbLTExOC4yNTQwMTQsIDM0LjExODk0NF0sIFstMTE4LjI1MzU0OCwgMzQuMTE5MjY4XSwgWy0xMTguMjUzNTM0LCAzNC4xMTkyNzddLCBbLTExOC4yNTI1NzgsIDM0LjExOTk0Ml0sIFstMTE4LjI1MjU1OCwgMzQuMTE5OTU2XSwgWy0xMTguMjUxNTk3LCAzNC4xMjA2MjRdLCBbLTExOC4yNTExMzMsIDM0LjEyMDk0N10sIFstMTE4LjI1MTQ0OCwgMzQuMTIxMjQzXSwgWy0xMTguMjUyMjQyLCAzNC4xMjE5ODldLCBbLTExOC4yNTI2NjksIDM0LjEyMjM4OTk5OTk5OTk5Nl0sIFstMTE4LjI1MzAzNywgMzQuMTIyNzM1OTk5OTk5OTk2XSwgWy0xMTguMjUzNjQsIDM0LjEyMzMwM10sIFstMTE4LjI1MzYwMiwgMzQuMTIzNDE5XSwgWy0xMTguMjUzMzA2LCAzNC4xMjQzMjJdLCBbLTExOC4yNTMyNjUsIDM0LjEyNDQ0OV0sIFstMTE4LjI1MjA2NSwgMzQuMTIzNDk4OTk5OTk5OTk1XSwgWy0xMTguMjUxNzI5LCAzNC4xMjMyMzRdLCBbLTExOC4yNTE2NzUsIDM0LjEyMzE4OF0sIFstMTE4LjI1MTEzOCwgMzQuMTIyNzA3XSwgWy0xMTguMjUwMjgzLCAzNC4xMjIwMzZdLCBbLTExOC4yNDk0ODgsIDM0LjEyMTM3OTk5OTk5OTk5NV0sIFstMTE4LjI0ODk4NiwgMzQuMTIwOTc4XSwgWy0xMTguMjQ4NjQ4LCAzNC4xMjA2NDldLCBbLTExOC4yNDY4MDQsIDM0LjExODg5OV0sIFstMTE4LjI0NTk0OCwgMzQuMTE5NTZdLCBbLTExOC4yNDQxMTUsIDM0LjEyMDk1NF0sIFstMTE4LjI0MzEwMiwgMzQuMTE5OTM1OTk5OTk5OTk2XSwgWy0xMTguMjQ1MDEzLCAzNC4xMTg2MjFdLCBbLTExOC4yNDU2MDE5OTk5OTk5OSwgMzQuMTE4MjE2XSwgWy0xMTguMjQ1ODc2LCAzNC4xMTgwMTA5OTk5OTk5OTZdLCBbLTExOC4yNDQ5MjcsIDM0LjExNzA5Ml0sIFstMTE4LjI0NDAwMSwgMzQuMTE2MTQ5XSwgWy0xMTguMjQzNDg0OTk5OTk5OTksIDM0LjExNjUwNF0sIFstMTE4LjI0MzE0MywgMzQuMTE2NzRdLCBbLTExOC4yNDI0NjcsIDM0LjExNzIwNTk5OTk5OTk5Nl0sIFstMTE4LjI0MTIzMiwgMzQuMTE4MDU1OTk5OTk5OTk2XSwgWy0xMTguMjQwNjcyLCAzNC4xMTc0OTI5OTk5OTk5OTZdLCBbLTExOC4yNDAzNDEsIDM0LjExNzE2MDk5OTk5OTk5Nl0sIFstMTE4LjI0MDI1NiwgMzQuMTE3MDk0XSwgWy0xMTguMjQwMTYsIDM0LjExNzAzNjk5OTk5OTk5Nl0sIFstMTE4LjI0MDA1NiwgMzQuMTE2OTkxOTk5OTk5OTk2XSwgWy0xMTguMjM5OTU5LCAzNC4xMTY5NjNdLCBbLTExOC4yMzk4NTcsIDM0LjExNjk0NV0sIFstMTE4LjIzOTY5NiwgMzQuMTE2OTM1OTk5OTk5OTk1XSwgWy0xMTguMjM5NjIzLCAzNC4xMTY5MThdLCBbLTExOC4yMzk1OTYsIDM0LjExNjkwOV0sIFstMTE4LjIzOTUxOSwgMzQuMTE2ODY5XSwgWy0xMTguMjM5NDUyLCAzNC4xMTY4MTRdLCBbLTExOC4yMzkwMzYsIDM0LjExNjI5M10sIFstMTE4LjIzODk0MiwgMzQuMTE2MTc1OTk5OTk5OTk2XSwgWy0xMTguMjM4ODQ5LCAzNC4xMTYwNTc5OTk5OTk5OTVdLCBbLTExOC4yMzg3MzIsIDM0LjExNTkxMV0sIFstMTE4LjIzOTQwOCwgMzQuMTE1NTY1XSwgWy0xMTguMjM5ODE3LCAzNC4xMTUzNjddLCBbLTExOC4yMzk4NjMsIDM0LjExNTM0N10sIFstMTE4LjI0MDEyNiwgMzQuMTE1MjMxXSwgWy0xMTguMjQxMTEzLCAzNC4xMTQ4MzJdLCBbLTExOC4yNDE0NDEsIDM0LjExNDddLCBbLTExOC4yNDE2NCwgMzQuMTE0NjE4XSwgWy0xMTguMjQyMDQ3LCAzNC4xMTQ0MzM5OTk5OTk5OTZdLCBbLTExOC4yNDI0ODUsIDM0LjExNDIxMl0sIFstMTE4LjI0Mjc2OSwgMzQuMTE0MDUzOTk5OTk5OTk2XSwgWy0xMTguMjQyODEyLCAzNC4xMTQwMjhdLCBbLTExOC4yNDMwNDcsIDM0LjExMzg4N10sIFstMTE4LjI0NDE2LCAzNC4xMTMxODY5OTk5OTk5OTZdLCBbLTExOC4yNDU0MzI5OTk5OTk5OSwgMzQuMTEyMzg0OTk5OTk5OTk2XSwgWy0xMTguMjQ1ODk4LCAzNC4xMTIwOTNdLCBbLTExOC4yNDY0MzgsIDM0LjExMTc1M10sIFstMTE4LjI0NjU0NSwgMzQuMTExOTA2OTk5OTk5OTk1XSwgWy0xMTguMjQ2NTU2LCAzNC4xMTE5MjNdLCBbLTExOC4yNDY5NzcsIDM0LjExMjUyN10sIFstMTE4LjI0NzQ0LCAzNC4xMTMwNjJdLCBbLTExOC4yNDc3OSwgMzQuMTEzMzY0XSwgWy0xMTguMjQ3OTg0LCAzNC4xMTM1MzFdLCBbLTExOC4yNDkwMDAwMDAwMDAwMSwgMzQuMTE0NDQ3XSwgWy0xMTguMjUxNjU0LCAzNC4xMTY3NDhdLCBbLTExOC4yNTIwOCwgMzQuMTE3MDk4XSwgWy0xMTguMjUyMTM5LCAzNC4xMTcxNTldLCBbLTExOC4yNTIzNjMsIDM0LjExNzM0OV0sIFstMTE4LjI1MzY4OCwgMzQuMTE4NDczXSwgWy0xMTguMjU0MTM0OTk5OTk5OTksIDM0LjExODg2XSwgWy0xMTguMjU0MDY2OTk5OTk5OTksIDM0LjExODg5M11dXSwgInR5cGUiOiAiUG9seWdvbiJ9LCAiaWQiOiAiMTMiLCAicHJvcGVydGllcyI6IHsiRklQUyI6ICIwNjAzNzE4NjQwMTIiLCAiR2VvX0JMS0dSUCI6IDIsICJHZW9fTkFNRSI6ICJCbG9jayBHcm91cCAyIiwgIkdlb19RTmFtZSI6ICJCbG9jayBHcm91cCAyLCBDZW5zdXMgVHJhY3QgMTg2NC4wMSwgTG9zIEFuZ2VsZXMgQ291bnR5LCBDYWxpZm9ybmlhIiwgIkhvdXNlaG9sZCBJbmNvbWUgJDEwMCwwMDAgb3IgTW9yZSI6IDQ4LCAiSG91c2Vob2xkIEluY29tZSAkMjUsMDAwIHRvICQ0OSw5OTkiOiA2MywgIkhvdXNlaG9sZCBJbmNvbWUgJDUwLDAwMCB0byAkNzQsOTk5IjogNTMsICJIb3VzZWhvbGQgSW5jb21lICQ3NSwwMDAgdG8gJDk5LDk5OSI6IDYsICJIb3VzZWhvbGQgSW5jb21lIExlc3MgdGhhbiAkMjUsMDAwIjogMTM4LCAiVG90YWwgSG91c2Vob2xkcyI6IDMwOCwgIlRvdGFsIEhvdXNlaG9sZHMgaW4gQXR3YXRlciBWaWxsYWdlIjogMzA4LCAibmVpZ2hib3Job29kIjogIkF0d2F0ZXIiLCAicF9sZXNzXzI1ayI6IDQ0LjgwNTE5NDgwNTE5NDgsICJwX21vcmVfMTAwayI6IDE1LjU4NDQxNTU4NDQxNTU4NH0sICJ0eXBlIjogIkZlYXR1cmUifSwgeyJiYm94IjogWy0xMTguMjUzMjY1LCAzNC4xMTc4MzgsIC0xMTguMjI5NzAwMDAwMDAwMDEsIDM0LjEyNjIzM10sICJnZW9tZXRyeSI6IHsiY29vcmRpbmF0ZXMiOiBbW1stMTE4LjI1MzIwMSwgMzQuMTI0NDI0OTk5OTk5OTk1XSwgWy0xMTguMjUzMTc2LCAzNC4xMjQ0MTVdLCBbLTExOC4yNTMxMTcsIDM0LjEyNDM5M10sIFstMTE4LjI1MzA1MiwgMzQuMTI0MzY4XSwgWy0xMTguMjUyOTUyLCAzNC4xMjQzMzFdLCBbLTExOC4yNTI4NjQsIDM0LjEyNDI5Nzk5OTk5OTk5Nl0sIFstMTE4LjI1MjY1NywgMzQuMTI0MzI1OTk5OTk5OTk2XSwgWy0xMTguMjUyMDg5LCAzNC4xMjQ0MDRdLCBbLTExOC4yNTExMzksIDM0LjEyNDUzNV0sIFstMTE4LjI0ODAzMjk5OTk5OTk5LCAzNC4xMjQ5NjJdLCBbLTExOC4yNDc2NDQsIDM0LjEyNTAxNV0sIFstMTE4LjI0Njc3NCwgMzQuMTI1MTM1XSwgWy0xMTguMjQ0NjE5LCAzNC4xMjU0MzFdLCBbLTExOC4yNDM5NzgsIDM0LjEyNTUxOV0sIFstMTE4LjI0MzgyMjk5OTk5OTk5LCAzNC4xMjU1NF0sIFstMTE4LjI0MzEzNCwgMzQuMTI1NjM0OTk5OTk5OTk2XSwgWy0xMTguMjQyMjEsIDM0LjEyNTc2Ml0sIFstMTE4LjI0MTA2MSwgMzQuMTI1OTJdLCBbLTExOC4yNDA5MDEwMDAwMDAwMSwgMzQuMTI1OTQyXSwgWy0xMTguMjQwMzg5OTk5OTk5OTksIDM0LjEyNjAxMTk5OTk5OTk5Nl0sIFstMTE4LjIzOTg4NywgMzQuMTI2MDgxXSwgWy0xMTguMjM4Nzg1MDAwMDAwMDEsIDM0LjEyNjIzM10sIFstMTE4LjIzODc1LCAzNC4xMjYxNjM5OTk5OTk5OTZdLCBbLTExOC4yMzg2NzIsIDM0LjEyNjAzXSwgWy0xMTguMjM4NjY0LCAzNC4xMjYwMTQ5OTk5OTk5OTVdLCBbLTExOC4yMzc0NDgsIDM0LjEyNDk3NF0sIFstMTE4LjIzNzQxMiwgMzQuMTI0OTQ2XSwgWy0xMTguMjM3MjM3OTk5OTk5OTksIDM0LjEyNDgyNV0sIFstMTE4LjIzNzA3NSwgMzQuMTI0NzMzXSwgWy0xMTguMjM2OTAzLCAzNC4xMjQ2NTJdLCBbLTExOC4yMzY3NDksIDM0LjEyNDU5Ml0sIFstMTE4LjIzNjU1OCwgMzQuMTI0NTM1XSwgWy0xMTguMjM2MzY3LCAzNC4xMjQ0OTNdLCBbLTExOC4yMzYyMzcsIDM0LjEyNDQ3Ml0sIFstMTE4LjIzNjA1NCwgMzQuMTI0NDU0XSwgWy0xMTguMjM1ODk3LCAzNC4xMjQ0NDldLCBbLTExOC4yMzU3MzksIDM0LjEyNDQ1Ml0sIFstMTE4LjIzNTU4MSwgMzQuMTI0NDY1XSwgWy0xMTguMjMzMzQ2LCAzNC4xMjQ3NzddLCBbLTExOC4yMzE3MTEsIDM0LjEyNTAwN10sIFstMTE4LjIzMTMyMiwgMzQuMTIzMDg3XSwgWy0xMTguMjMxMjg4LCAzNC4xMjMwNDU5OTk5OTk5OTVdLCBbLTExOC4yMzEwNjYsIDM0LjEyMjc4Ml0sIFstMTE4LjIzMDk1NCwgMzQuMTIyNzQzXSwgWy0xMTguMjMwNjksIDM0LjEyMjQyOV0sIFstMTE4LjIzMDY0MDk5OTk5OTk5LCAzNC4xMjIzNzFdLCBbLTExOC4yMzAxMDksIDM0LjEyMTczOV0sIFstMTE4LjIyOTk0NiwgMzQuMTIxNTQ1XSwgWy0xMTguMjI5ODUyOTk5OTk5OTksIDM0LjEyMTQzNV0sIFstMTE4LjIyOTcwMDAwMDAwMDAxLCAzNC4xMjEyNTJdLCBbLTExOC4yMjk3OCwgMzQuMTIxMTU1XSwgWy0xMTguMjMwMDg1LCAzNC4xMjA4Ml0sIFstMTE4LjIzMDUyLCAzNC4xMjAzODddLCBbLTExOC4yMzA4ODgsIDM0LjEyMDA4N10sIFstMTE4LjIzMTI0MiwgMzQuMTE5ODQ4OTk5OTk5OTk1XSwgWy0xMTguMjMxNDYyLCAzNC4xMTk3MDZdLCBbLTExOC4yMzE5MTEsIDM0LjExOTQzXSwgWy0xMTguMjMzMDQ2LCAzNC4xMTg3NzRdLCBbLTExOC4yMzM5MywgMzQuMTE4MzI4OTk5OTk5OTk2XSwgWy0xMTguMjM0MTAwMDAwMDAwMDEsIDM0LjExODIzNTk5OTk5OTk5Nl0sIFstMTE4LjIzNDg3LCAzNC4xMTc4MzhdLCBbLTExOC4yMzQ4OTEsIDM0LjExNzg2NF0sIFstMTE4LjIzNDk4NTk5OTk5OTk5LCAzNC4xMTc5ODVdLCBbLTExOC4yMzUyMDYsIDM0LjExODI2MV0sIFstMTE4LjIzNTI5OSwgMzQuMTE4Mzc2OTk5OTk5OTk1XSwgWy0xMTguMjM1NDUzLCAzNC4xMTg2Mjk5OTk5OTk5OTZdLCBbLTExOC4yMzU1MiwgMzQuMTE4NjI5OTk5OTk5OTk2XSwgWy0xMTguMjM1NzAxLCAzNC4xMTg2NDVdLCBbLTExOC4yMzYyNCwgMzQuMTE4Nzc3XSwgWy0xMTguMjM2MzA2LCAzNC4xMTg4NzE5OTk5OTk5OTZdLCBbLTExOC4yMzY0MDksIDM0LjExOTAyMl0sIFstMTE4LjIzNjcxMSwgMzQuMTE5NDU4XSwgWy0xMTguMjM2NzcsIDM0LjExOTUxXSwgWy0xMTguMjM2ODMzLCAzNC4xMTk1NDNdLCBbLTExOC4yMzY4OTgsIDM0LjExOTU2M10sIFstMTE4LjIzNzc0NywgMzQuMTE5NzE3XSwgWy0xMTguMjM3ODY5LCAzNC4xMTk3NTI5OTk5OTk5OTZdLCBbLTExOC4yMzgwMDEsIDM0LjExOTgwOF0sIFstMTE4LjIzODEyMiwgMzQuMTE5ODc4XSwgWy0xMTguMjM4MjMsIDM0LjExOTk2Ml0sIFstMTE4LjIzODc0MywgMzQuMTIwNDVdLCBbLTExOC4yMzg4NDQsIDM0LjEyMDUyNjk5OTk5OTk5Nl0sIFstMTE4LjIzODkyMywgMzQuMTIwNTcxXSwgWy0xMTguMjM4OTg0LCAzNC4xMjA1OTRdLCBbLTExOC4yMzkwNzIsIDM0LjEyMDYxMl0sIFstMTE4LjIzOTE2MiwgMzQuMTIwNjEzOTk5OTk5OTk2XSwgWy0xMTguMjM5MjUsIDM0LjEyMDZdLCBbLTExOC4yMzkzNiwgMzQuMTIwNTc0OTk5OTk5OTk1XSwgWy0xMTguMjM5NDQ4LCAzNC4xMjA1NjhdLCBbLTExOC4yMzk1MzYsIDM0LjEyMDU3MTk5OTk5OTk5Nl0sIFstMTE4LjIzOTY1LCAzNC4xMjA1OTZdLCBbLTExOC4yMzk3MzksIDM0LjEyMDYzXSwgWy0xMTguMjM5ODIxLCAzNC4xMjA2NzhdLCBbLTExOC4yMzk4OTcsIDM0LjEyMDc0Ml0sIFstMTE4LjIzOTk1NiwgMzQuMTIwODE2OTk5OTk5OTk1XSwgWy0xMTguMjM5OTk3LCAzNC4xMjA5XSwgWy0xMTguMjQwMDI0LCAzNC4xMjA5OTY5OTk5OTk5OTZdLCBbLTExOC4yNDAwNDA5OTk5OTk5OSwgMzQuMTIxMTE5XSwgWy0xMTguMjQwMDUsIDM0LjEyMTIyN10sIFstMTE4LjI0MDA3NywgMzQuMTIxMzE0OTk5OTk5OTk2XSwgWy0xMTguMjQwMTEyLCAzNC4xMjEzODJdLCBbLTExOC4yNDAxNywgMzQuMTIxNDZdLCBbLTExOC4yNDAyMzUsIDM0LjEyMTUyMV0sIFstMTE4LjI0MDI5NiwgMzQuMTIxNTY0XSwgWy0xMTguMjQwNTMsIDM0LjEyMTcwOF0sIFstMTE4LjI0MDkyMiwgMzQuMTIxOTUzOTk5OTk5OTk1XSwgWy0xMTguMjQxMDg5LCAzNC4xMjIwNzRdLCBbLTExOC4yNDEyNDYsIDM0LjEyMjIwNV0sIFstMTE4LjI0MTgwMDAwMDAwMDAxLCAzNC4xMjI3MTVdLCBbLTExOC4yNDQxMTUsIDM0LjEyMDk1NF0sIFstMTE4LjI0NTk0OCwgMzQuMTE5NTZdLCBbLTExOC4yNDY4MDQsIDM0LjExODg5OV0sIFstMTE4LjI0ODY0OCwgMzQuMTIwNjQ5XSwgWy0xMTguMjQ4OTg2LCAzNC4xMjA5NzhdLCBbLTExOC4yNDk0ODgsIDM0LjEyMTM3OTk5OTk5OTk5NV0sIFstMTE4LjI1MDI4MywgMzQuMTIyMDM2XSwgWy0xMTguMjUxMTM4LCAzNC4xMjI3MDddLCBbLTExOC4yNTE2NzUsIDM0LjEyMzE4OF0sIFstMTE4LjI1MTcyOSwgMzQuMTIzMjM0XSwgWy0xMTguMjUyMDY1LCAzNC4xMjM0OTg5OTk5OTk5OTVdLCBbLTExOC4yNTMyNjUsIDM0LjEyNDQ0OV0sIFstMTE4LjI1MzIwMSwgMzQuMTI0NDI0OTk5OTk5OTk1XV1dLCAidHlwZSI6ICJQb2x5Z29uIn0sICJpZCI6ICIxNCIsICJwcm9wZXJ0aWVzIjogeyJGSVBTIjogIjA2MDM3MTg2MzAxMSIsICJHZW9fQkxLR1JQIjogMSwgIkdlb19OQU1FIjogIkJsb2NrIEdyb3VwIDEiLCAiR2VvX1FOYW1lIjogIkJsb2NrIEdyb3VwIDEsIENlbnN1cyBUcmFjdCAxODYzLjAxLCBMb3MgQW5nZWxlcyBDb3VudHksIENhbGlmb3JuaWEiLCAiSG91c2Vob2xkIEluY29tZSAkMTAwLDAwMCBvciBNb3JlIjogMTYxLCAiSG91c2Vob2xkIEluY29tZSAkMjUsMDAwIHRvICQ0OSw5OTkiOiAzNSwgIkhvdXNlaG9sZCBJbmNvbWUgJDUwLDAwMCB0byAkNzQsOTk5IjogODMsICJIb3VzZWhvbGQgSW5jb21lICQ3NSwwMDAgdG8gJDk5LDk5OSI6IDE5LCAiSG91c2Vob2xkIEluY29tZSBMZXNzIHRoYW4gJDI1LDAwMCI6IDM1LCAiVG90YWwgSG91c2Vob2xkcyI6IDMzMywgIlRvdGFsIEhvdXNlaG9sZHMgaW4gQXR3YXRlciBWaWxsYWdlIjogMzMzLCAibmVpZ2hib3Job29kIjogIkF0d2F0ZXIiLCAicF9sZXNzXzI1ayI6IDEwLjUxMDUxMDUxMDUxMDUxLCAicF9tb3JlXzEwMGsiOiA0OC4zNDgzNDgzNDgzNDgzNDV9LCAidHlwZSI6ICJGZWF0dXJlIn0sIHsiYmJveCI6IFstMTE4LjIzNjEyMiwgMzQuMTEzMDEyOTk5OTk5OTk1LCAtMTE4LjIyMzE1NywgMzQuMTIxMjUyXSwgImdlb21ldHJ5IjogeyJjb29yZGluYXRlcyI6IFtbWy0xMTguMjM2MDc1LCAzNC4xMTQ5Mzc5OTk5OTk5OTVdLCBbLTExOC4yMzU5MywgMzQuMTE1NDldLCBbLTExOC4yMzU4NjYsIDM0LjExNTcwN10sIFstMTE4LjIzNTc3MSwgMzQuMTE1OTQzXSwgWy0xMTguMjM1NjY3LCAzNC4xMTYxNDldLCBbLTExOC4yMzU1NzgsIDM0LjExNjNdLCBbLTExOC4yMzU0NDUsIDM0LjExNjQ5NV0sIFstMTE4LjIzNTMwNCwgMzQuMTE2NjcxXSwgWy0xMTguMjM1MjE1LCAzNC4xMTY3NzFdLCBbLTExOC4yMzUwNDI5OTk5OTk5OSwgMzQuMTE2OTQzXSwgWy0xMTguMjM0ODU3LCAzNC4xMTcxMDQ5OTk5OTk5OTVdLCBbLTExOC4yMzQ3NTksIDM0LjExNzE4Ml0sIFstMTE4LjIzNDU2MywgMzQuMTE3MzIzXSwgWy0xMTguMjM0NDk1LCAzNC4xMTczNjddLCBbLTExOC4yMzQ3MjgsIDM0LjExNzY2XSwgWy0xMTguMjM0NzkxLCAzNC4xMTc3MzldLCBbLTExOC4yMzQ4NywgMzQuMTE3ODM4XSwgWy0xMTguMjM0MTAwMDAwMDAwMDEsIDM0LjExODIzNTk5OTk5OTk5Nl0sIFstMTE4LjIzMzkzLCAzNC4xMTgzMjg5OTk5OTk5OTZdLCBbLTExOC4yMzMwNDYsIDM0LjExODc3NF0sIFstMTE4LjIzMTkxMSwgMzQuMTE5NDNdLCBbLTExOC4yMzE0NjIsIDM0LjExOTcwNl0sIFstMTE4LjIzMTI0MiwgMzQuMTE5ODQ4OTk5OTk5OTk1XSwgWy0xMTguMjMwODg4LCAzNC4xMjAwODddLCBbLTExOC4yMzA1MiwgMzQuMTIwMzg3XSwgWy0xMTguMjMwMDg1LCAzNC4xMjA4Ml0sIFstMTE4LjIyOTc4LCAzNC4xMjExNTVdLCBbLTExOC4yMjk3MDAwMDAwMDAwMSwgMzQuMTIxMjUyXSwgWy0xMTguMjI5NTM0LCAzNC4xMjEwNTVdLCBbLTExOC4yMjkzNjQsIDM0LjEyMDg1M10sIFstMTE4LjIyODg5NTk5OTk5OTk5LCAzNC4xMjAxODZdLCBbLTExOC4yMjg5MTUsIDM0LjEyMDEwNDk5OTk5OTk5NV0sIFstMTE4LjIyODg0OSwgMzQuMTIwMDFdLCBbLTExOC4yMjg4MjQsIDM0LjExOTk3NV0sIFstMTE4LjIyNzg3NCwgMzQuMTE5MjQ3XSwgWy0xMTguMjI3MDU4LCAzNC4xMTg2MjJdLCBbLTExOC4yMjQ4MDksIDM0LjExOTIxOF0sIFstMTE4LjIyNDc1Mjk5OTk5OTk5LCAzNC4xMTkyMTFdLCBbLTExOC4yMjQ3MDMsIDM0LjExOTIxOF0sIFstMTE4LjIyNDY1MywgMzQuMTE5MjRdLCBbLTExOC4yMjQzNDMsIDM0LjExOTQ5XSwgWy0xMTguMjI0MjQ5LCAzNC4xMTk1ODY5OTk5OTk5OTZdLCBbLTExOC4yMjQxODMsIDM0LjExOTUyNDk5OTk5OTk5Nl0sIFstMTE4LjIyNDE3NiwgMzQuMTE5NV0sIFstMTE4LjIyNDMyLCAzNC4xMTkwNDZdLCBbLTExOC4yMjQzNDIwMDAwMDAwMSwgMzQuMTE4OTU3XSwgWy0xMTguMjI0MzUxLCAzNC4xMTg4NTRdLCBbLTExOC4yMjQzNDIwMDAwMDAwMSwgMzQuMTE4NzVdLCBbLTExOC4yMjQzMTYsIDM0LjExODY0OV0sIFstMTE4LjIyNDI3NCwgMzQuMTE4NTUyXSwgWy0xMTguMjI0MjIxLCAzNC4xMTg0NjldLCBbLTExOC4yMjQwNTgsIDM0LjExODI0NV0sIFstMTE4LjIyMzkxMywgMzQuMTE4MDQ2XSwgWy0xMTguMjIzNjQ2LCAzNC4xMTc2OF0sIFstMTE4LjIyMzM5LCAzNC4xMTczMjldLCBbLTExOC4yMjMxNTcsIDM0LjExNzAxXSwgWy0xMTguMjI0ODA3LCAzNC4xMTYyNTRdLCBbLTExOC4yMjQ4NDUsIDM0LjExNjIyNl0sIFstMTE4LjIyNDg4NSwgMzQuMTE2MTc4OTk5OTk5OTk1XSwgWy0xMTguMjI0OTA2LCAzNC4xMTYxMjldLCBbLTExOC4yMjQ5MSwgMzQuMTE2MDc3XSwgWy0xMTguMjI0ODU2LCAzNC4xMTU4MzhdLCBbLTExOC4yMjQ3OTcsIDM0LjExNTU3M10sIFstMTE4LjIyNDY5OCwgMzQuMTE1MzU2OTk5OTk5OTk2XSwgWy0xMTguMjI0NjY2LCAzNC4xMTUyODA5OTk5OTk5OTZdLCBbLTExOC4yMjQ2NjQsIDM0LjExNTIzN10sIFstMTE4LjIyNDY3NiwgMzQuMTE1MTk3XSwgWy0xMTguMjI0NzA3LCAzNC4xMTUxNTJdLCBbLTExOC4yMjQ3NTIsIDM0LjExNTEyXSwgWy0xMTguMjI0ODA5LCAzNC4xMTUxXSwgWy0xMTguMjI0ODYyLCAzNC4xMTUwOTZdLCBbLTExOC4yMjQ5MTYwMDAwMDAwMSwgMzQuMTE1MTA1XSwgWy0xMTguMjI0OTcxLCAzNC4xMTUxM10sIFstMTE4LjIyNTAwNywgMzQuMTE1MTYyOTk5OTk5OTk1XSwgWy0xMTguMjI1MDk1LCAzNC4xMTUyNTFdLCBbLTExOC4yMjUxNzUwMDAwMDAwMSwgMzQuMTE1MzExXSwgWy0xMTguMjI1Mjc1LCAzNC4xMTUzNjldLCBbLTExOC4yMjUzODUsIDM0LjExNTQxNV0sIFstMTE4LjIyNTUwMSwgMzQuMTE1NDQ4XSwgWy0xMTguMjI1NjM2LCAzNC4xMTU0NjhdLCBbLTExOC4yMjU3NTksIDM0LjExNTQ3MV0sIFstMTE4LjIyNTg4MSwgMzQuMTE1NDZdLCBbLTExOC4yMjYsIDM0LjExNTQzNV0sIFstMTE4LjIyNjEyNjk5OTk5OTk5LCAzNC4xMTUzOTA5OTk5OTk5OTVdLCBbLTExOC4yMjYyMTksIDM0LjExNTM0NV0sIFstMTE4LjIyNjMwNjk5OTk5OTk5LCAzNC4xMTUyODhdLCBbLTExOC4yMjYzNzM5OTk5OTk5OSwgMzQuMTE1MjM4XSwgWy0xMTguMjI2Njc1LCAzNC4xMTQ5NzFdLCBbLTExOC4yMjY2OTgsIDM0LjExNDk1NF0sIFstMTE4LjIyNjc1MywgMzQuMTE0OTNdLCBbLTExOC4yMjY4MDksIDM0LjExNDkyMzk5OTk5OTk5NV0sIFstMTE4LjIyNjg2NywgMzQuMTE0OTMxOTk5OTk5OTk2XSwgWy0xMTguMjI2OTA4LCAzNC4xMTQ5NV0sIFstMTE4LjIyNjk0NSwgMzQuMTE0OTc4XSwgWy0xMTguMjI2OTkzLCAzNC4xMTUwNDNdLCBbLTExOC4yMjcwNDQsIDM0LjExNTA5N10sIFstMTE4LjIyNzExOSwgMzQuMTE1MTU0XSwgWy0xMTguMjI3MTk4LCAzNC4xMTUxOTM5OTk5OTk5OTVdLCBbLTExOC4yMjcyOTIsIDM0LjExNTIyNF0sIFstMTE4LjIyNzM4MywgMzQuMTE1MjM4XSwgWy0xMTguMjI3NDkzLCAzNC4xMTUyMzhdLCBbLTExOC4yMjkxOTksIDM0LjExNDk2NTk5OTk5OTk5NV0sIFstMTE4LjIyOTYzODk5OTk5OTk5LCAzNC4xMTUwNDE5OTk5OTk5OTVdLCBbLTExOC4yMjk3Mzk5OTk5OTk5OSwgMzQuMTE1MDU1XSwgWy0xMTguMjI5ODgzLCAzNC4xMTUwNjJdLCBbLTExOC4yMzAwODQsIDM0LjExNTA1Mjk5OTk5OTk5Nl0sIFstMTE4LjIzMDEzOCwgMzQuMTE1MDQ3XSwgWy0xMTguMjMwMjE1LCAzNC4xMTUwMjddLCBbLTExOC4yMzA1Mjc5OTk5OTk5OSwgMzQuMTE0ODgyXSwgWy0xMTguMjMwNjE0LCAzNC4xMTQ4MjZdLCBbLTExOC4yMzA2NzQsIDM0LjExNDc3MV0sIFstMTE4LjIzMDkyNiwgMzQuMTE0NDRdLCBbLTExOC4yMzEzMTU5OTk5OTk5OSwgMzQuMTEzOTIxXSwgWy0xMTguMjMxMzQ0LCAzNC4xMTM4NjRdLCBbLTExOC4yMzEzNTgsIDM0LjExMzc5Nzk5OTk5OTk5Nl0sIFstMTE4LjIzMTM1MywgMzQuMTEzNzM3XSwgWy0xMTguMjMxMzMyLCAzNC4xMTM2NzhdLCBbLTExOC4yMzEyOTM5OTk5OTk5OSwgMzQuMTEzNjI1XSwgWy0xMTguMjMxMjQ1LCAzNC4xMTM1ODM5OTk5OTk5OTZdLCBbLTExOC4yMzExODcsIDM0LjExMzU1NF0sIFstMTE4LjIzMTEyMiwgMzQuMTEzNTM0XSwgWy0xMTguMjMxMDM3LCAzNC4xMTM1MjddLCBbLTExOC4yMzEwMTMsIDM0LjExMzUxMzk5OTk5OTk5NV0sIFstMTE4LjIzMTAwMiwgMzQuMTEzNDkyXSwgWy0xMTguMjMxMDEsIDM0LjExMzQ2N10sIFstMTE4LjIzMTUwNiwgMzQuMTEzNTE1XSwgWy0xMTguMjMxNjQ2LCAzNC4xMTM1MjE5OTk5OTk5OTZdLCBbLTExOC4yMzE3NywgMzQuMTEzNTEyXSwgWy0xMTguMjMxODkwOTk5OTk5OTksIDM0LjExMzQ4OV0sIFstMTE4LjIzMjM5MSwgMzQuMTEzMzI2XSwgWy0xMTguMjMyNDk0LCAzNC4xMTMyNjI5OTk5OTk5OTZdLCBbLTExOC4yMzMwMywgMzQuMTEzMDgxXSwgWy0xMTguMjMzMjMxLCAzNC4xMTMwMTI5OTk5OTk5OTVdLCBbLTExOC4yMzM0NDM5OTk5OTk5OSwgMzQuMTEzMjIzXSwgWy0xMTguMjM0OTM4LCAzNC4xMTQ2OThdLCBbLTExOC4yMzQ5NzYsIDM0LjExNDU5Nl0sIFstMTE4LjIzNTk5NCwgMzQuMTE0ODU0XSwgWy0xMTguMjM2MTIyLCAzNC4xMTQ4ODFdLCBbLTExOC4yMzYwNzUsIDM0LjExNDkzNzk5OTk5OTk5NV1dXSwgInR5cGUiOiAiUG9seWdvbiJ9LCAiaWQiOiAiMTUiLCAicHJvcGVydGllcyI6IHsiRklQUyI6ICIwNjAzNzE4NjMwMjEiLCAiR2VvX0JMS0dSUCI6IDEsICJHZW9fTkFNRSI6ICJCbG9jayBHcm91cCAxIiwgIkdlb19RTmFtZSI6ICJCbG9jayBHcm91cCAxLCBDZW5zdXMgVHJhY3QgMTg2My4wMiwgTG9zIEFuZ2VsZXMgQ291bnR5LCBDYWxpZm9ybmlhIiwgIkhvdXNlaG9sZCBJbmNvbWUgJDEwMCwwMDAgb3IgTW9yZSI6IDIxMywgIkhvdXNlaG9sZCBJbmNvbWUgJDI1LDAwMCB0byAkNDksOTk5IjogNjgsICJIb3VzZWhvbGQgSW5jb21lICQ1MCwwMDAgdG8gJDc0LDk5OSI6IDg4LCAiSG91c2Vob2xkIEluY29tZSAkNzUsMDAwIHRvICQ5OSw5OTkiOiA4NCwgIkhvdXNlaG9sZCBJbmNvbWUgTGVzcyB0aGFuICQyNSwwMDAiOiAxMDAsICJUb3RhbCBIb3VzZWhvbGRzIjogNTUzLCAiVG90YWwgSG91c2Vob2xkcyBpbiBBdHdhdGVyIFZpbGxhZ2UiOiA1NTMsICJuZWlnaGJvcmhvb2QiOiAiQXR3YXRlciIsICJwX2xlc3NfMjVrIjogMTguMDgzMTgyNjQwMTQ0NjY3LCAicF9tb3JlXzEwMGsiOiAzOC41MTcxNzkwMjM1MDgxMzV9LCAidHlwZSI6ICJGZWF0dXJlIn0sIHsiYmJveCI6IFstMTE4LjI1NjU4MywgMzQuMDgyNzE4LCAtMTE4LjIyNTcxMywgMzQuMTE3MzQ5XSwgImdlb21ldHJ5IjogeyJjb29yZGluYXRlcyI6IFtbWy0xMTguMjU2NDUsIDM0LjEwODQ4MTk5OTk5OTk5NV0sIFstMTE4LjI1NjQyMywgMzQuMTA4NTE4XSwgWy0xMTguMjU2MzYxLCAzNC4xMDg2NzI5OTk5OTk5OTZdLCBbLTExOC4yNTYyMTEwMDAwMDAwMSwgMzQuMTA4NjI3XSwgWy0xMTguMjU2MTY1LCAzNC4xMDkwOTFdLCBbLTExOC4yNTU5OTMsIDM0LjEwOTQ3XSwgWy0xMTguMjU1NjY1OTk5OTk5OTksIDM0LjExMDE4OF0sIFstMTE4LjI1NTQ2OSwgMzQuMTEwNjJdLCBbLTExOC4yNTUyMzksIDM0LjExMTEyNV0sIFstMTE4LjI1NDgxMiwgMzQuMTEyMDYzXSwgWy0xMTguMjU0Mzg1LCAzNC4xMTMwMDFdLCBbLTExOC4yNTM5NTgsIDM0LjExMzkzOF0sIFstMTE4LjI1MzUzMSwgMzQuMTE0ODc1XSwgWy0xMTguMjUzMTA0MDAwMDAwMDEsIDM0LjExNTgxMl0sIFstMTE4LjI1MjY3NywgMzQuMTE2NzQ5XSwgWy0xMTguMjUyMzYzLCAzNC4xMTczNDldLCBbLTExOC4yNTIxMzksIDM0LjExNzE1OV0sIFstMTE4LjI1MjA4LCAzNC4xMTcwOThdLCBbLTExOC4yNTE2NTQsIDM0LjExNjc0OF0sIFstMTE4LjI0OTAwMDAwMDAwMDAxLCAzNC4xMTQ0NDddLCBbLTExOC4yNDc5ODQsIDM0LjExMzUzMV0sIFstMTE4LjI0Nzc5LCAzNC4xMTMzNjRdLCBbLTExOC4yNDc0NCwgMzQuMTEzMDYyXSwgWy0xMTguMjQ2OTc3LCAzNC4xMTI1MjddLCBbLTExOC4yNDY1NTYsIDM0LjExMTkyM10sIFstMTE4LjI0NjU0NSwgMzQuMTExOTA2OTk5OTk5OTk1XSwgWy0xMTguMjQ2NDM4LCAzNC4xMTE3NTNdLCBbLTExOC4yNDU4OTgsIDM0LjExMjA5M10sIFstMTE4LjI0NTQzMjk5OTk5OTk5LCAzNC4xMTIzODQ5OTk5OTk5OTZdLCBbLTExOC4yNDQxNiwgMzQuMTEzMTg2OTk5OTk5OTk2XSwgWy0xMTguMjQzOTQ1LCAzNC4xMTI5NzFdLCBbLTExOC4yNDM4MiwgMzQuMTEyODQzXSwgWy0xMTguMjQzNzQxLCAzNC4xMTI3NDldLCBbLTExOC4yNDM2NzYsIDM0LjExMjY0OV0sIFstMTE4LjI0MzYxNSwgMzQuMTEyNTI1OTk5OTk5OTk1XSwgWy0xMTguMjQzNTg5LCAzNC4xMTI0NDk5OTk5OTk5OTVdLCBbLTExOC4yNDM1ODMsIDM0LjExMjQxNTk5OTk5OTk5Nl0sIFstMTE4LjI0MzU3NiwgMzQuMTEyMjk3OTk5OTk5OTk2XSwgWy0xMTguMjQzNTc0OTk5OTk5OTksIDM0LjExMjI3Ml0sIFstMTE4LjI0MzU4NSwgMzQuMTEyMTYyXSwgWy0xMTguMjQzNTk2LCAzNC4xMTIwNTFdLCBbLTExOC4yNDM2MjIsIDM0LjExMTkzN10sIFstMTE4LjI0MzY5MzAwMDAwMDAxLCAzNC4xMTE3Mzc5OTk5OTk5OTVdLCBbLTExOC4yNDM3MTUsIDM0LjExMTYyN10sIFstMTE4LjI0MzcyMSwgMzQuMTExNTE1XSwgWy0xMTguMjQzNzA3LCAzNC4xMTEzODddLCBbLTExOC4yNDM2ODIsIDM0LjExMTI4OF0sIFstMTE4LjI0MzY0LCAzNC4xMTExODFdLCBbLTExOC4yNDM1OSwgMzQuMTExMDk0XSwgWy0xMTguMjQzMTEzLCAzNC4xMTA0MzQ5OTk5OTk5OTVdLCBbLTExOC4yNDIyNzUsIDM0LjEwOTM3Ml0sIFstMTE4LjI0MTU0MzAwMDAwMDAxLCAzNC4xMDg0MTVdLCBbLTExOC4yNDA0MzksIDM0LjEwNjk4XSwgWy0xMTguMjM5ODg1LCAzNC4xMDYzMjVdLCBbLTExOC4yMzg2MDcsIDM0LjEwNDk2Njk5OTk5OTk5NV0sIFstMTE4LjIzODU1NDk5OTk5OTk5LCAzNC4xMDQ5MDZdLCBbLTExOC4yMzg1MDQsIDM0LjEwNDg0Nl0sIFstMTE4LjIzODQxLCAzNC4xMDQ3MzU5OTk5OTk5OTVdLCBbLTExOC4yMzgxOTIsIDM0LjEwNDM3NF0sIFstMTE4LjIzNzU2OTAwMDAwMDAxLCAzNC4xMDMzMzk5OTk5OTk5OTZdLCBbLTExOC4yMzc0OTY5OTk5OTk5OSwgMzQuMTAzMjJdLCBbLTExOC4yMzcwNjg5OTk5OTk5OSwgMzQuMTAyMjA5XSwgWy0xMTguMjM3MDQzLCAzNC4xMDIxNDhdLCBbLTExOC4yMzU0ODUsIDM0LjEwMDI5NDk5OTk5OTk5Nl0sIFstMTE4LjIzNDUyMiwgMzQuMDk5MTQ5XSwgWy0xMTguMjMzOTM4OTk5OTk5OTksIDM0LjA5ODQ1Nl0sIFstMTE4LjIzMzMyNCwgMzQuMDk3NzI0XSwgWy0xMTguMjMyMDU0LCAzNC4wOTYyMTNdLCBbLTExOC4yMzExMTM5OTk5OTk5OSwgMzQuMDk1MDkzXSwgWy0xMTguMjMwNDc5LCAzNC4wOTQzMzhdLCBbLTExOC4yMjk4NDUsIDM0LjA5MzU4Mjk5OTk5OTk5NV0sIFstMTE4LjIyOTEyOCwgMzQuMDkyNzI5OTk5OTk5OTk2XSwgWy0xMTguMjI4NDQyLCAzNC4wOTE5MTNdLCBbLTExOC4yMjgwOTgsIDM0LjA5MTUwNV0sIFstMTE4LjIyNzY0MSwgMzQuMDkwOTYxXSwgWy0xMTguMjI3Mzc5LCAzNC4wOTA2NDddLCBbLTExOC4yMjcxNzksIDM0LjA5MDM5XSwgWy0xMTguMjI2OTM1LCAzNC4wOTAwNDQ5OTk5OTk5OTZdLCBbLTExOC4yMjY3NzEsIDM0LjA4OTc4ODk5OTk5OTk5Nl0sIFstMTE4LjIyNjY5OSwgMzQuMDg5NjY5XSwgWy0xMTguMjI2NTU2LCAzNC4wODk0MTNdLCBbLTExOC4yMjY0MTcsIDM0LjA4OTE0MV0sIFstMTE4LjIyNjMwMSwgMzQuMDg4ODldLCBbLTExOC4yMjYxOSwgMzQuMDg4NjIzXSwgWy0xMTguMjI2MDgxOTk5OTk5OTksIDM0LjA4ODMyOF0sIFstMTE4LjIyNjA0NSwgMzQuMDg4MjE3XSwgWy0xMTguMjI1OTI2LCAzNC4wODc4MDQ5OTk5OTk5OTZdLCBbLTExOC4yMjU4NDgsIDM0LjA4NzQ2MTk5OTk5OTk5NV0sIFstMTE4LjIyNTc4NSwgMzQuMDg3MTA4XSwgWy0xMTguMjI1NzQ5MDAwMDAwMDEsIDM0LjA4NjgyNF0sIFstMTE4LjIyNTcyNCwgMzQuMDg2NTA5XSwgWy0xMTguMjI1NzEzLCAzNC4wODYyMjddLCBbLTExOC4yMjU3MTQsIDM0LjA4NTk0NDk5OTk5OTk5NV0sIFstMTE4LjIyNTcyNywgMzQuMDg1NjYyXSwgWy0xMTguMjI1NzUyLCAzNC4wODUzODFdLCBbLTExOC4yMjU3Nzc5OTk5OTk5OSwgMzQuMDg1MThdLCBbLTExOC4yMjU3ODg5OTk5OTk5OSwgMzQuMDg1MTAwMDAwMDAwMDA0XSwgWy0xMTguMjI1ODM4LCAzNC4wODQ4Ml0sIFstMTE4LjIyNTg5OCwgMzQuMDg0NTQyXSwgWy0xMTguMjI2MjQ2LCAzNC4wODMxODhdLCBbLTExOC4yMjYyNjcsIDM0LjA4MzEwNzk5OTk5OTk5Nl0sIFstMTE4LjIyNjM2MSwgMzQuMDgyNzE4XSwgWy0xMTguMjI2NzAyLCAzNC4wODI4MTJdLCBbLTExOC4yMjY3ODgsIDM0LjA4MjgzNF0sIFstMTE4LjIyNjkyLCAzNC4wODI4NzZdLCBbLTExOC4yMjcwNTQsIDM0LjA4MjkxMDk5OTk5OTk5Nl0sIFstMTE4LjIyNzMyNywgMzQuMDgyOTkzXSwgWy0xMTguMjI3MzgyLCAzNC4wODMwMDhdLCBbLTExOC4yMjc2MDYsIDM0LjA4MzA4Mjk5OTk5OTk5NV0sIFstMTE4LjIyNzg4LCAzNC4wODMxODhdLCBbLTExOC4yMjc5MjYsIDM0LjA4MzUyNl0sIFstMTE4LjIyNzk0MywgMzQuMDgzNjQ0XSwgWy0xMTguMjI4MTEzMDAwMDAwMDEsIDM0LjA4NDg0Ml0sIFstMTE4LjIyODE1LCAzNC4wODUwOTZdLCBbLTExOC4yMjgyOTg5OTk5OTk5OSwgMzQuMDg2NTc5XSwgWy0xMTguMjI4NTMyLCAzNC4wODc5ODldLCBbLTExOC4yMjg4NDUsIDM0LjA4OTA5OV0sIFstMTE4LjIyOTM3LCAzNC4wOTAxNTRdLCBbLTExOC4yMzAwNTIsIDM0LjA5MTA2NV0sIFstMTE4LjIzMDU5MiwgMzQuMDkxNjk2XSwgWy0xMTguMjMxNDUyLCAzNC4wOTI0NjRdLCBbLTExOC4yMzI0MjEsIDM0LjA5MzAzMDk5OTk5OTk5Nl0sIFstMTE4LjIzMjYwOSwgMzQuMDkzMTQyXSwgWy0xMTguMjMzOTMyLCAzNC4wOTM2MDVdLCBbLTExOC4yMzYxMDIsIDM0LjA5MzkzN10sIFstMTE4LjIzNzgwNywgMzQuMDk0MzQ0XSwgWy0xMTguMjM4NTc2LCAzNC4wOTQ2NzE5OTk5OTk5OTZdLCBbLTExOC4yMzkyNDA5OTk5OTk5OSwgMzQuMDk1MTZdLCBbLTExOC4yNDAxODksIDM0LjA5NjEyMV0sIFstMTE4LjI0MDQ0OCwgMzQuMDk2NTM5XSwgWy0xMTguMjQwNzg4LCAzNC4wOTcwODddLCBbLTExOC4yNDE0MzgsIDM0LjA5Nzk4MV0sIFstMTE4LjI0MjExMSwgMzQuMDk4OTk5XSwgWy0xMTguMjQyNDYwOTk5OTk5OTksIDM0LjA5OTczN10sIFstMTE4LjI0MjU1NSwgMzQuMTAwMzU1XSwgWy0xMTguMjQyNTczLCAzNC4xMDE2MDg5OTk5OTk5OTZdLCBbLTExOC4yNDI1MDcsIDM0LjEwMjIzNV0sIFstMTE4LjI0MjQ0MywgMzQuMTAyODQ2XSwgWy0xMTguMjQyNDEyLCAzNC4xMDM2NDJdLCBbLTExOC4yNDI0NDIsIDM0LjEwMzc4M10sIFstMTE4LjI0MjU3MiwgMzQuMTA0MzgyXSwgWy0xMTguMjQzMDExLCAzNC4xMDU0MDJdLCBbLTExOC4yNDMyOTMsIDM0LjEwNTY1N10sIFstMTE4LjI0MzU5MiwgMzQuMTA1OTI2XSwgWy0xMTguMjQ0Mzg5LCAzNC4xMDY2NzddLCBbLTExOC4yNDUyNjgsIDM0LjEwNzIxNl0sIFstMTE4LjI0NjIwOSwgMzQuMTA3Njg0XSwgWy0xMTguMjQ3MDg1LCAzNC4xMDgwNDZdLCBbLTExOC4yNDgxNSwgMzQuMTA4MjY0XSwgWy0xMTguMjQ5NTAwMDAwMDAwMDEsIDM0LjEwODQwMV0sIFstMTE4LjI0OTcyOSwgMzQuMTA4NDI0XSwgWy0xMTguMjQ5ODE0LCAzNC4xMDg0MzNdLCBbLTExOC4yNDk4OTQsIDM0LjEwODQ0MV0sIFstMTE4LjI1MDQyMywgMzQuMTA4NTAyXSwgWy0xMTguMjUwOTE3LCAzNC4xMDg1NTldLCBbLTExOC4yNTExNzkwMDAwMDAwMSwgMzQuMTA4NDIzXSwgWy0xMTguMjUyMzMzLCAzNC4xMDgyNzJdLCBbLTExOC4yNTM5NjcsIDM0LjEwODE2Ml0sIFstMTE4LjI1NDIzMiwgMzQuMTA4MTQzOTk5OTk5OTk2XSwgWy0xMTguMjU1NDA2LCAzNC4xMDgxNDY5OTk5OTk5OTVdLCBbLTExOC4yNTU3OTgsIDM0LjEwODE5XSwgWy0xMTguMjU2NTgzLCAzNC4xMDgzMjFdLCBbLTExOC4yNTY0NSwgMzQuMTA4NDgxOTk5OTk5OTk1XV1dLCAidHlwZSI6ICJQb2x5Z29uIn0sICJpZCI6ICIxNiIsICJwcm9wZXJ0aWVzIjogeyJGSVBTIjogIjA2MDM3MTg3MTAyMiIsICJHZW9fQkxLR1JQIjogMiwgIkdlb19OQU1FIjogIkJsb2NrIEdyb3VwIDIiLCAiR2VvX1FOYW1lIjogIkJsb2NrIEdyb3VwIDIsIENlbnN1cyBUcmFjdCAxODcxLjAyLCBMb3MgQW5nZWxlcyBDb3VudHksIENhbGlmb3JuaWEiLCAiSG91c2Vob2xkIEluY29tZSAkMTAwLDAwMCBvciBNb3JlIjogMjg5LCAiSG91c2Vob2xkIEluY29tZSAkMjUsMDAwIHRvICQ0OSw5OTkiOiAxOTksICJIb3VzZWhvbGQgSW5jb21lICQ1MCwwMDAgdG8gJDc0LDk5OSI6IDEwOCwgIkhvdXNlaG9sZCBJbmNvbWUgJDc1LDAwMCB0byAkOTksOTk5IjogNzYsICJIb3VzZWhvbGQgSW5jb21lIExlc3MgdGhhbiAkMjUsMDAwIjogMzEwLCAiVG90YWwgSG91c2Vob2xkcyI6IDk4MiwgIlRvdGFsIEhvdXNlaG9sZHMgaW4gQXR3YXRlciBWaWxsYWdlIjogOTgyLCAibmVpZ2hib3Job29kIjogIkF0d2F0ZXIiLCAicF9sZXNzXzI1ayI6IDMxLjU2ODIyODEwNTkwNjMxNCwgInBfbW9yZV8xMDBrIjogMjkuNDI5NzM1MjM0MjE1ODg3fSwgInR5cGUiOiAiRmVhdHVyZSJ9LCB7ImJib3giOiBbLTExOC4yNDExMTMsIDM0LjExMDM4OCwgLTExOC4yMzQ0OTUsIDM0LjExNzgzOF0sICJnZW9tZXRyeSI6IHsiY29vcmRpbmF0ZXMiOiBbW1stMTE4LjI0MTExMywgMzQuMTE0ODMyXSwgWy0xMTguMjQwMTI2LCAzNC4xMTUyMzFdLCBbLTExOC4yMzk4NjMsIDM0LjExNTM0N10sIFstMTE4LjIzOTgxNywgMzQuMTE1MzY3XSwgWy0xMTguMjM5NDA4LCAzNC4xMTU1NjVdLCBbLTExOC4yMzg3MzIsIDM0LjExNTkxMV0sIFstMTE4LjIzNjk0OCwgMzQuMTE2ODIyXSwgWy0xMTguMjM0ODcsIDM0LjExNzgzOF0sIFstMTE4LjIzNDc5MSwgMzQuMTE3NzM5XSwgWy0xMTguMjM0NzI4LCAzNC4xMTc2Nl0sIFstMTE4LjIzNDQ5NSwgMzQuMTE3MzY3XSwgWy0xMTguMjM0NTYzLCAzNC4xMTczMjNdLCBbLTExOC4yMzQ3NTksIDM0LjExNzE4Ml0sIFstMTE4LjIzNDg1NywgMzQuMTE3MTA0OTk5OTk5OTk1XSwgWy0xMTguMjM1MDQyOTk5OTk5OTksIDM0LjExNjk0M10sIFstMTE4LjIzNTIxNSwgMzQuMTE2NzcxXSwgWy0xMTguMjM1MzA0LCAzNC4xMTY2NzFdLCBbLTExOC4yMzU0NDUsIDM0LjExNjQ5NV0sIFstMTE4LjIzNTU3OCwgMzQuMTE2M10sIFstMTE4LjIzNTY2NywgMzQuMTE2MTQ5XSwgWy0xMTguMjM1NzcxLCAzNC4xMTU5NDNdLCBbLTExOC4yMzU4NjYsIDM0LjExNTcwN10sIFstMTE4LjIzNTkzLCAzNC4xMTU0OV0sIFstMTE4LjIzNjA3NSwgMzQuMTE0OTM3OTk5OTk5OTk1XSwgWy0xMTguMjM2MTIyLCAzNC4xMTQ4ODFdLCBbLTExOC4yMzYyMjM5OTk5OTk5OSwgMzQuMTE0NDg5OTk5OTk5OTk2XSwgWy0xMTguMjM2MzUyLCAzNC4xMTQwMDFdLCBbLTExOC4yMzY0OTYsIDM0LjExMzQ0N10sIFstMTE4LjIzNjU0MiwgMzQuMTEzMTY0XSwgWy0xMTguMjM2ODg0LCAzNC4xMTE4NDhdLCBbLTExOC4yMzcyNjMsIDM0LjExMDM4OF0sIFstMTE4LjIzOTg1LCAzNC4xMTM2MzNdLCBbLTExOC4yNDA4NDIsIDM0LjExNDYzMDk5OTk5OTk5Nl0sIFstMTE4LjI0MTExMywgMzQuMTE0ODMyXV1dLCAidHlwZSI6ICJQb2x5Z29uIn0sICJpZCI6ICIxNyIsICJwcm9wZXJ0aWVzIjogeyJGSVBTIjogIjA2MDM3MTg2NDAzMSIsICJHZW9fQkxLR1JQIjogMSwgIkdlb19OQU1FIjogIkJsb2NrIEdyb3VwIDEiLCAiR2VvX1FOYW1lIjogIkJsb2NrIEdyb3VwIDEsIENlbnN1cyBUcmFjdCAxODY0LjAzLCBMb3MgQW5nZWxlcyBDb3VudHksIENhbGlmb3JuaWEiLCAiSG91c2Vob2xkIEluY29tZSAkMTAwLDAwMCBvciBNb3JlIjogOTYsICJIb3VzZWhvbGQgSW5jb21lICQyNSwwMDAgdG8gJDQ5LDk5OSI6IDg3LCAiSG91c2Vob2xkIEluY29tZSAkNTAsMDAwIHRvICQ3NCw5OTkiOiA2MSwgIkhvdXNlaG9sZCBJbmNvbWUgJDc1LDAwMCB0byAkOTksOTk5IjogMzEsICJIb3VzZWhvbGQgSW5jb21lIExlc3MgdGhhbiAkMjUsMDAwIjogOTMsICJUb3RhbCBIb3VzZWhvbGRzIjogMzY4LCAiVG90YWwgSG91c2Vob2xkcyBpbiBBdHdhdGVyIFZpbGxhZ2UiOiAzNjgsICJuZWlnaGJvcmhvb2QiOiAiQXR3YXRlciIsICJwX2xlc3NfMjVrIjogMjUuMjcxNzM5MTMwNDM0Nzg1LCAicF9tb3JlXzEwMGsiOiAyNi4wODY5NTY1MjE3MzkxM30sICJ0eXBlIjogIkZlYXR1cmUifV0sICJ0eXBlIjogIkZlYXR1cmVDb2xsZWN0aW9uIn0pOwogICAgICAgIAogICAgCiAgICB2YXIgY29sb3JfbWFwXzY5MWUxZDY3MDMxYzQwZWJiNmYwY2NjNDI4MThlMTJkID0ge307CgogICAgCiAgICBjb2xvcl9tYXBfNjkxZTFkNjcwMzFjNDBlYmI2ZjBjY2M0MjgxOGUxMmQuY29sb3IgPSBkMy5zY2FsZS50aHJlc2hvbGQoKQogICAgICAgICAgICAgIC5kb21haW4oWzguNTcxNDI4NTcxNDI4NTcxLCA4LjY4ODcyMTA0MjcyMjcyNiwgOC44MDYwMTM1MTQwMTY4OCwgOC45MjMzMDU5ODUzMTEwMzUsIDkuMDQwNTk4NDU2NjA1MTksIDkuMTU3ODkwOTI3ODk5MzQ1LCA5LjI3NTE4MzM5OTE5MzUwMiwgOS4zOTI0NzU4NzA0ODc2NTYsIDkuNTA5NzY4MzQxNzgxODExLCA5LjYyNzA2MDgxMzA3NTk2NiwgOS43NDQzNTMyODQzNzAxMiwgOS44NjE2NDU3NTU2NjQyNzUsIDkuOTc4OTM4MjI2OTU4NDMsIDEwLjA5NjIzMDY5ODI1MjU4NSwgMTAuMjEzNTIzMTY5NTQ2NzQxLCAxMC4zMzA4MTU2NDA4NDA4OTYsIDEwLjQ0ODEwODExMjEzNTA1MSwgMTAuNTY1NDAwNTgzNDI5MjA2LCAxMC42ODI2OTMwNTQ3MjMzNiwgMTAuNzk5OTg1NTI2MDE3NTE1LCAxMC45MTcyNzc5OTczMTE2NywgMTEuMDM0NTcwNDY4NjA1ODI1LCAxMS4xNTE4NjI5Mzk4OTk5ODEsIDExLjI2OTE1NTQxMTE5NDEzNCwgMTEuMzg2NDQ3ODgyNDg4MjksIDExLjUwMzc0MDM1Mzc4MjQ0NiwgMTEuNjIxMDMyODI1MDc2NiwgMTEuNzM4MzI1Mjk2MzcwNzU1LCAxMS44NTU2MTc3Njc2NjQ5MSwgMTEuOTcyOTEwMjM4OTU5MDY1LCAxMi4wOTAyMDI3MTAyNTMyMiwgMTIuMjA3NDk1MTgxNTQ3Mzc2LCAxMi4zMjQ3ODc2NTI4NDE1MjksIDEyLjQ0MjA4MDEyNDEzNTY4NiwgMTIuNTU5MzcyNTk1NDI5ODQsIDEyLjY3NjY2NTA2NjcyMzk5NSwgMTIuNzkzOTU3NTM4MDE4MTUsIDEyLjkxMTI1MDAwOTMxMjMwNSwgMTMuMDI4NTQyNDgwNjA2NDYsIDEzLjE0NTgzNDk1MTkwMDYxNCwgMTMuMjYzMTI3NDIzMTk0NzY5LCAxMy4zODA0MTk4OTQ0ODg5MjQsIDEzLjQ5NzcxMjM2NTc4MzA4LCAxMy42MTUwMDQ4MzcwNzcyMzUsIDEzLjczMjI5NzMwODM3MTM5LCAxMy44NDk1ODk3Nzk2NjU1NDQsIDEzLjk2Njg4MjI1MDk1OTcsIDE0LjA4NDE3NDcyMjI1Mzg1NCwgMTQuMjAxNDY3MTkzNTQ4MDA5LCAxNC4zMTg3NTk2NjQ4NDIxNjUsIDE0LjQzNjA1MjEzNjEzNjMxOCwgMTQuNTUzMzQ0NjA3NDMwNDc1LCAxNC42NzA2MzcwNzg3MjQ2MjgsIDE0Ljc4NzkyOTU1MDAxODc4NCwgMTQuOTA1MjIyMDIxMzEyOTQsIDE1LjAyMjUxNDQ5MjYwNzA5NCwgMTUuMTM5ODA2OTYzOTAxMjUsIDE1LjI1NzA5OTQzNTE5NTQwMywgMTUuMzc0MzkxOTA2NDg5NTYsIDE1LjQ5MTY4NDM3Nzc4MzcxMywgMTUuNjA4OTc2ODQ5MDc3ODcsIDE1LjcyNjI2OTMyMDM3MjAyNCwgMTUuODQzNTYxNzkxNjY2MTc5LCAxNS45NjA4NTQyNjI5NjAzMzQsIDE2LjA3ODE0NjczNDI1NDQ5LCAxNi4xOTU0MzkyMDU1NDg2NDUsIDE2LjMxMjczMTY3Njg0Mjc5OCwgMTYuNDMwMDI0MTQ4MTM2OTU1LCAxNi41NDczMTY2MTk0MzExMDgsIDE2LjY2NDYwOTA5MDcyNTI2NCwgMTYuNzgxOTAxNTYyMDE5NDIsIDE2Ljg5OTE5NDAzMzMxMzU3NCwgMTcuMDE2NDg2NTA0NjA3NzI3LCAxNy4xMzM3Nzg5NzU5MDE4ODMsIDE3LjI1MTA3MTQ0NzE5NjA0LCAxNy4zNjgzNjM5MTg0OTAxOTMsIDE3LjQ4NTY1NjM4OTc4NDM0NiwgMTcuNjAyOTQ4ODYxMDc4NTAyLCAxNy43MjAyNDEzMzIzNzI2NiwgMTcuODM3NTMzODAzNjY2ODE1LCAxNy45NTQ4MjYyNzQ5NjA5NjUsIDE4LjA3MjExODc0NjI1NTEyLCAxOC4xODk0MTEyMTc1NDkyNzgsIDE4LjMwNjcwMzY4ODg0MzQzNCwgMTguNDIzOTk2MTYwMTM3NTksIDE4LjU0MTI4ODYzMTQzMTc0LCAxOC42NTg1ODExMDI3MjU4OTcsIDE4Ljc3NTg3MzU3NDAyMDA1NCwgMTguODkzMTY2MDQ1MzE0MjEsIDE5LjAxMDQ1ODUxNjYwODM2MywgMTkuMTI3NzUwOTg3OTAyNTE2LCAxOS4yNDUwNDM0NTkxOTY2NzMsIDE5LjM2MjMzNTkzMDQ5MDgzLCAxOS40Nzk2Mjg0MDE3ODQ5ODIsIDE5LjU5NjkyMDg3MzA3OTEzNSwgMTkuNzE0MjEzMzQ0MzczMjksIDE5LjgzMTUwNTgxNTY2NzQ0OCwgMTkuOTQ4Nzk4Mjg2OTYxNjA1LCAyMC4wNjYwOTA3NTgyNTU3NTgsIDIwLjE4MzM4MzIyOTU0OTkxLCAyMC4zMDA2NzU3MDA4NDQwNjcsIDIwLjQxNzk2ODE3MjEzODIyNCwgMjAuNTM1MjYwNjQzNDMyMzc3LCAyMC42NTI1NTMxMTQ3MjY1MzMsIDIwLjc2OTg0NTU4NjAyMDY4NiwgMjAuODg3MTM4MDU3MzE0ODQzLCAyMS4wMDQ0MzA1Mjg2MDg5OTYsIDIxLjEyMTcyMjk5OTkwMzE1MiwgMjEuMjM5MDE1NDcxMTk3MzA1LCAyMS4zNTYzMDc5NDI0OTE0NjIsIDIxLjQ3MzYwMDQxMzc4NTYyLCAyMS41OTA4OTI4ODUwNzk3NywgMjEuNzA4MTg1MzU2MzczOTI4LCAyMS44MjU0Nzc4Mjc2NjgwOCwgMjEuOTQyNzcwMjk4OTYyMjM4LCAyMi4wNjAwNjI3NzAyNTYzOTQsIDIyLjE3NzM1NTI0MTU1MDU0NywgMjIuMjk0NjQ3NzEyODQ0NywgMjIuNDExOTQwMTg0MTM4ODU3LCAyMi41MjkyMzI2NTU0MzMwMTMsIDIyLjY0NjUyNTEyNjcyNzE2NiwgMjIuNzYzODE3NTk4MDIxMzIsIDIyLjg4MTExMDA2OTMxNTQ3NiwgMjIuOTk4NDAyNTQwNjA5NjMyLCAyMy4xMTU2OTUwMTE5MDM3OSwgMjMuMjMyOTg3NDgzMTk3OTM4LCAyMy4zNTAyNzk5NTQ0OTIwOTUsIDIzLjQ2NzU3MjQyNTc4NjI1LCAyMy41ODQ4NjQ4OTcwODA0MDgsIDIzLjcwMjE1NzM2ODM3NDU2NCwgMjMuODE5NDQ5ODM5NjY4NzE0LCAyMy45MzY3NDIzMTA5NjI4NywgMjQuMDU0MDM0NzgyMjU3MDI3LCAyNC4xNzEzMjcyNTM1NTExODMsIDI0LjI4ODYxOTcyNDg0NTMzNiwgMjQuNDA1OTEyMTk2MTM5NDksIDI0LjUyMzIwNDY2NzQzMzY0NiwgMjQuNjQwNDk3MTM4NzI3ODAyLCAyNC43NTc3ODk2MTAwMjE5NTIsIDI0Ljg3NTA4MjA4MTMxNjExLCAyNC45OTIzNzQ1NTI2MTAyNjUsIDI1LjEwOTY2NzAyMzkwNDQyLCAyNS4yMjY5NTk0OTUxOTg1NzgsIDI1LjM0NDI1MTk2NjQ5MjcyNywgMjUuNDYxNTQ0NDM3Nzg2ODg0LCAyNS41Nzg4MzY5MDkwODEwNCwgMjUuNjk2MTI5MzgwMzc1MTk3LCAyNS44MTM0MjE4NTE2NjkzNTQsIDI1LjkzMDcxNDMyMjk2MzUwMywgMjYuMDQ4MDA2Nzk0MjU3NjYsIDI2LjE2NTI5OTI2NTU1MTgxNiwgMjYuMjgyNTkxNzM2ODQ1OTczLCAyNi4zOTk4ODQyMDgxNDAxMjIsIDI2LjUxNzE3NjY3OTQzNDI4LCAyNi42MzQ0NjkxNTA3Mjg0MzUsIDI2Ljc1MTc2MTYyMjAyMjU5MiwgMjYuODY5MDU0MDkzMzE2NzQsIDI2Ljk4NjM0NjU2NDYxMDg5OCwgMjcuMTAzNjM5MDM1OTA1MDU0LCAyNy4yMjA5MzE1MDcxOTkyMSwgMjcuMzM4MjIzOTc4NDkzMzYsIDI3LjQ1NTUxNjQ0OTc4NzUyNCwgMjcuNTcyODA4OTIxMDgxNjczLCAyNy42OTAxMDEzOTIzNzU4MywgMjcuODA3MzkzODYzNjY5OTg2LCAyNy45MjQ2ODYzMzQ5NjQxNDMsIDI4LjA0MTk3ODgwNjI1ODI5MiwgMjguMTU5MjcxMjc3NTUyNDUsIDI4LjI3NjU2Mzc0ODg0NjYwNiwgMjguMzkzODU2MjIwMTQwNzYyLCAyOC41MTExNDg2OTE0MzQ5MSwgMjguNjI4NDQxMTYyNzI5MDY4LCAyOC43NDU3MzM2MzQwMjMyMjUsIDI4Ljg2MzAyNjEwNTMxNzM4LCAyOC45ODAzMTg1NzY2MTE1MywgMjkuMDk3NjExMDQ3OTA1Njg3LCAyOS4yMTQ5MDM1MTkxOTk4NDQsIDI5LjMzMjE5NTk5MDQ5NCwgMjkuNDQ5NDg4NDYxNzg4MTU3LCAyOS41NjY3ODA5MzMwODIzMTMsIDI5LjY4NDA3MzQwNDM3NjQ2MywgMjkuODAxMzY1ODc1NjcwNjIsIDI5LjkxODY1ODM0Njk2NDc3NiwgMzAuMDM1OTUwODE4MjU4OTMyLCAzMC4xNTMyNDMyODk1NTMwOCwgMzAuMjcwNTM1NzYwODQ3MjQsIDMwLjM4NzgyODIzMjE0MTM5NSwgMzAuNTA1MTIwNzAzNDM1NTUsIDMwLjYyMjQxMzE3NDcyOTcsIDMwLjczOTcwNTY0NjAyMzg1NywgMzAuODU2OTk4MTE3MzE4MDE0LCAzMC45NzQyOTA1ODg2MTIxNywgMzEuMDkxNTgzMDU5OTA2MzI3LCAzMS4yMDg4NzU1MzEyMDA0NzYsIDMxLjMyNjE2ODAwMjQ5NDYzMywgMzEuNDQzNDYwNDczNzg4NzksIDMxLjU2MDc1Mjk0NTA4Mjk0NiwgMzEuNjc4MDQ1NDE2Mzc3MDk1LCAzMS43OTUzMzc4ODc2NzEyNTIsIDMxLjkxMjYzMDM1ODk2NTQxLCAzMi4wMjk5MjI4MzAyNTk1NjUsIDMyLjE0NzIxNTMwMTU1MzcxNSwgMzIuMjY0NTA3NzcyODQ3ODcsIDMyLjM4MTgwMDI0NDE0MjAzLCAzMi40OTkwOTI3MTU0MzYxODQsIDMyLjYxNjM4NTE4NjczMDMzNCwgMzIuNzMzNjc3NjU4MDI0NSwgMzIuODUwOTcwMTI5MzE4NjUsIDMyLjk2ODI2MjYwMDYxMjgsIDMzLjA4NTU1NTA3MTkwNjk2LCAzMy4yMDI4NDc1NDMyMDExMTYsIDMzLjMyMDE0MDAxNDQ5NTI2NiwgMzMuNDM3NDMyNDg1Nzg5NDIsIDMzLjU1NDcyNDk1NzA4MzU4LCAzMy42NzIwMTc0MjgzNzc3MzUsIDMzLjc4OTMwOTg5OTY3MTg4NSwgMzMuOTA2NjAyMzcwOTY2MDQsIDM0LjAyMzg5NDg0MjI2MDIsIDM0LjE0MTE4NzMxMzU1NDM1NCwgMzQuMjU4NDc5Nzg0ODQ4NTA0LCAzNC4zNzU3NzIyNTYxNDI2NiwgMzQuNDkzMDY0NzI3NDM2ODIsIDM0LjYxMDM1NzE5ODczMDk3LCAzNC43Mjc2NDk2NzAwMjUxMywgMzQuODQ0OTQyMTQxMzE5MjksIDM0Ljk2MjIzNDYxMjYxMzQzNiwgMzUuMDc5NTI3MDgzOTA3NTksIDM1LjE5NjgxOTU1NTIwMTc1LCAzNS4zMTQxMTIwMjY0OTU5MDYsIDM1LjQzMTQwNDQ5Nzc5MDA1NSwgMzUuNTQ4Njk2OTY5MDg0MjEsIDM1LjY2NTk4OTQ0MDM3ODM3LCAzNS43ODMyODE5MTE2NzI1MjUsIDM1LjkwMDU3NDM4Mjk2NjY3NCwgMzYuMDE3ODY2ODU0MjYwODMsIDM2LjEzNTE1OTMyNTU1NDk5LCAzNi4yNTI0NTE3OTY4NDkxNDQsIDM2LjM2OTc0NDI2ODE0MzMsIDM2LjQ4NzAzNjczOTQzNzQ1LCAzNi42MDQzMjkyMTA3MzE2MDYsIDM2LjcyMTYyMTY4MjAyNTc2LCAzNi44Mzg5MTQxNTMzMTk5MiwgMzYuOTU2MjA2NjI0NjE0MDcsIDM3LjA3MzQ5OTA5NTkwODIyNSwgMzcuMTkwNzkxNTY3MjAyMzgsIDM3LjMwODA4NDAzODQ5NjU0LCAzNy40MjUzNzY1MDk3OTA2OSwgMzcuNTQyNjY4OTgxMDg0ODUsIDM3LjY1OTk2MTQ1MjM3OSwgMzcuNzc3MjUzOTIzNjczMTYsIDM3Ljg5NDU0NjM5NDk2NzMxLCAzOC4wMTE4Mzg4NjYyNjE0NywgMzguMTI5MTMxMzM3NTU1NjIsIDM4LjI0NjQyMzgwODg0OTc4LCAzOC4zNjM3MTYyODAxNDM5MywgMzguNDgxMDA4NzUxNDM4MDksIDM4LjU5ODMwMTIyMjczMjI0LCAzOC43MTU1OTM2OTQwMjYzOTYsIDM4LjgzMjg4NjE2NTMyMDU1LCAzOC45NTAxNzg2MzY2MTQ3MSwgMzkuMDY3NDcxMTA3OTA4ODYsIDM5LjE4NDc2MzU3OTIwMzAxNSwgMzkuMzAyMDU2MDUwNDk3MTcsIDM5LjQxOTM0ODUyMTc5MTMzLCAzOS41MzY2NDA5OTMwODU0OCwgMzkuNjUzOTMzNDY0Mzc5NjM0LCAzOS43NzEyMjU5MzU2NzM3OSwgMzkuODg4NTE4NDA2OTY3OTUsIDQwLjAwNTgxMDg3ODI2MjEsIDQwLjEyMzEwMzM0OTU1NjI1LCA0MC4yNDAzOTU4MjA4NTA0MSwgNDAuMzU3Njg4MjkyMTQ0NTY2LCA0MC40NzQ5ODA3NjM0Mzg3MiwgNDAuNTkyMjczMjM0NzMyODgsIDQwLjcwOTU2NTcwNjAyNzAzLCA0MC44MjY4NTgxNzczMjExODUsIDQwLjk0NDE1MDY0ODYxNTMzNCwgNDEuMDYxNDQzMTE5OTA5NSwgNDEuMTc4NzM1NTkxMjAzNjUsIDQxLjI5NjAyODA2MjQ5NzgwNCwgNDEuNDEzMzIwNTMzNzkxOTYsIDQxLjUzMDYxMzAwNTA4NjEyLCA0MS42NDc5MDU0NzYzODAyNywgNDEuNzY1MTk3OTQ3Njc0NDIsIDQxLjg4MjQ5MDQxODk2ODU4LCA0MS45OTk3ODI4OTAyNjI3MywgNDIuMTE3MDc1MzYxNTU2ODg2LCA0Mi4yMzQzNjc4MzI4NTEwNSwgNDIuMzUxNjYwMzA0MTQ1MiwgNDIuNDY4OTUyNzc1NDM5MzU1LCA0Mi41ODYyNDUyNDY3MzM1MSwgNDIuNzAzNTM3NzE4MDI3NjYsIDQyLjgyMDgzMDE4OTMyMTgyLCA0Mi45MzgxMjI2NjA2MTU5NywgNDMuMDU1NDE1MTMxOTEwMTMsIDQzLjE3MjcwNzYwMzIwNDI5LCA0My4yOTAwMDAwNzQ0OTg0NCwgNDMuNDA3MjkyNTQ1NzkyNTksIDQzLjUyNDU4NTAxNzA4Njc1LCA0My42NDE4Nzc0ODgzODA5LCA0My43NTkxNjk5NTk2NzUwNTYsIDQzLjg3NjQ2MjQzMDk2OTIxLCA0My45OTM3NTQ5MDIyNjMzNywgNDQuMTExMDQ3MzczNTU3NTI1LCA0NC4yMjgzMzk4NDQ4NTE2NzUsIDQ0LjM0NTYzMjMxNjE0NTgzLCA0NC40NjI5MjQ3ODc0Mzk5OSwgNDQuNTgwMjE3MjU4NzM0MTQsIDQ0LjY5NzUwOTczMDAyODMsIDQ0LjgxNDgwMjIwMTMyMjQ2LCA0NC45MzIwOTQ2NzI2MTY2MSwgNDUuMDQ5Mzg3MTQzOTEwNzY0LCA0NS4xNjY2Nzk2MTUyMDQ5MSwgNDUuMjgzOTcyMDg2NDk5MDcsIDQ1LjQwMTI2NDU1Nzc5MzIyNiwgNDUuNTE4NTU3MDI5MDg3MzgsIDQ1LjYzNTg0OTUwMDM4MTU0LCA0NS43NTMxNDE5NzE2NzU2OTYsIDQ1Ljg3MDQzNDQ0Mjk2OTg0NSwgNDUuOTg3NzI2OTE0MjY0LCA0Ni4xMDUwMTkzODU1NTgxNSwgNDYuMjIyMzExODU2ODUyMzEsIDQ2LjMzOTYwNDMyODE0NjQ3LCA0Ni40NTY4OTY3OTk0NDA2MiwgNDYuNTc0MTg5MjcwNzM0NzgsIDQ2LjY5MTQ4MTc0MjAyODkzNCwgNDYuODA4Nzc0MjEzMzIzMDgsIDQ2LjkyNjA2NjY4NDYxNzI0LCA0Ny4wNDMzNTkxNTU5MTEzOTYsIDQ3LjE2MDY1MTYyNzIwNTU1LCA0Ny4yNzc5NDQwOTg0OTk3MSwgNDcuMzk1MjM2NTY5NzkzODYsIDQ3LjUxMjUyOTA0MTA4ODAxNSwgNDcuNjI5ODIxNTEyMzgyMTcsIDQ3Ljc0NzExMzk4MzY3NjMyLCA0Ny44NjQ0MDY0NTQ5NzA0OCwgNDcuOTgxNjk4OTI2MjY0NjQsIDQ4LjA5ODk5MTM5NzU1ODc5LCA0OC4yMTYyODM4Njg4NTI5NSwgNDguMzMzNTc2MzQwMTQ3MTA0LCA0OC40NTA4Njg4MTE0NDEyNTQsIDQ4LjU2ODE2MTI4MjczNTQxLCA0OC42ODU0NTM3NTQwMjk1NiwgNDguODAyNzQ2MjI1MzIzNzIsIDQ4LjkyMDAzODY5NjYxNzg4LCA0OS4wMzczMzExNjc5MTIwMywgNDkuMTU0NjIzNjM5MjA2MTg2LCA0OS4yNzE5MTYxMTA1MDAzNCwgNDkuMzg5MjA4NTgxNzk0NDksIDQ5LjUwNjUwMTA1MzA4ODY1NSwgNDkuNjIzNzkzNTI0MzgyODA1LCA0OS43NDEwODU5OTU2NzY5NiwgNDkuODU4Mzc4NDY2OTcxMTIsIDQ5Ljk3NTY3MDkzODI2NTI3LCA1MC4wOTI5NjM0MDk1NTk0MjQsIDUwLjIxMDI1NTg4MDg1MzU4LCA1MC4zMjc1NDgzNTIxNDc3NCwgNTAuNDQ0ODQwODIzNDQxODksIDUwLjU2MjEzMzI5NDczNjA1LCA1MC42Nzk0MjU3NjYwMzAyLCA1MC43OTY3MTgyMzczMjQzNTYsIDUwLjkxNDAxMDcwODYxODUwNSwgNTEuMDMxMzAzMTc5OTEyNjYsIDUxLjE0ODU5NTY1MTIwNjgyNiwgNTEuMjY1ODg4MTIyNTAwOTc1LCA1MS4zODMxODA1OTM3OTUxMywgNTEuNTAwNDczMDY1MDg5MjksIDUxLjYxNzc2NTUzNjM4MzQ0LCA1MS43MzUwNTgwMDc2Nzc1OTQsIDUxLjg1MjM1MDQ3ODk3MTc1LCA1MS45Njk2NDI5NTAyNjU5MSwgNTIuMDg2OTM1NDIxNTYwMDY0LCA1Mi4yMDQyMjc4OTI4NTQyMSwgNTIuMzIxNTIwMzY0MTQ4MzcsIDUyLjQzODgxMjgzNTQ0MjUyNiwgNTIuNTU2MTA1MzA2NzM2Njc2LCA1Mi42NzMzOTc3NzgwMzA4MywgNTIuNzkwNjkwMjQ5MzI0OTk2LCA1Mi45MDc5ODI3MjA2MTkxNDUsIDUzLjAyNTI3NTE5MTkxMzMsIDUzLjE0MjU2NzY2MzIwNzQ1LCA1My4yNTk4NjAxMzQ1MDE2MSwgNTMuMzc3MTUyNjA1Nzk1NzY0LCA1My40OTQ0NDUwNzcwODk5MTQsIDUzLjYxMTczNzU0ODM4NDA4LCA1My43MjkwMzAwMTk2NzgyMzQsIDUzLjg0NjMyMjQ5MDk3MjM4LCA1My45NjM2MTQ5NjIyNjY1NCwgNTQuMDgwOTA3NDMzNTYwNywgNTQuMTk4MTk5OTA0ODU0ODQ2LCA1NC4zMTU0OTIzNzYxNDksIDU0LjQzMjc4NDg0NzQ0MzE2LCA1NC41NTAwNzczMTg3MzczMTYsIDU0LjY2NzM2OTc5MDAzMTQ3LCA1NC43ODQ2NjIyNjEzMjU2MiwgNTQuOTAxOTU0NzMyNjE5NzgsIDU1LjAxOTI0NzIwMzkxMzkzNSwgNTUuMTM2NTM5Njc1MjA4MDg0LCA1NS4yNTM4MzIxNDY1MDIyNSwgNTUuMzcxMTI0NjE3Nzk2NCwgNTUuNDg4NDE3MDg5MDkwNTU0LCA1NS42MDU3MDk1NjAzODQ3MSwgNTUuNzIzMDAyMDMxNjc4ODYsIDU1Ljg0MDI5NDUwMjk3MzAxNiwgNTUuOTU3NTg2OTc0MjY3MTcsIDU2LjA3NDg3OTQ0NTU2MTMzLCA1Ni4xOTIxNzE5MTY4NTU0ODYsIDU2LjMwOTQ2NDM4ODE0OTY0LCA1Ni40MjY3NTY4NTk0NDM3OSwgNTYuNTQ0MDQ5MzMwNzM3OTUsIDU2LjY2MTM0MTgwMjAzMjEsIDU2Ljc3ODYzNDI3MzMyNjI1NCwgNTYuODk1OTI2NzQ0NjIwNDIsIDU3LjAxMzIxOTIxNTkxNDU3LCA1Ny4xMzA1MTE2ODcyMDg3MjQsIDU3LjI0NzgwNDE1ODUwMjg4LCA1Ny4zNjUwOTY2Mjk3OTcwMywgNTcuNDgyMzg5MTAxMDkxMTksIDU3LjU5OTY4MTU3MjM4NTM1LCA1Ny43MTY5NzQwNDM2Nzk1LCA1Ny44MzQyNjY1MTQ5NzM2NTYsIDU3Ljk1MTU1ODk4NjI2NzgwNiwgNTguMDY4ODUxNDU3NTYxOTYsIDU4LjE4NjE0MzkyODg1NjEyLCA1OC4zMDM0MzY0MDAxNTAyNywgNTguNDIwNzI4ODcxNDQ0NDMsIDU4LjUzODAyMTM0MjczODU5LCA1OC42NTUzMTM4MTQwMzI3NCwgNTguNzcyNjA2Mjg1MzI2ODk0LCA1OC44ODk4OTg3NTY2MjEwNDQsIDU5LjAwNzE5MTIyNzkxNTIsIDU5LjEyNDQ4MzY5OTIwOTM2LCA1OS4yNDE3NzYxNzA1MDM1MSwgNTkuMzU5MDY4NjQxNzk3NjcsIDU5LjQ3NjM2MTExMzA5MTgyNiwgNTkuNTkzNjUzNTg0Mzg1OTc2LCA1OS43MTA5NDYwNTU2ODAxMywgNTkuODI4MjM4NTI2OTc0MjksIDU5Ljk0NTUzMDk5ODI2ODQ0LCA2MC4wNjI4MjM0Njk1NjI2LCA2MC4xODAxMTU5NDA4NTY3NSwgNjAuMjk3NDA4NDEyMTUwOTEsIDYwLjQxNDcwMDg4MzQ0NTA2NSwgNjAuNTMxOTkzMzU0NzM5MjE0LCA2MC42NDkyODU4MjYwMzMzNywgNjAuNzY2NTc4Mjk3MzI3NTMsIDYwLjg4Mzg3MDc2ODYyMTY4NCwgNjEuMDAxMTYzMjM5OTE1ODQsIDYxLjExODQ1NTcxMTIxLCA2MS4yMzU3NDgxODI1MDQxNDYsIDYxLjM1MzA0MDY1Mzc5ODMsIDYxLjQ3MDMzMzEyNTA5MjQ1LCA2MS41ODc2MjU1OTYzODY2MSwgNjEuNzA0OTE4MDY3NjgwNzcsIDYxLjgyMjIxMDUzODk3NDkyLCA2MS45Mzk1MDMwMTAyNjkwOCwgNjIuMDU2Nzk1NDgxNTYzMjM1LCA2Mi4xNzQwODc5NTI4NTczODQsIDYyLjI5MTM4MDQyNDE1MTU0LCA2Mi40MDg2NzI4OTU0NDU2OSwgNjIuNTI1OTY1MzY2NzM5ODU0LCA2Mi42NDMyNTc4MzgwMzQwMSwgNjIuNzYwNTUwMzA5MzI4MTYsIDYyLjg3Nzg0Mjc4MDYyMjMxNiwgNjIuOTk1MTM1MjUxOTE2NDcsIDYzLjExMjQyNzcyMzIxMDYyLCA2My4yMjk3MjAxOTQ1MDQ3OCwgNjMuMzQ3MDEyNjY1Nzk4OTQsIDYzLjQ2NDMwNTEzNzA5MzA5LCA2My41ODE1OTc2MDgzODcyNSwgNjMuNjk4ODkwMDc5NjgxNCwgNjMuODE2MTgyNTUwOTc1NTU0LCA2My45MzM0NzUwMjIyNjk3MSwgNjQuMDUwNzY3NDkzNTYzODcsIDY0LjE2ODA1OTk2NDg1ODAzLCA2NC4yODUzNTI0MzYxNTIxOCwgNjQuNDAyNjQ0OTA3NDQ2MzMsIDY0LjUxOTkzNzM3ODc0MDUsIDY0LjYzNzIyOTg1MDAzNDY0LCA2NC43NTQ1MjIzMjEzMjg3OSwgNjQuODcxODE0NzkyNjIyOTYsIDY0Ljk4OTEwNzI2MzkxNzEsIDY1LjEwNjM5OTczNTIxMTI3LCA2NS4yMjM2OTIyMDY1MDU0MiwgNjUuMzQwOTg0Njc3Nzk5NTcsIDY1LjQ1ODI3NzE0OTA5MzczLCA2NS41NzU1Njk2MjAzODc4OCwgNjUuNjkyODYyMDkxNjgyMDMsIDY1LjgxMDE1NDU2Mjk3NjIsIDY1LjkyNzQ0NzAzNDI3MDM0LCA2Ni4wNDQ3Mzk1MDU1NjQ1MSwgNjYuMTYyMDMxOTc2ODU4NjYsIDY2LjI3OTMyNDQ0ODE1MjgsIDY2LjM5NjYxNjkxOTQ0Njk3LCA2Ni41MTM5MDkzOTA3NDExMywgNjYuNjMxMjAxODYyMDM1MjgsIDY2Ljc0ODQ5NDMzMzMyOTQzLCA2Ni44NjU3ODY4MDQ2MjM2LCA2Ni45ODMwNzkyNzU5MTc3NSwgNjcuMTAwMzcxNzQ3MjExOV0pCiAgICAgICAgICAgICAgLnJhbmdlKFsnI2VkZjhmYmZmJywgJyNlZGY4ZmJmZicsICcjZWRmOGZiZmYnLCAnI2VkZjhmYmZmJywgJyNlZGY4ZmJmZicsICcjZWRmOGZiZmYnLCAnI2VkZjhmYmZmJywgJyNlZGY4ZmJmZicsICcjZWRmOGZiZmYnLCAnI2VkZjhmYmZmJywgJyNlZGY4ZmJmZicsICcjZWRmOGZiZmYnLCAnI2VkZjhmYmZmJywgJyNlZGY4ZmJmZicsICcjZWRmOGZiZmYnLCAnI2VkZjhmYmZmJywgJyNlZGY4ZmJmZicsICcjZWRmOGZiZmYnLCAnI2VkZjhmYmZmJywgJyNlZGY4ZmJmZicsICcjZWRmOGZiZmYnLCAnI2VkZjhmYmZmJywgJyNlZGY4ZmJmZicsICcjZWRmOGZiZmYnLCAnI2VkZjhmYmZmJywgJyNlZGY4ZmJmZicsICcjZWRmOGZiZmYnLCAnI2VkZjhmYmZmJywgJyNlZGY4ZmJmZicsICcjZWRmOGZiZmYnLCAnI2VkZjhmYmZmJywgJyNlZGY4ZmJmZicsICcjZWRmOGZiZmYnLCAnI2VkZjhmYmZmJywgJyNlZGY4ZmJmZicsICcjZWRmOGZiZmYnLCAnI2VkZjhmYmZmJywgJyNlZGY4ZmJmZicsICcjZWRmOGZiZmYnLCAnI2VkZjhmYmZmJywgJyNlZGY4ZmJmZicsICcjZWRmOGZiZmYnLCAnI2VkZjhmYmZmJywgJyNlZGY4ZmJmZicsICcjZWRmOGZiZmYnLCAnI2VkZjhmYmZmJywgJyNlZGY4ZmJmZicsICcjZWRmOGZiZmYnLCAnI2VkZjhmYmZmJywgJyNlZGY4ZmJmZicsICcjZWRmOGZiZmYnLCAnI2VkZjhmYmZmJywgJyNlZGY4ZmJmZicsICcjZWRmOGZiZmYnLCAnI2VkZjhmYmZmJywgJyNlZGY4ZmJmZicsICcjZWRmOGZiZmYnLCAnI2VkZjhmYmZmJywgJyNlZGY4ZmJmZicsICcjZWRmOGZiZmYnLCAnI2VkZjhmYmZmJywgJyNlZGY4ZmJmZicsICcjZWRmOGZiZmYnLCAnI2VkZjhmYmZmJywgJyNlZGY4ZmJmZicsICcjZWRmOGZiZmYnLCAnI2VkZjhmYmZmJywgJyNlZGY4ZmJmZicsICcjZWRmOGZiZmYnLCAnI2VkZjhmYmZmJywgJyNlZGY4ZmJmZicsICcjZWRmOGZiZmYnLCAnI2VkZjhmYmZmJywgJyNlZGY4ZmJmZicsICcjZWRmOGZiZmYnLCAnI2VkZjhmYmZmJywgJyNlZGY4ZmJmZicsICcjZWRmOGZiZmYnLCAnI2VkZjhmYmZmJywgJyNlZGY4ZmJmZicsICcjZWRmOGZiZmYnLCAnI2VkZjhmYmZmJywgJyNlZGY4ZmJmZicsICcjZWRmOGZiZmYnLCAnI2JmZDNlNmZmJywgJyNiZmQzZTZmZicsICcjYmZkM2U2ZmYnLCAnI2JmZDNlNmZmJywgJyNiZmQzZTZmZicsICcjYmZkM2U2ZmYnLCAnI2JmZDNlNmZmJywgJyNiZmQzZTZmZicsICcjYmZkM2U2ZmYnLCAnI2JmZDNlNmZmJywgJyNiZmQzZTZmZicsICcjYmZkM2U2ZmYnLCAnI2JmZDNlNmZmJywgJyNiZmQzZTZmZicsICcjYmZkM2U2ZmYnLCAnI2JmZDNlNmZmJywgJyNiZmQzZTZmZicsICcjYmZkM2U2ZmYnLCAnI2JmZDNlNmZmJywgJyNiZmQzZTZmZicsICcjYmZkM2U2ZmYnLCAnI2JmZDNlNmZmJywgJyNiZmQzZTZmZicsICcjYmZkM2U2ZmYnLCAnI2JmZDNlNmZmJywgJyNiZmQzZTZmZicsICcjYmZkM2U2ZmYnLCAnI2JmZDNlNmZmJywgJyNiZmQzZTZmZicsICcjYmZkM2U2ZmYnLCAnI2JmZDNlNmZmJywgJyNiZmQzZTZmZicsICcjYmZkM2U2ZmYnLCAnI2JmZDNlNmZmJywgJyNiZmQzZTZmZicsICcjYmZkM2U2ZmYnLCAnI2JmZDNlNmZmJywgJyNiZmQzZTZmZicsICcjYmZkM2U2ZmYnLCAnI2JmZDNlNmZmJywgJyNiZmQzZTZmZicsICcjYmZkM2U2ZmYnLCAnI2JmZDNlNmZmJywgJyNiZmQzZTZmZicsICcjYmZkM2U2ZmYnLCAnI2JmZDNlNmZmJywgJyNiZmQzZTZmZicsICcjYmZkM2U2ZmYnLCAnI2JmZDNlNmZmJywgJyNiZmQzZTZmZicsICcjYmZkM2U2ZmYnLCAnI2JmZDNlNmZmJywgJyNiZmQzZTZmZicsICcjYmZkM2U2ZmYnLCAnI2JmZDNlNmZmJywgJyNiZmQzZTZmZicsICcjYmZkM2U2ZmYnLCAnI2JmZDNlNmZmJywgJyNiZmQzZTZmZicsICcjYmZkM2U2ZmYnLCAnI2JmZDNlNmZmJywgJyNiZmQzZTZmZicsICcjYmZkM2U2ZmYnLCAnI2JmZDNlNmZmJywgJyNiZmQzZTZmZicsICcjYmZkM2U2ZmYnLCAnI2JmZDNlNmZmJywgJyNiZmQzZTZmZicsICcjYmZkM2U2ZmYnLCAnI2JmZDNlNmZmJywgJyNiZmQzZTZmZicsICcjYmZkM2U2ZmYnLCAnI2JmZDNlNmZmJywgJyNiZmQzZTZmZicsICcjYmZkM2U2ZmYnLCAnI2JmZDNlNmZmJywgJyNiZmQzZTZmZicsICcjYmZkM2U2ZmYnLCAnI2JmZDNlNmZmJywgJyNiZmQzZTZmZicsICcjYmZkM2U2ZmYnLCAnI2JmZDNlNmZmJywgJyNiZmQzZTZmZicsICcjOWViY2RhZmYnLCAnIzllYmNkYWZmJywgJyM5ZWJjZGFmZicsICcjOWViY2RhZmYnLCAnIzllYmNkYWZmJywgJyM5ZWJjZGFmZicsICcjOWViY2RhZmYnLCAnIzllYmNkYWZmJywgJyM5ZWJjZGFmZicsICcjOWViY2RhZmYnLCAnIzllYmNkYWZmJywgJyM5ZWJjZGFmZicsICcjOWViY2RhZmYnLCAnIzllYmNkYWZmJywgJyM5ZWJjZGFmZicsICcjOWViY2RhZmYnLCAnIzllYmNkYWZmJywgJyM5ZWJjZGFmZicsICcjOWViY2RhZmYnLCAnIzllYmNkYWZmJywgJyM5ZWJjZGFmZicsICcjOWViY2RhZmYnLCAnIzllYmNkYWZmJywgJyM5ZWJjZGFmZicsICcjOWViY2RhZmYnLCAnIzllYmNkYWZmJywgJyM5ZWJjZGFmZicsICcjOWViY2RhZmYnLCAnIzllYmNkYWZmJywgJyM5ZWJjZGFmZicsICcjOWViY2RhZmYnLCAnIzllYmNkYWZmJywgJyM5ZWJjZGFmZicsICcjOWViY2RhZmYnLCAnIzllYmNkYWZmJywgJyM5ZWJjZGFmZicsICcjOWViY2RhZmYnLCAnIzllYmNkYWZmJywgJyM5ZWJjZGFmZicsICcjOWViY2RhZmYnLCAnIzllYmNkYWZmJywgJyM5ZWJjZGFmZicsICcjOWViY2RhZmYnLCAnIzllYmNkYWZmJywgJyM5ZWJjZGFmZicsICcjOWViY2RhZmYnLCAnIzllYmNkYWZmJywgJyM5ZWJjZGFmZicsICcjOWViY2RhZmYnLCAnIzllYmNkYWZmJywgJyM5ZWJjZGFmZicsICcjOWViY2RhZmYnLCAnIzllYmNkYWZmJywgJyM5ZWJjZGFmZicsICcjOWViY2RhZmYnLCAnIzllYmNkYWZmJywgJyM5ZWJjZGFmZicsICcjOWViY2RhZmYnLCAnIzllYmNkYWZmJywgJyM5ZWJjZGFmZicsICcjOWViY2RhZmYnLCAnIzllYmNkYWZmJywgJyM5ZWJjZGFmZicsICcjOWViY2RhZmYnLCAnIzllYmNkYWZmJywgJyM5ZWJjZGFmZicsICcjOWViY2RhZmYnLCAnIzllYmNkYWZmJywgJyM5ZWJjZGFmZicsICcjOWViY2RhZmYnLCAnIzllYmNkYWZmJywgJyM5ZWJjZGFmZicsICcjOWViY2RhZmYnLCAnIzllYmNkYWZmJywgJyM5ZWJjZGFmZicsICcjOWViY2RhZmYnLCAnIzllYmNkYWZmJywgJyM5ZWJjZGFmZicsICcjOWViY2RhZmYnLCAnIzllYmNkYWZmJywgJyM5ZWJjZGFmZicsICcjOWViY2RhZmYnLCAnIzllYmNkYWZmJywgJyM4Yzk2YzZmZicsICcjOGM5NmM2ZmYnLCAnIzhjOTZjNmZmJywgJyM4Yzk2YzZmZicsICcjOGM5NmM2ZmYnLCAnIzhjOTZjNmZmJywgJyM4Yzk2YzZmZicsICcjOGM5NmM2ZmYnLCAnIzhjOTZjNmZmJywgJyM4Yzk2YzZmZicsICcjOGM5NmM2ZmYnLCAnIzhjOTZjNmZmJywgJyM4Yzk2YzZmZicsICcjOGM5NmM2ZmYnLCAnIzhjOTZjNmZmJywgJyM4Yzk2YzZmZicsICcjOGM5NmM2ZmYnLCAnIzhjOTZjNmZmJywgJyM4Yzk2YzZmZicsICcjOGM5NmM2ZmYnLCAnIzhjOTZjNmZmJywgJyM4Yzk2YzZmZicsICcjOGM5NmM2ZmYnLCAnIzhjOTZjNmZmJywgJyM4Yzk2YzZmZicsICcjOGM5NmM2ZmYnLCAnIzhjOTZjNmZmJywgJyM4Yzk2YzZmZicsICcjOGM5NmM2ZmYnLCAnIzhjOTZjNmZmJywgJyM4Yzk2YzZmZicsICcjOGM5NmM2ZmYnLCAnIzhjOTZjNmZmJywgJyM4Yzk2YzZmZicsICcjOGM5NmM2ZmYnLCAnIzhjOTZjNmZmJywgJyM4Yzk2YzZmZicsICcjOGM5NmM2ZmYnLCAnIzhjOTZjNmZmJywgJyM4Yzk2YzZmZicsICcjOGM5NmM2ZmYnLCAnIzhjOTZjNmZmJywgJyM4Yzk2YzZmZicsICcjOGM5NmM2ZmYnLCAnIzhjOTZjNmZmJywgJyM4Yzk2YzZmZicsICcjOGM5NmM2ZmYnLCAnIzhjOTZjNmZmJywgJyM4Yzk2YzZmZicsICcjOGM5NmM2ZmYnLCAnIzhjOTZjNmZmJywgJyM4Yzk2YzZmZicsICcjOGM5NmM2ZmYnLCAnIzhjOTZjNmZmJywgJyM4Yzk2YzZmZicsICcjOGM5NmM2ZmYnLCAnIzhjOTZjNmZmJywgJyM4Yzk2YzZmZicsICcjOGM5NmM2ZmYnLCAnIzhjOTZjNmZmJywgJyM4Yzk2YzZmZicsICcjOGM5NmM2ZmYnLCAnIzhjOTZjNmZmJywgJyM4Yzk2YzZmZicsICcjOGM5NmM2ZmYnLCAnIzhjOTZjNmZmJywgJyM4Yzk2YzZmZicsICcjOGM5NmM2ZmYnLCAnIzhjOTZjNmZmJywgJyM4Yzk2YzZmZicsICcjOGM5NmM2ZmYnLCAnIzhjOTZjNmZmJywgJyM4Yzk2YzZmZicsICcjOGM5NmM2ZmYnLCAnIzhjOTZjNmZmJywgJyM4Yzk2YzZmZicsICcjOGM5NmM2ZmYnLCAnIzhjOTZjNmZmJywgJyM4Yzk2YzZmZicsICcjOGM5NmM2ZmYnLCAnIzhjOTZjNmZmJywgJyM4Yzk2YzZmZicsICcjOGM5NmM2ZmYnLCAnIzg4NTZhN2ZmJywgJyM4ODU2YTdmZicsICcjODg1NmE3ZmYnLCAnIzg4NTZhN2ZmJywgJyM4ODU2YTdmZicsICcjODg1NmE3ZmYnLCAnIzg4NTZhN2ZmJywgJyM4ODU2YTdmZicsICcjODg1NmE3ZmYnLCAnIzg4NTZhN2ZmJywgJyM4ODU2YTdmZicsICcjODg1NmE3ZmYnLCAnIzg4NTZhN2ZmJywgJyM4ODU2YTdmZicsICcjODg1NmE3ZmYnLCAnIzg4NTZhN2ZmJywgJyM4ODU2YTdmZicsICcjODg1NmE3ZmYnLCAnIzg4NTZhN2ZmJywgJyM4ODU2YTdmZicsICcjODg1NmE3ZmYnLCAnIzg4NTZhN2ZmJywgJyM4ODU2YTdmZicsICcjODg1NmE3ZmYnLCAnIzg4NTZhN2ZmJywgJyM4ODU2YTdmZicsICcjODg1NmE3ZmYnLCAnIzg4NTZhN2ZmJywgJyM4ODU2YTdmZicsICcjODg1NmE3ZmYnLCAnIzg4NTZhN2ZmJywgJyM4ODU2YTdmZicsICcjODg1NmE3ZmYnLCAnIzg4NTZhN2ZmJywgJyM4ODU2YTdmZicsICcjODg1NmE3ZmYnLCAnIzg4NTZhN2ZmJywgJyM4ODU2YTdmZicsICcjODg1NmE3ZmYnLCAnIzg4NTZhN2ZmJywgJyM4ODU2YTdmZicsICcjODg1NmE3ZmYnLCAnIzg4NTZhN2ZmJywgJyM4ODU2YTdmZicsICcjODg1NmE3ZmYnLCAnIzg4NTZhN2ZmJywgJyM4ODU2YTdmZicsICcjODg1NmE3ZmYnLCAnIzg4NTZhN2ZmJywgJyM4ODU2YTdmZicsICcjODg1NmE3ZmYnLCAnIzg4NTZhN2ZmJywgJyM4ODU2YTdmZicsICcjODg1NmE3ZmYnLCAnIzg4NTZhN2ZmJywgJyM4ODU2YTdmZicsICcjODg1NmE3ZmYnLCAnIzg4NTZhN2ZmJywgJyM4ODU2YTdmZicsICcjODg1NmE3ZmYnLCAnIzg4NTZhN2ZmJywgJyM4ODU2YTdmZicsICcjODg1NmE3ZmYnLCAnIzg4NTZhN2ZmJywgJyM4ODU2YTdmZicsICcjODg1NmE3ZmYnLCAnIzg4NTZhN2ZmJywgJyM4ODU2YTdmZicsICcjODg1NmE3ZmYnLCAnIzg4NTZhN2ZmJywgJyM4ODU2YTdmZicsICcjODg1NmE3ZmYnLCAnIzg4NTZhN2ZmJywgJyM4ODU2YTdmZicsICcjODg1NmE3ZmYnLCAnIzg4NTZhN2ZmJywgJyM4ODU2YTdmZicsICcjODg1NmE3ZmYnLCAnIzg4NTZhN2ZmJywgJyM4ODU2YTdmZicsICcjODg1NmE3ZmYnLCAnIzg4NTZhN2ZmJywgJyM4ODU2YTdmZicsICcjODEwZjdjZmYnLCAnIzgxMGY3Y2ZmJywgJyM4MTBmN2NmZicsICcjODEwZjdjZmYnLCAnIzgxMGY3Y2ZmJywgJyM4MTBmN2NmZicsICcjODEwZjdjZmYnLCAnIzgxMGY3Y2ZmJywgJyM4MTBmN2NmZicsICcjODEwZjdjZmYnLCAnIzgxMGY3Y2ZmJywgJyM4MTBmN2NmZicsICcjODEwZjdjZmYnLCAnIzgxMGY3Y2ZmJywgJyM4MTBmN2NmZicsICcjODEwZjdjZmYnLCAnIzgxMGY3Y2ZmJywgJyM4MTBmN2NmZicsICcjODEwZjdjZmYnLCAnIzgxMGY3Y2ZmJywgJyM4MTBmN2NmZicsICcjODEwZjdjZmYnLCAnIzgxMGY3Y2ZmJywgJyM4MTBmN2NmZicsICcjODEwZjdjZmYnLCAnIzgxMGY3Y2ZmJywgJyM4MTBmN2NmZicsICcjODEwZjdjZmYnLCAnIzgxMGY3Y2ZmJywgJyM4MTBmN2NmZicsICcjODEwZjdjZmYnLCAnIzgxMGY3Y2ZmJywgJyM4MTBmN2NmZicsICcjODEwZjdjZmYnLCAnIzgxMGY3Y2ZmJywgJyM4MTBmN2NmZicsICcjODEwZjdjZmYnLCAnIzgxMGY3Y2ZmJywgJyM4MTBmN2NmZicsICcjODEwZjdjZmYnLCAnIzgxMGY3Y2ZmJywgJyM4MTBmN2NmZicsICcjODEwZjdjZmYnLCAnIzgxMGY3Y2ZmJywgJyM4MTBmN2NmZicsICcjODEwZjdjZmYnLCAnIzgxMGY3Y2ZmJywgJyM4MTBmN2NmZicsICcjODEwZjdjZmYnLCAnIzgxMGY3Y2ZmJywgJyM4MTBmN2NmZicsICcjODEwZjdjZmYnLCAnIzgxMGY3Y2ZmJywgJyM4MTBmN2NmZicsICcjODEwZjdjZmYnLCAnIzgxMGY3Y2ZmJywgJyM4MTBmN2NmZicsICcjODEwZjdjZmYnLCAnIzgxMGY3Y2ZmJywgJyM4MTBmN2NmZicsICcjODEwZjdjZmYnLCAnIzgxMGY3Y2ZmJywgJyM4MTBmN2NmZicsICcjODEwZjdjZmYnLCAnIzgxMGY3Y2ZmJywgJyM4MTBmN2NmZicsICcjODEwZjdjZmYnLCAnIzgxMGY3Y2ZmJywgJyM4MTBmN2NmZicsICcjODEwZjdjZmYnLCAnIzgxMGY3Y2ZmJywgJyM4MTBmN2NmZicsICcjODEwZjdjZmYnLCAnIzgxMGY3Y2ZmJywgJyM4MTBmN2NmZicsICcjODEwZjdjZmYnLCAnIzgxMGY3Y2ZmJywgJyM4MTBmN2NmZicsICcjODEwZjdjZmYnLCAnIzgxMGY3Y2ZmJywgJyM4MTBmN2NmZicsICcjODEwZjdjZmYnLCAnIzgxMGY3Y2ZmJywgJyM4MTBmN2NmZiddKTsKICAgIAoKICAgIGNvbG9yX21hcF82OTFlMWQ2NzAzMWM0MGViYjZmMGNjYzQyODE4ZTEyZC54ID0gZDMuc2NhbGUubGluZWFyKCkKICAgICAgICAgICAgICAuZG9tYWluKFs4LjU3MTQyODU3MTQyODU3MSwgNjcuMTAwMzcxNzQ3MjExOV0pCiAgICAgICAgICAgICAgLnJhbmdlKFswLCA0MDBdKTsKCiAgICBjb2xvcl9tYXBfNjkxZTFkNjcwMzFjNDBlYmI2ZjBjY2M0MjgxOGUxMmQubGVnZW5kID0gTC5jb250cm9sKHtwb3NpdGlvbjogJ3RvcHJpZ2h0J30pOwogICAgY29sb3JfbWFwXzY5MWUxZDY3MDMxYzQwZWJiNmYwY2NjNDI4MThlMTJkLmxlZ2VuZC5vbkFkZCA9IGZ1bmN0aW9uIChtYXApIHt2YXIgZGl2ID0gTC5Eb21VdGlsLmNyZWF0ZSgnZGl2JywgJ2xlZ2VuZCcpOyByZXR1cm4gZGl2fTsKICAgIGNvbG9yX21hcF82OTFlMWQ2NzAzMWM0MGViYjZmMGNjYzQyODE4ZTEyZC5sZWdlbmQuYWRkVG8obWFwXzE0OWI3Y2FhNmUxNTQ3MWFiM2ZjYjNhNWM4MTVlMjEwKTsKCiAgICBjb2xvcl9tYXBfNjkxZTFkNjcwMzFjNDBlYmI2ZjBjY2M0MjgxOGUxMmQueEF4aXMgPSBkMy5zdmcuYXhpcygpCiAgICAgICAgLnNjYWxlKGNvbG9yX21hcF82OTFlMWQ2NzAzMWM0MGViYjZmMGNjYzQyODE4ZTEyZC54KQogICAgICAgIC5vcmllbnQoInRvcCIpCiAgICAgICAgLnRpY2tTaXplKDEpCiAgICAgICAgLnRpY2tWYWx1ZXMoWzguNTcxNDI4NTcxNDI4NTcxLCAxOC4zMjYyNTI0MzQwNTkxMjUsIDI4LjA4MTA3NjI5NjY4OTY4LCAzNy44MzU5MDAxNTkzMjAyMywgNDcuNTkwNzI0MDIxOTUwNzg0LCA1Ny4zNDU1NDc4ODQ1ODEzMzYsIDY3LjEwMDM3MTc0NzIxMTldKTsKCiAgICBjb2xvcl9tYXBfNjkxZTFkNjcwMzFjNDBlYmI2ZjBjY2M0MjgxOGUxMmQuc3ZnID0gZDMuc2VsZWN0KCIubGVnZW5kLmxlYWZsZXQtY29udHJvbCIpLmFwcGVuZCgic3ZnIikKICAgICAgICAuYXR0cigiaWQiLCAnbGVnZW5kJykKICAgICAgICAuYXR0cigid2lkdGgiLCA0NTApCiAgICAgICAgLmF0dHIoImhlaWdodCIsIDQwKTsKCiAgICBjb2xvcl9tYXBfNjkxZTFkNjcwMzFjNDBlYmI2ZjBjY2M0MjgxOGUxMmQuZyA9IGNvbG9yX21hcF82OTFlMWQ2NzAzMWM0MGViYjZmMGNjYzQyODE4ZTEyZC5zdmcuYXBwZW5kKCJnIikKICAgICAgICAuYXR0cigiY2xhc3MiLCAia2V5IikKICAgICAgICAuYXR0cigidHJhbnNmb3JtIiwgInRyYW5zbGF0ZSgyNSwxNikiKTsKCiAgICBjb2xvcl9tYXBfNjkxZTFkNjcwMzFjNDBlYmI2ZjBjY2M0MjgxOGUxMmQuZy5zZWxlY3RBbGwoInJlY3QiKQogICAgICAgIC5kYXRhKGNvbG9yX21hcF82OTFlMWQ2NzAzMWM0MGViYjZmMGNjYzQyODE4ZTEyZC5jb2xvci5yYW5nZSgpLm1hcChmdW5jdGlvbihkLCBpKSB7CiAgICAgICAgICByZXR1cm4gewogICAgICAgICAgICB4MDogaSA/IGNvbG9yX21hcF82OTFlMWQ2NzAzMWM0MGViYjZmMGNjYzQyODE4ZTEyZC54KGNvbG9yX21hcF82OTFlMWQ2NzAzMWM0MGViYjZmMGNjYzQyODE4ZTEyZC5jb2xvci5kb21haW4oKVtpIC0gMV0pIDogY29sb3JfbWFwXzY5MWUxZDY3MDMxYzQwZWJiNmYwY2NjNDI4MThlMTJkLngucmFuZ2UoKVswXSwKICAgICAgICAgICAgeDE6IGkgPCBjb2xvcl9tYXBfNjkxZTFkNjcwMzFjNDBlYmI2ZjBjY2M0MjgxOGUxMmQuY29sb3IuZG9tYWluKCkubGVuZ3RoID8gY29sb3JfbWFwXzY5MWUxZDY3MDMxYzQwZWJiNmYwY2NjNDI4MThlMTJkLngoY29sb3JfbWFwXzY5MWUxZDY3MDMxYzQwZWJiNmYwY2NjNDI4MThlMTJkLmNvbG9yLmRvbWFpbigpW2ldKSA6IGNvbG9yX21hcF82OTFlMWQ2NzAzMWM0MGViYjZmMGNjYzQyODE4ZTEyZC54LnJhbmdlKClbMV0sCiAgICAgICAgICAgIHo6IGQKICAgICAgICAgIH07CiAgICAgICAgfSkpCiAgICAgIC5lbnRlcigpLmFwcGVuZCgicmVjdCIpCiAgICAgICAgLmF0dHIoImhlaWdodCIsIDEwKQogICAgICAgIC5hdHRyKCJ4IiwgZnVuY3Rpb24oZCkgeyByZXR1cm4gZC54MDsgfSkKICAgICAgICAuYXR0cigid2lkdGgiLCBmdW5jdGlvbihkKSB7IHJldHVybiBkLngxIC0gZC54MDsgfSkKICAgICAgICAuc3R5bGUoImZpbGwiLCBmdW5jdGlvbihkKSB7IHJldHVybiBkLno7IH0pOwoKICAgIGNvbG9yX21hcF82OTFlMWQ2NzAzMWM0MGViYjZmMGNjYzQyODE4ZTEyZC5nLmNhbGwoY29sb3JfbWFwXzY5MWUxZDY3MDMxYzQwZWJiNmYwY2NjNDI4MThlMTJkLnhBeGlzKS5hcHBlbmQoInRleHQiKQogICAgICAgIC5hdHRyKCJjbGFzcyIsICJjYXB0aW9uIikKICAgICAgICAuYXR0cigieSIsIDIxKQogICAgICAgIC50ZXh0KCdJbmNvbWUgWCcpOwo8L3NjcmlwdD4= onload=\"this.contentDocument.open();this.contentDocument.write(atob(this.getAttribute('data-html')));this.contentDocument.close();\" allowfullscreen webkitallowfullscreen mozallowfullscreen></iframe></div></div>"
      ],
      "text/plain": [
       "<folium.folium.Map at 0x7fa8887622e0>"
      ]
     },
     "execution_count": 242,
     "metadata": {},
     "output_type": "execute_result"
    }
   ],
   "source": [
    "m = folium.Map(location=[34.2,-118.2], \n",
    "               zoom_start = 9,\n",
    "               tiles='CartoDB positron', \n",
    "               attribution='CartoDB')\n",
    "\n",
    "# plot chorpleth over the base map\n",
    "folium.Choropleth(\n",
    "                  geo_data=blocks_units, # geo data\n",
    "                  data=blocks_units, # data          \n",
    "                  key_on='feature.properties.FIPS', # key, or merge column\n",
    "                  columns=['FIPS', 'p_more_100k'], # [key, value]\n",
    "                  fill_color='BuPu',\n",
    "                  line_weight=0.1, \n",
    "                  fill_opacity=0.8,\n",
    "                  line_opacity=0.2, # line opacity (of the border)\n",
    "                  legend_name='Income X').add_to(m)    # name on the legend color bar\n",
    "m"
   ]
  },
  {
   "cell_type": "code",
   "execution_count": 243,
   "metadata": {},
   "outputs": [],
   "source": [
    "m.save('Atwater_100K.html')"
   ]
  },
  {
   "cell_type": "code",
   "execution_count": 244,
   "metadata": {},
   "outputs": [
    {
     "data": {
      "text/html": [
       "<div style=\"width:100%;\"><div style=\"position:relative;width:100%;height:0;padding-bottom:60%;\"><span style=\"color:#565656\">Make this Notebook Trusted to load map: File -> Trust Notebook</span><iframe src=\"about:blank\" style=\"position:absolute;width:100%;height:100%;left:0;top:0;border:none !important;\" data-html=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 onload=\"this.contentDocument.open();this.contentDocument.write(atob(this.getAttribute('data-html')));this.contentDocument.close();\" allowfullscreen webkitallowfullscreen mozallowfullscreen></iframe></div></div>"
      ],
      "text/plain": [
       "<folium.folium.Map at 0x7fa888709dc0>"
      ]
     },
     "execution_count": 244,
     "metadata": {},
     "output_type": "execute_result"
    }
   ],
   "source": [
    "m2 = folium.Map(location=[34.2,-118.2], \n",
    "               zoom_start = 9,\n",
    "               tiles='CartoDB positron', \n",
    "               attribution='CartoDB')\n",
    "\n",
    "# plot chorpleth over the base map\n",
    "folium.Choropleth(\n",
    "                  geo_data=blocks_units2, # geo data\n",
    "                  data=blocks_units2, # data          \n",
    "                  key_on='feature.properties.FIPS', # key, or merge column\n",
    "                  columns=['FIPS', 'p_more_100k'], # [key, value]\n",
    "                  fill_color='BuPu',\n",
    "                  line_weight=0.1, \n",
    "                  fill_opacity=0.8,\n",
    "                  line_opacity=0.2, # line opacity (of the border)\n",
    "                  legend_name='Income X').add_to(m2)    # name on the legend color bar\n",
    "\n",
    "m2"
   ]
  },
  {
   "cell_type": "code",
   "execution_count": 245,
   "metadata": {},
   "outputs": [],
   "source": [
    "m2.save('Leimert_100K.html')"
   ]
  },
  {
   "cell_type": "code",
   "execution_count": null,
   "metadata": {},
   "outputs": [],
   "source": []
  }
 ],
 "metadata": {
  "kernelspec": {
   "display_name": "Python 3",
   "language": "python",
   "name": "python3"
  },
  "language_info": {
   "codemirror_mode": {
    "name": "ipython",
    "version": 3
   },
   "file_extension": ".py",
   "mimetype": "text/x-python",
   "name": "python",
   "nbconvert_exporter": "python",
   "pygments_lexer": "ipython3",
   "version": "3.8.5"
  },
  "toc": {
   "base_numbering": 1,
   "nav_menu": {},
   "number_sections": true,
   "sideBar": true,
   "skip_h1_title": false,
   "title_cell": "Table of Contents",
   "title_sidebar": "Contents",
   "toc_cell": false,
   "toc_position": {},
   "toc_section_display": true,
   "toc_window_display": false
  }
 },
 "nbformat": 4,
 "nbformat_minor": 4
}
